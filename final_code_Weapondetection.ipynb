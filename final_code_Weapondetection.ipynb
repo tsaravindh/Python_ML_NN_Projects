{
  "cells": [
    {
      "cell_type": "markdown",
      "metadata": {
        "id": "view-in-github",
        "colab_type": "text"
      },
      "source": [
        "<a href=\"https://colab.research.google.com/github/tsaravindh/Python_ML_NN_Projects/blob/main/final_code_Weapondetection.ipynb\" target=\"_parent\"><img src=\"https://colab.research.google.com/assets/colab-badge.svg\" alt=\"Open In Colab\"/></a>"
      ]
    },
    {
      "cell_type": "markdown",
      "id": "a3449ca0-edb5-42d6-8bd2-878870298f0d",
      "metadata": {
        "id": "a3449ca0-edb5-42d6-8bd2-878870298f0d"
      },
      "source": [
        "# Weapon Detection Using YOLO Models"
      ]
    },
    {
      "cell_type": "markdown",
      "id": "ca8522a4-db18-43f1-81d9-5804b5fa39f0",
      "metadata": {
        "id": "ca8522a4-db18-43f1-81d9-5804b5fa39f0"
      },
      "source": [
        "## Install Required Packages\n",
        "\n",
        "This cell installs the required Python packages:\n",
        "\n",
        "- `ultralytics`: provides YOLO model implementation and tools.\n",
        "- `playsound`: used for playing audio alerts when weapons are detected."
      ]
    },
    {
      "cell_type": "code",
      "execution_count": null,
      "id": "ac576482-d924-41c9-abfc-0e86c8146d91",
      "metadata": {
        "id": "ac576482-d924-41c9-abfc-0e86c8146d91",
        "outputId": "37b8c547-de7a-499f-cc00-ce2aea7eb507"
      },
      "outputs": [
        {
          "name": "stdout",
          "output_type": "stream",
          "text": [
            "Requirement already satisfied: ultralytics in c:\\users\\akram\\onedrive\\desktop\\saeed\\gpu_env\\lib\\site-packages (8.3.153)\n",
            "Requirement already satisfied: numpy>=1.23.0 in c:\\users\\akram\\onedrive\\desktop\\saeed\\gpu_env\\lib\\site-packages (from ultralytics) (2.1.2)\n",
            "Requirement already satisfied: matplotlib>=3.3.0 in c:\\users\\akram\\onedrive\\desktop\\saeed\\gpu_env\\lib\\site-packages (from ultralytics) (3.10.3)\n",
            "Requirement already satisfied: opencv-python>=4.6.0 in c:\\users\\akram\\onedrive\\desktop\\saeed\\gpu_env\\lib\\site-packages (from ultralytics) (4.11.0.86)\n",
            "Requirement already satisfied: pillow>=7.1.2 in c:\\users\\akram\\onedrive\\desktop\\saeed\\gpu_env\\lib\\site-packages (from ultralytics) (11.0.0)\n",
            "Requirement already satisfied: pyyaml>=5.3.1 in c:\\users\\akram\\onedrive\\desktop\\saeed\\gpu_env\\lib\\site-packages (from ultralytics) (6.0.2)\n",
            "Requirement already satisfied: requests>=2.23.0 in c:\\users\\akram\\onedrive\\desktop\\saeed\\gpu_env\\lib\\site-packages (from ultralytics) (2.32.4)\n",
            "Requirement already satisfied: scipy>=1.4.1 in c:\\users\\akram\\onedrive\\desktop\\saeed\\gpu_env\\lib\\site-packages (from ultralytics) (1.15.3)\n",
            "Requirement already satisfied: torch>=1.8.0 in c:\\users\\akram\\onedrive\\desktop\\saeed\\gpu_env\\lib\\site-packages (from ultralytics) (2.5.1+cu121)\n",
            "Requirement already satisfied: torchvision>=0.9.0 in c:\\users\\akram\\onedrive\\desktop\\saeed\\gpu_env\\lib\\site-packages (from ultralytics) (0.20.1+cu121)\n",
            "Requirement already satisfied: tqdm>=4.64.0 in c:\\users\\akram\\onedrive\\desktop\\saeed\\gpu_env\\lib\\site-packages (from ultralytics) (4.67.1)\n",
            "Requirement already satisfied: psutil in c:\\users\\akram\\onedrive\\desktop\\saeed\\gpu_env\\lib\\site-packages (from ultralytics) (7.0.0)\n",
            "Requirement already satisfied: py-cpuinfo in c:\\users\\akram\\onedrive\\desktop\\saeed\\gpu_env\\lib\\site-packages (from ultralytics) (9.0.0)\n",
            "Requirement already satisfied: pandas>=1.1.4 in c:\\users\\akram\\onedrive\\desktop\\saeed\\gpu_env\\lib\\site-packages (from ultralytics) (2.3.0)\n",
            "Requirement already satisfied: ultralytics-thop>=2.0.0 in c:\\users\\akram\\onedrive\\desktop\\saeed\\gpu_env\\lib\\site-packages (from ultralytics) (2.0.14)\n",
            "Requirement already satisfied: contourpy>=1.0.1 in c:\\users\\akram\\onedrive\\desktop\\saeed\\gpu_env\\lib\\site-packages (from matplotlib>=3.3.0->ultralytics) (1.3.2)\n",
            "Requirement already satisfied: cycler>=0.10 in c:\\users\\akram\\onedrive\\desktop\\saeed\\gpu_env\\lib\\site-packages (from matplotlib>=3.3.0->ultralytics) (0.12.1)\n",
            "Requirement already satisfied: fonttools>=4.22.0 in c:\\users\\akram\\onedrive\\desktop\\saeed\\gpu_env\\lib\\site-packages (from matplotlib>=3.3.0->ultralytics) (4.58.2)\n",
            "Requirement already satisfied: kiwisolver>=1.3.1 in c:\\users\\akram\\onedrive\\desktop\\saeed\\gpu_env\\lib\\site-packages (from matplotlib>=3.3.0->ultralytics) (1.4.8)\n",
            "Requirement already satisfied: packaging>=20.0 in c:\\users\\akram\\onedrive\\desktop\\saeed\\gpu_env\\lib\\site-packages (from matplotlib>=3.3.0->ultralytics) (25.0)\n",
            "Requirement already satisfied: pyparsing>=2.3.1 in c:\\users\\akram\\onedrive\\desktop\\saeed\\gpu_env\\lib\\site-packages (from matplotlib>=3.3.0->ultralytics) (3.2.3)\n",
            "Requirement already satisfied: python-dateutil>=2.7 in c:\\users\\akram\\onedrive\\desktop\\saeed\\gpu_env\\lib\\site-packages (from matplotlib>=3.3.0->ultralytics) (2.9.0.post0)\n",
            "Requirement already satisfied: pytz>=2020.1 in c:\\users\\akram\\onedrive\\desktop\\saeed\\gpu_env\\lib\\site-packages (from pandas>=1.1.4->ultralytics) (2025.2)\n",
            "Requirement already satisfied: tzdata>=2022.7 in c:\\users\\akram\\onedrive\\desktop\\saeed\\gpu_env\\lib\\site-packages (from pandas>=1.1.4->ultralytics) (2025.2)\n",
            "Requirement already satisfied: charset_normalizer<4,>=2 in c:\\users\\akram\\onedrive\\desktop\\saeed\\gpu_env\\lib\\site-packages (from requests>=2.23.0->ultralytics) (3.4.2)\n",
            "Requirement already satisfied: idna<4,>=2.5 in c:\\users\\akram\\onedrive\\desktop\\saeed\\gpu_env\\lib\\site-packages (from requests>=2.23.0->ultralytics) (3.10)\n",
            "Requirement already satisfied: urllib3<3,>=1.21.1 in c:\\users\\akram\\onedrive\\desktop\\saeed\\gpu_env\\lib\\site-packages (from requests>=2.23.0->ultralytics) (2.4.0)\n",
            "Requirement already satisfied: certifi>=2017.4.17 in c:\\users\\akram\\onedrive\\desktop\\saeed\\gpu_env\\lib\\site-packages (from requests>=2.23.0->ultralytics) (2025.4.26)\n",
            "Requirement already satisfied: filelock in c:\\users\\akram\\onedrive\\desktop\\saeed\\gpu_env\\lib\\site-packages (from torch>=1.8.0->ultralytics) (3.13.1)\n",
            "Requirement already satisfied: typing-extensions>=4.8.0 in c:\\users\\akram\\onedrive\\desktop\\saeed\\gpu_env\\lib\\site-packages (from torch>=1.8.0->ultralytics) (4.12.2)\n",
            "Requirement already satisfied: networkx in c:\\users\\akram\\onedrive\\desktop\\saeed\\gpu_env\\lib\\site-packages (from torch>=1.8.0->ultralytics) (3.3)\n",
            "Requirement already satisfied: jinja2 in c:\\users\\akram\\onedrive\\desktop\\saeed\\gpu_env\\lib\\site-packages (from torch>=1.8.0->ultralytics) (3.1.4)\n",
            "Requirement already satisfied: fsspec in c:\\users\\akram\\onedrive\\desktop\\saeed\\gpu_env\\lib\\site-packages (from torch>=1.8.0->ultralytics) (2024.6.1)\n",
            "Requirement already satisfied: sympy==1.13.1 in c:\\users\\akram\\onedrive\\desktop\\saeed\\gpu_env\\lib\\site-packages (from torch>=1.8.0->ultralytics) (1.13.1)\n",
            "Requirement already satisfied: mpmath<1.4,>=1.1.0 in c:\\users\\akram\\onedrive\\desktop\\saeed\\gpu_env\\lib\\site-packages (from sympy==1.13.1->torch>=1.8.0->ultralytics) (1.3.0)\n",
            "Requirement already satisfied: colorama in c:\\users\\akram\\onedrive\\desktop\\saeed\\gpu_env\\lib\\site-packages (from tqdm>=4.64.0->ultralytics) (0.4.6)\n",
            "Requirement already satisfied: six>=1.5 in c:\\users\\akram\\onedrive\\desktop\\saeed\\gpu_env\\lib\\site-packages (from python-dateutil>=2.7->matplotlib>=3.3.0->ultralytics) (1.17.0)\n",
            "Requirement already satisfied: MarkupSafe>=2.0 in c:\\users\\akram\\onedrive\\desktop\\saeed\\gpu_env\\lib\\site-packages (from jinja2->torch>=1.8.0->ultralytics) (2.1.5)\n"
          ]
        },
        {
          "name": "stderr",
          "output_type": "stream",
          "text": [
            "\n",
            "[notice] A new release of pip is available: 24.0 -> 25.1.1\n",
            "[notice] To update, run: python.exe -m pip install --upgrade pip\n"
          ]
        }
      ],
      "source": [
        "! pip install ultralytics\n",
        "!pip install playsound"
      ]
    },
    {
      "cell_type": "markdown",
      "id": "95a55d64-1718-49f0-8679-36d5248e31e1",
      "metadata": {
        "id": "95a55d64-1718-49f0-8679-36d5248e31e1"
      },
      "source": [
        "## Import Essential Libraries\n",
        "\n",
        "This cell imports the necessary Python libraries for object detection and processing:\n",
        "\n",
        "- `YOLO` – for loading and working with YOLO models using the Ultralytics library.\n",
        "- `cv2` – (OpenCV) for image and video reading, processing, and display.\n",
        "- `playsound` – for playing audio alerts when a weapon is detected.\n",
        "- `threading` – to allow alert sounds to play in parallel with detection.\n",
        "- `torch` – PyTorch framework for deep learning operations and CUDA support.\n",
        "- `os` – to access environment variables and manage file paths."
      ]
    },
    {
      "cell_type": "code",
      "execution_count": null,
      "id": "d840f1c8",
      "metadata": {
        "id": "d840f1c8"
      },
      "outputs": [],
      "source": [
        "from ultralytics import YOLO\n",
        "import cv2\n",
        "from playsound import playsound\n",
        "import threading\n",
        "import torch\n",
        "import os"
      ]
    },
    {
      "cell_type": "markdown",
      "id": "e6b6377f-1b43-437d-96a2-45bfdece2ea1",
      "metadata": {
        "id": "e6b6377f-1b43-437d-96a2-45bfdece2ea1"
      },
      "source": [
        "## Export Python Environment\n",
        "\n",
        "This command exports the current list of installed Python packages and their versions.\n",
        "\n",
        "- Useful for replicating the environment using `requirements.txt`.\n",
        "- Helps in sharing the environment setup with collaborators."
      ]
    },
    {
      "cell_type": "code",
      "execution_count": null,
      "id": "27790242",
      "metadata": {
        "id": "27790242"
      },
      "outputs": [],
      "source": [
        "!pip freeze > requirements.txt\n"
      ]
    },
    {
      "cell_type": "markdown",
      "id": "f684e3a8-45ae-4b4e-9666-64e0f1cca39b",
      "metadata": {
        "id": "f684e3a8-45ae-4b4e-9666-64e0f1cca39b"
      },
      "source": [
        "## Load YOLOv5 Model\n",
        "\n",
        "Initializes a YOLOv5 model from a pre-trained weights file.\n",
        "\n",
        "- `YOLO('yolov5su.pt')`: loads a small YOLOv5 model for fine-tuning or inference.\n",
        "- You can now perform training or prediction using this model object."
      ]
    },
    {
      "cell_type": "code",
      "execution_count": null,
      "id": "faf18761",
      "metadata": {
        "id": "faf18761"
      },
      "outputs": [],
      "source": [
        "model = YOLO('yolov5su.pt')"
      ]
    },
    {
      "cell_type": "markdown",
      "id": "3ab297bb-fbb6-4699-92f2-999a082d2e2b",
      "metadata": {
        "id": "3ab297bb-fbb6-4699-92f2-999a082d2e2b"
      },
      "source": [
        "## Validate Training Data Consistency\n",
        "\n",
        "This cell checks the training set for consistency between images and labels.\n",
        "\n",
        "- Lists all image and label filenames (excluding extensions).\n",
        "- Compares the two sets to find:\n",
        "  - Images without labels\n",
        "  - Labels without images\n",
        "- Helps ensure all training data is usable by YOLO."
      ]
    },
    {
      "cell_type": "code",
      "execution_count": null,
      "id": "6daa23ba",
      "metadata": {
        "id": "6daa23ba"
      },
      "outputs": [],
      "source": [
        "image_dir = r\"C:\\Users\\akram\\OneDrive\\Desktop\\saeed\\capstone\\weapon_detection\\images\\train\"\n",
        "label_dir = r\"C:\\Users\\akram\\OneDrive\\Desktop\\saeed\\capstone\\weapon_detection\\labels\\train\"\n",
        "\n",
        "image_files = set([os.path.splitext(f)[0] for f in os.listdir(image_dir) if f.endswith(('.jpg', '.png', '.jpeg'))])\n",
        "label_files = set([os.path.splitext(f)[0] for f in os.listdir(label_dir) if f.endswith('.txt')])\n",
        "\n",
        "missing_labels = image_files - label_files\n",
        "missing_images = label_files - image_files\n",
        "\n",
        "print(f\"Total training images: {len(image_files)}\")\n",
        "print(f\"Total training labels: {len(label_files)}\")\n",
        "print(f\"Images missing labels: {missing_labels}\")\n",
        "print(f\"Labels missing images: {missing_images}\")"
      ]
    },
    {
      "cell_type": "markdown",
      "id": "a20d1937-b275-494a-9b63-9a73aed305d9",
      "metadata": {
        "id": "a20d1937-b275-494a-9b63-9a73aed305d9"
      },
      "source": [
        "## Validate Validation Data Consistency\n",
        "\n",
        "This cell ensures that validation images and labels are properly paired.\n",
        "\n",
        "- Detects mismatches between image files and label files.\n",
        "- Prevents evaluation errors due to missing annotations."
      ]
    },
    {
      "cell_type": "code",
      "execution_count": null,
      "id": "c90f505c",
      "metadata": {
        "id": "c90f505c"
      },
      "outputs": [],
      "source": [
        "image_dir = r\"C:\\Users\\akram\\OneDrive\\Desktop\\saeed\\capstone\\weapon_detection\\images\\val\"\n",
        "label_dir = r\"C:\\Users\\akram\\OneDrive\\Desktop\\saeed\\capstone\\weapon_detection\\labels\\val\"\n",
        "\n",
        "image_files = set([os.path.splitext(f)[0] for f in os.listdir(image_dir) if f.endswith(('.jpg', '.png', '.jpeg'))])\n",
        "label_files = set([os.path.splitext(f)[0] for f in os.listdir(label_dir) if f.endswith('.txt')])\n",
        "\n",
        "missing_labels = image_files - label_files\n",
        "missing_images = label_files - image_files\n",
        "\n",
        "print(f\"Total validation images: {len(image_files)}\")\n",
        "print(f\"Total validation labels: {len(label_files)}\")\n",
        "print(f\"Images missing labels: {missing_labels}\")\n",
        "print(f\"Labels missing images: {missing_images}\")\n"
      ]
    },
    {
      "cell_type": "markdown",
      "id": "28fd069c-0c05-475a-a62d-4155ebf237cb",
      "metadata": {
        "id": "28fd069c-0c05-475a-a62d-4155ebf237cb"
      },
      "source": [
        "## Check for Label File Errors\n",
        "\n",
        "This block validates the format and content of YOLO label files.\n",
        "\n",
        "- Detects:\n",
        "  - Empty files\n",
        "  - Malformed lines\n",
        "  - Invalid class IDs (greater than the total class count)\n",
        "- Helps ensure data quality before training."
      ]
    },
    {
      "cell_type": "code",
      "execution_count": null,
      "id": "4bcf17db-0614-4b21-9246-8a74c3347e92",
      "metadata": {
        "id": "4bcf17db-0614-4b21-9246-8a74c3347e92",
        "outputId": "8b01d3bc-e0cf-4684-f084-9258c1697ada"
      },
      "outputs": [
        {
          "name": "stdout",
          "output_type": "stream",
          "text": [
            "Issues found in label files:\n"
          ]
        }
      ],
      "source": [
        "label_dir =r\"C:\\Users\\akram\\OneDrive\\Desktop\\saeed\\capstone\\weapon_detection\\images\\train\"\n",
        "image_dir = r\"C:\\Users\\akram\\OneDrive\\Desktop\\saeed\\capstone\\weapon_detection\\labels\\train\"\n",
        "nc = 1  # number of classes from data.yaml\n",
        "\n",
        "bad_files = []\n",
        "\n",
        "for file in os.listdir(label_dir):\n",
        "    if not file.endswith('.txt'):\n",
        "        continue\n",
        "    path = os.path.join(label_dir, file)\n",
        "    with open(path, 'r') as f:\n",
        "        lines = f.readlines()\n",
        "        if len(lines) == 0:\n",
        "            bad_files.append((file, \"empty\"))\n",
        "            continue\n",
        "        for line in lines:\n",
        "            parts = line.strip().split()\n",
        "            if len(parts) != 5:\n",
        "                bad_files.append((file, \"invalid line format\"))\n",
        "                break\n",
        "            try:\n",
        "                cls = int(parts[0])\n",
        "                if cls >= nc:\n",
        "                    bad_files.append((file, f\"invalid class {cls}\"))\n",
        "                    break\n",
        "            except:\n",
        "                bad_files.append((file, \"parse error\"))\n",
        "                break\n",
        "\n",
        "print(\"Issues found in label files:\")\n",
        "for f in bad_files:\n",
        "    print(f)"
      ]
    },
    {
      "cell_type": "markdown",
      "id": "5072ab2c-fb59-46d3-9910-93e978769982",
      "metadata": {
        "id": "5072ab2c-fb59-46d3-9910-93e978769982"
      },
      "source": [
        "## Clear CUDA Cache\n",
        "\n",
        "This command clears unused GPU memory in PyTorch.\n",
        "\n",
        "- Useful when switching models or after out-of-memory errors.\n",
        "- Helps avoid memory fragmentation issues during training or inference."
      ]
    },
    {
      "cell_type": "code",
      "execution_count": null,
      "id": "29e70d55-4d3c-4050-908b-4ae7b58c2c77",
      "metadata": {
        "id": "29e70d55-4d3c-4050-908b-4ae7b58c2c77"
      },
      "outputs": [],
      "source": [
        "import torch\n",
        "torch.cuda.empty_cache()"
      ]
    },
    {
      "cell_type": "markdown",
      "id": "a0cb1104-3295-4bd1-aade-8d7d20d8fe19",
      "metadata": {
        "id": "a0cb1104-3295-4bd1-aade-8d7d20d8fe19"
      },
      "source": [
        "## Train YOLOv5 Model\n",
        "\n",
        "This block trains the YOLOv5 model using the `.train()` method.\n",
        "\n",
        "- Parameters include:\n",
        "  - `data`: Path to the `data.yaml` file containing dataset info.\n",
        "  - `epochs`: Number of training iterations.\n",
        "  - `imgsz`: Input image size (typically 640).\n",
        "  - `batch`: Number of images per batch.\n",
        "  - `cache`: Whether to cache data for faster training.\n",
        "  - `close_mosaic`: Mosaic augmentation control.\n",
        "  - `half`: Use half precision (mixed precision) to save GPU memory."
      ]
    },
    {
      "cell_type": "code",
      "execution_count": null,
      "id": "8b2615c4",
      "metadata": {
        "id": "8b2615c4",
        "outputId": "14e73e71-c1a2-4122-d92b-14a872b30ee0"
      },
      "outputs": [
        {
          "name": "stdout",
          "output_type": "stream",
          "text": [
            "Ultralytics 8.3.141  Python-3.10.16 torch-2.7.0+cu126 CUDA:0 (NVIDIA GeForce RTX 4060 Laptop GPU, 8188MiB)\n",
            "\u001b[34m\u001b[1mengine\\trainer: \u001b[0magnostic_nms=False, amp=True, augment=False, auto_augment=randaugment, batch=8, bgr=0.0, box=7.5, cache=False, cfg=None, classes=None, close_mosaic=0, cls=0.5, conf=None, copy_paste=0.0, copy_paste_mode=flip, cos_lr=False, cutmix=0.0, data=C:/Users/yalla/Documents/Anaconda/capstone/weapon-detect-yolo/data.yaml, degrees=0.0, deterministic=True, device=None, dfl=1.5, dnn=False, dropout=0.0, dynamic=False, embed=None, epochs=50, erasing=0.4, exist_ok=False, fliplr=0.5, flipud=0.0, format=torchscript, fraction=1.0, freeze=None, half=True, hsv_h=0.015, hsv_s=0.7, hsv_v=0.4, imgsz=640, int8=False, iou=0.7, keras=False, kobj=1.0, line_width=None, lr0=0.01, lrf=0.01, mask_ratio=4, max_det=300, mixup=0.0, mode=train, model=yolov5su.pt, momentum=0.937, mosaic=1.0, multi_scale=False, name=train14, nbs=64, nms=False, opset=None, optimize=False, optimizer=auto, overlap_mask=True, patience=100, perspective=0.0, plots=True, pose=12.0, pretrained=True, profile=False, project=None, rect=False, resume=False, retina_masks=False, save=True, save_conf=False, save_crop=False, save_dir=runs\\detect\\train14, save_frames=False, save_json=False, save_period=-1, save_txt=False, scale=0.5, seed=0, shear=0.0, show=False, show_boxes=True, show_conf=True, show_labels=True, simplify=True, single_cls=False, source=None, split=val, stream_buffer=False, task=detect, time=None, tracker=botsort.yaml, translate=0.1, val=True, verbose=True, vid_stride=1, visualize=False, warmup_bias_lr=0.1, warmup_epochs=3.0, warmup_momentum=0.8, weight_decay=0.0005, workers=8, workspace=None\n",
            "Overriding model.yaml nc=80 with nc=1\n",
            "\n",
            "                   from  n    params  module                                       arguments                     \n",
            "  0                  -1  1      3520  ultralytics.nn.modules.conv.Conv             [3, 32, 6, 2, 2]              \n",
            "  1                  -1  1     18560  ultralytics.nn.modules.conv.Conv             [32, 64, 3, 2]                \n",
            "  2                  -1  1     18816  ultralytics.nn.modules.block.C3              [64, 64, 1]                   \n",
            "  3                  -1  1     73984  ultralytics.nn.modules.conv.Conv             [64, 128, 3, 2]               \n",
            "  4                  -1  2    115712  ultralytics.nn.modules.block.C3              [128, 128, 2]                 \n",
            "  5                  -1  1    295424  ultralytics.nn.modules.conv.Conv             [128, 256, 3, 2]              \n",
            "  6                  -1  3    625152  ultralytics.nn.modules.block.C3              [256, 256, 3]                 \n",
            "  7                  -1  1   1180672  ultralytics.nn.modules.conv.Conv             [256, 512, 3, 2]              \n",
            "  8                  -1  1   1182720  ultralytics.nn.modules.block.C3              [512, 512, 1]                 \n",
            "  9                  -1  1    656896  ultralytics.nn.modules.block.SPPF            [512, 512, 5]                 \n",
            " 10                  -1  1    131584  ultralytics.nn.modules.conv.Conv             [512, 256, 1, 1]              \n",
            " 11                  -1  1         0  torch.nn.modules.upsampling.Upsample         [None, 2, 'nearest']          \n",
            " 12             [-1, 6]  1         0  ultralytics.nn.modules.conv.Concat           [1]                           \n",
            " 13                  -1  1    361984  ultralytics.nn.modules.block.C3              [512, 256, 1, False]          \n",
            " 14                  -1  1     33024  ultralytics.nn.modules.conv.Conv             [256, 128, 1, 1]              \n",
            " 15                  -1  1         0  torch.nn.modules.upsampling.Upsample         [None, 2, 'nearest']          \n",
            " 16             [-1, 4]  1         0  ultralytics.nn.modules.conv.Concat           [1]                           \n",
            " 17                  -1  1     90880  ultralytics.nn.modules.block.C3              [256, 128, 1, False]          \n",
            " 18                  -1  1    147712  ultralytics.nn.modules.conv.Conv             [128, 128, 3, 2]              \n",
            " 19            [-1, 14]  1         0  ultralytics.nn.modules.conv.Concat           [1]                           \n",
            " 20                  -1  1    296448  ultralytics.nn.modules.block.C3              [256, 256, 1, False]          \n",
            " 21                  -1  1    590336  ultralytics.nn.modules.conv.Conv             [256, 256, 3, 2]              \n",
            " 22            [-1, 10]  1         0  ultralytics.nn.modules.conv.Concat           [1]                           \n",
            " 23                  -1  1   1182720  ultralytics.nn.modules.block.C3              [512, 512, 1, False]          \n",
            " 24        [17, 20, 23]  1   2116435  ultralytics.nn.modules.head.Detect           [1, [128, 256, 512]]          \n",
            "YOLOv5s summary: 153 layers, 9,122,579 parameters, 9,122,563 gradients, 24.0 GFLOPs\n",
            "\n",
            "Transferred 421/427 items from pretrained weights\n",
            "Freezing layer 'model.24.dfl.conv.weight'\n",
            "\u001b[34m\u001b[1mAMP: \u001b[0mrunning Automatic Mixed Precision (AMP) checks...\n",
            "\u001b[34m\u001b[1mAMP: \u001b[0mchecks passed \n",
            "\u001b[34m\u001b[1mtrain: \u001b[0mFast image access  (ping: 0.20.1 ms, read: 189.890.9 MB/s, size: 243.9 KB)\n"
          ]
        },
        {
          "name": "stderr",
          "output_type": "stream",
          "text": [
            "\u001b[34m\u001b[1mtrain: \u001b[0mScanning C:\\Users\\yalla\\Documents\\Anaconda\\capstone\\weapon-detect-yolo\\labels\\train.cache... 718 images, 5 backg\u001b[0m\n"
          ]
        },
        {
          "name": "stdout",
          "output_type": "stream",
          "text": [
            "\u001b[34m\u001b[1mval: \u001b[0mFast image access  (ping: 0.50.3 ms, read: 221.371.1 MB/s, size: 407.6 KB)\n"
          ]
        },
        {
          "name": "stderr",
          "output_type": "stream",
          "text": [
            "\u001b[34m\u001b[1mval: \u001b[0mScanning C:\\Users\\yalla\\Documents\\Anaconda\\capstone\\weapon-detect-yolo\\labels\\val.cache... 50 images, 0 background\u001b[0m\n"
          ]
        },
        {
          "name": "stdout",
          "output_type": "stream",
          "text": [
            "Plotting labels to runs\\detect\\train14\\labels.jpg... \n",
            "WARNING No module named 'matplotlib_inline'\n",
            "\u001b[34m\u001b[1moptimizer:\u001b[0m 'optimizer=auto' found, ignoring 'lr0=0.01' and 'momentum=0.937' and determining best 'optimizer', 'lr0' and 'momentum' automatically... \n",
            "\u001b[34m\u001b[1moptimizer:\u001b[0m AdamW(lr=0.002, momentum=0.9) with parameter groups 69 weight(decay=0.0), 76 weight(decay=0.0005), 75 bias(decay=0.0)\n",
            "Image sizes 640 train, 640 val\n",
            "Using 8 dataloader workers\n",
            "Logging results to \u001b[1mruns\\detect\\train14\u001b[0m\n",
            "Starting training for 50 epochs...\n",
            "\n",
            "      Epoch    GPU_mem   box_loss   cls_loss   dfl_loss  Instances       Size\n"
          ]
        },
        {
          "name": "stderr",
          "output_type": "stream",
          "text": [
            "       1/50      1.99G      1.936      2.474      1.745         22        640: 100%|██████████| 90/90 [00:37<00:00,  2.\n",
            "                 Class     Images  Instances      Box(P          R      mAP50  mAP50-95): 100%|██████████| 4/4 [00:02<0"
          ]
        },
        {
          "name": "stdout",
          "output_type": "stream",
          "text": [
            "                   all         50         84     0.0938      0.214     0.0664     0.0214\n"
          ]
        },
        {
          "name": "stderr",
          "output_type": "stream",
          "text": [
            "\n"
          ]
        },
        {
          "name": "stdout",
          "output_type": "stream",
          "text": [
            "\n",
            "      Epoch    GPU_mem   box_loss   cls_loss   dfl_loss  Instances       Size\n"
          ]
        },
        {
          "name": "stderr",
          "output_type": "stream",
          "text": [
            "       2/50      2.39G      2.059      2.338      1.896         24        640: 100%|██████████| 90/90 [00:28<00:00,  3.\n",
            "                 Class     Images  Instances      Box(P          R      mAP50  mAP50-95): 100%|██████████| 4/4 [00:01<0"
          ]
        },
        {
          "name": "stdout",
          "output_type": "stream",
          "text": [
            "                   all         50         84     0.0934      0.202     0.0547     0.0158\n"
          ]
        },
        {
          "name": "stderr",
          "output_type": "stream",
          "text": [
            "\n"
          ]
        },
        {
          "name": "stdout",
          "output_type": "stream",
          "text": [
            "\n",
            "      Epoch    GPU_mem   box_loss   cls_loss   dfl_loss  Instances       Size\n"
          ]
        },
        {
          "name": "stderr",
          "output_type": "stream",
          "text": [
            "       3/50      2.43G      2.194      2.438      2.039         41        640: 100%|██████████| 90/90 [00:27<00:00,  3.\n",
            "                 Class     Images  Instances      Box(P          R      mAP50  mAP50-95): 100%|██████████| 4/4 [00:01<0"
          ]
        },
        {
          "name": "stdout",
          "output_type": "stream",
          "text": [
            "                   all         50         84     0.0332      0.155     0.0126    0.00329\n"
          ]
        },
        {
          "name": "stderr",
          "output_type": "stream",
          "text": [
            "\n"
          ]
        },
        {
          "name": "stdout",
          "output_type": "stream",
          "text": [
            "\n",
            "      Epoch    GPU_mem   box_loss   cls_loss   dfl_loss  Instances       Size\n"
          ]
        },
        {
          "name": "stderr",
          "output_type": "stream",
          "text": [
            "       4/50      2.46G      2.157      2.512      2.066         36        640: 100%|██████████| 90/90 [00:27<00:00,  3.\n",
            "                 Class     Images  Instances      Box(P          R      mAP50  mAP50-95): 100%|██████████| 4/4 [00:01<0"
          ]
        },
        {
          "name": "stdout",
          "output_type": "stream",
          "text": [
            "                   all         50         84     0.0855      0.143     0.0377       0.01\n"
          ]
        },
        {
          "name": "stderr",
          "output_type": "stream",
          "text": [
            "\n"
          ]
        },
        {
          "name": "stdout",
          "output_type": "stream",
          "text": [
            "\n",
            "      Epoch    GPU_mem   box_loss   cls_loss   dfl_loss  Instances       Size\n"
          ]
        },
        {
          "name": "stderr",
          "output_type": "stream",
          "text": [
            "       5/50      2.49G      2.155      2.456      2.026         10        640: 100%|██████████| 90/90 [00:26<00:00,  3.\n",
            "                 Class     Images  Instances      Box(P          R      mAP50  mAP50-95): 100%|██████████| 4/4 [00:01<0"
          ]
        },
        {
          "name": "stdout",
          "output_type": "stream",
          "text": [
            "                   all         50         84     0.0688     0.0595     0.0278     0.0102\n"
          ]
        },
        {
          "name": "stderr",
          "output_type": "stream",
          "text": [
            "\n"
          ]
        },
        {
          "name": "stdout",
          "output_type": "stream",
          "text": [
            "\n",
            "      Epoch    GPU_mem   box_loss   cls_loss   dfl_loss  Instances       Size\n"
          ]
        },
        {
          "name": "stderr",
          "output_type": "stream",
          "text": [
            "       6/50      2.51G       2.12      2.324      1.964         25        640: 100%|██████████| 90/90 [00:27<00:00,  3.\n",
            "                 Class     Images  Instances      Box(P          R      mAP50  mAP50-95): 100%|██████████| 4/4 [00:01<0"
          ]
        },
        {
          "name": "stdout",
          "output_type": "stream",
          "text": [
            "                   all         50         84      0.137      0.131     0.0689     0.0208\n"
          ]
        },
        {
          "name": "stderr",
          "output_type": "stream",
          "text": [
            "\n"
          ]
        },
        {
          "name": "stdout",
          "output_type": "stream",
          "text": [
            "\n",
            "      Epoch    GPU_mem   box_loss   cls_loss   dfl_loss  Instances       Size\n"
          ]
        },
        {
          "name": "stderr",
          "output_type": "stream",
          "text": [
            "       7/50      2.51G      2.095       2.29      1.936         18        640: 100%|██████████| 90/90 [00:27<00:00,  3.\n",
            "                 Class     Images  Instances      Box(P          R      mAP50  mAP50-95): 100%|██████████| 4/4 [00:01<0"
          ]
        },
        {
          "name": "stdout",
          "output_type": "stream",
          "text": [
            "                   all         50         84      0.181      0.226      0.103     0.0373\n"
          ]
        },
        {
          "name": "stderr",
          "output_type": "stream",
          "text": [
            "\n"
          ]
        },
        {
          "name": "stdout",
          "output_type": "stream",
          "text": [
            "\n",
            "      Epoch    GPU_mem   box_loss   cls_loss   dfl_loss  Instances       Size\n"
          ]
        },
        {
          "name": "stderr",
          "output_type": "stream",
          "text": [
            "       8/50      2.51G      1.993      2.187      1.889         31        640: 100%|██████████| 90/90 [00:28<00:00,  3.\n",
            "                 Class     Images  Instances      Box(P          R      mAP50  mAP50-95): 100%|██████████| 4/4 [00:01<0"
          ]
        },
        {
          "name": "stdout",
          "output_type": "stream",
          "text": [
            "                   all         50         84      0.146       0.31      0.102     0.0323\n"
          ]
        },
        {
          "name": "stderr",
          "output_type": "stream",
          "text": [
            "\n"
          ]
        },
        {
          "name": "stdout",
          "output_type": "stream",
          "text": [
            "\n",
            "      Epoch    GPU_mem   box_loss   cls_loss   dfl_loss  Instances       Size\n"
          ]
        },
        {
          "name": "stderr",
          "output_type": "stream",
          "text": [
            "       9/50      2.51G       1.93      2.067       1.85         30        640: 100%|██████████| 90/90 [00:27<00:00,  3.\n",
            "                 Class     Images  Instances      Box(P          R      mAP50  mAP50-95): 100%|██████████| 4/4 [00:01<0"
          ]
        },
        {
          "name": "stdout",
          "output_type": "stream",
          "text": [
            "                   all         50         84      0.145      0.119     0.0663      0.023\n"
          ]
        },
        {
          "name": "stderr",
          "output_type": "stream",
          "text": [
            "\n"
          ]
        },
        {
          "name": "stdout",
          "output_type": "stream",
          "text": [
            "\n",
            "      Epoch    GPU_mem   box_loss   cls_loss   dfl_loss  Instances       Size\n"
          ]
        },
        {
          "name": "stderr",
          "output_type": "stream",
          "text": [
            "      10/50      2.52G      1.892      2.069      1.815         18        640: 100%|██████████| 90/90 [00:27<00:00,  3.\n",
            "                 Class     Images  Instances      Box(P          R      mAP50  mAP50-95): 100%|██████████| 4/4 [00:01<0"
          ]
        },
        {
          "name": "stdout",
          "output_type": "stream",
          "text": [
            "                   all         50         84      0.106      0.226     0.0701     0.0239\n"
          ]
        },
        {
          "name": "stderr",
          "output_type": "stream",
          "text": [
            "\n"
          ]
        },
        {
          "name": "stdout",
          "output_type": "stream",
          "text": [
            "\n",
            "      Epoch    GPU_mem   box_loss   cls_loss   dfl_loss  Instances       Size\n"
          ]
        },
        {
          "name": "stderr",
          "output_type": "stream",
          "text": [
            "      11/50      2.56G      1.917      2.063      1.821         27        640: 100%|██████████| 90/90 [00:27<00:00,  3.\n",
            "                 Class     Images  Instances      Box(P          R      mAP50  mAP50-95): 100%|██████████| 4/4 [00:01<0"
          ]
        },
        {
          "name": "stdout",
          "output_type": "stream",
          "text": [
            "                   all         50         84      0.271      0.179      0.113     0.0435\n"
          ]
        },
        {
          "name": "stderr",
          "output_type": "stream",
          "text": [
            "\n"
          ]
        },
        {
          "name": "stdout",
          "output_type": "stream",
          "text": [
            "\n",
            "      Epoch    GPU_mem   box_loss   cls_loss   dfl_loss  Instances       Size\n"
          ]
        },
        {
          "name": "stderr",
          "output_type": "stream",
          "text": [
            "      12/50      2.59G      1.919      2.004      1.789         34        640: 100%|██████████| 90/90 [00:27<00:00,  3.\n",
            "                 Class     Images  Instances      Box(P          R      mAP50  mAP50-95): 100%|██████████| 4/4 [00:01<0"
          ]
        },
        {
          "name": "stdout",
          "output_type": "stream",
          "text": [
            "                   all         50         84      0.143      0.244       0.12     0.0454\n"
          ]
        },
        {
          "name": "stderr",
          "output_type": "stream",
          "text": [
            "\n"
          ]
        },
        {
          "name": "stdout",
          "output_type": "stream",
          "text": [
            "\n",
            "      Epoch    GPU_mem   box_loss   cls_loss   dfl_loss  Instances       Size\n"
          ]
        },
        {
          "name": "stderr",
          "output_type": "stream",
          "text": [
            "      13/50      2.62G      1.859      1.933      1.762         36        640: 100%|██████████| 90/90 [00:26<00:00,  3.\n",
            "                 Class     Images  Instances      Box(P          R      mAP50  mAP50-95): 100%|██████████| 4/4 [00:01<0"
          ]
        },
        {
          "name": "stdout",
          "output_type": "stream",
          "text": [
            "                   all         50         84      0.169      0.167      0.087     0.0304\n"
          ]
        },
        {
          "name": "stderr",
          "output_type": "stream",
          "text": [
            "\n"
          ]
        },
        {
          "name": "stdout",
          "output_type": "stream",
          "text": [
            "\n",
            "      Epoch    GPU_mem   box_loss   cls_loss   dfl_loss  Instances       Size\n"
          ]
        },
        {
          "name": "stderr",
          "output_type": "stream",
          "text": [
            "      14/50      2.65G      1.798      1.908      1.712         40        640: 100%|██████████| 90/90 [00:26<00:00,  3.\n",
            "                 Class     Images  Instances      Box(P          R      mAP50  mAP50-95): 100%|██████████| 4/4 [00:01<0"
          ]
        },
        {
          "name": "stdout",
          "output_type": "stream",
          "text": [
            "                   all         50         84      0.214      0.262      0.153     0.0484\n"
          ]
        },
        {
          "name": "stderr",
          "output_type": "stream",
          "text": [
            "\n"
          ]
        },
        {
          "name": "stdout",
          "output_type": "stream",
          "text": [
            "\n",
            "      Epoch    GPU_mem   box_loss   cls_loss   dfl_loss  Instances       Size\n"
          ]
        },
        {
          "name": "stderr",
          "output_type": "stream",
          "text": [
            "      15/50      2.67G      1.772      1.848       1.71         33        640: 100%|██████████| 90/90 [00:26<00:00,  3.\n",
            "                 Class     Images  Instances      Box(P          R      mAP50  mAP50-95): 100%|██████████| 4/4 [00:01<0"
          ]
        },
        {
          "name": "stdout",
          "output_type": "stream",
          "text": [
            "                   all         50         84      0.229      0.143      0.116     0.0376\n"
          ]
        },
        {
          "name": "stderr",
          "output_type": "stream",
          "text": [
            "\n"
          ]
        },
        {
          "name": "stdout",
          "output_type": "stream",
          "text": [
            "\n",
            "      Epoch    GPU_mem   box_loss   cls_loss   dfl_loss  Instances       Size\n"
          ]
        },
        {
          "name": "stderr",
          "output_type": "stream",
          "text": [
            "      16/50      2.67G      1.748      1.765      1.668         45        640: 100%|██████████| 90/90 [00:26<00:00,  3.\n",
            "                 Class     Images  Instances      Box(P          R      mAP50  mAP50-95): 100%|██████████| 4/4 [00:01<0"
          ]
        },
        {
          "name": "stdout",
          "output_type": "stream",
          "text": [
            "                   all         50         84      0.175      0.155     0.0733     0.0231\n"
          ]
        },
        {
          "name": "stderr",
          "output_type": "stream",
          "text": [
            "\n"
          ]
        },
        {
          "name": "stdout",
          "output_type": "stream",
          "text": [
            "\n",
            "      Epoch    GPU_mem   box_loss   cls_loss   dfl_loss  Instances       Size\n"
          ]
        },
        {
          "name": "stderr",
          "output_type": "stream",
          "text": [
            "      17/50      2.67G      1.786      1.823      1.691         23        640: 100%|██████████| 90/90 [00:27<00:00,  3.\n",
            "                 Class     Images  Instances      Box(P          R      mAP50  mAP50-95): 100%|██████████| 4/4 [00:01<0"
          ]
        },
        {
          "name": "stdout",
          "output_type": "stream",
          "text": [
            "                   all         50         84      0.208       0.31      0.149     0.0544\n"
          ]
        },
        {
          "name": "stderr",
          "output_type": "stream",
          "text": [
            "\n"
          ]
        },
        {
          "name": "stdout",
          "output_type": "stream",
          "text": [
            "\n",
            "      Epoch    GPU_mem   box_loss   cls_loss   dfl_loss  Instances       Size\n"
          ]
        },
        {
          "name": "stderr",
          "output_type": "stream",
          "text": [
            "      18/50      2.67G       1.74      1.797      1.654         28        640: 100%|██████████| 90/90 [00:27<00:00,  3.\n",
            "                 Class     Images  Instances      Box(P          R      mAP50  mAP50-95): 100%|██████████| 4/4 [00:01<0"
          ]
        },
        {
          "name": "stdout",
          "output_type": "stream",
          "text": [
            "                   all         50         84      0.209      0.214      0.122     0.0511\n"
          ]
        },
        {
          "name": "stderr",
          "output_type": "stream",
          "text": [
            "\n"
          ]
        },
        {
          "name": "stdout",
          "output_type": "stream",
          "text": [
            "\n",
            "      Epoch    GPU_mem   box_loss   cls_loss   dfl_loss  Instances       Size\n"
          ]
        },
        {
          "name": "stderr",
          "output_type": "stream",
          "text": [
            "      19/50      2.67G      1.722      1.767       1.64         30        640: 100%|██████████| 90/90 [00:28<00:00,  3.\n",
            "                 Class     Images  Instances      Box(P          R      mAP50  mAP50-95): 100%|██████████| 4/4 [00:01<0"
          ]
        },
        {
          "name": "stdout",
          "output_type": "stream",
          "text": [
            "                   all         50         84      0.299      0.298      0.196      0.064\n"
          ]
        },
        {
          "name": "stderr",
          "output_type": "stream",
          "text": [
            "\n"
          ]
        },
        {
          "name": "stdout",
          "output_type": "stream",
          "text": [
            "\n",
            "      Epoch    GPU_mem   box_loss   cls_loss   dfl_loss  Instances       Size\n"
          ]
        },
        {
          "name": "stderr",
          "output_type": "stream",
          "text": [
            "      20/50      2.67G      1.703      1.692      1.633         45        640: 100%|██████████| 90/90 [00:27<00:00,  3.\n",
            "                 Class     Images  Instances      Box(P          R      mAP50  mAP50-95): 100%|██████████| 4/4 [00:01<0"
          ]
        },
        {
          "name": "stdout",
          "output_type": "stream",
          "text": [
            "                   all         50         84      0.177      0.299      0.136     0.0399\n"
          ]
        },
        {
          "name": "stderr",
          "output_type": "stream",
          "text": [
            "\n"
          ]
        },
        {
          "name": "stdout",
          "output_type": "stream",
          "text": [
            "\n",
            "      Epoch    GPU_mem   box_loss   cls_loss   dfl_loss  Instances       Size\n"
          ]
        },
        {
          "name": "stderr",
          "output_type": "stream",
          "text": [
            "      21/50      2.67G      1.676      1.671      1.605         19        640: 100%|██████████| 90/90 [00:26<00:00,  3.\n",
            "                 Class     Images  Instances      Box(P          R      mAP50  mAP50-95): 100%|██████████| 4/4 [00:01<0"
          ]
        },
        {
          "name": "stdout",
          "output_type": "stream",
          "text": [
            "                   all         50         84      0.257      0.206      0.162     0.0591\n"
          ]
        },
        {
          "name": "stderr",
          "output_type": "stream",
          "text": [
            "\n"
          ]
        },
        {
          "name": "stdout",
          "output_type": "stream",
          "text": [
            "\n",
            "      Epoch    GPU_mem   box_loss   cls_loss   dfl_loss  Instances       Size\n"
          ]
        },
        {
          "name": "stderr",
          "output_type": "stream",
          "text": [
            "      22/50      2.67G      1.681      1.659      1.617         27        640: 100%|██████████| 90/90 [00:26<00:00,  3.\n",
            "                 Class     Images  Instances      Box(P          R      mAP50  mAP50-95): 100%|██████████| 4/4 [00:01<0"
          ]
        },
        {
          "name": "stdout",
          "output_type": "stream",
          "text": [
            "                   all         50         84      0.234      0.274      0.167     0.0709\n"
          ]
        },
        {
          "name": "stderr",
          "output_type": "stream",
          "text": [
            "\n"
          ]
        },
        {
          "name": "stdout",
          "output_type": "stream",
          "text": [
            "\n",
            "      Epoch    GPU_mem   box_loss   cls_loss   dfl_loss  Instances       Size\n"
          ]
        },
        {
          "name": "stderr",
          "output_type": "stream",
          "text": [
            "      23/50      2.67G      1.619      1.545      1.565         27        640: 100%|██████████| 90/90 [00:27<00:00,  3.\n",
            "                 Class     Images  Instances      Box(P          R      mAP50  mAP50-95): 100%|██████████| 4/4 [00:01<0"
          ]
        },
        {
          "name": "stdout",
          "output_type": "stream",
          "text": [
            "                   all         50         84      0.365      0.274      0.222     0.0839\n"
          ]
        },
        {
          "name": "stderr",
          "output_type": "stream",
          "text": [
            "\n"
          ]
        },
        {
          "name": "stdout",
          "output_type": "stream",
          "text": [
            "\n",
            "      Epoch    GPU_mem   box_loss   cls_loss   dfl_loss  Instances       Size\n"
          ]
        },
        {
          "name": "stderr",
          "output_type": "stream",
          "text": [
            "      24/50      2.67G      1.606      1.578      1.546         28        640: 100%|██████████| 90/90 [00:27<00:00,  3.\n",
            "                 Class     Images  Instances      Box(P          R      mAP50  mAP50-95): 100%|██████████| 4/4 [00:01<0"
          ]
        },
        {
          "name": "stdout",
          "output_type": "stream",
          "text": [
            "                   all         50         84      0.276       0.25      0.177     0.0705\n"
          ]
        },
        {
          "name": "stderr",
          "output_type": "stream",
          "text": [
            "\n"
          ]
        },
        {
          "name": "stdout",
          "output_type": "stream",
          "text": [
            "\n",
            "      Epoch    GPU_mem   box_loss   cls_loss   dfl_loss  Instances       Size\n"
          ]
        },
        {
          "name": "stderr",
          "output_type": "stream",
          "text": [
            "      25/50      2.67G      1.633      1.567      1.567         37        640: 100%|██████████| 90/90 [00:26<00:00,  3.\n",
            "                 Class     Images  Instances      Box(P          R      mAP50  mAP50-95): 100%|██████████| 4/4 [00:01<0"
          ]
        },
        {
          "name": "stdout",
          "output_type": "stream",
          "text": [
            "                   all         50         84      0.278      0.226      0.184     0.0639\n"
          ]
        },
        {
          "name": "stderr",
          "output_type": "stream",
          "text": [
            "\n"
          ]
        },
        {
          "name": "stdout",
          "output_type": "stream",
          "text": [
            "\n",
            "      Epoch    GPU_mem   box_loss   cls_loss   dfl_loss  Instances       Size\n"
          ]
        },
        {
          "name": "stderr",
          "output_type": "stream",
          "text": [
            "      26/50      2.67G      1.568      1.473      1.523         27        640: 100%|██████████| 90/90 [00:27<00:00,  3.\n",
            "                 Class     Images  Instances      Box(P          R      mAP50  mAP50-95): 100%|██████████| 4/4 [00:01<0"
          ]
        },
        {
          "name": "stdout",
          "output_type": "stream",
          "text": [
            "                   all         50         84      0.243      0.283      0.159     0.0579\n"
          ]
        },
        {
          "name": "stderr",
          "output_type": "stream",
          "text": [
            "\n"
          ]
        },
        {
          "name": "stdout",
          "output_type": "stream",
          "text": [
            "\n",
            "      Epoch    GPU_mem   box_loss   cls_loss   dfl_loss  Instances       Size\n"
          ]
        },
        {
          "name": "stderr",
          "output_type": "stream",
          "text": [
            "      27/50      2.67G      1.546      1.494      1.518         18        640: 100%|██████████| 90/90 [00:27<00:00,  3.\n",
            "                 Class     Images  Instances      Box(P          R      mAP50  mAP50-95): 100%|██████████| 4/4 [00:01<0"
          ]
        },
        {
          "name": "stdout",
          "output_type": "stream",
          "text": [
            "                   all         50         84      0.228      0.298      0.139     0.0541\n"
          ]
        },
        {
          "name": "stderr",
          "output_type": "stream",
          "text": [
            "\n"
          ]
        },
        {
          "name": "stdout",
          "output_type": "stream",
          "text": [
            "\n",
            "      Epoch    GPU_mem   box_loss   cls_loss   dfl_loss  Instances       Size\n"
          ]
        },
        {
          "name": "stderr",
          "output_type": "stream",
          "text": [
            "      28/50      2.67G      1.535      1.435      1.509         24        640: 100%|██████████| 90/90 [00:26<00:00,  3.\n",
            "                 Class     Images  Instances      Box(P          R      mAP50  mAP50-95): 100%|██████████| 4/4 [00:01<0"
          ]
        },
        {
          "name": "stdout",
          "output_type": "stream",
          "text": [
            "                   all         50         84      0.474      0.333      0.304       0.11\n"
          ]
        },
        {
          "name": "stderr",
          "output_type": "stream",
          "text": [
            "\n"
          ]
        },
        {
          "name": "stdout",
          "output_type": "stream",
          "text": [
            "\n",
            "      Epoch    GPU_mem   box_loss   cls_loss   dfl_loss  Instances       Size\n"
          ]
        },
        {
          "name": "stderr",
          "output_type": "stream",
          "text": [
            "      29/50      2.67G      1.542      1.479      1.508         19        640: 100%|██████████| 90/90 [00:26<00:00,  3.\n",
            "                 Class     Images  Instances      Box(P          R      mAP50  mAP50-95): 100%|██████████| 4/4 [00:01<0"
          ]
        },
        {
          "name": "stdout",
          "output_type": "stream",
          "text": [
            "                   all         50         84      0.414      0.274      0.227     0.0871\n"
          ]
        },
        {
          "name": "stderr",
          "output_type": "stream",
          "text": [
            "\n"
          ]
        },
        {
          "name": "stdout",
          "output_type": "stream",
          "text": [
            "\n",
            "      Epoch    GPU_mem   box_loss   cls_loss   dfl_loss  Instances       Size\n"
          ]
        },
        {
          "name": "stderr",
          "output_type": "stream",
          "text": [
            "      30/50      2.67G      1.496      1.396      1.465         19        640: 100%|██████████| 90/90 [00:27<00:00,  3.\n",
            "                 Class     Images  Instances      Box(P          R      mAP50  mAP50-95): 100%|██████████| 4/4 [00:01<0"
          ]
        },
        {
          "name": "stdout",
          "output_type": "stream",
          "text": [
            "                   all         50         84      0.385      0.333      0.275     0.0981\n"
          ]
        },
        {
          "name": "stderr",
          "output_type": "stream",
          "text": [
            "\n"
          ]
        },
        {
          "name": "stdout",
          "output_type": "stream",
          "text": [
            "\n",
            "      Epoch    GPU_mem   box_loss   cls_loss   dfl_loss  Instances       Size\n"
          ]
        },
        {
          "name": "stderr",
          "output_type": "stream",
          "text": [
            "      31/50      2.67G      1.516      1.389      1.471         13        640: 100%|██████████| 90/90 [00:27<00:00,  3.\n",
            "                 Class     Images  Instances      Box(P          R      mAP50  mAP50-95): 100%|██████████| 4/4 [00:01<0"
          ]
        },
        {
          "name": "stdout",
          "output_type": "stream",
          "text": [
            "                   all         50         84      0.284      0.369      0.229     0.0939\n"
          ]
        },
        {
          "name": "stderr",
          "output_type": "stream",
          "text": [
            "\n"
          ]
        },
        {
          "name": "stdout",
          "output_type": "stream",
          "text": [
            "\n",
            "      Epoch    GPU_mem   box_loss   cls_loss   dfl_loss  Instances       Size\n"
          ]
        },
        {
          "name": "stderr",
          "output_type": "stream",
          "text": [
            "      32/50      2.67G      1.484      1.375      1.478         17        640: 100%|██████████| 90/90 [00:26<00:00,  3.\n",
            "                 Class     Images  Instances      Box(P          R      mAP50  mAP50-95): 100%|██████████| 4/4 [00:01<0"
          ]
        },
        {
          "name": "stdout",
          "output_type": "stream",
          "text": [
            "                   all         50         84      0.345      0.321      0.243     0.0958\n"
          ]
        },
        {
          "name": "stderr",
          "output_type": "stream",
          "text": [
            "\n"
          ]
        },
        {
          "name": "stdout",
          "output_type": "stream",
          "text": [
            "\n",
            "      Epoch    GPU_mem   box_loss   cls_loss   dfl_loss  Instances       Size\n"
          ]
        },
        {
          "name": "stderr",
          "output_type": "stream",
          "text": [
            "      33/50      2.67G       1.44      1.292      1.429         21        640: 100%|██████████| 90/90 [00:27<00:00,  3.\n",
            "                 Class     Images  Instances      Box(P          R      mAP50  mAP50-95): 100%|██████████| 4/4 [00:01<0"
          ]
        },
        {
          "name": "stdout",
          "output_type": "stream",
          "text": [
            "                   all         50         84      0.328      0.345      0.291      0.112\n"
          ]
        },
        {
          "name": "stderr",
          "output_type": "stream",
          "text": [
            "\n"
          ]
        },
        {
          "name": "stdout",
          "output_type": "stream",
          "text": [
            "\n",
            "      Epoch    GPU_mem   box_loss   cls_loss   dfl_loss  Instances       Size\n"
          ]
        },
        {
          "name": "stderr",
          "output_type": "stream",
          "text": [
            "      34/50      2.67G      1.461        1.3      1.443         27        640: 100%|██████████| 90/90 [00:27<00:00,  3.\n",
            "                 Class     Images  Instances      Box(P          R      mAP50  mAP50-95): 100%|██████████| 4/4 [00:01<0"
          ]
        },
        {
          "name": "stdout",
          "output_type": "stream",
          "text": [
            "                   all         50         84      0.506      0.274      0.316      0.115\n"
          ]
        },
        {
          "name": "stderr",
          "output_type": "stream",
          "text": [
            "\n"
          ]
        },
        {
          "name": "stdout",
          "output_type": "stream",
          "text": [
            "\n",
            "      Epoch    GPU_mem   box_loss   cls_loss   dfl_loss  Instances       Size\n"
          ]
        },
        {
          "name": "stderr",
          "output_type": "stream",
          "text": [
            "      35/50      2.67G       1.42      1.259      1.403         30        640: 100%|██████████| 90/90 [00:27<00:00,  3.\n",
            "                 Class     Images  Instances      Box(P          R      mAP50  mAP50-95): 100%|██████████| 4/4 [00:01<0"
          ]
        },
        {
          "name": "stdout",
          "output_type": "stream",
          "text": [
            "                   all         50         84      0.439      0.369      0.313        0.1\n"
          ]
        },
        {
          "name": "stderr",
          "output_type": "stream",
          "text": [
            "\n"
          ]
        },
        {
          "name": "stdout",
          "output_type": "stream",
          "text": [
            "\n",
            "      Epoch    GPU_mem   box_loss   cls_loss   dfl_loss  Instances       Size\n"
          ]
        },
        {
          "name": "stderr",
          "output_type": "stream",
          "text": [
            "      36/50      2.67G      1.401      1.225      1.391         24        640: 100%|██████████| 90/90 [00:26<00:00,  3.\n",
            "                 Class     Images  Instances      Box(P          R      mAP50  mAP50-95): 100%|██████████| 4/4 [00:01<0"
          ]
        },
        {
          "name": "stdout",
          "output_type": "stream",
          "text": [
            "                   all         50         84      0.362       0.31      0.276      0.103\n"
          ]
        },
        {
          "name": "stderr",
          "output_type": "stream",
          "text": [
            "\n"
          ]
        },
        {
          "name": "stdout",
          "output_type": "stream",
          "text": [
            "\n",
            "      Epoch    GPU_mem   box_loss   cls_loss   dfl_loss  Instances       Size\n"
          ]
        },
        {
          "name": "stderr",
          "output_type": "stream",
          "text": [
            "      37/50      2.67G      1.405      1.205       1.41         14        640: 100%|██████████| 90/90 [00:26<00:00,  3.\n",
            "                 Class     Images  Instances      Box(P          R      mAP50  mAP50-95): 100%|██████████| 4/4 [00:01<0"
          ]
        },
        {
          "name": "stdout",
          "output_type": "stream",
          "text": [
            "                   all         50         84       0.37      0.381      0.261     0.0979\n"
          ]
        },
        {
          "name": "stderr",
          "output_type": "stream",
          "text": [
            "\n"
          ]
        },
        {
          "name": "stdout",
          "output_type": "stream",
          "text": [
            "\n",
            "      Epoch    GPU_mem   box_loss   cls_loss   dfl_loss  Instances       Size\n"
          ]
        },
        {
          "name": "stderr",
          "output_type": "stream",
          "text": [
            "      38/50      2.67G      1.414      1.247      1.426         29        640: 100%|██████████| 90/90 [00:27<00:00,  3.\n",
            "                 Class     Images  Instances      Box(P          R      mAP50  mAP50-95): 100%|██████████| 4/4 [00:01<0"
          ]
        },
        {
          "name": "stdout",
          "output_type": "stream",
          "text": [
            "                   all         50         84      0.402      0.333      0.262     0.0895\n"
          ]
        },
        {
          "name": "stderr",
          "output_type": "stream",
          "text": [
            "\n"
          ]
        },
        {
          "name": "stdout",
          "output_type": "stream",
          "text": [
            "\n",
            "      Epoch    GPU_mem   box_loss   cls_loss   dfl_loss  Instances       Size\n"
          ]
        },
        {
          "name": "stderr",
          "output_type": "stream",
          "text": [
            "      39/50      2.67G      1.331      1.129      1.359         29        640: 100%|██████████| 90/90 [00:27<00:00,  3.\n",
            "                 Class     Images  Instances      Box(P          R      mAP50  mAP50-95): 100%|██████████| 4/4 [00:01<0"
          ]
        },
        {
          "name": "stdout",
          "output_type": "stream",
          "text": [
            "                   all         50         84       0.53       0.25      0.278     0.0933\n"
          ]
        },
        {
          "name": "stderr",
          "output_type": "stream",
          "text": [
            "\n"
          ]
        },
        {
          "name": "stdout",
          "output_type": "stream",
          "text": [
            "\n",
            "      Epoch    GPU_mem   box_loss   cls_loss   dfl_loss  Instances       Size\n"
          ]
        },
        {
          "name": "stderr",
          "output_type": "stream",
          "text": [
            "      40/50      2.67G      1.367       1.18      1.374         22        640: 100%|██████████| 90/90 [00:27<00:00,  3.\n",
            "                 Class     Images  Instances      Box(P          R      mAP50  mAP50-95): 100%|██████████| 4/4 [00:01<0"
          ]
        },
        {
          "name": "stdout",
          "output_type": "stream",
          "text": [
            "                   all         50         84      0.427       0.31      0.267     0.0951\n"
          ]
        },
        {
          "name": "stderr",
          "output_type": "stream",
          "text": [
            "\n"
          ]
        },
        {
          "name": "stdout",
          "output_type": "stream",
          "text": [
            "\n",
            "      Epoch    GPU_mem   box_loss   cls_loss   dfl_loss  Instances       Size\n"
          ]
        },
        {
          "name": "stderr",
          "output_type": "stream",
          "text": [
            "      41/50      2.67G      1.345      1.163      1.369         24        640: 100%|██████████| 90/90 [00:27<00:00,  3.\n",
            "                 Class     Images  Instances      Box(P          R      mAP50  mAP50-95): 100%|██████████| 4/4 [00:01<0"
          ]
        },
        {
          "name": "stdout",
          "output_type": "stream",
          "text": [
            "                   all         50         84      0.308      0.369      0.271     0.0921\n"
          ]
        },
        {
          "name": "stderr",
          "output_type": "stream",
          "text": [
            "\n"
          ]
        },
        {
          "name": "stdout",
          "output_type": "stream",
          "text": [
            "\n",
            "      Epoch    GPU_mem   box_loss   cls_loss   dfl_loss  Instances       Size\n"
          ]
        },
        {
          "name": "stderr",
          "output_type": "stream",
          "text": [
            "      42/50      2.67G      1.284      1.079      1.332         21        640: 100%|██████████| 90/90 [00:27<00:00,  3.\n",
            "                 Class     Images  Instances      Box(P          R      mAP50  mAP50-95): 100%|██████████| 4/4 [00:01<0"
          ]
        },
        {
          "name": "stdout",
          "output_type": "stream",
          "text": [
            "                   all         50         84       0.55       0.25      0.273       0.11\n"
          ]
        },
        {
          "name": "stderr",
          "output_type": "stream",
          "text": [
            "\n"
          ]
        },
        {
          "name": "stdout",
          "output_type": "stream",
          "text": [
            "\n",
            "      Epoch    GPU_mem   box_loss   cls_loss   dfl_loss  Instances       Size\n"
          ]
        },
        {
          "name": "stderr",
          "output_type": "stream",
          "text": [
            "      43/50      2.67G      1.314      1.091      1.336         30        640: 100%|██████████| 90/90 [00:27<00:00,  3.\n",
            "                 Class     Images  Instances      Box(P          R      mAP50  mAP50-95): 100%|██████████| 4/4 [00:01<0"
          ]
        },
        {
          "name": "stdout",
          "output_type": "stream",
          "text": [
            "                   all         50         84      0.411       0.31      0.301      0.117\n"
          ]
        },
        {
          "name": "stderr",
          "output_type": "stream",
          "text": [
            "\n"
          ]
        },
        {
          "name": "stdout",
          "output_type": "stream",
          "text": [
            "\n",
            "      Epoch    GPU_mem   box_loss   cls_loss   dfl_loss  Instances       Size\n"
          ]
        },
        {
          "name": "stderr",
          "output_type": "stream",
          "text": [
            "      44/50      2.67G       1.28      1.071      1.335         24        640: 100%|██████████| 90/90 [00:26<00:00,  3.\n",
            "                 Class     Images  Instances      Box(P          R      mAP50  mAP50-95): 100%|██████████| 4/4 [00:01<0"
          ]
        },
        {
          "name": "stdout",
          "output_type": "stream",
          "text": [
            "                   all         50         84      0.311      0.345       0.26     0.0912\n"
          ]
        },
        {
          "name": "stderr",
          "output_type": "stream",
          "text": [
            "\n"
          ]
        },
        {
          "name": "stdout",
          "output_type": "stream",
          "text": [
            "\n",
            "      Epoch    GPU_mem   box_loss   cls_loss   dfl_loss  Instances       Size\n"
          ]
        },
        {
          "name": "stderr",
          "output_type": "stream",
          "text": [
            "      45/50      2.67G      1.287      1.043      1.326         22        640: 100%|██████████| 90/90 [00:27<00:00,  3.\n",
            "                 Class     Images  Instances      Box(P          R      mAP50  mAP50-95): 100%|██████████| 4/4 [00:01<0"
          ]
        },
        {
          "name": "stdout",
          "output_type": "stream",
          "text": [
            "                   all         50         84      0.292      0.345      0.242     0.0863\n"
          ]
        },
        {
          "name": "stderr",
          "output_type": "stream",
          "text": [
            "\n"
          ]
        },
        {
          "name": "stdout",
          "output_type": "stream",
          "text": [
            "\n",
            "      Epoch    GPU_mem   box_loss   cls_loss   dfl_loss  Instances       Size\n"
          ]
        },
        {
          "name": "stderr",
          "output_type": "stream",
          "text": [
            "      46/50      2.67G      1.247       1.02      1.303         27        640: 100%|██████████| 90/90 [00:27<00:00,  3.\n",
            "                 Class     Images  Instances      Box(P          R      mAP50  mAP50-95): 100%|██████████| 4/4 [00:01<0"
          ]
        },
        {
          "name": "stdout",
          "output_type": "stream",
          "text": [
            "                   all         50         84      0.384       0.31      0.266      0.102\n"
          ]
        },
        {
          "name": "stderr",
          "output_type": "stream",
          "text": [
            "\n"
          ]
        },
        {
          "name": "stdout",
          "output_type": "stream",
          "text": [
            "\n",
            "      Epoch    GPU_mem   box_loss   cls_loss   dfl_loss  Instances       Size\n"
          ]
        },
        {
          "name": "stderr",
          "output_type": "stream",
          "text": [
            "      47/50      2.67G       1.27       1.03       1.32         19        640: 100%|██████████| 90/90 [00:26<00:00,  3.\n",
            "                 Class     Images  Instances      Box(P          R      mAP50  mAP50-95): 100%|██████████| 4/4 [00:01<0"
          ]
        },
        {
          "name": "stdout",
          "output_type": "stream",
          "text": [
            "                   all         50         84      0.411      0.405      0.287      0.116\n"
          ]
        },
        {
          "name": "stderr",
          "output_type": "stream",
          "text": [
            "\n"
          ]
        },
        {
          "name": "stdout",
          "output_type": "stream",
          "text": [
            "\n",
            "      Epoch    GPU_mem   box_loss   cls_loss   dfl_loss  Instances       Size\n"
          ]
        },
        {
          "name": "stderr",
          "output_type": "stream",
          "text": [
            "      48/50      2.67G      1.234     0.9919       1.29         14        640: 100%|██████████| 90/90 [00:27<00:00,  3.\n",
            "                 Class     Images  Instances      Box(P          R      mAP50  mAP50-95): 100%|██████████| 4/4 [00:01<0"
          ]
        },
        {
          "name": "stdout",
          "output_type": "stream",
          "text": [
            "                   all         50         84        0.4      0.393      0.325      0.122\n"
          ]
        },
        {
          "name": "stderr",
          "output_type": "stream",
          "text": [
            "\n"
          ]
        },
        {
          "name": "stdout",
          "output_type": "stream",
          "text": [
            "\n",
            "      Epoch    GPU_mem   box_loss   cls_loss   dfl_loss  Instances       Size\n"
          ]
        },
        {
          "name": "stderr",
          "output_type": "stream",
          "text": [
            "      49/50      2.67G      1.201     0.9631      1.263         23        640: 100%|██████████| 90/90 [00:26<00:00,  3.\n",
            "                 Class     Images  Instances      Box(P          R      mAP50  mAP50-95): 100%|██████████| 4/4 [00:01<0"
          ]
        },
        {
          "name": "stdout",
          "output_type": "stream",
          "text": [
            "                   all         50         84      0.447      0.357      0.328       0.13\n"
          ]
        },
        {
          "name": "stderr",
          "output_type": "stream",
          "text": [
            "\n"
          ]
        },
        {
          "name": "stdout",
          "output_type": "stream",
          "text": [
            "\n",
            "      Epoch    GPU_mem   box_loss   cls_loss   dfl_loss  Instances       Size\n"
          ]
        },
        {
          "name": "stderr",
          "output_type": "stream",
          "text": [
            "      50/50      2.67G      1.197     0.9549       1.26         15        640: 100%|██████████| 90/90 [00:27<00:00,  3.\n",
            "                 Class     Images  Instances      Box(P          R      mAP50  mAP50-95): 100%|██████████| 4/4 [00:01<0"
          ]
        },
        {
          "name": "stdout",
          "output_type": "stream",
          "text": [
            "                   all         50         84      0.395      0.405      0.309      0.116\n"
          ]
        },
        {
          "name": "stderr",
          "output_type": "stream",
          "text": [
            "\n"
          ]
        },
        {
          "name": "stdout",
          "output_type": "stream",
          "text": [
            "\n",
            "50 epochs completed in 0.418 hours.\n",
            "Optimizer stripped from runs\\detect\\train14\\weights\\last.pt, 18.5MB\n",
            "Optimizer stripped from runs\\detect\\train14\\weights\\best.pt, 18.5MB\n",
            "\n",
            "Validating runs\\detect\\train14\\weights\\best.pt...\n",
            "Ultralytics 8.3.141  Python-3.10.16 torch-2.7.0+cu126 CUDA:0 (NVIDIA GeForce RTX 4060 Laptop GPU, 8188MiB)\n",
            "YOLOv5s summary (fused): 84 layers, 9,111,923 parameters, 0 gradients, 23.8 GFLOPs\n"
          ]
        },
        {
          "name": "stderr",
          "output_type": "stream",
          "text": [
            "                 Class     Images  Instances      Box(P          R      mAP50  mAP50-95): 100%|██████████| 4/4 [00:01<0\n"
          ]
        },
        {
          "name": "stdout",
          "output_type": "stream",
          "text": [
            "                   all         50         84      0.444      0.357      0.327      0.129\n",
            "Speed: 0.9ms preprocess, 9.4ms inference, 0.0ms loss, 8.0ms postprocess per image\n",
            "Results saved to \u001b[1mruns\\detect\\train14\u001b[0m\n"
          ]
        },
        {
          "data": {
            "text/plain": [
              "ultralytics.utils.metrics.DetMetrics object with attributes:\n",
              "\n",
              "ap_class_index: array([0])\n",
              "box: ultralytics.utils.metrics.Metric object\n",
              "confusion_matrix: <ultralytics.utils.metrics.ConfusionMatrix object at 0x000001CAF85A08E0>\n",
              "curves: ['Precision-Recall(B)', 'F1-Confidence(B)', 'Precision-Confidence(B)', 'Recall-Confidence(B)']\n",
              "curves_results: [[array([          0,    0.001001,    0.002002,    0.003003,    0.004004,    0.005005,    0.006006,    0.007007,    0.008008,    0.009009,     0.01001,    0.011011,    0.012012,    0.013013,    0.014014,    0.015015,    0.016016,    0.017017,    0.018018,    0.019019,     0.02002,    0.021021,    0.022022,    0.023023,\n",
              "          0.024024,    0.025025,    0.026026,    0.027027,    0.028028,    0.029029,     0.03003,    0.031031,    0.032032,    0.033033,    0.034034,    0.035035,    0.036036,    0.037037,    0.038038,    0.039039,     0.04004,    0.041041,    0.042042,    0.043043,    0.044044,    0.045045,    0.046046,    0.047047,\n",
              "          0.048048,    0.049049,     0.05005,    0.051051,    0.052052,    0.053053,    0.054054,    0.055055,    0.056056,    0.057057,    0.058058,    0.059059,     0.06006,    0.061061,    0.062062,    0.063063,    0.064064,    0.065065,    0.066066,    0.067067,    0.068068,    0.069069,     0.07007,    0.071071,\n",
              "          0.072072,    0.073073,    0.074074,    0.075075,    0.076076,    0.077077,    0.078078,    0.079079,     0.08008,    0.081081,    0.082082,    0.083083,    0.084084,    0.085085,    0.086086,    0.087087,    0.088088,    0.089089,     0.09009,    0.091091,    0.092092,    0.093093,    0.094094,    0.095095,\n",
              "          0.096096,    0.097097,    0.098098,    0.099099,      0.1001,      0.1011,      0.1021,      0.1031,      0.1041,     0.10511,     0.10611,     0.10711,     0.10811,     0.10911,     0.11011,     0.11111,     0.11211,     0.11311,     0.11411,     0.11512,     0.11612,     0.11712,     0.11812,     0.11912,\n",
              "           0.12012,     0.12112,     0.12212,     0.12312,     0.12412,     0.12513,     0.12613,     0.12713,     0.12813,     0.12913,     0.13013,     0.13113,     0.13213,     0.13313,     0.13413,     0.13514,     0.13614,     0.13714,     0.13814,     0.13914,     0.14014,     0.14114,     0.14214,     0.14314,\n",
              "           0.14414,     0.14515,     0.14615,     0.14715,     0.14815,     0.14915,     0.15015,     0.15115,     0.15215,     0.15315,     0.15415,     0.15516,     0.15616,     0.15716,     0.15816,     0.15916,     0.16016,     0.16116,     0.16216,     0.16316,     0.16416,     0.16517,     0.16617,     0.16717,\n",
              "           0.16817,     0.16917,     0.17017,     0.17117,     0.17217,     0.17317,     0.17417,     0.17518,     0.17618,     0.17718,     0.17818,     0.17918,     0.18018,     0.18118,     0.18218,     0.18318,     0.18418,     0.18519,     0.18619,     0.18719,     0.18819,     0.18919,     0.19019,     0.19119,\n",
              "           0.19219,     0.19319,     0.19419,      0.1952,      0.1962,      0.1972,      0.1982,      0.1992,      0.2002,      0.2012,      0.2022,      0.2032,      0.2042,     0.20521,     0.20621,     0.20721,     0.20821,     0.20921,     0.21021,     0.21121,     0.21221,     0.21321,     0.21421,     0.21522,\n",
              "           0.21622,     0.21722,     0.21822,     0.21922,     0.22022,     0.22122,     0.22222,     0.22322,     0.22422,     0.22523,     0.22623,     0.22723,     0.22823,     0.22923,     0.23023,     0.23123,     0.23223,     0.23323,     0.23423,     0.23524,     0.23624,     0.23724,     0.23824,     0.23924,\n",
              "           0.24024,     0.24124,     0.24224,     0.24324,     0.24424,     0.24525,     0.24625,     0.24725,     0.24825,     0.24925,     0.25025,     0.25125,     0.25225,     0.25325,     0.25425,     0.25526,     0.25626,     0.25726,     0.25826,     0.25926,     0.26026,     0.26126,     0.26226,     0.26326,\n",
              "           0.26426,     0.26527,     0.26627,     0.26727,     0.26827,     0.26927,     0.27027,     0.27127,     0.27227,     0.27327,     0.27427,     0.27528,     0.27628,     0.27728,     0.27828,     0.27928,     0.28028,     0.28128,     0.28228,     0.28328,     0.28428,     0.28529,     0.28629,     0.28729,\n",
              "           0.28829,     0.28929,     0.29029,     0.29129,     0.29229,     0.29329,     0.29429,      0.2953,      0.2963,      0.2973,      0.2983,      0.2993,      0.3003,      0.3013,      0.3023,      0.3033,      0.3043,     0.30531,     0.30631,     0.30731,     0.30831,     0.30931,     0.31031,     0.31131,\n",
              "           0.31231,     0.31331,     0.31431,     0.31532,     0.31632,     0.31732,     0.31832,     0.31932,     0.32032,     0.32132,     0.32232,     0.32332,     0.32432,     0.32533,     0.32633,     0.32733,     0.32833,     0.32933,     0.33033,     0.33133,     0.33233,     0.33333,     0.33433,     0.33534,\n",
              "           0.33634,     0.33734,     0.33834,     0.33934,     0.34034,     0.34134,     0.34234,     0.34334,     0.34434,     0.34535,     0.34635,     0.34735,     0.34835,     0.34935,     0.35035,     0.35135,     0.35235,     0.35335,     0.35435,     0.35536,     0.35636,     0.35736,     0.35836,     0.35936,\n",
              "           0.36036,     0.36136,     0.36236,     0.36336,     0.36436,     0.36537,     0.36637,     0.36737,     0.36837,     0.36937,     0.37037,     0.37137,     0.37237,     0.37337,     0.37437,     0.37538,     0.37638,     0.37738,     0.37838,     0.37938,     0.38038,     0.38138,     0.38238,     0.38338,\n",
              "           0.38438,     0.38539,     0.38639,     0.38739,     0.38839,     0.38939,     0.39039,     0.39139,     0.39239,     0.39339,     0.39439,      0.3954,      0.3964,      0.3974,      0.3984,      0.3994,      0.4004,      0.4014,      0.4024,      0.4034,      0.4044,     0.40541,     0.40641,     0.40741,\n",
              "           0.40841,     0.40941,     0.41041,     0.41141,     0.41241,     0.41341,     0.41441,     0.41542,     0.41642,     0.41742,     0.41842,     0.41942,     0.42042,     0.42142,     0.42242,     0.42342,     0.42442,     0.42543,     0.42643,     0.42743,     0.42843,     0.42943,     0.43043,     0.43143,\n",
              "           0.43243,     0.43343,     0.43443,     0.43544,     0.43644,     0.43744,     0.43844,     0.43944,     0.44044,     0.44144,     0.44244,     0.44344,     0.44444,     0.44545,     0.44645,     0.44745,     0.44845,     0.44945,     0.45045,     0.45145,     0.45245,     0.45345,     0.45445,     0.45546,\n",
              "           0.45646,     0.45746,     0.45846,     0.45946,     0.46046,     0.46146,     0.46246,     0.46346,     0.46446,     0.46547,     0.46647,     0.46747,     0.46847,     0.46947,     0.47047,     0.47147,     0.47247,     0.47347,     0.47447,     0.47548,     0.47648,     0.47748,     0.47848,     0.47948,\n",
              "           0.48048,     0.48148,     0.48248,     0.48348,     0.48448,     0.48549,     0.48649,     0.48749,     0.48849,     0.48949,     0.49049,     0.49149,     0.49249,     0.49349,     0.49449,      0.4955,      0.4965,      0.4975,      0.4985,      0.4995,      0.5005,      0.5015,      0.5025,      0.5035,\n",
              "            0.5045,     0.50551,     0.50651,     0.50751,     0.50851,     0.50951,     0.51051,     0.51151,     0.51251,     0.51351,     0.51451,     0.51552,     0.51652,     0.51752,     0.51852,     0.51952,     0.52052,     0.52152,     0.52252,     0.52352,     0.52452,     0.52553,     0.52653,     0.52753,\n",
              "           0.52853,     0.52953,     0.53053,     0.53153,     0.53253,     0.53353,     0.53453,     0.53554,     0.53654,     0.53754,     0.53854,     0.53954,     0.54054,     0.54154,     0.54254,     0.54354,     0.54454,     0.54555,     0.54655,     0.54755,     0.54855,     0.54955,     0.55055,     0.55155,\n",
              "           0.55255,     0.55355,     0.55455,     0.55556,     0.55656,     0.55756,     0.55856,     0.55956,     0.56056,     0.56156,     0.56256,     0.56356,     0.56456,     0.56557,     0.56657,     0.56757,     0.56857,     0.56957,     0.57057,     0.57157,     0.57257,     0.57357,     0.57457,     0.57558,\n",
              "           0.57658,     0.57758,     0.57858,     0.57958,     0.58058,     0.58158,     0.58258,     0.58358,     0.58458,     0.58559,     0.58659,     0.58759,     0.58859,     0.58959,     0.59059,     0.59159,     0.59259,     0.59359,     0.59459,      0.5956,      0.5966,      0.5976,      0.5986,      0.5996,\n",
              "            0.6006,      0.6016,      0.6026,      0.6036,      0.6046,     0.60561,     0.60661,     0.60761,     0.60861,     0.60961,     0.61061,     0.61161,     0.61261,     0.61361,     0.61461,     0.61562,     0.61662,     0.61762,     0.61862,     0.61962,     0.62062,     0.62162,     0.62262,     0.62362,\n",
              "           0.62462,     0.62563,     0.62663,     0.62763,     0.62863,     0.62963,     0.63063,     0.63163,     0.63263,     0.63363,     0.63463,     0.63564,     0.63664,     0.63764,     0.63864,     0.63964,     0.64064,     0.64164,     0.64264,     0.64364,     0.64464,     0.64565,     0.64665,     0.64765,\n",
              "           0.64865,     0.64965,     0.65065,     0.65165,     0.65265,     0.65365,     0.65465,     0.65566,     0.65666,     0.65766,     0.65866,     0.65966,     0.66066,     0.66166,     0.66266,     0.66366,     0.66466,     0.66567,     0.66667,     0.66767,     0.66867,     0.66967,     0.67067,     0.67167,\n",
              "           0.67267,     0.67367,     0.67467,     0.67568,     0.67668,     0.67768,     0.67868,     0.67968,     0.68068,     0.68168,     0.68268,     0.68368,     0.68468,     0.68569,     0.68669,     0.68769,     0.68869,     0.68969,     0.69069,     0.69169,     0.69269,     0.69369,     0.69469,      0.6957,\n",
              "            0.6967,      0.6977,      0.6987,      0.6997,      0.7007,      0.7017,      0.7027,      0.7037,      0.7047,     0.70571,     0.70671,     0.70771,     0.70871,     0.70971,     0.71071,     0.71171,     0.71271,     0.71371,     0.71471,     0.71572,     0.71672,     0.71772,     0.71872,     0.71972,\n",
              "           0.72072,     0.72172,     0.72272,     0.72372,     0.72472,     0.72573,     0.72673,     0.72773,     0.72873,     0.72973,     0.73073,     0.73173,     0.73273,     0.73373,     0.73473,     0.73574,     0.73674,     0.73774,     0.73874,     0.73974,     0.74074,     0.74174,     0.74274,     0.74374,\n",
              "           0.74474,     0.74575,     0.74675,     0.74775,     0.74875,     0.74975,     0.75075,     0.75175,     0.75275,     0.75375,     0.75475,     0.75576,     0.75676,     0.75776,     0.75876,     0.75976,     0.76076,     0.76176,     0.76276,     0.76376,     0.76476,     0.76577,     0.76677,     0.76777,\n",
              "           0.76877,     0.76977,     0.77077,     0.77177,     0.77277,     0.77377,     0.77477,     0.77578,     0.77678,     0.77778,     0.77878,     0.77978,     0.78078,     0.78178,     0.78278,     0.78378,     0.78478,     0.78579,     0.78679,     0.78779,     0.78879,     0.78979,     0.79079,     0.79179,\n",
              "           0.79279,     0.79379,     0.79479,      0.7958,      0.7968,      0.7978,      0.7988,      0.7998,      0.8008,      0.8018,      0.8028,      0.8038,      0.8048,     0.80581,     0.80681,     0.80781,     0.80881,     0.80981,     0.81081,     0.81181,     0.81281,     0.81381,     0.81481,     0.81582,\n",
              "           0.81682,     0.81782,     0.81882,     0.81982,     0.82082,     0.82182,     0.82282,     0.82382,     0.82482,     0.82583,     0.82683,     0.82783,     0.82883,     0.82983,     0.83083,     0.83183,     0.83283,     0.83383,     0.83483,     0.83584,     0.83684,     0.83784,     0.83884,     0.83984,\n",
              "           0.84084,     0.84184,     0.84284,     0.84384,     0.84484,     0.84585,     0.84685,     0.84785,     0.84885,     0.84985,     0.85085,     0.85185,     0.85285,     0.85385,     0.85485,     0.85586,     0.85686,     0.85786,     0.85886,     0.85986,     0.86086,     0.86186,     0.86286,     0.86386,\n",
              "           0.86486,     0.86587,     0.86687,     0.86787,     0.86887,     0.86987,     0.87087,     0.87187,     0.87287,     0.87387,     0.87487,     0.87588,     0.87688,     0.87788,     0.87888,     0.87988,     0.88088,     0.88188,     0.88288,     0.88388,     0.88488,     0.88589,     0.88689,     0.88789,\n",
              "           0.88889,     0.88989,     0.89089,     0.89189,     0.89289,     0.89389,     0.89489,      0.8959,      0.8969,      0.8979,      0.8989,      0.8999,      0.9009,      0.9019,      0.9029,      0.9039,      0.9049,     0.90591,     0.90691,     0.90791,     0.90891,     0.90991,     0.91091,     0.91191,\n",
              "           0.91291,     0.91391,     0.91491,     0.91592,     0.91692,     0.91792,     0.91892,     0.91992,     0.92092,     0.92192,     0.92292,     0.92392,     0.92492,     0.92593,     0.92693,     0.92793,     0.92893,     0.92993,     0.93093,     0.93193,     0.93293,     0.93393,     0.93493,     0.93594,\n",
              "           0.93694,     0.93794,     0.93894,     0.93994,     0.94094,     0.94194,     0.94294,     0.94394,     0.94494,     0.94595,     0.94695,     0.94795,     0.94895,     0.94995,     0.95095,     0.95195,     0.95295,     0.95395,     0.95495,     0.95596,     0.95696,     0.95796,     0.95896,     0.95996,\n",
              "           0.96096,     0.96196,     0.96296,     0.96396,     0.96496,     0.96597,     0.96697,     0.96797,     0.96897,     0.96997,     0.97097,     0.97197,     0.97297,     0.97397,     0.97497,     0.97598,     0.97698,     0.97798,     0.97898,     0.97998,     0.98098,     0.98198,     0.98298,     0.98398,\n",
              "           0.98498,     0.98599,     0.98699,     0.98799,     0.98899,     0.98999,     0.99099,     0.99199,     0.99299,     0.99399,     0.99499,       0.996,       0.997,       0.998,       0.999,           1]), array([[          1,           1,           1,           1,           1,           1,           1,           1,           1,           1,           1,           1,           1,           1,           1,           1,           1,           1,           1,           1,           1,           1,           1,\n",
              "                  1,         0.8,         0.8,         0.8,         0.8,         0.8,         0.8,         0.8,         0.8,         0.8,         0.8,         0.8,         0.8,         0.8,         0.8,         0.8,         0.8,         0.8,         0.8,         0.8,         0.8,         0.8,         0.8,\n",
              "                0.8,         0.8,         0.8,         0.8,         0.8,         0.8,         0.8,         0.8,         0.8,         0.8,         0.8,         0.8,         0.8,         0.8,         0.8,         0.8,         0.8,         0.8,         0.8,         0.8,         0.8,         0.8,         0.8,\n",
              "                0.8,         0.8,         0.8,         0.8,         0.8,         0.8,         0.8,         0.8,         0.8,         0.8,         0.8,         0.8,         0.8,         0.8,         0.8,         0.8,         0.8,         0.8,         0.8,         0.8,         0.8,         0.8,         0.8,\n",
              "                0.8,         0.8,         0.8,         0.8,         0.8,         0.8,         0.8,         0.8,         0.8,         0.8,         0.8,         0.8,         0.8,         0.8,         0.8,         0.8,         0.8,         0.8,         0.8,         0.8,         0.8,         0.8,         0.8,\n",
              "                0.8,         0.8,         0.8,         0.8,         0.8,         0.8,         0.8,         0.8,         0.8,         0.8,         0.8,         0.8,         0.8,         0.8,         0.8,         0.8,         0.8,         0.8,         0.8,         0.8,         0.8,         0.8,         0.8,\n",
              "                0.8,         0.8,         0.8,         0.8,         0.8,     0.76471,     0.76471,     0.76471,     0.76471,     0.76471,     0.76471,     0.76471,     0.76471,     0.76471,     0.76471,     0.76471,     0.76471,     0.73684,     0.73684,     0.73684,     0.73684,     0.73684,     0.73684,\n",
              "            0.73684,     0.73684,     0.73684,     0.73684,     0.73684,     0.73684,     0.71429,     0.71429,     0.71429,     0.71429,     0.71429,     0.71429,     0.71429,     0.71429,     0.71429,     0.71429,     0.71429,     0.71429,      0.7037,      0.7037,      0.7037,      0.7037,      0.7037,\n",
              "             0.7037,      0.7037,      0.7037,      0.7037,      0.7037,      0.7037,      0.7037,      0.7037,      0.7037,      0.7037,      0.7037,      0.7037,      0.7037,      0.7037,      0.7037,      0.7037,      0.7037,      0.7037,      0.7037,      0.7037,      0.7037,      0.7037,      0.7037,\n",
              "             0.7037,      0.7037,      0.7037,      0.7037,      0.7037,      0.7037,      0.7037,      0.7037,      0.7037,      0.7037,      0.7037,      0.7037,      0.7037,      0.7037,      0.7037,      0.7037,      0.7037,      0.7037,      0.7037,     0.64516,     0.64516,     0.64516,     0.64516,\n",
              "            0.64516,     0.64516,     0.64516,     0.64516,     0.64516,     0.64516,     0.64516,     0.64516,     0.59459,     0.59459,     0.59459,     0.59459,     0.59459,     0.59459,     0.59459,     0.59459,     0.59459,     0.59459,     0.59459,     0.59459,     0.59459,     0.59459,     0.59459,\n",
              "            0.59459,     0.59459,     0.59459,     0.59459,     0.59459,     0.59459,     0.59459,     0.59459,     0.59459,     0.57778,     0.57778,     0.57778,     0.57778,     0.57778,     0.57778,     0.57778,     0.57778,     0.57778,     0.57778,     0.57778,     0.57778,     0.57778,     0.57778,\n",
              "            0.57778,     0.57778,     0.57778,     0.57778,     0.57778,     0.57778,     0.57778,     0.57778,     0.57778,     0.57778,     0.57778,     0.57778,     0.57778,     0.57778,     0.57778,     0.57778,     0.57778,     0.57778,     0.57778,     0.57778,     0.57778,     0.57778,     0.57778,\n",
              "            0.57778,     0.57778,     0.57778,     0.57778,     0.57778,     0.57778,     0.57778,     0.57778,     0.57778,     0.57778,     0.57778,      0.5283,      0.5283,      0.5283,      0.5283,      0.5283,      0.5283,      0.5283,      0.5283,      0.5283,      0.5283,      0.5283,      0.5283,\n",
              "             0.5283,      0.5283,      0.5283,      0.5283,      0.5283,      0.5283,      0.5283,      0.5283,      0.5283,      0.5283,      0.5283,         0.5,         0.5,         0.5,         0.5,         0.5,         0.5,         0.5,         0.5,         0.5,         0.5,         0.5,         0.5,\n",
              "                0.5,         0.5,         0.5,         0.5,         0.5,         0.5,         0.5,         0.5,         0.5,         0.5,         0.5,         0.5,     0.43243,     0.43243,     0.43243,     0.43243,     0.43243,     0.43243,     0.43243,     0.43243,     0.43243,     0.43243,     0.43243,\n",
              "            0.43243,     0.43243,     0.43243,     0.43243,     0.43243,     0.43243,     0.43243,     0.43243,     0.43243,     0.43243,     0.43243,     0.43243,     0.43243,     0.42857,     0.42857,     0.42857,     0.42857,     0.42857,     0.42857,     0.42857,     0.42857,     0.42857,     0.42857,\n",
              "            0.42857,     0.42857,     0.38202,     0.38202,     0.38202,     0.38202,     0.38202,     0.38202,     0.38202,     0.38202,     0.38202,     0.38202,     0.38202,     0.38202,     0.35354,     0.35354,     0.35354,     0.35354,     0.35354,     0.35354,     0.35354,     0.35354,     0.35354,\n",
              "            0.35354,     0.35354,     0.35354,     0.33962,     0.33962,     0.33962,     0.33962,     0.33962,     0.33962,     0.33962,     0.33962,     0.33962,     0.33962,     0.33962,     0.33962,     0.30833,     0.30833,     0.30833,     0.30833,     0.30833,     0.30833,     0.30833,     0.30833,\n",
              "            0.30833,     0.30833,     0.30833,     0.30833,     0.28788,     0.28788,     0.28788,     0.28788,     0.28788,     0.28788,     0.28788,     0.28788,     0.28788,     0.28788,     0.28788,      0.2549,      0.2549,      0.2549,      0.2549,      0.2549,      0.2549,      0.2549,      0.2549,\n",
              "             0.2549,      0.2549,      0.2549,      0.2549,     0.25157,     0.25157,     0.25157,     0.25157,     0.25157,     0.25157,     0.25157,     0.25157,     0.25157,     0.25157,     0.25157,     0.25157,     0.21693,     0.21693,     0.21693,     0.21693,     0.21693,     0.21693,     0.21693,\n",
              "            0.21693,     0.21693,     0.21693,     0.21693,     0.21693,     0.20896,     0.20896,     0.20896,     0.20896,     0.20896,     0.20896,     0.20896,     0.20896,     0.20896,     0.20896,     0.20896,     0.20896,     0.18966,     0.18966,     0.18966,     0.18966,     0.18966,     0.18966,\n",
              "            0.18966,     0.18966,     0.18966,     0.18966,     0.18966,     0.18966,     0.18966,     0.18966,     0.18966,     0.18966,     0.18966,     0.18966,     0.18966,     0.18966,     0.18966,     0.18966,     0.18966,     0.18966,     0.18367,     0.18367,     0.18367,     0.18367,     0.18367,\n",
              "            0.18367,     0.18367,     0.18367,     0.18367,     0.18367,     0.18367,     0.18367,      0.1685,      0.1685,      0.1685,      0.1685,      0.1685,      0.1685,      0.1685,      0.1685,      0.1685,      0.1685,      0.1685,      0.1685,     0.16041,     0.16041,     0.16041,     0.16041,\n",
              "            0.16041,     0.16041,     0.16041,     0.16041,     0.16041,     0.16041,     0.16041,     0.15789,     0.15789,     0.15789,     0.15789,     0.15789,     0.15789,     0.15789,     0.15789,     0.15789,     0.15789,     0.15789,     0.15789,     0.12861,     0.12861,     0.12861,     0.12861,\n",
              "            0.12861,     0.12861,     0.12861,     0.12861,     0.12861,     0.12861,     0.12861,     0.12861,     0.12346,     0.12346,     0.12346,     0.12346,     0.12346,     0.12346,     0.12346,     0.12346,     0.12346,     0.12346,     0.12346,     0.12346,      0.1167,      0.1167,      0.1167,\n",
              "             0.1167,      0.1167,      0.1167,      0.1167,      0.1167,      0.1167,      0.1167,      0.1167,      0.1167,     0.11454,     0.11454,     0.11454,     0.11454,     0.11454,     0.11454,     0.11454,     0.11454,     0.11454,     0.11454,     0.11454,     0.11454,     0.10516,     0.10516,\n",
              "            0.10516,     0.10516,     0.10516,     0.10516,     0.10516,     0.10516,     0.10516,     0.10516,     0.10516,     0.10516,    0.069677,    0.069677,    0.069677,    0.069677,    0.069677,    0.069677,    0.069677,    0.069677,    0.069677,    0.069677,    0.069677,    0.069677,    0.059395,\n",
              "           0.059395,    0.059395,    0.059395,    0.059395,    0.059395,    0.059395,    0.059395,    0.059395,    0.059395,    0.059395,    0.059395,    0.055777,    0.055777,    0.055777,    0.055777,    0.055777,    0.055777,    0.055777,    0.055777,    0.055777,    0.055777,    0.055777,    0.048053,\n",
              "           0.048053,    0.048053,    0.048053,    0.048053,    0.048053,    0.048053,    0.048053,    0.048053,    0.048053,    0.048053,    0.048053,    0.048053,    0.048053,    0.048053,    0.048053,    0.048053,    0.048053,    0.048053,    0.048053,    0.048053,    0.048053,    0.048053,    0.048053,\n",
              "           0.046825,    0.046825,    0.046825,    0.046825,    0.046825,    0.046825,    0.046825,    0.046825,    0.046825,    0.046825,    0.046825,    0.046825,    0.043828,    0.043828,    0.043828,    0.043828,    0.043828,    0.043828,    0.043828,    0.043828,    0.043828,    0.043828,    0.043828,\n",
              "           0.043828,    0.035342,    0.035342,    0.035342,    0.035342,    0.035342,    0.035342,    0.035342,    0.035342,    0.035342,    0.035342,    0.035342,    0.035342,      0.0269,      0.0269,      0.0269,      0.0269,      0.0269,      0.0269,      0.0269,      0.0269,      0.0269,      0.0269,\n",
              "             0.0269,      0.0269,      0.0269,      0.0269,      0.0269,      0.0269,      0.0269,      0.0269,      0.0269,      0.0269,      0.0269,      0.0269,      0.0269,      0.0269,    0.024261,    0.024261,    0.024261,    0.024261,    0.024261,    0.024261,    0.024261,    0.024261,    0.024261,\n",
              "           0.024261,    0.024261,    0.024261,    0.022274,     0.02218,    0.022086,    0.021992,    0.021898,    0.021804,     0.02171,    0.021616,    0.021522,    0.021428,    0.021334,     0.02124,    0.021146,    0.021052,    0.020958,    0.020864,     0.02077,    0.020676,    0.020582,    0.020488,\n",
              "           0.020394,      0.0203,    0.020206,    0.020112,    0.020018,    0.019924,     0.01983,    0.019736,    0.019642,    0.019548,    0.019454,     0.01936,    0.019266,    0.019172,    0.019078,    0.018984,     0.01889,    0.018796,    0.018702,    0.018608,    0.018514,     0.01842,    0.018326,\n",
              "           0.018232,    0.018138,    0.018044,     0.01795,    0.017856,    0.017763,    0.017669,    0.017575,    0.017481,    0.017387,    0.017293,    0.017199,    0.017105,    0.017011,    0.016917,    0.016823,    0.016729,    0.016635,    0.016541,    0.016447,    0.016353,    0.016259,    0.016165,\n",
              "           0.016071,    0.015977,    0.015883,    0.015789,    0.015695,    0.015601,    0.015507,    0.015413,    0.015319,    0.015225,    0.015131,    0.015037,    0.014943,    0.014849,    0.014755,    0.014661,    0.014567,    0.014473,    0.014379,    0.014285,    0.014191,    0.014097,    0.014003,\n",
              "           0.013909,    0.013815,    0.013721,    0.013627,    0.013533,    0.013439,    0.013345,    0.013251,    0.013157,    0.013063,    0.012969,    0.012875,    0.012781,    0.012688,    0.012594,      0.0125,    0.012406,    0.012312,    0.012218,    0.012124,     0.01203,    0.011936,    0.011842,\n",
              "           0.011748,    0.011654,     0.01156,    0.011466,    0.011372,    0.011278,    0.011184,     0.01109,    0.010996,    0.010902,    0.010808,    0.010714,     0.01062,    0.010526,    0.010432,    0.010338,    0.010244,     0.01015,    0.010056,    0.009962,   0.0098681,   0.0097741,   0.0096801,\n",
              "          0.0095861,   0.0094921,   0.0093982,   0.0093042,   0.0092102,   0.0091162,   0.0090222,   0.0089282,   0.0088343,   0.0087403,   0.0086463,   0.0085523,   0.0084583,   0.0083644,   0.0082704,   0.0081764,   0.0080824,   0.0079884,   0.0078944,   0.0078005,   0.0077065,   0.0076125,   0.0075185,\n",
              "          0.0074245,   0.0073306,   0.0072366,   0.0071426,   0.0070486,   0.0069546,   0.0068607,   0.0067667,   0.0066727,   0.0065787,   0.0064847,   0.0063907,   0.0062968,   0.0062028,   0.0061088,   0.0060148,   0.0059208,   0.0058269,   0.0057329,   0.0056389,   0.0055449,   0.0054509,   0.0053569,\n",
              "           0.005263,    0.005169,    0.005075,    0.004981,    0.004887,   0.0047931,   0.0046991,   0.0046051,   0.0045111,   0.0044171,   0.0043231,   0.0042292,   0.0041352,   0.0040412,   0.0039472,   0.0038532,   0.0037593,   0.0036653,   0.0035713,   0.0034773,   0.0033833,   0.0032894,   0.0031954,\n",
              "          0.0031014,   0.0030074,   0.0029134,   0.0028194,   0.0027255,   0.0026315,   0.0025375,   0.0024435,   0.0023495,   0.0022556,   0.0021616,   0.0020676,   0.0019736,   0.0018796,   0.0017856,   0.0016917,   0.0015977,   0.0015037,   0.0014097,   0.0013157,   0.0012218,   0.0011278,   0.0010338,\n",
              "         0.00093982,  0.00084583,  0.00075185,  0.00065787,  0.00056389,  0.00046991,  0.00037593,  0.00028194,  0.00018796,  9.3982e-05,           0]]), 'Recall', 'Precision'], [array([          0,    0.001001,    0.002002,    0.003003,    0.004004,    0.005005,    0.006006,    0.007007,    0.008008,    0.009009,     0.01001,    0.011011,    0.012012,    0.013013,    0.014014,    0.015015,    0.016016,    0.017017,    0.018018,    0.019019,     0.02002,    0.021021,    0.022022,    0.023023,\n",
              "          0.024024,    0.025025,    0.026026,    0.027027,    0.028028,    0.029029,     0.03003,    0.031031,    0.032032,    0.033033,    0.034034,    0.035035,    0.036036,    0.037037,    0.038038,    0.039039,     0.04004,    0.041041,    0.042042,    0.043043,    0.044044,    0.045045,    0.046046,    0.047047,\n",
              "          0.048048,    0.049049,     0.05005,    0.051051,    0.052052,    0.053053,    0.054054,    0.055055,    0.056056,    0.057057,    0.058058,    0.059059,     0.06006,    0.061061,    0.062062,    0.063063,    0.064064,    0.065065,    0.066066,    0.067067,    0.068068,    0.069069,     0.07007,    0.071071,\n",
              "          0.072072,    0.073073,    0.074074,    0.075075,    0.076076,    0.077077,    0.078078,    0.079079,     0.08008,    0.081081,    0.082082,    0.083083,    0.084084,    0.085085,    0.086086,    0.087087,    0.088088,    0.089089,     0.09009,    0.091091,    0.092092,    0.093093,    0.094094,    0.095095,\n",
              "          0.096096,    0.097097,    0.098098,    0.099099,      0.1001,      0.1011,      0.1021,      0.1031,      0.1041,     0.10511,     0.10611,     0.10711,     0.10811,     0.10911,     0.11011,     0.11111,     0.11211,     0.11311,     0.11411,     0.11512,     0.11612,     0.11712,     0.11812,     0.11912,\n",
              "           0.12012,     0.12112,     0.12212,     0.12312,     0.12412,     0.12513,     0.12613,     0.12713,     0.12813,     0.12913,     0.13013,     0.13113,     0.13213,     0.13313,     0.13413,     0.13514,     0.13614,     0.13714,     0.13814,     0.13914,     0.14014,     0.14114,     0.14214,     0.14314,\n",
              "           0.14414,     0.14515,     0.14615,     0.14715,     0.14815,     0.14915,     0.15015,     0.15115,     0.15215,     0.15315,     0.15415,     0.15516,     0.15616,     0.15716,     0.15816,     0.15916,     0.16016,     0.16116,     0.16216,     0.16316,     0.16416,     0.16517,     0.16617,     0.16717,\n",
              "           0.16817,     0.16917,     0.17017,     0.17117,     0.17217,     0.17317,     0.17417,     0.17518,     0.17618,     0.17718,     0.17818,     0.17918,     0.18018,     0.18118,     0.18218,     0.18318,     0.18418,     0.18519,     0.18619,     0.18719,     0.18819,     0.18919,     0.19019,     0.19119,\n",
              "           0.19219,     0.19319,     0.19419,      0.1952,      0.1962,      0.1972,      0.1982,      0.1992,      0.2002,      0.2012,      0.2022,      0.2032,      0.2042,     0.20521,     0.20621,     0.20721,     0.20821,     0.20921,     0.21021,     0.21121,     0.21221,     0.21321,     0.21421,     0.21522,\n",
              "           0.21622,     0.21722,     0.21822,     0.21922,     0.22022,     0.22122,     0.22222,     0.22322,     0.22422,     0.22523,     0.22623,     0.22723,     0.22823,     0.22923,     0.23023,     0.23123,     0.23223,     0.23323,     0.23423,     0.23524,     0.23624,     0.23724,     0.23824,     0.23924,\n",
              "           0.24024,     0.24124,     0.24224,     0.24324,     0.24424,     0.24525,     0.24625,     0.24725,     0.24825,     0.24925,     0.25025,     0.25125,     0.25225,     0.25325,     0.25425,     0.25526,     0.25626,     0.25726,     0.25826,     0.25926,     0.26026,     0.26126,     0.26226,     0.26326,\n",
              "           0.26426,     0.26527,     0.26627,     0.26727,     0.26827,     0.26927,     0.27027,     0.27127,     0.27227,     0.27327,     0.27427,     0.27528,     0.27628,     0.27728,     0.27828,     0.27928,     0.28028,     0.28128,     0.28228,     0.28328,     0.28428,     0.28529,     0.28629,     0.28729,\n",
              "           0.28829,     0.28929,     0.29029,     0.29129,     0.29229,     0.29329,     0.29429,      0.2953,      0.2963,      0.2973,      0.2983,      0.2993,      0.3003,      0.3013,      0.3023,      0.3033,      0.3043,     0.30531,     0.30631,     0.30731,     0.30831,     0.30931,     0.31031,     0.31131,\n",
              "           0.31231,     0.31331,     0.31431,     0.31532,     0.31632,     0.31732,     0.31832,     0.31932,     0.32032,     0.32132,     0.32232,     0.32332,     0.32432,     0.32533,     0.32633,     0.32733,     0.32833,     0.32933,     0.33033,     0.33133,     0.33233,     0.33333,     0.33433,     0.33534,\n",
              "           0.33634,     0.33734,     0.33834,     0.33934,     0.34034,     0.34134,     0.34234,     0.34334,     0.34434,     0.34535,     0.34635,     0.34735,     0.34835,     0.34935,     0.35035,     0.35135,     0.35235,     0.35335,     0.35435,     0.35536,     0.35636,     0.35736,     0.35836,     0.35936,\n",
              "           0.36036,     0.36136,     0.36236,     0.36336,     0.36436,     0.36537,     0.36637,     0.36737,     0.36837,     0.36937,     0.37037,     0.37137,     0.37237,     0.37337,     0.37437,     0.37538,     0.37638,     0.37738,     0.37838,     0.37938,     0.38038,     0.38138,     0.38238,     0.38338,\n",
              "           0.38438,     0.38539,     0.38639,     0.38739,     0.38839,     0.38939,     0.39039,     0.39139,     0.39239,     0.39339,     0.39439,      0.3954,      0.3964,      0.3974,      0.3984,      0.3994,      0.4004,      0.4014,      0.4024,      0.4034,      0.4044,     0.40541,     0.40641,     0.40741,\n",
              "           0.40841,     0.40941,     0.41041,     0.41141,     0.41241,     0.41341,     0.41441,     0.41542,     0.41642,     0.41742,     0.41842,     0.41942,     0.42042,     0.42142,     0.42242,     0.42342,     0.42442,     0.42543,     0.42643,     0.42743,     0.42843,     0.42943,     0.43043,     0.43143,\n",
              "           0.43243,     0.43343,     0.43443,     0.43544,     0.43644,     0.43744,     0.43844,     0.43944,     0.44044,     0.44144,     0.44244,     0.44344,     0.44444,     0.44545,     0.44645,     0.44745,     0.44845,     0.44945,     0.45045,     0.45145,     0.45245,     0.45345,     0.45445,     0.45546,\n",
              "           0.45646,     0.45746,     0.45846,     0.45946,     0.46046,     0.46146,     0.46246,     0.46346,     0.46446,     0.46547,     0.46647,     0.46747,     0.46847,     0.46947,     0.47047,     0.47147,     0.47247,     0.47347,     0.47447,     0.47548,     0.47648,     0.47748,     0.47848,     0.47948,\n",
              "           0.48048,     0.48148,     0.48248,     0.48348,     0.48448,     0.48549,     0.48649,     0.48749,     0.48849,     0.48949,     0.49049,     0.49149,     0.49249,     0.49349,     0.49449,      0.4955,      0.4965,      0.4975,      0.4985,      0.4995,      0.5005,      0.5015,      0.5025,      0.5035,\n",
              "            0.5045,     0.50551,     0.50651,     0.50751,     0.50851,     0.50951,     0.51051,     0.51151,     0.51251,     0.51351,     0.51451,     0.51552,     0.51652,     0.51752,     0.51852,     0.51952,     0.52052,     0.52152,     0.52252,     0.52352,     0.52452,     0.52553,     0.52653,     0.52753,\n",
              "           0.52853,     0.52953,     0.53053,     0.53153,     0.53253,     0.53353,     0.53453,     0.53554,     0.53654,     0.53754,     0.53854,     0.53954,     0.54054,     0.54154,     0.54254,     0.54354,     0.54454,     0.54555,     0.54655,     0.54755,     0.54855,     0.54955,     0.55055,     0.55155,\n",
              "           0.55255,     0.55355,     0.55455,     0.55556,     0.55656,     0.55756,     0.55856,     0.55956,     0.56056,     0.56156,     0.56256,     0.56356,     0.56456,     0.56557,     0.56657,     0.56757,     0.56857,     0.56957,     0.57057,     0.57157,     0.57257,     0.57357,     0.57457,     0.57558,\n",
              "           0.57658,     0.57758,     0.57858,     0.57958,     0.58058,     0.58158,     0.58258,     0.58358,     0.58458,     0.58559,     0.58659,     0.58759,     0.58859,     0.58959,     0.59059,     0.59159,     0.59259,     0.59359,     0.59459,      0.5956,      0.5966,      0.5976,      0.5986,      0.5996,\n",
              "            0.6006,      0.6016,      0.6026,      0.6036,      0.6046,     0.60561,     0.60661,     0.60761,     0.60861,     0.60961,     0.61061,     0.61161,     0.61261,     0.61361,     0.61461,     0.61562,     0.61662,     0.61762,     0.61862,     0.61962,     0.62062,     0.62162,     0.62262,     0.62362,\n",
              "           0.62462,     0.62563,     0.62663,     0.62763,     0.62863,     0.62963,     0.63063,     0.63163,     0.63263,     0.63363,     0.63463,     0.63564,     0.63664,     0.63764,     0.63864,     0.63964,     0.64064,     0.64164,     0.64264,     0.64364,     0.64464,     0.64565,     0.64665,     0.64765,\n",
              "           0.64865,     0.64965,     0.65065,     0.65165,     0.65265,     0.65365,     0.65465,     0.65566,     0.65666,     0.65766,     0.65866,     0.65966,     0.66066,     0.66166,     0.66266,     0.66366,     0.66466,     0.66567,     0.66667,     0.66767,     0.66867,     0.66967,     0.67067,     0.67167,\n",
              "           0.67267,     0.67367,     0.67467,     0.67568,     0.67668,     0.67768,     0.67868,     0.67968,     0.68068,     0.68168,     0.68268,     0.68368,     0.68468,     0.68569,     0.68669,     0.68769,     0.68869,     0.68969,     0.69069,     0.69169,     0.69269,     0.69369,     0.69469,      0.6957,\n",
              "            0.6967,      0.6977,      0.6987,      0.6997,      0.7007,      0.7017,      0.7027,      0.7037,      0.7047,     0.70571,     0.70671,     0.70771,     0.70871,     0.70971,     0.71071,     0.71171,     0.71271,     0.71371,     0.71471,     0.71572,     0.71672,     0.71772,     0.71872,     0.71972,\n",
              "           0.72072,     0.72172,     0.72272,     0.72372,     0.72472,     0.72573,     0.72673,     0.72773,     0.72873,     0.72973,     0.73073,     0.73173,     0.73273,     0.73373,     0.73473,     0.73574,     0.73674,     0.73774,     0.73874,     0.73974,     0.74074,     0.74174,     0.74274,     0.74374,\n",
              "           0.74474,     0.74575,     0.74675,     0.74775,     0.74875,     0.74975,     0.75075,     0.75175,     0.75275,     0.75375,     0.75475,     0.75576,     0.75676,     0.75776,     0.75876,     0.75976,     0.76076,     0.76176,     0.76276,     0.76376,     0.76476,     0.76577,     0.76677,     0.76777,\n",
              "           0.76877,     0.76977,     0.77077,     0.77177,     0.77277,     0.77377,     0.77477,     0.77578,     0.77678,     0.77778,     0.77878,     0.77978,     0.78078,     0.78178,     0.78278,     0.78378,     0.78478,     0.78579,     0.78679,     0.78779,     0.78879,     0.78979,     0.79079,     0.79179,\n",
              "           0.79279,     0.79379,     0.79479,      0.7958,      0.7968,      0.7978,      0.7988,      0.7998,      0.8008,      0.8018,      0.8028,      0.8038,      0.8048,     0.80581,     0.80681,     0.80781,     0.80881,     0.80981,     0.81081,     0.81181,     0.81281,     0.81381,     0.81481,     0.81582,\n",
              "           0.81682,     0.81782,     0.81882,     0.81982,     0.82082,     0.82182,     0.82282,     0.82382,     0.82482,     0.82583,     0.82683,     0.82783,     0.82883,     0.82983,     0.83083,     0.83183,     0.83283,     0.83383,     0.83483,     0.83584,     0.83684,     0.83784,     0.83884,     0.83984,\n",
              "           0.84084,     0.84184,     0.84284,     0.84384,     0.84484,     0.84585,     0.84685,     0.84785,     0.84885,     0.84985,     0.85085,     0.85185,     0.85285,     0.85385,     0.85485,     0.85586,     0.85686,     0.85786,     0.85886,     0.85986,     0.86086,     0.86186,     0.86286,     0.86386,\n",
              "           0.86486,     0.86587,     0.86687,     0.86787,     0.86887,     0.86987,     0.87087,     0.87187,     0.87287,     0.87387,     0.87487,     0.87588,     0.87688,     0.87788,     0.87888,     0.87988,     0.88088,     0.88188,     0.88288,     0.88388,     0.88488,     0.88589,     0.88689,     0.88789,\n",
              "           0.88889,     0.88989,     0.89089,     0.89189,     0.89289,     0.89389,     0.89489,      0.8959,      0.8969,      0.8979,      0.8989,      0.8999,      0.9009,      0.9019,      0.9029,      0.9039,      0.9049,     0.90591,     0.90691,     0.90791,     0.90891,     0.90991,     0.91091,     0.91191,\n",
              "           0.91291,     0.91391,     0.91491,     0.91592,     0.91692,     0.91792,     0.91892,     0.91992,     0.92092,     0.92192,     0.92292,     0.92392,     0.92492,     0.92593,     0.92693,     0.92793,     0.92893,     0.92993,     0.93093,     0.93193,     0.93293,     0.93393,     0.93493,     0.93594,\n",
              "           0.93694,     0.93794,     0.93894,     0.93994,     0.94094,     0.94194,     0.94294,     0.94394,     0.94494,     0.94595,     0.94695,     0.94795,     0.94895,     0.94995,     0.95095,     0.95195,     0.95295,     0.95395,     0.95495,     0.95596,     0.95696,     0.95796,     0.95896,     0.95996,\n",
              "           0.96096,     0.96196,     0.96296,     0.96396,     0.96496,     0.96597,     0.96697,     0.96797,     0.96897,     0.96997,     0.97097,     0.97197,     0.97297,     0.97397,     0.97497,     0.97598,     0.97698,     0.97798,     0.97898,     0.97998,     0.98098,     0.98198,     0.98298,     0.98398,\n",
              "           0.98498,     0.98599,     0.98699,     0.98799,     0.98899,     0.98999,     0.99099,     0.99199,     0.99299,     0.99399,     0.99499,       0.996,       0.997,       0.998,       0.999,           1]), array([[   0.043434,    0.043434,    0.065518,     0.08143,    0.095312,     0.10797,     0.11856,     0.12426,     0.13402,      0.1435,     0.15208,     0.16098,     0.16753,     0.17343,     0.17759,     0.18473,     0.19027,     0.19372,      0.1992,     0.20381,      0.2045,     0.21032,     0.21093,\n",
              "            0.21476,     0.22037,     0.22448,     0.22915,     0.23255,     0.23838,     0.24375,     0.24673,     0.24421,     0.24888,     0.24885,     0.25352,     0.25641,      0.2563,        0.26,     0.26319,       0.266,     0.26874,     0.27247,     0.27066,     0.27449,     0.27817,     0.26912,\n",
              "            0.26986,     0.27148,     0.27775,     0.28165,     0.28494,     0.28946,     0.29207,     0.29266,     0.29413,     0.28903,     0.29125,     0.29319,     0.29386,      0.2966,     0.29789,     0.29479,     0.29777,     0.30094,     0.30165,     0.30294,     0.30377,     0.30437,     0.30477,\n",
              "            0.30517,      0.3077,      0.3101,     0.31086,     0.31329,     0.31493,     0.31801,     0.31917,     0.31975,     0.32066,       0.323,     0.32389,     0.32603,     0.32725,     0.32836,     0.32598,       0.325,     0.32645,     0.32689,     0.32733,     0.32786,      0.3291,     0.32342,\n",
              "            0.32389,     0.32436,     0.32495,      0.3267,     0.32904,     0.32943,     0.32982,     0.33021,      0.3317,     0.33265,     0.33472,     0.33636,     0.33738,     0.33992,     0.34266,      0.3444,     0.34581,     0.34818,     0.34958,     0.35033,     0.35056,     0.35079,     0.35102,\n",
              "            0.35124,     0.35147,      0.3517,     0.34783,     0.34754,      0.3487,      0.3494,      0.3499,     0.35039,     0.35139,     0.35335,     0.35456,     0.35534,     0.35805,      0.3594,     0.35971,     0.36002,     0.36032,     0.36063,     0.36093,     0.36082,     0.35767,     0.35506,\n",
              "            0.35684,     0.35734,     0.35784,     0.35954,     0.36236,     0.36319,     0.36408,     0.36503,     0.36561,     0.36586,     0.36611,     0.36637,     0.36662,     0.36687,     0.36712,     0.36764,     0.37124,     0.37229,     0.37349,     0.37503,     0.37565,     0.37627,     0.37689,\n",
              "            0.37741,      0.3735,     0.37062,     0.37186,     0.37257,     0.37294,     0.37331,     0.37368,     0.37405,     0.37456,     0.37548,     0.37643,      0.3781,     0.37994,     0.38103,     0.38185,     0.38172,     0.37716,     0.37373,     0.37417,     0.37462,     0.37506,     0.37551,\n",
              "             0.3779,     0.37824,     0.37858,     0.37892,     0.37925,     0.37959,     0.38063,     0.38292,      0.3841,     0.38557,     0.38721,      0.3888,     0.38972,     0.39063,     0.38454,     0.38649,     0.38918,     0.39093,     0.39154,     0.39216,     0.39277,     0.39343,      0.3941,\n",
              "            0.39476,      0.3954,     0.39597,     0.39655,     0.39712,     0.39772,     0.39845,     0.39919,     0.39992,     0.40054,     0.40115,     0.40175,     0.40235,     0.40323,     0.40415,     0.40563,     0.40848,     0.40944,     0.40724,     0.40504,     0.40284,     0.40063,     0.40048,\n",
              "            0.40114,     0.40181,     0.40247,     0.40468,      0.4001,     0.39535,     0.39185,     0.38835,     0.38991,     0.39082,     0.39172,     0.39307,      0.3948,       0.396,     0.39719,     0.39798,      0.3987,     0.39943,     0.40041,     0.40241,      0.4037,     0.40487,     0.40643,\n",
              "            0.40819,     0.40848,     0.40876,     0.40905,     0.40934,     0.40963,     0.40991,      0.4102,     0.41048,     0.41077,     0.41222,     0.40996,      0.4059,     0.40639,     0.40688,     0.40737,     0.40785,     0.40834,     0.40625,     0.40336,     0.40047,     0.39757,     0.39828,\n",
              "            0.39957,     0.40321,     0.40371,     0.40422,     0.40471,     0.40521,      0.4057,     0.40721,     0.40852,     0.40624,     0.40396,     0.40168,     0.39939,      0.3971,     0.39467,     0.39224,     0.38981,     0.38737,     0.38523,     0.38562,     0.38602,     0.38641,     0.38681,\n",
              "             0.3872,     0.38759,     0.38798,     0.38901,     0.39021,     0.39113,     0.39157,       0.392,     0.39244,     0.39287,      0.3933,     0.39373,     0.39523,     0.39726,     0.39831,     0.39935,     0.40025,     0.40093,      0.4016,     0.40227,     0.40293,     0.40262,     0.40198,\n",
              "            0.40133,     0.40069,     0.40004,     0.39939,     0.39875,      0.3981,     0.39745,     0.39681,     0.39616,     0.39551,     0.39486,     0.39421,     0.39357,     0.39292,     0.39227,     0.39162,     0.39097,      0.3894,     0.38681,     0.38422,     0.38162,     0.37901,     0.37826,\n",
              "            0.37878,     0.37929,     0.37981,     0.38031,     0.38082,     0.37535,     0.36784,     0.36294,     0.35804,     0.35487,     0.35498,     0.35508,     0.35518,     0.35528,     0.35539,     0.35549,     0.35559,     0.35569,     0.35579,      0.3559,       0.356,      0.3561,      0.3562,\n",
              "             0.3563,      0.3564,      0.3565,      0.3566,     0.35671,     0.35681,     0.35691,     0.35701,     0.35711,     0.35721,     0.35731,     0.35741,     0.35751,     0.35761,     0.35771,     0.35849,     0.35941,     0.36033,     0.36077,     0.36095,     0.36113,     0.36131,     0.36149,\n",
              "            0.36167,     0.36185,     0.36202,      0.3622,     0.36238,     0.36255,     0.36273,     0.36291,     0.36308,     0.36326,     0.36343,      0.3636,     0.36308,      0.3624,     0.36172,     0.36104,     0.36036,     0.35968,       0.359,     0.35832,     0.35764,     0.35696,     0.35628,\n",
              "            0.35559,     0.35491,     0.35423,     0.35355,     0.35286,     0.35218,      0.3515,     0.35081,     0.35013,     0.34868,     0.34706,     0.34544,     0.34382,     0.34219,     0.34057,     0.33894,     0.33731,     0.33634,     0.33708,     0.33781,     0.33854,     0.34049,     0.34197,\n",
              "             0.3421,     0.34224,     0.34237,     0.34251,     0.34264,     0.34278,     0.34291,     0.34304,     0.34318,     0.34331,     0.34344,     0.34358,     0.34371,     0.34384,     0.34397,      0.3441,     0.34423,     0.34436,      0.3445,     0.34463,     0.34476,     0.34503,     0.34548,\n",
              "            0.34592,     0.34636,      0.3468,     0.34723,     0.34766,     0.34651,      0.3444,     0.34228,     0.34016,     0.33803,     0.33591,     0.33378,     0.33344,     0.33359,     0.33373,     0.33387,       0.334,     0.33414,     0.33428,     0.33442,     0.33456,      0.3347,     0.33484,\n",
              "            0.33497,     0.33511,     0.33525,     0.33538,     0.33552,     0.33565,     0.33579,     0.33592,     0.33606,     0.33619,     0.33731,      0.3394,     0.33972,     0.34004,     0.34036,     0.34067,     0.34098,      0.3413,     0.34161,     0.34191,     0.34222,     0.34198,     0.34136,\n",
              "            0.34075,     0.34013,     0.33951,      0.3389,     0.33828,     0.33767,     0.33705,     0.33643,     0.33582,      0.3352,     0.33458,     0.33396,     0.33334,     0.33273,     0.33211,     0.33149,     0.33087,     0.33025,     0.32963,     0.32901,     0.32839,     0.32776,     0.32681,\n",
              "            0.32457,     0.32233,     0.32009,     0.31784,     0.31559,     0.31333,     0.31117,     0.30918,     0.30718,     0.30518,     0.30318,     0.30117,     0.29917,     0.29715,     0.29598,     0.29543,     0.29488,     0.29433,     0.29378,     0.29323,     0.29267,     0.29212,     0.29157,\n",
              "            0.29102,     0.29047,     0.28991,     0.28936,     0.28881,     0.28826,      0.2877,     0.28715,     0.28659,     0.28604,     0.28549,     0.28493,     0.28438,     0.28382,     0.28327,     0.28271,     0.28216,      0.2816,     0.28104,     0.28049,     0.28082,     0.28137,     0.28191,\n",
              "            0.28245,     0.28298,     0.28431,     0.28567,     0.28473,     0.28371,     0.28269,     0.28167,     0.28065,     0.27963,     0.27861,     0.27758,     0.27656,     0.27553,     0.27451,     0.27348,     0.27245,     0.27143,      0.2704,     0.26937,     0.26949,     0.26978,     0.27006,\n",
              "            0.27035,     0.27063,     0.27091,     0.27119,     0.27146,     0.27174,     0.26145,     0.25513,     0.25548,     0.25583,     0.25618,     0.25652,     0.25686,      0.2572,     0.25659,     0.25385,     0.25111,     0.24837,     0.24562,     0.24286,     0.24009,     0.24006,     0.24012,\n",
              "            0.24018,     0.24024,      0.2403,     0.24037,     0.24043,     0.24049,     0.24055,     0.24061,     0.24067,     0.24073,     0.24079,     0.24085,     0.24091,     0.24096,     0.24102,     0.24108,     0.24114,      0.2412,     0.24126,     0.24132,     0.24138,     0.24143,     0.24149,\n",
              "            0.24155,     0.24161,     0.24166,     0.24172,     0.24178,     0.24184,     0.24189,     0.24195,     0.24201,     0.24206,     0.24212,     0.24217,     0.24223,     0.24229,     0.24234,      0.2424,     0.24127,     0.23899,      0.2367,     0.23441,     0.23211,     0.22981,      0.2275,\n",
              "            0.22519,     0.21796,     0.20857,     0.18678,       0.184,     0.18122,     0.17843,     0.17563,     0.17283,     0.17002,     0.16861,     0.16904,     0.16945,     0.16985,     0.17019,     0.16958,     0.16897,     0.16837,     0.16776,     0.16715,     0.16655,     0.16594,     0.16533,\n",
              "            0.16472,     0.16411,      0.1635,     0.16289,     0.16228,     0.16167,     0.16106,     0.16045,     0.15984,     0.15923,     0.15862,       0.158,     0.15739,     0.15678,     0.15616,     0.15555,     0.15494,     0.15432,     0.15371,     0.15309,     0.15248,     0.15186,     0.15125,\n",
              "            0.15063,     0.14861,     0.14634,     0.14406,     0.14177,     0.13948,     0.13719,     0.13489,     0.13259,     0.12951,      0.1155,     0.10894,     0.10735,     0.10576,     0.10418,     0.10259,     0.10099,      0.0994,    0.097805,    0.096208,    0.094609,    0.093008,    0.091405,\n",
              "             0.0898,    0.087943,    0.085753,    0.083561,    0.081367,    0.079169,    0.076968,    0.074764,    0.072557,    0.070346,    0.068132,    0.067988,    0.066961,    0.065933,    0.064904,    0.063875,    0.062845,    0.061814,    0.060783,    0.059751,    0.058718,    0.057685,     0.05665,\n",
              "           0.055615,    0.054579,    0.053543,    0.052505,    0.051467,    0.050428,    0.049388,    0.048347,    0.047305,    0.046263,    0.046031,    0.046101,    0.046164,    0.046222,    0.046276,    0.046326,    0.046372,    0.046415,    0.046456,    0.046493,           0,           0,           0,\n",
              "                  0,           0,           0,           0,           0,           0,           0,           0,           0,           0,           0,           0,           0,           0,           0,           0,           0,           0,           0,           0,           0,           0,           0,\n",
              "                  0,           0,           0,           0,           0,           0,           0,           0,           0,           0,           0,           0,           0,           0,           0,           0,           0,           0,           0,           0,           0,           0,           0,\n",
              "                  0,           0,           0,           0,           0,           0,           0,           0,           0,           0,           0,           0,           0,           0,           0,           0,           0,           0,           0,           0,           0,           0,           0,\n",
              "                  0,           0,           0,           0,           0,           0,           0,           0,           0,           0,           0,           0,           0,           0,           0,           0,           0,           0,           0,           0,           0,           0,           0,\n",
              "                  0,           0,           0,           0,           0,           0,           0,           0,           0,           0,           0,           0,           0,           0,           0,           0,           0,           0,           0,           0,           0,           0,           0,\n",
              "                  0,           0,           0,           0,           0,           0,           0,           0,           0,           0,           0,           0,           0,           0,           0,           0,           0,           0,           0,           0,           0,           0,           0,\n",
              "                  0,           0,           0,           0,           0,           0,           0,           0,           0,           0,           0,           0,           0,           0,           0,           0,           0,           0,           0,           0,           0,           0,           0,\n",
              "                  0,           0,           0,           0,           0,           0,           0,           0,           0,           0,           0,           0,           0,           0,           0,           0,           0,           0,           0,           0,           0,           0,           0,\n",
              "                  0,           0,           0,           0,           0,           0,           0,           0,           0,           0,           0,           0,           0,           0,           0,           0,           0,           0,           0,           0,           0,           0,           0,\n",
              "                  0,           0,           0,           0,           0,           0,           0,           0,           0,           0,           0]]), 'Confidence', 'F1'], [array([          0,    0.001001,    0.002002,    0.003003,    0.004004,    0.005005,    0.006006,    0.007007,    0.008008,    0.009009,     0.01001,    0.011011,    0.012012,    0.013013,    0.014014,    0.015015,    0.016016,    0.017017,    0.018018,    0.019019,     0.02002,    0.021021,    0.022022,    0.023023,\n",
              "          0.024024,    0.025025,    0.026026,    0.027027,    0.028028,    0.029029,     0.03003,    0.031031,    0.032032,    0.033033,    0.034034,    0.035035,    0.036036,    0.037037,    0.038038,    0.039039,     0.04004,    0.041041,    0.042042,    0.043043,    0.044044,    0.045045,    0.046046,    0.047047,\n",
              "          0.048048,    0.049049,     0.05005,    0.051051,    0.052052,    0.053053,    0.054054,    0.055055,    0.056056,    0.057057,    0.058058,    0.059059,     0.06006,    0.061061,    0.062062,    0.063063,    0.064064,    0.065065,    0.066066,    0.067067,    0.068068,    0.069069,     0.07007,    0.071071,\n",
              "          0.072072,    0.073073,    0.074074,    0.075075,    0.076076,    0.077077,    0.078078,    0.079079,     0.08008,    0.081081,    0.082082,    0.083083,    0.084084,    0.085085,    0.086086,    0.087087,    0.088088,    0.089089,     0.09009,    0.091091,    0.092092,    0.093093,    0.094094,    0.095095,\n",
              "          0.096096,    0.097097,    0.098098,    0.099099,      0.1001,      0.1011,      0.1021,      0.1031,      0.1041,     0.10511,     0.10611,     0.10711,     0.10811,     0.10911,     0.11011,     0.11111,     0.11211,     0.11311,     0.11411,     0.11512,     0.11612,     0.11712,     0.11812,     0.11912,\n",
              "           0.12012,     0.12112,     0.12212,     0.12312,     0.12412,     0.12513,     0.12613,     0.12713,     0.12813,     0.12913,     0.13013,     0.13113,     0.13213,     0.13313,     0.13413,     0.13514,     0.13614,     0.13714,     0.13814,     0.13914,     0.14014,     0.14114,     0.14214,     0.14314,\n",
              "           0.14414,     0.14515,     0.14615,     0.14715,     0.14815,     0.14915,     0.15015,     0.15115,     0.15215,     0.15315,     0.15415,     0.15516,     0.15616,     0.15716,     0.15816,     0.15916,     0.16016,     0.16116,     0.16216,     0.16316,     0.16416,     0.16517,     0.16617,     0.16717,\n",
              "           0.16817,     0.16917,     0.17017,     0.17117,     0.17217,     0.17317,     0.17417,     0.17518,     0.17618,     0.17718,     0.17818,     0.17918,     0.18018,     0.18118,     0.18218,     0.18318,     0.18418,     0.18519,     0.18619,     0.18719,     0.18819,     0.18919,     0.19019,     0.19119,\n",
              "           0.19219,     0.19319,     0.19419,      0.1952,      0.1962,      0.1972,      0.1982,      0.1992,      0.2002,      0.2012,      0.2022,      0.2032,      0.2042,     0.20521,     0.20621,     0.20721,     0.20821,     0.20921,     0.21021,     0.21121,     0.21221,     0.21321,     0.21421,     0.21522,\n",
              "           0.21622,     0.21722,     0.21822,     0.21922,     0.22022,     0.22122,     0.22222,     0.22322,     0.22422,     0.22523,     0.22623,     0.22723,     0.22823,     0.22923,     0.23023,     0.23123,     0.23223,     0.23323,     0.23423,     0.23524,     0.23624,     0.23724,     0.23824,     0.23924,\n",
              "           0.24024,     0.24124,     0.24224,     0.24324,     0.24424,     0.24525,     0.24625,     0.24725,     0.24825,     0.24925,     0.25025,     0.25125,     0.25225,     0.25325,     0.25425,     0.25526,     0.25626,     0.25726,     0.25826,     0.25926,     0.26026,     0.26126,     0.26226,     0.26326,\n",
              "           0.26426,     0.26527,     0.26627,     0.26727,     0.26827,     0.26927,     0.27027,     0.27127,     0.27227,     0.27327,     0.27427,     0.27528,     0.27628,     0.27728,     0.27828,     0.27928,     0.28028,     0.28128,     0.28228,     0.28328,     0.28428,     0.28529,     0.28629,     0.28729,\n",
              "           0.28829,     0.28929,     0.29029,     0.29129,     0.29229,     0.29329,     0.29429,      0.2953,      0.2963,      0.2973,      0.2983,      0.2993,      0.3003,      0.3013,      0.3023,      0.3033,      0.3043,     0.30531,     0.30631,     0.30731,     0.30831,     0.30931,     0.31031,     0.31131,\n",
              "           0.31231,     0.31331,     0.31431,     0.31532,     0.31632,     0.31732,     0.31832,     0.31932,     0.32032,     0.32132,     0.32232,     0.32332,     0.32432,     0.32533,     0.32633,     0.32733,     0.32833,     0.32933,     0.33033,     0.33133,     0.33233,     0.33333,     0.33433,     0.33534,\n",
              "           0.33634,     0.33734,     0.33834,     0.33934,     0.34034,     0.34134,     0.34234,     0.34334,     0.34434,     0.34535,     0.34635,     0.34735,     0.34835,     0.34935,     0.35035,     0.35135,     0.35235,     0.35335,     0.35435,     0.35536,     0.35636,     0.35736,     0.35836,     0.35936,\n",
              "           0.36036,     0.36136,     0.36236,     0.36336,     0.36436,     0.36537,     0.36637,     0.36737,     0.36837,     0.36937,     0.37037,     0.37137,     0.37237,     0.37337,     0.37437,     0.37538,     0.37638,     0.37738,     0.37838,     0.37938,     0.38038,     0.38138,     0.38238,     0.38338,\n",
              "           0.38438,     0.38539,     0.38639,     0.38739,     0.38839,     0.38939,     0.39039,     0.39139,     0.39239,     0.39339,     0.39439,      0.3954,      0.3964,      0.3974,      0.3984,      0.3994,      0.4004,      0.4014,      0.4024,      0.4034,      0.4044,     0.40541,     0.40641,     0.40741,\n",
              "           0.40841,     0.40941,     0.41041,     0.41141,     0.41241,     0.41341,     0.41441,     0.41542,     0.41642,     0.41742,     0.41842,     0.41942,     0.42042,     0.42142,     0.42242,     0.42342,     0.42442,     0.42543,     0.42643,     0.42743,     0.42843,     0.42943,     0.43043,     0.43143,\n",
              "           0.43243,     0.43343,     0.43443,     0.43544,     0.43644,     0.43744,     0.43844,     0.43944,     0.44044,     0.44144,     0.44244,     0.44344,     0.44444,     0.44545,     0.44645,     0.44745,     0.44845,     0.44945,     0.45045,     0.45145,     0.45245,     0.45345,     0.45445,     0.45546,\n",
              "           0.45646,     0.45746,     0.45846,     0.45946,     0.46046,     0.46146,     0.46246,     0.46346,     0.46446,     0.46547,     0.46647,     0.46747,     0.46847,     0.46947,     0.47047,     0.47147,     0.47247,     0.47347,     0.47447,     0.47548,     0.47648,     0.47748,     0.47848,     0.47948,\n",
              "           0.48048,     0.48148,     0.48248,     0.48348,     0.48448,     0.48549,     0.48649,     0.48749,     0.48849,     0.48949,     0.49049,     0.49149,     0.49249,     0.49349,     0.49449,      0.4955,      0.4965,      0.4975,      0.4985,      0.4995,      0.5005,      0.5015,      0.5025,      0.5035,\n",
              "            0.5045,     0.50551,     0.50651,     0.50751,     0.50851,     0.50951,     0.51051,     0.51151,     0.51251,     0.51351,     0.51451,     0.51552,     0.51652,     0.51752,     0.51852,     0.51952,     0.52052,     0.52152,     0.52252,     0.52352,     0.52452,     0.52553,     0.52653,     0.52753,\n",
              "           0.52853,     0.52953,     0.53053,     0.53153,     0.53253,     0.53353,     0.53453,     0.53554,     0.53654,     0.53754,     0.53854,     0.53954,     0.54054,     0.54154,     0.54254,     0.54354,     0.54454,     0.54555,     0.54655,     0.54755,     0.54855,     0.54955,     0.55055,     0.55155,\n",
              "           0.55255,     0.55355,     0.55455,     0.55556,     0.55656,     0.55756,     0.55856,     0.55956,     0.56056,     0.56156,     0.56256,     0.56356,     0.56456,     0.56557,     0.56657,     0.56757,     0.56857,     0.56957,     0.57057,     0.57157,     0.57257,     0.57357,     0.57457,     0.57558,\n",
              "           0.57658,     0.57758,     0.57858,     0.57958,     0.58058,     0.58158,     0.58258,     0.58358,     0.58458,     0.58559,     0.58659,     0.58759,     0.58859,     0.58959,     0.59059,     0.59159,     0.59259,     0.59359,     0.59459,      0.5956,      0.5966,      0.5976,      0.5986,      0.5996,\n",
              "            0.6006,      0.6016,      0.6026,      0.6036,      0.6046,     0.60561,     0.60661,     0.60761,     0.60861,     0.60961,     0.61061,     0.61161,     0.61261,     0.61361,     0.61461,     0.61562,     0.61662,     0.61762,     0.61862,     0.61962,     0.62062,     0.62162,     0.62262,     0.62362,\n",
              "           0.62462,     0.62563,     0.62663,     0.62763,     0.62863,     0.62963,     0.63063,     0.63163,     0.63263,     0.63363,     0.63463,     0.63564,     0.63664,     0.63764,     0.63864,     0.63964,     0.64064,     0.64164,     0.64264,     0.64364,     0.64464,     0.64565,     0.64665,     0.64765,\n",
              "           0.64865,     0.64965,     0.65065,     0.65165,     0.65265,     0.65365,     0.65465,     0.65566,     0.65666,     0.65766,     0.65866,     0.65966,     0.66066,     0.66166,     0.66266,     0.66366,     0.66466,     0.66567,     0.66667,     0.66767,     0.66867,     0.66967,     0.67067,     0.67167,\n",
              "           0.67267,     0.67367,     0.67467,     0.67568,     0.67668,     0.67768,     0.67868,     0.67968,     0.68068,     0.68168,     0.68268,     0.68368,     0.68468,     0.68569,     0.68669,     0.68769,     0.68869,     0.68969,     0.69069,     0.69169,     0.69269,     0.69369,     0.69469,      0.6957,\n",
              "            0.6967,      0.6977,      0.6987,      0.6997,      0.7007,      0.7017,      0.7027,      0.7037,      0.7047,     0.70571,     0.70671,     0.70771,     0.70871,     0.70971,     0.71071,     0.71171,     0.71271,     0.71371,     0.71471,     0.71572,     0.71672,     0.71772,     0.71872,     0.71972,\n",
              "           0.72072,     0.72172,     0.72272,     0.72372,     0.72472,     0.72573,     0.72673,     0.72773,     0.72873,     0.72973,     0.73073,     0.73173,     0.73273,     0.73373,     0.73473,     0.73574,     0.73674,     0.73774,     0.73874,     0.73974,     0.74074,     0.74174,     0.74274,     0.74374,\n",
              "           0.74474,     0.74575,     0.74675,     0.74775,     0.74875,     0.74975,     0.75075,     0.75175,     0.75275,     0.75375,     0.75475,     0.75576,     0.75676,     0.75776,     0.75876,     0.75976,     0.76076,     0.76176,     0.76276,     0.76376,     0.76476,     0.76577,     0.76677,     0.76777,\n",
              "           0.76877,     0.76977,     0.77077,     0.77177,     0.77277,     0.77377,     0.77477,     0.77578,     0.77678,     0.77778,     0.77878,     0.77978,     0.78078,     0.78178,     0.78278,     0.78378,     0.78478,     0.78579,     0.78679,     0.78779,     0.78879,     0.78979,     0.79079,     0.79179,\n",
              "           0.79279,     0.79379,     0.79479,      0.7958,      0.7968,      0.7978,      0.7988,      0.7998,      0.8008,      0.8018,      0.8028,      0.8038,      0.8048,     0.80581,     0.80681,     0.80781,     0.80881,     0.80981,     0.81081,     0.81181,     0.81281,     0.81381,     0.81481,     0.81582,\n",
              "           0.81682,     0.81782,     0.81882,     0.81982,     0.82082,     0.82182,     0.82282,     0.82382,     0.82482,     0.82583,     0.82683,     0.82783,     0.82883,     0.82983,     0.83083,     0.83183,     0.83283,     0.83383,     0.83483,     0.83584,     0.83684,     0.83784,     0.83884,     0.83984,\n",
              "           0.84084,     0.84184,     0.84284,     0.84384,     0.84484,     0.84585,     0.84685,     0.84785,     0.84885,     0.84985,     0.85085,     0.85185,     0.85285,     0.85385,     0.85485,     0.85586,     0.85686,     0.85786,     0.85886,     0.85986,     0.86086,     0.86186,     0.86286,     0.86386,\n",
              "           0.86486,     0.86587,     0.86687,     0.86787,     0.86887,     0.86987,     0.87087,     0.87187,     0.87287,     0.87387,     0.87487,     0.87588,     0.87688,     0.87788,     0.87888,     0.87988,     0.88088,     0.88188,     0.88288,     0.88388,     0.88488,     0.88589,     0.88689,     0.88789,\n",
              "           0.88889,     0.88989,     0.89089,     0.89189,     0.89289,     0.89389,     0.89489,      0.8959,      0.8969,      0.8979,      0.8989,      0.8999,      0.9009,      0.9019,      0.9029,      0.9039,      0.9049,     0.90591,     0.90691,     0.90791,     0.90891,     0.90991,     0.91091,     0.91191,\n",
              "           0.91291,     0.91391,     0.91491,     0.91592,     0.91692,     0.91792,     0.91892,     0.91992,     0.92092,     0.92192,     0.92292,     0.92392,     0.92492,     0.92593,     0.92693,     0.92793,     0.92893,     0.92993,     0.93093,     0.93193,     0.93293,     0.93393,     0.93493,     0.93594,\n",
              "           0.93694,     0.93794,     0.93894,     0.93994,     0.94094,     0.94194,     0.94294,     0.94394,     0.94494,     0.94595,     0.94695,     0.94795,     0.94895,     0.94995,     0.95095,     0.95195,     0.95295,     0.95395,     0.95495,     0.95596,     0.95696,     0.95796,     0.95896,     0.95996,\n",
              "           0.96096,     0.96196,     0.96296,     0.96396,     0.96496,     0.96597,     0.96697,     0.96797,     0.96897,     0.96997,     0.97097,     0.97197,     0.97297,     0.97397,     0.97497,     0.97598,     0.97698,     0.97798,     0.97898,     0.97998,     0.98098,     0.98198,     0.98298,     0.98398,\n",
              "           0.98498,     0.98599,     0.98699,     0.98799,     0.98899,     0.98999,     0.99099,     0.99199,     0.99299,     0.99399,     0.99499,       0.996,       0.997,       0.998,       0.999,           1]), array([[   0.022354,    0.022354,    0.034306,     0.04322,    0.051325,    0.058837,    0.065302,    0.068913,    0.074973,    0.080955,     0.08646,     0.09226,    0.096586,     0.10053,     0.10366,     0.10856,     0.11281,     0.11568,     0.11961,     0.12296,     0.12398,     0.12829,     0.12934,\n",
              "            0.13223,     0.13651,     0.13967,     0.14331,     0.14598,      0.1506,     0.15492,     0.15733,     0.15619,     0.16003,     0.16101,     0.16494,      0.1674,     0.16845,     0.17166,     0.17445,     0.17693,     0.17936,     0.18269,     0.18247,     0.18597,     0.18946,     0.18364,\n",
              "             0.1848,     0.18632,     0.19228,     0.19604,     0.19924,     0.20369,     0.20629,     0.20687,     0.20834,      0.2053,     0.20755,     0.20953,      0.2102,     0.21302,     0.21435,     0.21347,     0.21661,     0.21998,     0.22074,     0.22212,     0.22302,     0.22367,      0.2241,\n",
              "            0.22453,     0.22728,     0.22991,     0.23075,     0.23344,     0.23526,     0.23871,     0.24002,     0.24068,     0.24171,     0.24438,      0.2454,     0.24786,     0.24928,     0.25058,     0.24935,        0.25,     0.25172,     0.25225,     0.25277,      0.2534,     0.25489,     0.25167,\n",
              "            0.25224,     0.25282,     0.25353,     0.25567,     0.25855,     0.25903,     0.25951,        0.26,     0.26185,     0.26304,     0.26564,      0.2677,       0.269,     0.27225,     0.27577,     0.27804,     0.27988,     0.28299,     0.28485,     0.28585,     0.28616,     0.28646,     0.28676,\n",
              "            0.28707,     0.28737,     0.28767,     0.28503,     0.28698,     0.28858,     0.28954,     0.29021,     0.29089,     0.29227,       0.295,     0.29669,     0.29778,     0.30161,     0.30354,     0.30397,     0.30441,     0.30485,     0.30529,     0.30572,     0.30694,     0.30467,     0.30307,\n",
              "            0.30568,     0.30642,     0.30716,     0.30966,     0.31387,     0.31512,     0.31646,     0.31789,     0.31878,     0.31916,     0.31955,     0.31993,     0.32031,     0.32069,     0.32108,     0.32189,     0.32744,     0.32908,     0.33096,     0.33339,     0.33437,     0.33535,     0.33633,\n",
              "            0.33849,     0.33563,     0.33374,     0.33576,     0.33691,     0.33752,     0.33813,     0.33874,     0.33935,     0.34018,      0.3417,     0.34328,     0.34607,     0.34917,     0.35102,      0.3524,     0.35294,     0.34956,     0.34711,     0.34788,     0.34866,     0.34943,      0.3502,\n",
              "            0.35437,     0.35497,     0.35557,     0.35617,     0.35677,     0.35737,     0.35921,     0.36332,     0.36545,     0.36812,     0.37112,     0.37405,     0.37575,     0.37745,     0.37657,     0.38032,     0.38556,     0.38902,     0.39024,     0.39146,     0.39268,     0.39401,     0.39534,\n",
              "            0.39668,     0.39797,     0.39914,     0.40031,     0.40148,      0.4027,     0.40421,     0.40572,     0.40723,     0.40853,     0.40979,     0.41106,     0.41232,     0.41417,     0.41612,     0.41927,      0.4254,      0.4282,     0.42653,     0.42486,      0.4232,     0.42153,     0.42211,\n",
              "             0.4236,     0.42508,     0.42657,     0.43157,     0.42863,     0.42569,     0.42621,     0.42552,     0.42929,      0.4315,     0.43372,     0.43705,     0.44134,     0.44434,     0.44734,     0.44936,     0.45121,     0.45306,     0.45559,     0.46081,     0.46421,     0.46733,     0.47151,\n",
              "            0.47625,     0.47704,     0.47783,     0.47861,      0.4794,     0.48019,     0.48098,     0.48176,     0.48255,     0.48334,     0.48738,     0.49486,     0.49242,     0.49387,     0.49531,     0.49676,     0.49821,     0.49966,     0.49829,     0.49604,     0.49379,     0.49154,     0.49467,\n",
              "            0.49866,     0.51016,     0.51177,     0.51338,     0.51499,      0.5166,     0.51822,     0.52317,     0.52812,     0.52635,     0.52457,      0.5228,     0.52103,     0.51926,     0.51733,      0.5154,     0.51347,     0.51153,     0.50995,     0.51134,     0.51274,     0.51413,     0.51552,\n",
              "            0.51692,     0.51831,      0.5197,     0.52343,     0.52778,     0.53118,      0.5328,     0.53441,     0.53603,     0.53765,     0.53927,     0.54089,     0.54658,     0.55443,     0.55853,     0.56264,     0.56623,     0.56894,     0.57165,     0.57436,     0.57707,     0.57741,     0.57691,\n",
              "            0.57641,     0.57592,     0.57542,     0.57492,     0.57442,     0.57392,     0.57343,     0.57293,     0.57243,     0.57193,     0.57143,     0.57094,     0.57044,     0.56994,     0.56944,     0.56894,     0.56844,     0.56721,     0.56515,     0.56309,     0.56103,     0.55898,     0.55949,\n",
              "            0.56176,     0.56403,      0.5663,     0.56857,     0.57084,      0.5669,     0.56084,     0.55675,     0.55266,     0.55017,     0.55067,     0.55116,     0.55166,     0.55215,     0.55264,     0.55314,     0.55363,     0.55413,     0.55462,     0.55512,     0.55561,      0.5561,      0.5566,\n",
              "            0.55709,     0.55759,     0.55808,     0.55857,     0.55907,     0.55956,     0.56006,     0.56055,     0.56105,     0.56154,     0.56203,     0.56253,     0.56302,     0.56352,     0.56401,     0.56791,      0.5726,     0.57728,     0.57955,     0.58048,     0.58141,     0.58234,     0.58326,\n",
              "            0.58419,     0.58512,     0.58605,     0.58698,     0.58791,     0.58884,     0.58977,      0.5907,     0.59163,     0.59256,     0.59349,     0.59442,     0.59414,     0.59357,     0.59301,     0.59245,     0.59188,     0.59132,     0.59076,     0.59019,     0.58963,     0.58907,     0.58851,\n",
              "            0.58794,     0.58738,     0.58682,     0.58625,     0.58569,     0.58513,     0.58456,       0.584,     0.58344,      0.5822,      0.5808,     0.57941,     0.57801,     0.57662,     0.57522,     0.57383,     0.57243,     0.57263,     0.57694,     0.58124,     0.58555,     0.59741,     0.60661,\n",
              "            0.60746,     0.60832,     0.60917,     0.61002,     0.61088,     0.61173,     0.61258,     0.61344,     0.61429,     0.61514,       0.616,     0.61685,      0.6177,     0.61856,     0.61941,     0.62026,     0.62112,     0.62197,     0.62282,     0.62368,     0.62453,     0.62633,     0.62928,\n",
              "            0.63223,     0.63519,     0.63814,     0.64109,     0.64404,     0.64409,     0.64235,     0.64062,     0.63889,     0.63716,     0.63543,     0.63369,     0.63414,     0.63516,     0.63617,     0.63719,     0.63821,     0.63923,     0.64024,     0.64126,     0.64228,      0.6433,     0.64431,\n",
              "            0.64533,     0.64635,     0.64737,     0.64838,      0.6494,     0.65042,     0.65144,     0.65245,     0.65347,     0.65449,     0.66307,     0.67948,     0.68206,     0.68463,     0.68721,     0.68979,     0.69236,     0.69494,     0.69751,     0.70009,     0.70267,     0.70342,     0.70296,\n",
              "            0.70249,     0.70202,     0.70156,     0.70109,     0.70062,     0.70015,     0.69969,     0.69922,     0.69875,     0.69828,     0.69782,     0.69735,     0.69688,     0.69642,     0.69595,     0.69548,     0.69501,     0.69455,     0.69408,     0.69361,     0.69314,     0.69268,     0.69193,\n",
              "            0.69013,     0.68833,     0.68653,     0.68472,     0.68292,     0.68112,     0.67935,     0.67764,     0.67594,     0.67423,     0.67252,     0.67081,      0.6691,     0.66739,     0.66638,     0.66587,     0.66537,     0.66487,     0.66436,     0.66386,     0.66336,     0.66285,     0.66235,\n",
              "            0.66185,     0.66134,     0.66084,     0.66033,     0.65983,     0.65933,     0.65882,     0.65832,     0.65782,     0.65731,     0.65681,     0.65631,      0.6558,      0.6553,      0.6548,     0.65429,     0.65379,     0.65328,     0.65278,     0.65228,       0.657,     0.66308,     0.66916,\n",
              "            0.67523,     0.68131,     0.69707,     0.71371,     0.71343,     0.71254,     0.71165,     0.71077,     0.70988,     0.70899,      0.7081,     0.70722,     0.70633,     0.70544,     0.70455,     0.70367,     0.70278,     0.70189,       0.701,     0.70012,     0.70345,     0.70743,      0.7114,\n",
              "            0.71538,     0.71935,     0.72333,      0.7273,     0.73128,     0.73525,     0.72785,     0.72585,     0.73165,     0.73746,     0.74327,     0.74907,     0.75488,     0.76069,     0.76399,     0.76167,     0.75935,     0.75704,     0.75472,      0.7524,     0.75008,     0.75117,     0.75237,\n",
              "            0.75358,     0.75478,     0.75599,     0.75719,      0.7584,     0.75961,     0.76081,     0.76202,     0.76322,     0.76443,     0.76564,     0.76684,     0.76805,     0.76925,     0.77046,     0.77167,     0.77287,     0.77408,     0.77528,     0.77649,      0.7777,      0.7789,     0.78011,\n",
              "            0.78131,     0.78252,     0.78372,     0.78493,     0.78614,     0.78734,     0.78855,     0.78975,     0.79096,     0.79217,     0.79337,     0.79458,     0.79578,     0.79699,      0.7982,      0.7994,     0.79908,     0.79725,     0.79542,     0.79359,     0.79176,     0.78993,      0.7881,\n",
              "            0.78626,     0.77981,     0.77136,     0.74913,     0.74581,     0.74248,     0.73915,     0.73582,     0.73249,     0.72917,     0.73442,     0.75098,     0.76755,     0.78411,     0.79997,     0.79928,     0.79859,      0.7979,     0.79721,     0.79652,     0.79583,     0.79514,     0.79445,\n",
              "            0.79376,     0.79307,     0.79238,     0.79169,       0.791,     0.79031,     0.78962,     0.78893,     0.78824,     0.78755,     0.78686,     0.78617,     0.78548,     0.78479,      0.7841,     0.78341,     0.78272,     0.78203,     0.78133,     0.78064,     0.77995,     0.77926,     0.77857,\n",
              "            0.77788,      0.7751,     0.77194,     0.76877,     0.76561,     0.76244,     0.75928,     0.75612,     0.75295,     0.74838,     0.72397,     0.71211,     0.70849,     0.70487,     0.70126,     0.69764,     0.69403,     0.69041,      0.6868,     0.68318,     0.67956,     0.67595,     0.67233,\n",
              "            0.66872,     0.66371,     0.65688,     0.65004,     0.64321,     0.63638,     0.62954,     0.62271,     0.61588,     0.60904,     0.60221,     0.74927,     0.74538,      0.7415,     0.73762,     0.73374,     0.72985,     0.72597,     0.72209,      0.7182,     0.71432,     0.71044,     0.70656,\n",
              "            0.70267,     0.69879,     0.69491,     0.69103,     0.68714,     0.68326,     0.67938,      0.6755,     0.67161,     0.66773,     0.69029,     0.72283,     0.75537,     0.78791,     0.82046,       0.853,     0.88554,     0.91808,     0.95062,     0.98316,           1,           1,           1,\n",
              "                  1,           1,           1,           1,           1,           1,           1,           1,           1,           1,           1,           1,           1,           1,           1,           1,           1,           1,           1,           1,           1,           1,           1,\n",
              "                  1,           1,           1,           1,           1,           1,           1,           1,           1,           1,           1,           1,           1,           1,           1,           1,           1,           1,           1,           1,           1,           1,           1,\n",
              "                  1,           1,           1,           1,           1,           1,           1,           1,           1,           1,           1,           1,           1,           1,           1,           1,           1,           1,           1,           1,           1,           1,           1,\n",
              "                  1,           1,           1,           1,           1,           1,           1,           1,           1,           1,           1,           1,           1,           1,           1,           1,           1,           1,           1,           1,           1,           1,           1,\n",
              "                  1,           1,           1,           1,           1,           1,           1,           1,           1,           1,           1,           1,           1,           1,           1,           1,           1,           1,           1,           1,           1,           1,           1,\n",
              "                  1,           1,           1,           1,           1,           1,           1,           1,           1,           1,           1,           1,           1,           1,           1,           1,           1,           1,           1,           1,           1,           1,           1,\n",
              "                  1,           1,           1,           1,           1,           1,           1,           1,           1,           1,           1,           1,           1,           1,           1,           1,           1,           1,           1,           1,           1,           1,           1,\n",
              "                  1,           1,           1,           1,           1,           1,           1,           1,           1,           1,           1,           1,           1,           1,           1,           1,           1,           1,           1,           1,           1,           1,           1,\n",
              "                  1,           1,           1,           1,           1,           1,           1,           1,           1,           1,           1,           1,           1,           1,           1,           1,           1,           1,           1,           1,           1,           1,           1,\n",
              "                  1,           1,           1,           1,           1,           1,           1,           1,           1,           1,           1]]), 'Confidence', 'Precision'], [array([          0,    0.001001,    0.002002,    0.003003,    0.004004,    0.005005,    0.006006,    0.007007,    0.008008,    0.009009,     0.01001,    0.011011,    0.012012,    0.013013,    0.014014,    0.015015,    0.016016,    0.017017,    0.018018,    0.019019,     0.02002,    0.021021,    0.022022,    0.023023,\n",
              "          0.024024,    0.025025,    0.026026,    0.027027,    0.028028,    0.029029,     0.03003,    0.031031,    0.032032,    0.033033,    0.034034,    0.035035,    0.036036,    0.037037,    0.038038,    0.039039,     0.04004,    0.041041,    0.042042,    0.043043,    0.044044,    0.045045,    0.046046,    0.047047,\n",
              "          0.048048,    0.049049,     0.05005,    0.051051,    0.052052,    0.053053,    0.054054,    0.055055,    0.056056,    0.057057,    0.058058,    0.059059,     0.06006,    0.061061,    0.062062,    0.063063,    0.064064,    0.065065,    0.066066,    0.067067,    0.068068,    0.069069,     0.07007,    0.071071,\n",
              "          0.072072,    0.073073,    0.074074,    0.075075,    0.076076,    0.077077,    0.078078,    0.079079,     0.08008,    0.081081,    0.082082,    0.083083,    0.084084,    0.085085,    0.086086,    0.087087,    0.088088,    0.089089,     0.09009,    0.091091,    0.092092,    0.093093,    0.094094,    0.095095,\n",
              "          0.096096,    0.097097,    0.098098,    0.099099,      0.1001,      0.1011,      0.1021,      0.1031,      0.1041,     0.10511,     0.10611,     0.10711,     0.10811,     0.10911,     0.11011,     0.11111,     0.11211,     0.11311,     0.11411,     0.11512,     0.11612,     0.11712,     0.11812,     0.11912,\n",
              "           0.12012,     0.12112,     0.12212,     0.12312,     0.12412,     0.12513,     0.12613,     0.12713,     0.12813,     0.12913,     0.13013,     0.13113,     0.13213,     0.13313,     0.13413,     0.13514,     0.13614,     0.13714,     0.13814,     0.13914,     0.14014,     0.14114,     0.14214,     0.14314,\n",
              "           0.14414,     0.14515,     0.14615,     0.14715,     0.14815,     0.14915,     0.15015,     0.15115,     0.15215,     0.15315,     0.15415,     0.15516,     0.15616,     0.15716,     0.15816,     0.15916,     0.16016,     0.16116,     0.16216,     0.16316,     0.16416,     0.16517,     0.16617,     0.16717,\n",
              "           0.16817,     0.16917,     0.17017,     0.17117,     0.17217,     0.17317,     0.17417,     0.17518,     0.17618,     0.17718,     0.17818,     0.17918,     0.18018,     0.18118,     0.18218,     0.18318,     0.18418,     0.18519,     0.18619,     0.18719,     0.18819,     0.18919,     0.19019,     0.19119,\n",
              "           0.19219,     0.19319,     0.19419,      0.1952,      0.1962,      0.1972,      0.1982,      0.1992,      0.2002,      0.2012,      0.2022,      0.2032,      0.2042,     0.20521,     0.20621,     0.20721,     0.20821,     0.20921,     0.21021,     0.21121,     0.21221,     0.21321,     0.21421,     0.21522,\n",
              "           0.21622,     0.21722,     0.21822,     0.21922,     0.22022,     0.22122,     0.22222,     0.22322,     0.22422,     0.22523,     0.22623,     0.22723,     0.22823,     0.22923,     0.23023,     0.23123,     0.23223,     0.23323,     0.23423,     0.23524,     0.23624,     0.23724,     0.23824,     0.23924,\n",
              "           0.24024,     0.24124,     0.24224,     0.24324,     0.24424,     0.24525,     0.24625,     0.24725,     0.24825,     0.24925,     0.25025,     0.25125,     0.25225,     0.25325,     0.25425,     0.25526,     0.25626,     0.25726,     0.25826,     0.25926,     0.26026,     0.26126,     0.26226,     0.26326,\n",
              "           0.26426,     0.26527,     0.26627,     0.26727,     0.26827,     0.26927,     0.27027,     0.27127,     0.27227,     0.27327,     0.27427,     0.27528,     0.27628,     0.27728,     0.27828,     0.27928,     0.28028,     0.28128,     0.28228,     0.28328,     0.28428,     0.28529,     0.28629,     0.28729,\n",
              "           0.28829,     0.28929,     0.29029,     0.29129,     0.29229,     0.29329,     0.29429,      0.2953,      0.2963,      0.2973,      0.2983,      0.2993,      0.3003,      0.3013,      0.3023,      0.3033,      0.3043,     0.30531,     0.30631,     0.30731,     0.30831,     0.30931,     0.31031,     0.31131,\n",
              "           0.31231,     0.31331,     0.31431,     0.31532,     0.31632,     0.31732,     0.31832,     0.31932,     0.32032,     0.32132,     0.32232,     0.32332,     0.32432,     0.32533,     0.32633,     0.32733,     0.32833,     0.32933,     0.33033,     0.33133,     0.33233,     0.33333,     0.33433,     0.33534,\n",
              "           0.33634,     0.33734,     0.33834,     0.33934,     0.34034,     0.34134,     0.34234,     0.34334,     0.34434,     0.34535,     0.34635,     0.34735,     0.34835,     0.34935,     0.35035,     0.35135,     0.35235,     0.35335,     0.35435,     0.35536,     0.35636,     0.35736,     0.35836,     0.35936,\n",
              "           0.36036,     0.36136,     0.36236,     0.36336,     0.36436,     0.36537,     0.36637,     0.36737,     0.36837,     0.36937,     0.37037,     0.37137,     0.37237,     0.37337,     0.37437,     0.37538,     0.37638,     0.37738,     0.37838,     0.37938,     0.38038,     0.38138,     0.38238,     0.38338,\n",
              "           0.38438,     0.38539,     0.38639,     0.38739,     0.38839,     0.38939,     0.39039,     0.39139,     0.39239,     0.39339,     0.39439,      0.3954,      0.3964,      0.3974,      0.3984,      0.3994,      0.4004,      0.4014,      0.4024,      0.4034,      0.4044,     0.40541,     0.40641,     0.40741,\n",
              "           0.40841,     0.40941,     0.41041,     0.41141,     0.41241,     0.41341,     0.41441,     0.41542,     0.41642,     0.41742,     0.41842,     0.41942,     0.42042,     0.42142,     0.42242,     0.42342,     0.42442,     0.42543,     0.42643,     0.42743,     0.42843,     0.42943,     0.43043,     0.43143,\n",
              "           0.43243,     0.43343,     0.43443,     0.43544,     0.43644,     0.43744,     0.43844,     0.43944,     0.44044,     0.44144,     0.44244,     0.44344,     0.44444,     0.44545,     0.44645,     0.44745,     0.44845,     0.44945,     0.45045,     0.45145,     0.45245,     0.45345,     0.45445,     0.45546,\n",
              "           0.45646,     0.45746,     0.45846,     0.45946,     0.46046,     0.46146,     0.46246,     0.46346,     0.46446,     0.46547,     0.46647,     0.46747,     0.46847,     0.46947,     0.47047,     0.47147,     0.47247,     0.47347,     0.47447,     0.47548,     0.47648,     0.47748,     0.47848,     0.47948,\n",
              "           0.48048,     0.48148,     0.48248,     0.48348,     0.48448,     0.48549,     0.48649,     0.48749,     0.48849,     0.48949,     0.49049,     0.49149,     0.49249,     0.49349,     0.49449,      0.4955,      0.4965,      0.4975,      0.4985,      0.4995,      0.5005,      0.5015,      0.5025,      0.5035,\n",
              "            0.5045,     0.50551,     0.50651,     0.50751,     0.50851,     0.50951,     0.51051,     0.51151,     0.51251,     0.51351,     0.51451,     0.51552,     0.51652,     0.51752,     0.51852,     0.51952,     0.52052,     0.52152,     0.52252,     0.52352,     0.52452,     0.52553,     0.52653,     0.52753,\n",
              "           0.52853,     0.52953,     0.53053,     0.53153,     0.53253,     0.53353,     0.53453,     0.53554,     0.53654,     0.53754,     0.53854,     0.53954,     0.54054,     0.54154,     0.54254,     0.54354,     0.54454,     0.54555,     0.54655,     0.54755,     0.54855,     0.54955,     0.55055,     0.55155,\n",
              "           0.55255,     0.55355,     0.55455,     0.55556,     0.55656,     0.55756,     0.55856,     0.55956,     0.56056,     0.56156,     0.56256,     0.56356,     0.56456,     0.56557,     0.56657,     0.56757,     0.56857,     0.56957,     0.57057,     0.57157,     0.57257,     0.57357,     0.57457,     0.57558,\n",
              "           0.57658,     0.57758,     0.57858,     0.57958,     0.58058,     0.58158,     0.58258,     0.58358,     0.58458,     0.58559,     0.58659,     0.58759,     0.58859,     0.58959,     0.59059,     0.59159,     0.59259,     0.59359,     0.59459,      0.5956,      0.5966,      0.5976,      0.5986,      0.5996,\n",
              "            0.6006,      0.6016,      0.6026,      0.6036,      0.6046,     0.60561,     0.60661,     0.60761,     0.60861,     0.60961,     0.61061,     0.61161,     0.61261,     0.61361,     0.61461,     0.61562,     0.61662,     0.61762,     0.61862,     0.61962,     0.62062,     0.62162,     0.62262,     0.62362,\n",
              "           0.62462,     0.62563,     0.62663,     0.62763,     0.62863,     0.62963,     0.63063,     0.63163,     0.63263,     0.63363,     0.63463,     0.63564,     0.63664,     0.63764,     0.63864,     0.63964,     0.64064,     0.64164,     0.64264,     0.64364,     0.64464,     0.64565,     0.64665,     0.64765,\n",
              "           0.64865,     0.64965,     0.65065,     0.65165,     0.65265,     0.65365,     0.65465,     0.65566,     0.65666,     0.65766,     0.65866,     0.65966,     0.66066,     0.66166,     0.66266,     0.66366,     0.66466,     0.66567,     0.66667,     0.66767,     0.66867,     0.66967,     0.67067,     0.67167,\n",
              "           0.67267,     0.67367,     0.67467,     0.67568,     0.67668,     0.67768,     0.67868,     0.67968,     0.68068,     0.68168,     0.68268,     0.68368,     0.68468,     0.68569,     0.68669,     0.68769,     0.68869,     0.68969,     0.69069,     0.69169,     0.69269,     0.69369,     0.69469,      0.6957,\n",
              "            0.6967,      0.6977,      0.6987,      0.6997,      0.7007,      0.7017,      0.7027,      0.7037,      0.7047,     0.70571,     0.70671,     0.70771,     0.70871,     0.70971,     0.71071,     0.71171,     0.71271,     0.71371,     0.71471,     0.71572,     0.71672,     0.71772,     0.71872,     0.71972,\n",
              "           0.72072,     0.72172,     0.72272,     0.72372,     0.72472,     0.72573,     0.72673,     0.72773,     0.72873,     0.72973,     0.73073,     0.73173,     0.73273,     0.73373,     0.73473,     0.73574,     0.73674,     0.73774,     0.73874,     0.73974,     0.74074,     0.74174,     0.74274,     0.74374,\n",
              "           0.74474,     0.74575,     0.74675,     0.74775,     0.74875,     0.74975,     0.75075,     0.75175,     0.75275,     0.75375,     0.75475,     0.75576,     0.75676,     0.75776,     0.75876,     0.75976,     0.76076,     0.76176,     0.76276,     0.76376,     0.76476,     0.76577,     0.76677,     0.76777,\n",
              "           0.76877,     0.76977,     0.77077,     0.77177,     0.77277,     0.77377,     0.77477,     0.77578,     0.77678,     0.77778,     0.77878,     0.77978,     0.78078,     0.78178,     0.78278,     0.78378,     0.78478,     0.78579,     0.78679,     0.78779,     0.78879,     0.78979,     0.79079,     0.79179,\n",
              "           0.79279,     0.79379,     0.79479,      0.7958,      0.7968,      0.7978,      0.7988,      0.7998,      0.8008,      0.8018,      0.8028,      0.8038,      0.8048,     0.80581,     0.80681,     0.80781,     0.80881,     0.80981,     0.81081,     0.81181,     0.81281,     0.81381,     0.81481,     0.81582,\n",
              "           0.81682,     0.81782,     0.81882,     0.81982,     0.82082,     0.82182,     0.82282,     0.82382,     0.82482,     0.82583,     0.82683,     0.82783,     0.82883,     0.82983,     0.83083,     0.83183,     0.83283,     0.83383,     0.83483,     0.83584,     0.83684,     0.83784,     0.83884,     0.83984,\n",
              "           0.84084,     0.84184,     0.84284,     0.84384,     0.84484,     0.84585,     0.84685,     0.84785,     0.84885,     0.84985,     0.85085,     0.85185,     0.85285,     0.85385,     0.85485,     0.85586,     0.85686,     0.85786,     0.85886,     0.85986,     0.86086,     0.86186,     0.86286,     0.86386,\n",
              "           0.86486,     0.86587,     0.86687,     0.86787,     0.86887,     0.86987,     0.87087,     0.87187,     0.87287,     0.87387,     0.87487,     0.87588,     0.87688,     0.87788,     0.87888,     0.87988,     0.88088,     0.88188,     0.88288,     0.88388,     0.88488,     0.88589,     0.88689,     0.88789,\n",
              "           0.88889,     0.88989,     0.89089,     0.89189,     0.89289,     0.89389,     0.89489,      0.8959,      0.8969,      0.8979,      0.8989,      0.8999,      0.9009,      0.9019,      0.9029,      0.9039,      0.9049,     0.90591,     0.90691,     0.90791,     0.90891,     0.90991,     0.91091,     0.91191,\n",
              "           0.91291,     0.91391,     0.91491,     0.91592,     0.91692,     0.91792,     0.91892,     0.91992,     0.92092,     0.92192,     0.92292,     0.92392,     0.92492,     0.92593,     0.92693,     0.92793,     0.92893,     0.92993,     0.93093,     0.93193,     0.93293,     0.93393,     0.93493,     0.93594,\n",
              "           0.93694,     0.93794,     0.93894,     0.93994,     0.94094,     0.94194,     0.94294,     0.94394,     0.94494,     0.94595,     0.94695,     0.94795,     0.94895,     0.94995,     0.95095,     0.95195,     0.95295,     0.95395,     0.95495,     0.95596,     0.95696,     0.95796,     0.95896,     0.95996,\n",
              "           0.96096,     0.96196,     0.96296,     0.96396,     0.96496,     0.96597,     0.96697,     0.96797,     0.96897,     0.96997,     0.97097,     0.97197,     0.97297,     0.97397,     0.97497,     0.97598,     0.97698,     0.97798,     0.97898,     0.97998,     0.98098,     0.98198,     0.98298,     0.98398,\n",
              "           0.98498,     0.98599,     0.98699,     0.98799,     0.98899,     0.98999,     0.99099,     0.99199,     0.99299,     0.99399,     0.99499,       0.996,       0.997,       0.998,       0.999,           1]), array([[     0.7619,      0.7619,     0.72619,     0.70238,     0.66667,     0.65476,     0.64286,     0.63095,     0.63095,     0.63095,     0.63095,     0.63095,     0.63095,     0.63095,     0.61905,     0.61905,     0.60714,     0.59524,     0.59524,     0.59524,     0.58333,     0.58333,     0.57143,\n",
              "            0.57143,     0.57143,     0.57143,     0.57143,     0.57143,     0.57143,     0.57143,     0.57143,     0.55952,     0.55952,     0.54762,     0.54762,     0.54762,     0.53571,     0.53571,     0.53571,     0.53571,     0.53571,     0.53571,     0.52381,     0.52381,     0.52314,     0.50348,\n",
              "                0.5,         0.5,         0.5,         0.5,         0.5,         0.5,         0.5,         0.5,         0.5,      0.4881,      0.4881,      0.4881,      0.4881,      0.4881,      0.4881,     0.47619,     0.47619,     0.47619,     0.47619,     0.47619,     0.47619,     0.47619,     0.47619,\n",
              "            0.47619,     0.47619,     0.47619,     0.47619,     0.47619,     0.47619,     0.47619,     0.47619,     0.47619,     0.47619,     0.47619,     0.47619,     0.47619,     0.47619,     0.47619,      0.4706,     0.46429,     0.46429,     0.46429,     0.46429,     0.46429,     0.46426,     0.45238,\n",
              "            0.45238,     0.45238,     0.45238,     0.45238,     0.45238,     0.45238,     0.45238,     0.45238,     0.45238,     0.45238,     0.45238,     0.45238,     0.45238,     0.45238,     0.45238,     0.45238,     0.45238,     0.45238,     0.45238,     0.45238,     0.45238,     0.45238,     0.45238,\n",
              "            0.45238,     0.45238,     0.45238,     0.44613,     0.44048,     0.44048,     0.44048,     0.44048,     0.44048,     0.44048,     0.44048,     0.44048,     0.44048,     0.44048,     0.44048,     0.44048,     0.44048,     0.44048,     0.44048,     0.44048,     0.43763,     0.43298,     0.42857,\n",
              "            0.42857,     0.42857,     0.42857,     0.42857,     0.42857,     0.42857,     0.42857,     0.42857,     0.42857,     0.42857,     0.42857,     0.42857,     0.42857,     0.42857,     0.42857,     0.42857,     0.42857,     0.42857,     0.42857,     0.42857,     0.42857,     0.42857,     0.42857,\n",
              "            0.42643,     0.42101,     0.41667,     0.41667,     0.41667,     0.41667,     0.41667,     0.41667,     0.41667,     0.41667,     0.41667,     0.41667,     0.41667,     0.41667,     0.41667,     0.41667,      0.4156,      0.4095,     0.40476,     0.40476,     0.40476,     0.40476,     0.40476,\n",
              "            0.40476,     0.40476,     0.40476,     0.40476,     0.40476,     0.40476,     0.40476,     0.40476,     0.40476,     0.40476,     0.40476,     0.40476,     0.40476,     0.40476,     0.39286,     0.39286,     0.39286,     0.39286,     0.39286,     0.39286,     0.39286,     0.39286,     0.39286,\n",
              "            0.39286,     0.39286,     0.39286,     0.39286,     0.39286,     0.39286,     0.39286,     0.39286,     0.39286,     0.39286,     0.39286,     0.39286,     0.39286,     0.39286,     0.39286,     0.39286,     0.39286,     0.39226,     0.38963,     0.38699,     0.38435,     0.38171,     0.38095,\n",
              "            0.38095,     0.38095,     0.38095,     0.38095,     0.37513,     0.36905,      0.3626,     0.35714,     0.35714,     0.35714,     0.35714,     0.35714,     0.35714,     0.35714,     0.35714,     0.35714,     0.35714,     0.35714,     0.35714,     0.35714,     0.35714,     0.35714,     0.35714,\n",
              "            0.35714,     0.35714,     0.35714,     0.35714,     0.35714,     0.35714,     0.35714,     0.35714,     0.35714,     0.35714,     0.35714,     0.34992,     0.34524,     0.34524,     0.34524,     0.34524,     0.34524,     0.34524,     0.34291,     0.33986,     0.33681,     0.33376,     0.33333,\n",
              "            0.33333,     0.33333,     0.33333,     0.33333,     0.33333,     0.33333,     0.33333,     0.33333,     0.33309,     0.33077,     0.32844,     0.32612,     0.32379,     0.32147,     0.31903,     0.31659,     0.31415,     0.31171,     0.30952,     0.30952,     0.30952,     0.30952,     0.30952,\n",
              "            0.30952,     0.30952,     0.30952,     0.30952,     0.30952,     0.30952,     0.30952,     0.30952,     0.30952,     0.30952,     0.30952,     0.30952,     0.30952,     0.30952,     0.30952,     0.30952,     0.30952,     0.30952,     0.30952,     0.30952,     0.30952,     0.30907,     0.30845,\n",
              "            0.30783,     0.30721,      0.3066,     0.30598,     0.30536,     0.30474,     0.30412,     0.30351,     0.30289,     0.30227,     0.30165,     0.30103,     0.30042,      0.2998,     0.29918,     0.29856,     0.29795,     0.29647,     0.29403,     0.29159,     0.28915,     0.28671,     0.28571,\n",
              "            0.28571,     0.28571,     0.28571,     0.28571,     0.28571,     0.28055,     0.27366,     0.26923,     0.26479,      0.2619,      0.2619,      0.2619,      0.2619,      0.2619,      0.2619,      0.2619,      0.2619,      0.2619,      0.2619,      0.2619,      0.2619,      0.2619,      0.2619,\n",
              "             0.2619,      0.2619,      0.2619,      0.2619,      0.2619,      0.2619,      0.2619,      0.2619,      0.2619,      0.2619,      0.2619,      0.2619,      0.2619,      0.2619,      0.2619,      0.2619,      0.2619,      0.2619,      0.2619,      0.2619,      0.2619,      0.2619,      0.2619,\n",
              "             0.2619,      0.2619,      0.2619,      0.2619,      0.2619,      0.2619,      0.2619,      0.2619,      0.2619,      0.2619,      0.2619,      0.2619,     0.26142,     0.26082,     0.26023,     0.25963,     0.25904,     0.25844,     0.25785,     0.25725,     0.25666,     0.25606,     0.25547,\n",
              "            0.25487,     0.25428,     0.25368,     0.25309,     0.25249,      0.2519,      0.2513,     0.25071,     0.25011,     0.24886,     0.24747,     0.24607,     0.24468,     0.24328,     0.24189,      0.2405,      0.2391,      0.2381,      0.2381,      0.2381,      0.2381,      0.2381,      0.2381,\n",
              "             0.2381,      0.2381,      0.2381,      0.2381,      0.2381,      0.2381,      0.2381,      0.2381,      0.2381,      0.2381,      0.2381,      0.2381,      0.2381,      0.2381,      0.2381,      0.2381,      0.2381,      0.2381,      0.2381,      0.2381,      0.2381,      0.2381,      0.2381,\n",
              "             0.2381,      0.2381,      0.2381,      0.2381,      0.2381,     0.23701,     0.23527,     0.23353,     0.23178,     0.23004,      0.2283,     0.22655,     0.22619,     0.22619,     0.22619,     0.22619,     0.22619,     0.22619,     0.22619,     0.22619,     0.22619,     0.22619,     0.22619,\n",
              "            0.22619,     0.22619,     0.22619,     0.22619,     0.22619,     0.22619,     0.22619,     0.22619,     0.22619,     0.22619,     0.22619,     0.22619,     0.22619,     0.22619,     0.22619,     0.22619,     0.22619,     0.22619,     0.22619,     0.22619,     0.22619,      0.2259,     0.22541,\n",
              "            0.22492,     0.22443,     0.22395,     0.22346,     0.22297,     0.22248,     0.22199,     0.22151,     0.22102,     0.22053,     0.22004,     0.21955,     0.21907,     0.21858,     0.21809,      0.2176,     0.21711,     0.21662,     0.21614,     0.21565,     0.21516,     0.21467,     0.21392,\n",
              "            0.21218,     0.21044,     0.20869,     0.20695,     0.20521,     0.20346,      0.2018,     0.20028,     0.19875,     0.19723,      0.1957,     0.19418,     0.19265,     0.19113,     0.19024,     0.18983,     0.18941,       0.189,     0.18858,     0.18817,     0.18776,     0.18734,     0.18693,\n",
              "            0.18652,      0.1861,     0.18569,     0.18527,     0.18486,     0.18445,     0.18403,     0.18362,     0.18321,     0.18279,     0.18238,     0.18197,     0.18155,     0.18114,     0.18072,     0.18031,      0.1799,     0.17948,     0.17907,     0.17866,     0.17857,     0.17857,     0.17857,\n",
              "            0.17857,     0.17857,     0.17857,     0.17857,     0.17786,     0.17712,     0.17638,     0.17564,      0.1749,     0.17416,     0.17342,     0.17268,     0.17194,      0.1712,     0.17046,     0.16972,     0.16898,     0.16824,      0.1675,     0.16676,     0.16667,     0.16667,     0.16667,\n",
              "            0.16667,     0.16667,     0.16667,     0.16667,     0.16667,     0.16667,     0.15934,     0.15476,     0.15476,     0.15476,     0.15476,     0.15476,     0.15476,     0.15476,     0.15418,     0.15231,     0.15043,     0.14855,     0.14668,      0.1448,     0.14292,     0.14286,     0.14286,\n",
              "            0.14286,     0.14286,     0.14286,     0.14286,     0.14286,     0.14286,     0.14286,     0.14286,     0.14286,     0.14286,     0.14286,     0.14286,     0.14286,     0.14286,     0.14286,     0.14286,     0.14286,     0.14286,     0.14286,     0.14286,     0.14286,     0.14286,     0.14286,\n",
              "            0.14286,     0.14286,     0.14286,     0.14286,     0.14286,     0.14286,     0.14286,     0.14286,     0.14286,     0.14286,     0.14286,     0.14286,     0.14286,     0.14286,     0.14286,     0.14286,     0.14209,     0.14056,     0.13904,     0.13751,     0.13599,     0.13446,     0.13294,\n",
              "            0.13141,     0.12669,     0.12058,     0.10669,     0.10495,      0.1032,     0.10146,    0.099716,    0.097973,     0.09623,    0.095238,    0.095238,    0.095238,    0.095238,    0.095223,    0.094853,    0.094483,    0.094114,    0.093744,    0.093374,    0.093004,    0.092634,    0.092265,\n",
              "           0.091895,    0.091525,    0.091155,    0.090786,    0.090416,    0.090046,    0.089676,    0.089306,    0.088937,    0.088567,    0.088197,    0.087827,    0.087458,    0.087088,    0.086718,    0.086348,    0.085978,    0.085609,    0.085239,    0.084869,    0.084499,     0.08413,     0.08376,\n",
              "            0.08339,    0.082185,     0.08083,    0.079474,    0.078118,    0.076762,    0.075406,     0.07405,    0.072694,    0.070888,    0.062753,    0.058979,    0.058075,    0.057171,    0.056267,    0.055363,    0.054459,    0.053555,    0.052651,    0.051748,    0.050844,     0.04994,    0.049036,\n",
              "           0.048132,    0.047091,    0.045871,    0.044651,     0.04343,     0.04221,     0.04099,     0.03977,    0.038549,    0.037329,    0.036109,    0.035609,    0.035055,      0.0345,    0.033945,    0.033391,    0.032836,    0.032281,    0.031727,    0.031172,    0.030617,    0.030063,    0.029508,\n",
              "           0.028953,    0.028399,    0.027844,    0.027289,    0.026735,     0.02618,    0.025625,    0.025071,    0.024516,    0.023961,     0.02381,     0.02381,     0.02381,     0.02381,     0.02381,     0.02381,     0.02381,     0.02381,     0.02381,     0.02381,           0,           0,           0,\n",
              "                  0,           0,           0,           0,           0,           0,           0,           0,           0,           0,           0,           0,           0,           0,           0,           0,           0,           0,           0,           0,           0,           0,           0,\n",
              "                  0,           0,           0,           0,           0,           0,           0,           0,           0,           0,           0,           0,           0,           0,           0,           0,           0,           0,           0,           0,           0,           0,           0,\n",
              "                  0,           0,           0,           0,           0,           0,           0,           0,           0,           0,           0,           0,           0,           0,           0,           0,           0,           0,           0,           0,           0,           0,           0,\n",
              "                  0,           0,           0,           0,           0,           0,           0,           0,           0,           0,           0,           0,           0,           0,           0,           0,           0,           0,           0,           0,           0,           0,           0,\n",
              "                  0,           0,           0,           0,           0,           0,           0,           0,           0,           0,           0,           0,           0,           0,           0,           0,           0,           0,           0,           0,           0,           0,           0,\n",
              "                  0,           0,           0,           0,           0,           0,           0,           0,           0,           0,           0,           0,           0,           0,           0,           0,           0,           0,           0,           0,           0,           0,           0,\n",
              "                  0,           0,           0,           0,           0,           0,           0,           0,           0,           0,           0,           0,           0,           0,           0,           0,           0,           0,           0,           0,           0,           0,           0,\n",
              "                  0,           0,           0,           0,           0,           0,           0,           0,           0,           0,           0,           0,           0,           0,           0,           0,           0,           0,           0,           0,           0,           0,           0,\n",
              "                  0,           0,           0,           0,           0,           0,           0,           0,           0,           0,           0,           0,           0,           0,           0,           0,           0,           0,           0,           0,           0,           0,           0,\n",
              "                  0,           0,           0,           0,           0,           0,           0,           0,           0,           0,           0]]), 'Confidence', 'Recall']]\n",
              "fitness: 0.1486574880333959\n",
              "keys: ['metrics/precision(B)', 'metrics/recall(B)', 'metrics/mAP50(B)', 'metrics/mAP50-95(B)']\n",
              "maps: array([    0.12884])\n",
              "names: {0: 'weapon'}\n",
              "plot: True\n",
              "results_dict: {'metrics/precision(B)': 0.44434030167129374, 'metrics/recall(B)': 0.35714285714285715, 'metrics/mAP50(B)': 0.32704685885613827, 'metrics/mAP50-95(B)': 0.12883644683086898, 'fitness': 0.1486574880333959}\n",
              "save_dir: WindowsPath('runs/detect/train14')\n",
              "speed: {'preprocess': 0.8883400005288422, 'inference': 9.38497600145638, 'loss': 0.009688001591712236, 'postprocess': 7.963793999515474}\n",
              "task: 'detect'"
            ]
          },
          "execution_count": 4,
          "metadata": {},
          "output_type": "execute_result"
        }
      ],
      "source": [
        "\n",
        "os.environ[\"KMP_DUPLICATE_LIB_OK\"] = \"TRUE\"\n",
        "# Train the model\n",
        "model.train(\n",
        "    data=r\"C:\\Users\\akram\\OneDrive\\Desktop\\saeed\\capstone\\weapon_detection\\data.yaml\",\n",
        "    epochs=50,\n",
        "    imgsz=640,\n",
        "    batch=8,\n",
        "    cache=False,\n",
        "    close_mosaic=0,\n",
        "    half=True\n",
        ")"
      ]
    },
    {
      "cell_type": "markdown",
      "id": "a59aec20-520d-481b-9980-fab39ad66663",
      "metadata": {
        "id": "a59aec20-520d-481b-9980-fab39ad66663"
      },
      "source": [
        "## Evaluate Model Performance\n",
        "\n",
        "Evaluates the trained YOLO model using validation data.\n",
        "\n",
        "- The `.val()` method returns performance metrics like:\n",
        "  - `precision`, `recall`, `mAP50`, `mAP50-95`\n",
        "- Helpful to assess model generalization to unseen data."
      ]
    },
    {
      "cell_type": "code",
      "execution_count": null,
      "id": "e99b3efa",
      "metadata": {
        "id": "e99b3efa",
        "outputId": "243318ce-0dca-49ac-9a86-8bd8fa9a24f0"
      },
      "outputs": [
        {
          "name": "stdout",
          "output_type": "stream",
          "text": [
            "Ultralytics 8.3.141  Python-3.10.16 torch-2.7.0+cu126 CUDA:0 (NVIDIA GeForce RTX 4060 Laptop GPU, 8188MiB)\n",
            "YOLOv5s summary (fused): 84 layers, 9,111,923 parameters, 0 gradients, 23.8 GFLOPs\n",
            "\u001b[34m\u001b[1mval: \u001b[0mFast image access  (ping: 0.10.0 ms, read: 636.6336.9 MB/s, size: 357.8 KB)\n"
          ]
        },
        {
          "name": "stderr",
          "output_type": "stream",
          "text": [
            "\u001b[34m\u001b[1mval: \u001b[0mScanning C:\\Users\\yalla\\Documents\\Anaconda\\capstone\\weapon-detect-yolo\\labels\\val.cache... 50 images, 0 background\u001b[0m\n",
            "                 Class     Images  Instances      Box(P          R      mAP50  mAP50-95): 100%|██████████| 7/7 [00:06<0\n"
          ]
        },
        {
          "name": "stdout",
          "output_type": "stream",
          "text": [
            "                   all         50         84      0.421      0.345      0.327      0.126\n",
            "Speed: 0.9ms preprocess, 35.1ms inference, 0.0ms loss, 3.5ms postprocess per image\n",
            "Results saved to \u001b[1mruns\\detect\\train142\u001b[0m\n",
            "ultralytics.utils.metrics.DetMetrics object with attributes:\n",
            "\n",
            "ap_class_index: array([0])\n",
            "box: ultralytics.utils.metrics.Metric object\n",
            "confusion_matrix: <ultralytics.utils.metrics.ConfusionMatrix object at 0x000001CB066A5BA0>\n",
            "curves: ['Precision-Recall(B)', 'F1-Confidence(B)', 'Precision-Confidence(B)', 'Recall-Confidence(B)']\n",
            "curves_results: [[array([          0,    0.001001,    0.002002,    0.003003,    0.004004,    0.005005,    0.006006,    0.007007,    0.008008,    0.009009,     0.01001,    0.011011,    0.012012,    0.013013,    0.014014,    0.015015,    0.016016,    0.017017,    0.018018,    0.019019,     0.02002,    0.021021,    0.022022,    0.023023,\n",
            "          0.024024,    0.025025,    0.026026,    0.027027,    0.028028,    0.029029,     0.03003,    0.031031,    0.032032,    0.033033,    0.034034,    0.035035,    0.036036,    0.037037,    0.038038,    0.039039,     0.04004,    0.041041,    0.042042,    0.043043,    0.044044,    0.045045,    0.046046,    0.047047,\n",
            "          0.048048,    0.049049,     0.05005,    0.051051,    0.052052,    0.053053,    0.054054,    0.055055,    0.056056,    0.057057,    0.058058,    0.059059,     0.06006,    0.061061,    0.062062,    0.063063,    0.064064,    0.065065,    0.066066,    0.067067,    0.068068,    0.069069,     0.07007,    0.071071,\n",
            "          0.072072,    0.073073,    0.074074,    0.075075,    0.076076,    0.077077,    0.078078,    0.079079,     0.08008,    0.081081,    0.082082,    0.083083,    0.084084,    0.085085,    0.086086,    0.087087,    0.088088,    0.089089,     0.09009,    0.091091,    0.092092,    0.093093,    0.094094,    0.095095,\n",
            "          0.096096,    0.097097,    0.098098,    0.099099,      0.1001,      0.1011,      0.1021,      0.1031,      0.1041,     0.10511,     0.10611,     0.10711,     0.10811,     0.10911,     0.11011,     0.11111,     0.11211,     0.11311,     0.11411,     0.11512,     0.11612,     0.11712,     0.11812,     0.11912,\n",
            "           0.12012,     0.12112,     0.12212,     0.12312,     0.12412,     0.12513,     0.12613,     0.12713,     0.12813,     0.12913,     0.13013,     0.13113,     0.13213,     0.13313,     0.13413,     0.13514,     0.13614,     0.13714,     0.13814,     0.13914,     0.14014,     0.14114,     0.14214,     0.14314,\n",
            "           0.14414,     0.14515,     0.14615,     0.14715,     0.14815,     0.14915,     0.15015,     0.15115,     0.15215,     0.15315,     0.15415,     0.15516,     0.15616,     0.15716,     0.15816,     0.15916,     0.16016,     0.16116,     0.16216,     0.16316,     0.16416,     0.16517,     0.16617,     0.16717,\n",
            "           0.16817,     0.16917,     0.17017,     0.17117,     0.17217,     0.17317,     0.17417,     0.17518,     0.17618,     0.17718,     0.17818,     0.17918,     0.18018,     0.18118,     0.18218,     0.18318,     0.18418,     0.18519,     0.18619,     0.18719,     0.18819,     0.18919,     0.19019,     0.19119,\n",
            "           0.19219,     0.19319,     0.19419,      0.1952,      0.1962,      0.1972,      0.1982,      0.1992,      0.2002,      0.2012,      0.2022,      0.2032,      0.2042,     0.20521,     0.20621,     0.20721,     0.20821,     0.20921,     0.21021,     0.21121,     0.21221,     0.21321,     0.21421,     0.21522,\n",
            "           0.21622,     0.21722,     0.21822,     0.21922,     0.22022,     0.22122,     0.22222,     0.22322,     0.22422,     0.22523,     0.22623,     0.22723,     0.22823,     0.22923,     0.23023,     0.23123,     0.23223,     0.23323,     0.23423,     0.23524,     0.23624,     0.23724,     0.23824,     0.23924,\n",
            "           0.24024,     0.24124,     0.24224,     0.24324,     0.24424,     0.24525,     0.24625,     0.24725,     0.24825,     0.24925,     0.25025,     0.25125,     0.25225,     0.25325,     0.25425,     0.25526,     0.25626,     0.25726,     0.25826,     0.25926,     0.26026,     0.26126,     0.26226,     0.26326,\n",
            "           0.26426,     0.26527,     0.26627,     0.26727,     0.26827,     0.26927,     0.27027,     0.27127,     0.27227,     0.27327,     0.27427,     0.27528,     0.27628,     0.27728,     0.27828,     0.27928,     0.28028,     0.28128,     0.28228,     0.28328,     0.28428,     0.28529,     0.28629,     0.28729,\n",
            "           0.28829,     0.28929,     0.29029,     0.29129,     0.29229,     0.29329,     0.29429,      0.2953,      0.2963,      0.2973,      0.2983,      0.2993,      0.3003,      0.3013,      0.3023,      0.3033,      0.3043,     0.30531,     0.30631,     0.30731,     0.30831,     0.30931,     0.31031,     0.31131,\n",
            "           0.31231,     0.31331,     0.31431,     0.31532,     0.31632,     0.31732,     0.31832,     0.31932,     0.32032,     0.32132,     0.32232,     0.32332,     0.32432,     0.32533,     0.32633,     0.32733,     0.32833,     0.32933,     0.33033,     0.33133,     0.33233,     0.33333,     0.33433,     0.33534,\n",
            "           0.33634,     0.33734,     0.33834,     0.33934,     0.34034,     0.34134,     0.34234,     0.34334,     0.34434,     0.34535,     0.34635,     0.34735,     0.34835,     0.34935,     0.35035,     0.35135,     0.35235,     0.35335,     0.35435,     0.35536,     0.35636,     0.35736,     0.35836,     0.35936,\n",
            "           0.36036,     0.36136,     0.36236,     0.36336,     0.36436,     0.36537,     0.36637,     0.36737,     0.36837,     0.36937,     0.37037,     0.37137,     0.37237,     0.37337,     0.37437,     0.37538,     0.37638,     0.37738,     0.37838,     0.37938,     0.38038,     0.38138,     0.38238,     0.38338,\n",
            "           0.38438,     0.38539,     0.38639,     0.38739,     0.38839,     0.38939,     0.39039,     0.39139,     0.39239,     0.39339,     0.39439,      0.3954,      0.3964,      0.3974,      0.3984,      0.3994,      0.4004,      0.4014,      0.4024,      0.4034,      0.4044,     0.40541,     0.40641,     0.40741,\n",
            "           0.40841,     0.40941,     0.41041,     0.41141,     0.41241,     0.41341,     0.41441,     0.41542,     0.41642,     0.41742,     0.41842,     0.41942,     0.42042,     0.42142,     0.42242,     0.42342,     0.42442,     0.42543,     0.42643,     0.42743,     0.42843,     0.42943,     0.43043,     0.43143,\n",
            "           0.43243,     0.43343,     0.43443,     0.43544,     0.43644,     0.43744,     0.43844,     0.43944,     0.44044,     0.44144,     0.44244,     0.44344,     0.44444,     0.44545,     0.44645,     0.44745,     0.44845,     0.44945,     0.45045,     0.45145,     0.45245,     0.45345,     0.45445,     0.45546,\n",
            "           0.45646,     0.45746,     0.45846,     0.45946,     0.46046,     0.46146,     0.46246,     0.46346,     0.46446,     0.46547,     0.46647,     0.46747,     0.46847,     0.46947,     0.47047,     0.47147,     0.47247,     0.47347,     0.47447,     0.47548,     0.47648,     0.47748,     0.47848,     0.47948,\n",
            "           0.48048,     0.48148,     0.48248,     0.48348,     0.48448,     0.48549,     0.48649,     0.48749,     0.48849,     0.48949,     0.49049,     0.49149,     0.49249,     0.49349,     0.49449,      0.4955,      0.4965,      0.4975,      0.4985,      0.4995,      0.5005,      0.5015,      0.5025,      0.5035,\n",
            "            0.5045,     0.50551,     0.50651,     0.50751,     0.50851,     0.50951,     0.51051,     0.51151,     0.51251,     0.51351,     0.51451,     0.51552,     0.51652,     0.51752,     0.51852,     0.51952,     0.52052,     0.52152,     0.52252,     0.52352,     0.52452,     0.52553,     0.52653,     0.52753,\n",
            "           0.52853,     0.52953,     0.53053,     0.53153,     0.53253,     0.53353,     0.53453,     0.53554,     0.53654,     0.53754,     0.53854,     0.53954,     0.54054,     0.54154,     0.54254,     0.54354,     0.54454,     0.54555,     0.54655,     0.54755,     0.54855,     0.54955,     0.55055,     0.55155,\n",
            "           0.55255,     0.55355,     0.55455,     0.55556,     0.55656,     0.55756,     0.55856,     0.55956,     0.56056,     0.56156,     0.56256,     0.56356,     0.56456,     0.56557,     0.56657,     0.56757,     0.56857,     0.56957,     0.57057,     0.57157,     0.57257,     0.57357,     0.57457,     0.57558,\n",
            "           0.57658,     0.57758,     0.57858,     0.57958,     0.58058,     0.58158,     0.58258,     0.58358,     0.58458,     0.58559,     0.58659,     0.58759,     0.58859,     0.58959,     0.59059,     0.59159,     0.59259,     0.59359,     0.59459,      0.5956,      0.5966,      0.5976,      0.5986,      0.5996,\n",
            "            0.6006,      0.6016,      0.6026,      0.6036,      0.6046,     0.60561,     0.60661,     0.60761,     0.60861,     0.60961,     0.61061,     0.61161,     0.61261,     0.61361,     0.61461,     0.61562,     0.61662,     0.61762,     0.61862,     0.61962,     0.62062,     0.62162,     0.62262,     0.62362,\n",
            "           0.62462,     0.62563,     0.62663,     0.62763,     0.62863,     0.62963,     0.63063,     0.63163,     0.63263,     0.63363,     0.63463,     0.63564,     0.63664,     0.63764,     0.63864,     0.63964,     0.64064,     0.64164,     0.64264,     0.64364,     0.64464,     0.64565,     0.64665,     0.64765,\n",
            "           0.64865,     0.64965,     0.65065,     0.65165,     0.65265,     0.65365,     0.65465,     0.65566,     0.65666,     0.65766,     0.65866,     0.65966,     0.66066,     0.66166,     0.66266,     0.66366,     0.66466,     0.66567,     0.66667,     0.66767,     0.66867,     0.66967,     0.67067,     0.67167,\n",
            "           0.67267,     0.67367,     0.67467,     0.67568,     0.67668,     0.67768,     0.67868,     0.67968,     0.68068,     0.68168,     0.68268,     0.68368,     0.68468,     0.68569,     0.68669,     0.68769,     0.68869,     0.68969,     0.69069,     0.69169,     0.69269,     0.69369,     0.69469,      0.6957,\n",
            "            0.6967,      0.6977,      0.6987,      0.6997,      0.7007,      0.7017,      0.7027,      0.7037,      0.7047,     0.70571,     0.70671,     0.70771,     0.70871,     0.70971,     0.71071,     0.71171,     0.71271,     0.71371,     0.71471,     0.71572,     0.71672,     0.71772,     0.71872,     0.71972,\n",
            "           0.72072,     0.72172,     0.72272,     0.72372,     0.72472,     0.72573,     0.72673,     0.72773,     0.72873,     0.72973,     0.73073,     0.73173,     0.73273,     0.73373,     0.73473,     0.73574,     0.73674,     0.73774,     0.73874,     0.73974,     0.74074,     0.74174,     0.74274,     0.74374,\n",
            "           0.74474,     0.74575,     0.74675,     0.74775,     0.74875,     0.74975,     0.75075,     0.75175,     0.75275,     0.75375,     0.75475,     0.75576,     0.75676,     0.75776,     0.75876,     0.75976,     0.76076,     0.76176,     0.76276,     0.76376,     0.76476,     0.76577,     0.76677,     0.76777,\n",
            "           0.76877,     0.76977,     0.77077,     0.77177,     0.77277,     0.77377,     0.77477,     0.77578,     0.77678,     0.77778,     0.77878,     0.77978,     0.78078,     0.78178,     0.78278,     0.78378,     0.78478,     0.78579,     0.78679,     0.78779,     0.78879,     0.78979,     0.79079,     0.79179,\n",
            "           0.79279,     0.79379,     0.79479,      0.7958,      0.7968,      0.7978,      0.7988,      0.7998,      0.8008,      0.8018,      0.8028,      0.8038,      0.8048,     0.80581,     0.80681,     0.80781,     0.80881,     0.80981,     0.81081,     0.81181,     0.81281,     0.81381,     0.81481,     0.81582,\n",
            "           0.81682,     0.81782,     0.81882,     0.81982,     0.82082,     0.82182,     0.82282,     0.82382,     0.82482,     0.82583,     0.82683,     0.82783,     0.82883,     0.82983,     0.83083,     0.83183,     0.83283,     0.83383,     0.83483,     0.83584,     0.83684,     0.83784,     0.83884,     0.83984,\n",
            "           0.84084,     0.84184,     0.84284,     0.84384,     0.84484,     0.84585,     0.84685,     0.84785,     0.84885,     0.84985,     0.85085,     0.85185,     0.85285,     0.85385,     0.85485,     0.85586,     0.85686,     0.85786,     0.85886,     0.85986,     0.86086,     0.86186,     0.86286,     0.86386,\n",
            "           0.86486,     0.86587,     0.86687,     0.86787,     0.86887,     0.86987,     0.87087,     0.87187,     0.87287,     0.87387,     0.87487,     0.87588,     0.87688,     0.87788,     0.87888,     0.87988,     0.88088,     0.88188,     0.88288,     0.88388,     0.88488,     0.88589,     0.88689,     0.88789,\n",
            "           0.88889,     0.88989,     0.89089,     0.89189,     0.89289,     0.89389,     0.89489,      0.8959,      0.8969,      0.8979,      0.8989,      0.8999,      0.9009,      0.9019,      0.9029,      0.9039,      0.9049,     0.90591,     0.90691,     0.90791,     0.90891,     0.90991,     0.91091,     0.91191,\n",
            "           0.91291,     0.91391,     0.91491,     0.91592,     0.91692,     0.91792,     0.91892,     0.91992,     0.92092,     0.92192,     0.92292,     0.92392,     0.92492,     0.92593,     0.92693,     0.92793,     0.92893,     0.92993,     0.93093,     0.93193,     0.93293,     0.93393,     0.93493,     0.93594,\n",
            "           0.93694,     0.93794,     0.93894,     0.93994,     0.94094,     0.94194,     0.94294,     0.94394,     0.94494,     0.94595,     0.94695,     0.94795,     0.94895,     0.94995,     0.95095,     0.95195,     0.95295,     0.95395,     0.95495,     0.95596,     0.95696,     0.95796,     0.95896,     0.95996,\n",
            "           0.96096,     0.96196,     0.96296,     0.96396,     0.96496,     0.96597,     0.96697,     0.96797,     0.96897,     0.96997,     0.97097,     0.97197,     0.97297,     0.97397,     0.97497,     0.97598,     0.97698,     0.97798,     0.97898,     0.97998,     0.98098,     0.98198,     0.98298,     0.98398,\n",
            "           0.98498,     0.98599,     0.98699,     0.98799,     0.98899,     0.98999,     0.99099,     0.99199,     0.99299,     0.99399,     0.99499,       0.996,       0.997,       0.998,       0.999,           1]), array([[          1,           1,           1,           1,           1,           1,           1,           1,           1,           1,           1,           1,           1,           1,           1,           1,           1,           1,           1,           1,           1,           1,           1,\n",
            "                  1,         0.8,         0.8,         0.8,         0.8,         0.8,         0.8,         0.8,         0.8,         0.8,         0.8,         0.8,         0.8,         0.8,         0.8,         0.8,         0.8,         0.8,         0.8,         0.8,         0.8,         0.8,         0.8,\n",
            "                0.8,         0.8,         0.8,         0.8,         0.8,         0.8,         0.8,         0.8,         0.8,         0.8,         0.8,         0.8,         0.8,         0.8,         0.8,         0.8,         0.8,         0.8,         0.8,         0.8,         0.8,         0.8,         0.8,\n",
            "                0.8,         0.8,         0.8,         0.8,         0.8,         0.8,         0.8,         0.8,         0.8,         0.8,         0.8,         0.8,         0.8,         0.8,         0.8,         0.8,         0.8,         0.8,         0.8,         0.8,         0.8,         0.8,         0.8,\n",
            "                0.8,         0.8,         0.8,         0.8,         0.8,         0.8,         0.8,         0.8,         0.8,         0.8,         0.8,         0.8,         0.8,         0.8,         0.8,         0.8,         0.8,         0.8,         0.8,         0.8,         0.8,         0.8,         0.8,\n",
            "                0.8,         0.8,         0.8,         0.8,         0.8,         0.8,         0.8,         0.8,         0.8,         0.8,         0.8,         0.8,         0.8,         0.8,         0.8,         0.8,         0.8,         0.8,         0.8,         0.8,         0.8,         0.8,         0.8,\n",
            "                0.8,         0.8,         0.8,         0.8,         0.8,     0.76471,     0.76471,     0.76471,     0.76471,     0.76471,     0.76471,     0.76471,     0.76471,     0.76471,     0.76471,     0.76471,     0.76471,     0.73684,     0.73684,     0.73684,     0.73684,     0.73684,     0.73684,\n",
            "            0.73684,     0.73684,     0.73684,     0.73684,     0.73684,     0.73684,      0.7037,      0.7037,      0.7037,      0.7037,      0.7037,      0.7037,      0.7037,      0.7037,      0.7037,      0.7037,      0.7037,      0.7037,      0.7037,      0.7037,      0.7037,      0.7037,      0.7037,\n",
            "             0.7037,      0.7037,      0.7037,      0.7037,      0.7037,      0.7037,      0.7037,      0.7037,      0.7037,      0.7037,      0.7037,      0.7037,      0.7037,      0.7037,      0.7037,      0.7037,      0.7037,      0.7037,      0.7037,      0.7037,      0.7037,      0.7037,      0.7037,\n",
            "             0.7037,      0.7037,      0.7037,      0.7037,      0.7037,      0.7037,      0.7037,      0.7037,      0.7037,      0.7037,      0.7037,      0.7037,      0.7037,      0.7037,      0.7037,      0.7037,      0.7037,      0.7037,      0.7037,     0.64516,     0.64516,     0.64516,     0.64516,\n",
            "            0.64516,     0.64516,     0.64516,     0.64516,     0.64516,     0.64516,     0.64516,     0.64516,     0.58333,     0.58333,     0.58333,     0.58333,     0.58333,     0.58333,     0.58333,     0.58333,     0.58333,     0.58333,     0.58333,     0.58333,     0.55814,     0.55814,     0.55814,\n",
            "            0.55814,     0.55814,     0.55814,     0.55814,     0.55814,     0.55814,     0.55814,     0.55814,     0.55814,     0.55814,     0.55814,     0.55814,     0.55814,     0.55814,     0.55814,     0.55814,     0.55814,     0.55814,     0.55814,     0.55814,     0.55814,     0.55814,     0.55814,\n",
            "            0.55814,     0.55814,     0.55814,     0.55814,     0.55814,     0.55814,     0.55814,     0.55814,     0.55814,     0.55814,     0.55556,     0.55556,     0.55556,     0.55556,     0.55556,     0.55556,     0.55556,     0.55556,     0.55556,     0.55556,     0.55556,     0.55556,     0.53061,\n",
            "            0.53061,     0.53061,     0.53061,     0.53061,     0.53061,     0.53061,     0.53061,     0.53061,     0.53061,     0.53061,     0.53061,     0.51852,     0.51852,     0.51852,     0.51852,     0.51852,     0.51852,     0.51852,     0.51852,     0.51852,     0.51852,     0.51852,     0.51852,\n",
            "            0.51852,     0.51852,     0.51852,     0.51852,     0.51852,     0.51852,     0.51852,     0.51852,     0.51852,     0.51852,     0.51852,     0.49153,     0.49153,     0.49153,     0.49153,     0.49153,     0.49153,     0.49153,     0.49153,     0.49153,     0.49153,     0.49153,     0.49153,\n",
            "            0.42857,     0.42857,     0.42857,     0.42857,     0.42857,     0.42857,     0.42857,     0.42857,     0.42857,     0.42857,     0.42857,     0.42857,     0.42857,     0.42857,     0.42857,     0.42857,     0.42857,     0.42857,     0.42857,     0.42857,     0.42857,     0.42857,     0.42857,\n",
            "            0.42857,     0.42857,     0.42857,     0.42857,     0.42857,     0.42857,     0.42857,     0.42857,     0.42857,     0.42857,     0.42857,     0.42857,     0.42857,     0.42857,     0.42857,     0.42857,     0.42857,     0.42857,     0.42857,     0.42857,     0.42857,     0.42857,     0.42857,\n",
            "            0.42857,     0.42857,     0.41975,     0.41975,     0.41975,     0.41975,     0.41975,     0.41975,     0.41975,     0.41975,     0.41975,     0.41975,     0.41975,     0.41975,     0.35714,     0.35714,     0.35714,     0.35714,     0.35714,     0.35714,     0.35714,     0.35714,     0.35714,\n",
            "            0.35714,     0.35714,     0.35714,     0.33645,     0.33645,     0.33645,     0.33645,     0.33645,     0.33645,     0.33645,     0.33645,     0.33645,     0.33645,     0.33645,     0.33645,     0.31897,     0.31897,     0.31897,     0.31897,     0.31897,     0.31897,     0.31897,     0.31897,\n",
            "            0.31897,     0.31897,     0.31897,     0.31897,     0.28788,     0.28788,     0.28788,     0.28788,     0.28788,     0.28788,     0.28788,     0.28788,     0.28788,     0.28788,     0.28788,     0.26531,     0.26531,     0.26531,     0.26531,     0.26531,     0.26531,     0.26531,     0.26531,\n",
            "            0.26531,     0.26531,     0.26531,     0.26531,     0.26144,     0.26144,     0.26144,     0.26144,     0.26144,     0.26144,     0.26144,     0.26144,     0.26144,     0.26144,     0.26144,     0.26144,     0.25786,     0.25786,     0.25786,     0.25786,     0.25786,     0.25786,     0.25786,\n",
            "            0.25786,     0.25786,     0.25786,     0.25786,     0.25786,     0.23333,     0.23333,     0.23333,     0.23333,     0.23333,     0.23333,     0.23333,     0.23333,     0.23333,     0.23333,     0.23333,     0.23333,     0.19048,     0.19048,     0.19048,     0.19048,     0.19048,     0.19048,\n",
            "            0.19048,     0.19048,     0.19048,     0.19048,     0.19048,     0.19048,     0.19048,     0.19048,     0.19048,     0.19048,     0.19048,     0.19048,     0.19048,     0.19048,     0.19048,     0.19048,     0.19048,     0.19048,     0.18987,     0.18987,     0.18987,     0.18987,     0.18987,\n",
            "            0.18987,     0.18987,     0.18987,     0.18987,     0.18987,     0.18987,     0.18987,     0.18852,     0.18852,     0.18852,     0.18852,     0.18852,     0.18852,     0.18852,     0.18852,     0.18852,     0.18852,     0.18852,     0.18852,     0.17537,     0.17537,     0.17537,     0.17537,\n",
            "            0.17537,     0.17537,     0.17537,     0.17537,     0.17537,     0.17537,     0.17537,     0.16495,     0.16495,     0.16495,     0.16495,     0.16495,     0.16495,     0.16495,     0.16495,     0.16495,     0.16495,     0.16495,     0.16495,     0.16279,     0.16279,     0.16279,     0.16279,\n",
            "            0.16279,     0.16279,     0.16279,     0.16279,     0.16279,     0.16279,     0.16279,     0.16279,      0.1292,      0.1292,      0.1292,      0.1292,      0.1292,      0.1292,      0.1292,      0.1292,      0.1292,      0.1292,      0.1292,      0.1292,     0.12718,     0.12718,     0.12718,\n",
            "            0.12718,     0.12718,     0.12718,     0.12718,     0.12718,     0.12718,     0.12718,     0.12718,     0.12718,     0.12293,     0.12293,     0.12293,     0.12293,     0.12293,     0.12293,     0.12293,     0.12293,     0.12293,     0.12293,     0.12293,     0.12293,     0.11648,     0.11648,\n",
            "            0.11648,     0.11648,     0.11648,     0.11648,     0.11648,     0.11648,     0.11648,     0.11648,     0.11648,     0.11648,    0.075314,    0.075314,    0.075314,    0.075314,    0.075314,    0.075314,    0.075314,    0.075314,    0.075314,    0.075314,    0.075314,    0.075314,    0.070513,\n",
            "           0.070513,    0.070513,    0.070513,    0.070513,    0.070513,    0.070513,    0.070513,    0.070513,    0.070513,    0.070513,    0.070513,    0.060475,    0.060475,    0.060475,    0.060475,    0.060475,    0.060475,    0.060475,    0.060475,    0.060475,    0.060475,    0.060475,    0.055447,\n",
            "           0.055447,    0.055447,    0.055447,    0.055447,    0.055447,    0.055447,    0.055447,    0.055447,    0.055447,    0.055447,    0.055447,    0.049455,    0.049455,    0.049455,    0.049455,    0.049455,    0.049455,    0.049455,    0.049455,    0.049455,    0.049455,    0.049455,    0.049455,\n",
            "           0.049455,    0.049455,    0.049455,    0.049455,    0.049455,    0.049455,    0.049455,    0.049455,    0.049455,    0.049455,    0.049455,    0.049455,    0.044676,    0.044676,    0.044676,    0.044676,    0.044676,    0.044676,    0.044676,    0.044676,    0.044676,    0.044676,    0.044676,\n",
            "           0.044676,    0.036073,    0.036073,    0.036073,    0.036073,    0.036073,    0.036073,    0.036073,    0.036073,    0.036073,    0.036073,    0.036073,    0.036073,    0.027427,    0.027427,    0.027427,    0.027427,    0.027427,    0.027427,    0.027427,    0.027427,    0.027427,    0.027427,\n",
            "           0.027427,    0.027427,    0.027427,    0.027427,    0.027427,    0.027427,    0.027427,    0.027427,    0.027427,    0.027427,    0.027427,    0.027427,    0.027427,    0.027427,    0.022448,    0.022358,    0.022268,    0.022178,    0.022088,    0.021998,    0.021908,    0.021817,    0.021727,\n",
            "           0.021637,    0.021547,    0.021457,    0.021367,    0.021276,    0.021186,    0.021096,    0.021006,    0.020916,    0.020826,    0.020736,    0.020645,    0.020555,    0.020465,    0.020375,    0.020285,    0.020195,    0.020104,    0.020014,    0.019924,    0.019834,    0.019744,    0.019654,\n",
            "           0.019564,    0.019473,    0.019383,    0.019293,    0.019203,    0.019113,    0.019023,    0.018932,    0.018842,    0.018752,    0.018662,    0.018572,    0.018482,    0.018392,    0.018301,    0.018211,    0.018121,    0.018031,    0.017941,    0.017851,     0.01776,     0.01767,     0.01758,\n",
            "            0.01749,      0.0174,     0.01731,     0.01722,    0.017129,    0.017039,    0.016949,    0.016859,    0.016769,    0.016679,    0.016588,    0.016498,    0.016408,    0.016318,    0.016228,    0.016138,    0.016047,    0.015957,    0.015867,    0.015777,    0.015687,    0.015597,    0.015507,\n",
            "           0.015416,    0.015326,    0.015236,    0.015146,    0.015056,    0.014966,    0.014875,    0.014785,    0.014695,    0.014605,    0.014515,    0.014425,    0.014335,    0.014244,    0.014154,    0.014064,    0.013974,    0.013884,    0.013794,    0.013703,    0.013613,    0.013523,    0.013433,\n",
            "           0.013343,    0.013253,    0.013163,    0.013072,    0.012982,    0.012892,    0.012802,    0.012712,    0.012622,    0.012531,    0.012441,    0.012351,    0.012261,    0.012171,    0.012081,    0.011991,      0.0119,     0.01181,     0.01172,     0.01163,     0.01154,     0.01145,    0.011359,\n",
            "           0.011269,    0.011179,    0.011089,    0.010999,    0.010909,    0.010819,    0.010728,    0.010638,    0.010548,    0.010458,    0.010368,    0.010278,    0.010187,    0.010097,    0.010007,    0.009917,   0.0098268,   0.0097367,   0.0096465,   0.0095564,   0.0094662,   0.0093761,   0.0092859,\n",
            "          0.0091958,   0.0091056,   0.0090154,   0.0089253,   0.0088351,    0.008745,   0.0086548,   0.0085647,   0.0084745,   0.0083844,   0.0082942,   0.0082041,   0.0081139,   0.0080237,   0.0079336,   0.0078434,   0.0077533,   0.0076631,    0.007573,   0.0074828,   0.0073927,   0.0073025,   0.0072124,\n",
            "          0.0071222,    0.007032,   0.0069419,   0.0068517,   0.0067616,   0.0066714,   0.0065813,   0.0064911,    0.006401,   0.0063108,   0.0062207,   0.0061305,   0.0060404,   0.0059502,     0.00586,   0.0057699,   0.0056797,   0.0055896,   0.0054994,   0.0054093,   0.0053191,    0.005229,   0.0051388,\n",
            "          0.0050487,   0.0049585,   0.0048683,   0.0047782,    0.004688,   0.0045979,   0.0045077,   0.0044176,   0.0043274,   0.0042373,   0.0041471,    0.004057,   0.0039668,   0.0038766,   0.0037865,   0.0036963,   0.0036062,    0.003516,   0.0034259,   0.0033357,   0.0032456,   0.0031554,   0.0030653,\n",
            "          0.0029751,   0.0028849,   0.0027948,   0.0027046,   0.0026145,   0.0025243,   0.0024342,    0.002344,   0.0022539,   0.0021637,   0.0020736,   0.0019834,   0.0018932,   0.0018031,   0.0017129,   0.0016228,   0.0015326,   0.0014425,   0.0013523,   0.0012622,    0.001172,   0.0010819,   0.0009917,\n",
            "         0.00090154,  0.00081139,  0.00072124,  0.00063108,  0.00054093,  0.00045077,  0.00036062,  0.00027046,  0.00018031,  9.0154e-05,           0]]), 'Recall', 'Precision'], [array([          0,    0.001001,    0.002002,    0.003003,    0.004004,    0.005005,    0.006006,    0.007007,    0.008008,    0.009009,     0.01001,    0.011011,    0.012012,    0.013013,    0.014014,    0.015015,    0.016016,    0.017017,    0.018018,    0.019019,     0.02002,    0.021021,    0.022022,    0.023023,\n",
            "          0.024024,    0.025025,    0.026026,    0.027027,    0.028028,    0.029029,     0.03003,    0.031031,    0.032032,    0.033033,    0.034034,    0.035035,    0.036036,    0.037037,    0.038038,    0.039039,     0.04004,    0.041041,    0.042042,    0.043043,    0.044044,    0.045045,    0.046046,    0.047047,\n",
            "          0.048048,    0.049049,     0.05005,    0.051051,    0.052052,    0.053053,    0.054054,    0.055055,    0.056056,    0.057057,    0.058058,    0.059059,     0.06006,    0.061061,    0.062062,    0.063063,    0.064064,    0.065065,    0.066066,    0.067067,    0.068068,    0.069069,     0.07007,    0.071071,\n",
            "          0.072072,    0.073073,    0.074074,    0.075075,    0.076076,    0.077077,    0.078078,    0.079079,     0.08008,    0.081081,    0.082082,    0.083083,    0.084084,    0.085085,    0.086086,    0.087087,    0.088088,    0.089089,     0.09009,    0.091091,    0.092092,    0.093093,    0.094094,    0.095095,\n",
            "          0.096096,    0.097097,    0.098098,    0.099099,      0.1001,      0.1011,      0.1021,      0.1031,      0.1041,     0.10511,     0.10611,     0.10711,     0.10811,     0.10911,     0.11011,     0.11111,     0.11211,     0.11311,     0.11411,     0.11512,     0.11612,     0.11712,     0.11812,     0.11912,\n",
            "           0.12012,     0.12112,     0.12212,     0.12312,     0.12412,     0.12513,     0.12613,     0.12713,     0.12813,     0.12913,     0.13013,     0.13113,     0.13213,     0.13313,     0.13413,     0.13514,     0.13614,     0.13714,     0.13814,     0.13914,     0.14014,     0.14114,     0.14214,     0.14314,\n",
            "           0.14414,     0.14515,     0.14615,     0.14715,     0.14815,     0.14915,     0.15015,     0.15115,     0.15215,     0.15315,     0.15415,     0.15516,     0.15616,     0.15716,     0.15816,     0.15916,     0.16016,     0.16116,     0.16216,     0.16316,     0.16416,     0.16517,     0.16617,     0.16717,\n",
            "           0.16817,     0.16917,     0.17017,     0.17117,     0.17217,     0.17317,     0.17417,     0.17518,     0.17618,     0.17718,     0.17818,     0.17918,     0.18018,     0.18118,     0.18218,     0.18318,     0.18418,     0.18519,     0.18619,     0.18719,     0.18819,     0.18919,     0.19019,     0.19119,\n",
            "           0.19219,     0.19319,     0.19419,      0.1952,      0.1962,      0.1972,      0.1982,      0.1992,      0.2002,      0.2012,      0.2022,      0.2032,      0.2042,     0.20521,     0.20621,     0.20721,     0.20821,     0.20921,     0.21021,     0.21121,     0.21221,     0.21321,     0.21421,     0.21522,\n",
            "           0.21622,     0.21722,     0.21822,     0.21922,     0.22022,     0.22122,     0.22222,     0.22322,     0.22422,     0.22523,     0.22623,     0.22723,     0.22823,     0.22923,     0.23023,     0.23123,     0.23223,     0.23323,     0.23423,     0.23524,     0.23624,     0.23724,     0.23824,     0.23924,\n",
            "           0.24024,     0.24124,     0.24224,     0.24324,     0.24424,     0.24525,     0.24625,     0.24725,     0.24825,     0.24925,     0.25025,     0.25125,     0.25225,     0.25325,     0.25425,     0.25526,     0.25626,     0.25726,     0.25826,     0.25926,     0.26026,     0.26126,     0.26226,     0.26326,\n",
            "           0.26426,     0.26527,     0.26627,     0.26727,     0.26827,     0.26927,     0.27027,     0.27127,     0.27227,     0.27327,     0.27427,     0.27528,     0.27628,     0.27728,     0.27828,     0.27928,     0.28028,     0.28128,     0.28228,     0.28328,     0.28428,     0.28529,     0.28629,     0.28729,\n",
            "           0.28829,     0.28929,     0.29029,     0.29129,     0.29229,     0.29329,     0.29429,      0.2953,      0.2963,      0.2973,      0.2983,      0.2993,      0.3003,      0.3013,      0.3023,      0.3033,      0.3043,     0.30531,     0.30631,     0.30731,     0.30831,     0.30931,     0.31031,     0.31131,\n",
            "           0.31231,     0.31331,     0.31431,     0.31532,     0.31632,     0.31732,     0.31832,     0.31932,     0.32032,     0.32132,     0.32232,     0.32332,     0.32432,     0.32533,     0.32633,     0.32733,     0.32833,     0.32933,     0.33033,     0.33133,     0.33233,     0.33333,     0.33433,     0.33534,\n",
            "           0.33634,     0.33734,     0.33834,     0.33934,     0.34034,     0.34134,     0.34234,     0.34334,     0.34434,     0.34535,     0.34635,     0.34735,     0.34835,     0.34935,     0.35035,     0.35135,     0.35235,     0.35335,     0.35435,     0.35536,     0.35636,     0.35736,     0.35836,     0.35936,\n",
            "           0.36036,     0.36136,     0.36236,     0.36336,     0.36436,     0.36537,     0.36637,     0.36737,     0.36837,     0.36937,     0.37037,     0.37137,     0.37237,     0.37337,     0.37437,     0.37538,     0.37638,     0.37738,     0.37838,     0.37938,     0.38038,     0.38138,     0.38238,     0.38338,\n",
            "           0.38438,     0.38539,     0.38639,     0.38739,     0.38839,     0.38939,     0.39039,     0.39139,     0.39239,     0.39339,     0.39439,      0.3954,      0.3964,      0.3974,      0.3984,      0.3994,      0.4004,      0.4014,      0.4024,      0.4034,      0.4044,     0.40541,     0.40641,     0.40741,\n",
            "           0.40841,     0.40941,     0.41041,     0.41141,     0.41241,     0.41341,     0.41441,     0.41542,     0.41642,     0.41742,     0.41842,     0.41942,     0.42042,     0.42142,     0.42242,     0.42342,     0.42442,     0.42543,     0.42643,     0.42743,     0.42843,     0.42943,     0.43043,     0.43143,\n",
            "           0.43243,     0.43343,     0.43443,     0.43544,     0.43644,     0.43744,     0.43844,     0.43944,     0.44044,     0.44144,     0.44244,     0.44344,     0.44444,     0.44545,     0.44645,     0.44745,     0.44845,     0.44945,     0.45045,     0.45145,     0.45245,     0.45345,     0.45445,     0.45546,\n",
            "           0.45646,     0.45746,     0.45846,     0.45946,     0.46046,     0.46146,     0.46246,     0.46346,     0.46446,     0.46547,     0.46647,     0.46747,     0.46847,     0.46947,     0.47047,     0.47147,     0.47247,     0.47347,     0.47447,     0.47548,     0.47648,     0.47748,     0.47848,     0.47948,\n",
            "           0.48048,     0.48148,     0.48248,     0.48348,     0.48448,     0.48549,     0.48649,     0.48749,     0.48849,     0.48949,     0.49049,     0.49149,     0.49249,     0.49349,     0.49449,      0.4955,      0.4965,      0.4975,      0.4985,      0.4995,      0.5005,      0.5015,      0.5025,      0.5035,\n",
            "            0.5045,     0.50551,     0.50651,     0.50751,     0.50851,     0.50951,     0.51051,     0.51151,     0.51251,     0.51351,     0.51451,     0.51552,     0.51652,     0.51752,     0.51852,     0.51952,     0.52052,     0.52152,     0.52252,     0.52352,     0.52452,     0.52553,     0.52653,     0.52753,\n",
            "           0.52853,     0.52953,     0.53053,     0.53153,     0.53253,     0.53353,     0.53453,     0.53554,     0.53654,     0.53754,     0.53854,     0.53954,     0.54054,     0.54154,     0.54254,     0.54354,     0.54454,     0.54555,     0.54655,     0.54755,     0.54855,     0.54955,     0.55055,     0.55155,\n",
            "           0.55255,     0.55355,     0.55455,     0.55556,     0.55656,     0.55756,     0.55856,     0.55956,     0.56056,     0.56156,     0.56256,     0.56356,     0.56456,     0.56557,     0.56657,     0.56757,     0.56857,     0.56957,     0.57057,     0.57157,     0.57257,     0.57357,     0.57457,     0.57558,\n",
            "           0.57658,     0.57758,     0.57858,     0.57958,     0.58058,     0.58158,     0.58258,     0.58358,     0.58458,     0.58559,     0.58659,     0.58759,     0.58859,     0.58959,     0.59059,     0.59159,     0.59259,     0.59359,     0.59459,      0.5956,      0.5966,      0.5976,      0.5986,      0.5996,\n",
            "            0.6006,      0.6016,      0.6026,      0.6036,      0.6046,     0.60561,     0.60661,     0.60761,     0.60861,     0.60961,     0.61061,     0.61161,     0.61261,     0.61361,     0.61461,     0.61562,     0.61662,     0.61762,     0.61862,     0.61962,     0.62062,     0.62162,     0.62262,     0.62362,\n",
            "           0.62462,     0.62563,     0.62663,     0.62763,     0.62863,     0.62963,     0.63063,     0.63163,     0.63263,     0.63363,     0.63463,     0.63564,     0.63664,     0.63764,     0.63864,     0.63964,     0.64064,     0.64164,     0.64264,     0.64364,     0.64464,     0.64565,     0.64665,     0.64765,\n",
            "           0.64865,     0.64965,     0.65065,     0.65165,     0.65265,     0.65365,     0.65465,     0.65566,     0.65666,     0.65766,     0.65866,     0.65966,     0.66066,     0.66166,     0.66266,     0.66366,     0.66466,     0.66567,     0.66667,     0.66767,     0.66867,     0.66967,     0.67067,     0.67167,\n",
            "           0.67267,     0.67367,     0.67467,     0.67568,     0.67668,     0.67768,     0.67868,     0.67968,     0.68068,     0.68168,     0.68268,     0.68368,     0.68468,     0.68569,     0.68669,     0.68769,     0.68869,     0.68969,     0.69069,     0.69169,     0.69269,     0.69369,     0.69469,      0.6957,\n",
            "            0.6967,      0.6977,      0.6987,      0.6997,      0.7007,      0.7017,      0.7027,      0.7037,      0.7047,     0.70571,     0.70671,     0.70771,     0.70871,     0.70971,     0.71071,     0.71171,     0.71271,     0.71371,     0.71471,     0.71572,     0.71672,     0.71772,     0.71872,     0.71972,\n",
            "           0.72072,     0.72172,     0.72272,     0.72372,     0.72472,     0.72573,     0.72673,     0.72773,     0.72873,     0.72973,     0.73073,     0.73173,     0.73273,     0.73373,     0.73473,     0.73574,     0.73674,     0.73774,     0.73874,     0.73974,     0.74074,     0.74174,     0.74274,     0.74374,\n",
            "           0.74474,     0.74575,     0.74675,     0.74775,     0.74875,     0.74975,     0.75075,     0.75175,     0.75275,     0.75375,     0.75475,     0.75576,     0.75676,     0.75776,     0.75876,     0.75976,     0.76076,     0.76176,     0.76276,     0.76376,     0.76476,     0.76577,     0.76677,     0.76777,\n",
            "           0.76877,     0.76977,     0.77077,     0.77177,     0.77277,     0.77377,     0.77477,     0.77578,     0.77678,     0.77778,     0.77878,     0.77978,     0.78078,     0.78178,     0.78278,     0.78378,     0.78478,     0.78579,     0.78679,     0.78779,     0.78879,     0.78979,     0.79079,     0.79179,\n",
            "           0.79279,     0.79379,     0.79479,      0.7958,      0.7968,      0.7978,      0.7988,      0.7998,      0.8008,      0.8018,      0.8028,      0.8038,      0.8048,     0.80581,     0.80681,     0.80781,     0.80881,     0.80981,     0.81081,     0.81181,     0.81281,     0.81381,     0.81481,     0.81582,\n",
            "           0.81682,     0.81782,     0.81882,     0.81982,     0.82082,     0.82182,     0.82282,     0.82382,     0.82482,     0.82583,     0.82683,     0.82783,     0.82883,     0.82983,     0.83083,     0.83183,     0.83283,     0.83383,     0.83483,     0.83584,     0.83684,     0.83784,     0.83884,     0.83984,\n",
            "           0.84084,     0.84184,     0.84284,     0.84384,     0.84484,     0.84585,     0.84685,     0.84785,     0.84885,     0.84985,     0.85085,     0.85185,     0.85285,     0.85385,     0.85485,     0.85586,     0.85686,     0.85786,     0.85886,     0.85986,     0.86086,     0.86186,     0.86286,     0.86386,\n",
            "           0.86486,     0.86587,     0.86687,     0.86787,     0.86887,     0.86987,     0.87087,     0.87187,     0.87287,     0.87387,     0.87487,     0.87588,     0.87688,     0.87788,     0.87888,     0.87988,     0.88088,     0.88188,     0.88288,     0.88388,     0.88488,     0.88589,     0.88689,     0.88789,\n",
            "           0.88889,     0.88989,     0.89089,     0.89189,     0.89289,     0.89389,     0.89489,      0.8959,      0.8969,      0.8979,      0.8989,      0.8999,      0.9009,      0.9019,      0.9029,      0.9039,      0.9049,     0.90591,     0.90691,     0.90791,     0.90891,     0.90991,     0.91091,     0.91191,\n",
            "           0.91291,     0.91391,     0.91491,     0.91592,     0.91692,     0.91792,     0.91892,     0.91992,     0.92092,     0.92192,     0.92292,     0.92392,     0.92492,     0.92593,     0.92693,     0.92793,     0.92893,     0.92993,     0.93093,     0.93193,     0.93293,     0.93393,     0.93493,     0.93594,\n",
            "           0.93694,     0.93794,     0.93894,     0.93994,     0.94094,     0.94194,     0.94294,     0.94394,     0.94494,     0.94595,     0.94695,     0.94795,     0.94895,     0.94995,     0.95095,     0.95195,     0.95295,     0.95395,     0.95495,     0.95596,     0.95696,     0.95796,     0.95896,     0.95996,\n",
            "           0.96096,     0.96196,     0.96296,     0.96396,     0.96496,     0.96597,     0.96697,     0.96797,     0.96897,     0.96997,     0.97097,     0.97197,     0.97297,     0.97397,     0.97497,     0.97598,     0.97698,     0.97798,     0.97898,     0.97998,     0.98098,     0.98198,     0.98298,     0.98398,\n",
            "           0.98498,     0.98599,     0.98699,     0.98799,     0.98899,     0.98999,     0.99099,     0.99199,     0.99299,     0.99399,     0.99499,       0.996,       0.997,       0.998,       0.999,           1]), array([[    0.04372,     0.04372,    0.066409,    0.082918,    0.097096,      0.1094,        0.12,     0.12659,      0.1347,     0.14319,      0.1534,     0.16163,     0.16819,     0.17431,     0.18175,     0.18828,     0.19363,     0.20099,     0.20396,     0.20994,     0.21084,     0.21181,     0.21691,\n",
            "            0.22109,     0.22917,     0.23318,     0.23589,     0.24097,     0.24653,     0.25074,     0.25453,     0.25134,     0.25529,     0.25665,     0.26265,     0.26569,     0.26594,     0.26808,     0.27144,     0.27766,     0.27971,     0.27676,     0.27867,     0.27772,     0.27844,     0.26898,\n",
            "            0.27133,     0.27341,     0.27934,     0.28428,     0.28886,     0.29351,     0.29701,     0.29732,     0.29764,     0.29873,     0.30189,     0.30356,     0.30429,     0.30639,     0.30722,     0.30849,     0.31105,     0.31259,     0.31322,      0.3155,     0.31656,     0.31757,      0.3138,\n",
            "            0.31247,     0.31459,     0.31785,     0.31878,     0.31973,      0.3215,     0.32339,     0.32704,     0.32771,        0.33,      0.3323,     0.33297,     0.33393,     0.33548,     0.33677,     0.33422,     0.33219,     0.33383,     0.33493,     0.33563,     0.33655,     0.33586,     0.33193,\n",
            "            0.33241,      0.3329,     0.33412,     0.33627,     0.33722,     0.33614,     0.33332,      0.3305,      0.3318,     0.33265,     0.33403,     0.33639,     0.33775,     0.33992,     0.34246,     0.34323,     0.34424,     0.34659,      0.3472,     0.34742,     0.34763,     0.34785,     0.34806,\n",
            "            0.34827,     0.34849,     0.34909,     0.34939,     0.34769,     0.34945,     0.35025,     0.35095,     0.35152,     0.35209,     0.35407,     0.35468,     0.35528,      0.3567,      0.3593,     0.35962,     0.35995,     0.36028,      0.3606,     0.36093,     0.36144,     0.36198,     0.36251,\n",
            "            0.36305,      0.3636,     0.36414,     0.36534,     0.36704,     0.36811,     0.36214,     0.36364,     0.36391,     0.36418,     0.36445,     0.36472,     0.36499,     0.36526,     0.36602,     0.37007,     0.37315,     0.37409,     0.37501,     0.37549,     0.37596,     0.37644,     0.37691,\n",
            "            0.37546,     0.37375,     0.37204,     0.37033,     0.36862,     0.36921,     0.37009,     0.37196,     0.37385,     0.37657,      0.3775,     0.37847,     0.38016,     0.38202,     0.38312,     0.38394,     0.38382,     0.37924,     0.37612,     0.37787,     0.37859,     0.37931,     0.38059,\n",
            "            0.38277,     0.38403,     0.38459,     0.38505,     0.38551,     0.38596,     0.38644,     0.38705,     0.38765,     0.38825,     0.38915,     0.39037,     0.39146,     0.39249,      0.3964,     0.39856,     0.40049,     0.40238,     0.40272,     0.40307,     0.40341,     0.40376,      0.4041,\n",
            "            0.40445,     0.40481,     0.40543,     0.40606,     0.40668,     0.40778,     0.41044,     0.40666,     0.40288,     0.40291,     0.40345,     0.40398,     0.40451,     0.40537,     0.40724,     0.40322,     0.40084,     0.40231,     0.40082,     0.39885,     0.39688,      0.3949,     0.39292,\n",
            "            0.39027,     0.38738,     0.38448,      0.3824,     0.38359,     0.38505,     0.38562,     0.38189,     0.37815,     0.37762,     0.37924,     0.38045,     0.38177,     0.38425,      0.3847,     0.38515,      0.3856,     0.38604,     0.38649,     0.38877,     0.39024,     0.39138,     0.39289,\n",
            "            0.39458,     0.39486,     0.39514,     0.39542,     0.39569,     0.39597,     0.39625,     0.39652,      0.3968,     0.39707,     0.40046,     0.40302,     0.40344,     0.40385,     0.40427,     0.40468,     0.40509,      0.4055,      0.4017,     0.39658,       0.396,     0.39946,      0.4034,\n",
            "            0.40524,     0.40384,     0.40244,     0.40104,     0.39964,     0.39823,     0.39683,     0.39542,     0.39404,     0.39286,     0.39168,      0.3905,     0.38932,     0.38814,     0.38696,     0.38578,      0.3846,     0.38341,     0.38239,     0.38278,     0.38317,     0.38356,     0.38395,\n",
            "            0.38434,     0.38472,      0.3851,     0.38612,      0.3873,     0.38822,     0.38869,     0.38915,     0.38961,     0.39007,     0.39053,     0.39079,     0.38003,     0.38198,     0.38299,     0.38399,     0.38486,     0.38551,     0.38615,     0.38679,     0.38743,     0.38708,     0.38639,\n",
            "            0.38569,     0.38499,      0.3843,      0.3836,      0.3829,     0.38221,     0.38151,     0.38081,     0.38011,     0.37941,     0.37871,     0.37802,     0.37732,     0.37662,     0.37592,     0.37522,     0.37668,     0.37739,     0.37619,       0.375,      0.3738,      0.3726,      0.3714,\n",
            "             0.3702,       0.369,      0.3678,      0.3666,     0.36539,     0.35715,     0.34886,      0.3428,     0.33875,     0.33888,     0.33902,     0.33915,     0.33928,     0.33941,     0.33954,     0.33967,      0.3398,     0.33993,     0.34006,     0.34019,     0.34032,     0.34045,     0.34058,\n",
            "            0.34071,     0.34084,     0.34097,     0.34109,     0.34122,     0.34135,      0.3415,     0.34184,     0.34218,     0.34252,     0.34286,      0.3432,     0.34353,     0.34387,      0.3442,     0.34453,     0.34486,     0.34519,     0.34551,     0.34584,     0.34616,     0.34648,      0.3468,\n",
            "            0.34711,     0.34721,     0.34731,      0.3474,      0.3475,      0.3476,     0.34769,     0.34779,     0.34789,     0.34798,     0.34808,     0.34818,     0.34827,     0.34837,     0.34846,     0.34856,     0.34865,     0.34875,     0.34885,     0.34894,     0.34904,     0.34913,     0.34923,\n",
            "            0.34932,     0.34942,     0.34951,      0.3496,      0.3497,     0.34979,     0.34989,     0.34998,     0.34885,      0.3474,     0.34594,     0.34449,     0.34303,     0.34157,     0.34011,     0.33865,     0.33719,     0.33641,     0.33739,     0.33836,     0.33959,     0.34129,     0.34197,\n",
            "             0.3421,     0.34224,     0.34237,     0.34251,     0.34264,     0.34278,     0.34291,     0.34304,     0.34318,     0.34331,     0.34344,     0.34358,     0.34371,     0.34384,     0.34397,      0.3441,     0.34423,     0.34436,      0.3445,     0.34463,     0.34476,     0.34503,     0.34548,\n",
            "            0.34592,     0.34636,      0.3468,     0.34723,     0.34766,     0.34651,      0.3444,     0.34228,     0.34016,     0.33803,     0.33591,     0.33378,     0.33344,     0.33359,     0.33373,     0.33387,       0.334,     0.33414,     0.33428,     0.33442,     0.33456,      0.3347,     0.33484,\n",
            "            0.33497,     0.33511,     0.33525,     0.33538,     0.33552,     0.33565,     0.33579,     0.33592,     0.33606,     0.33619,     0.33731,     0.33948,     0.34001,     0.34053,     0.34106,     0.34157,     0.34209,     0.34199,     0.34129,      0.3406,      0.3399,      0.3392,      0.3385,\n",
            "             0.3378,      0.3371,      0.3364,     0.33569,     0.33499,     0.33429,     0.33359,     0.33288,     0.33218,     0.33148,     0.33077,     0.33007,     0.32936,     0.32866,     0.32795,     0.32723,     0.32611,     0.32499,     0.32388,     0.32275,     0.32163,     0.32051,     0.31939,\n",
            "            0.31826,     0.31714,     0.31601,     0.31489,     0.31376,     0.31263,     0.31117,     0.30918,     0.30718,     0.30518,     0.30318,     0.30117,     0.29917,     0.29715,     0.29596,     0.29537,     0.29478,     0.29419,     0.29359,       0.293,     0.29241,     0.29182,     0.29123,\n",
            "            0.29063,     0.29004,     0.28945,     0.28886,     0.28826,     0.28767,     0.28707,     0.28648,     0.28589,     0.28529,      0.2847,      0.2841,     0.28351,     0.28291,     0.28231,     0.28172,     0.28112,     0.28053,     0.26799,     0.26449,     0.26493,     0.26536,     0.26579,\n",
            "            0.26621,     0.26663,     0.26679,     0.26693,     0.26707,     0.26721,     0.26735,     0.26749,     0.26762,     0.26776,     0.26789,     0.26803,     0.26816,      0.2683,     0.26843,     0.26856,     0.26869,     0.26883,     0.26896,     0.26909,     0.26922,     0.26952,     0.26985,\n",
            "            0.27017,     0.27048,      0.2708,     0.27111,     0.27142,     0.27172,     0.25512,     0.25547,     0.25583,     0.25617,     0.25652,     0.25685,     0.25719,     0.25665,     0.25392,     0.25118,     0.24843,     0.24568,     0.24293,     0.24016,     0.24008,     0.24016,     0.24024,\n",
            "            0.24032,      0.2404,     0.24047,     0.24055,     0.24063,     0.24071,     0.24079,     0.24087,     0.24094,     0.24102,      0.2411,     0.24118,     0.24125,     0.24133,      0.2414,     0.24148,     0.24156,     0.24163,     0.24171,     0.24178,     0.24185,     0.24193,       0.242,\n",
            "            0.24208,     0.24215,     0.24222,      0.2423,     0.24237,     0.24207,     0.24054,     0.23902,      0.2375,     0.23597,     0.23444,     0.23291,     0.23137,     0.22984,      0.2283,     0.22676,     0.22522,     0.22308,     0.22042,     0.21775,     0.21507,     0.21238,     0.20969,\n",
            "              0.207,     0.20086,      0.1932,     0.18606,     0.18049,      0.1749,     0.16929,     0.16362,     0.15792,      0.1522,     0.14896,       0.149,     0.14905,     0.14909,     0.14913,     0.14918,     0.14922,     0.14927,     0.14931,     0.14935,     0.14939,     0.14944,     0.14948,\n",
            "            0.14952,     0.14956,     0.14961,     0.14965,     0.14969,     0.14973,     0.14977,     0.14981,     0.14985,     0.14989,     0.14993,     0.14997,     0.15001,     0.15005,     0.15009,     0.15013,     0.15017,     0.15021,     0.15025,     0.15029,     0.15033,     0.15036,      0.1504,\n",
            "            0.15044,     0.15048,     0.15052,     0.14925,      0.1461,     0.14294,     0.13978,      0.1366,     0.13342,     0.12951,      0.1155,     0.10894,     0.10735,     0.10576,     0.10418,     0.10259,     0.10099,      0.0994,    0.097805,    0.096208,    0.094609,    0.093008,    0.091405,\n",
            "             0.0898,    0.087943,    0.085753,    0.083561,    0.081367,    0.079169,    0.076968,    0.074764,    0.072557,    0.070346,    0.068132,    0.067992,    0.066988,    0.065983,    0.064977,    0.063971,    0.062964,    0.061956,    0.060948,    0.059939,    0.058929,    0.057919,    0.056908,\n",
            "           0.055896,    0.054883,     0.05387,    0.052856,    0.051841,    0.050825,    0.049809,    0.048791,    0.047773,    0.046754,    0.045996,    0.046072,    0.046141,    0.046204,    0.046262,    0.046315,    0.046364,     0.04641,    0.046453,    0.046492,    0.023785,           0,           0,\n",
            "                  0,           0,           0,           0,           0,           0,           0,           0,           0,           0,           0,           0,           0,           0,           0,           0,           0,           0,           0,           0,           0,           0,           0,\n",
            "                  0,           0,           0,           0,           0,           0,           0,           0,           0,           0,           0,           0,           0,           0,           0,           0,           0,           0,           0,           0,           0,           0,           0,\n",
            "                  0,           0,           0,           0,           0,           0,           0,           0,           0,           0,           0,           0,           0,           0,           0,           0,           0,           0,           0,           0,           0,           0,           0,\n",
            "                  0,           0,           0,           0,           0,           0,           0,           0,           0,           0,           0,           0,           0,           0,           0,           0,           0,           0,           0,           0,           0,           0,           0,\n",
            "                  0,           0,           0,           0,           0,           0,           0,           0,           0,           0,           0,           0,           0,           0,           0,           0,           0,           0,           0,           0,           0,           0,           0,\n",
            "                  0,           0,           0,           0,           0,           0,           0,           0,           0,           0,           0,           0,           0,           0,           0,           0,           0,           0,           0,           0,           0,           0,           0,\n",
            "                  0,           0,           0,           0,           0,           0,           0,           0,           0,           0,           0,           0,           0,           0,           0,           0,           0,           0,           0,           0,           0,           0,           0,\n",
            "                  0,           0,           0,           0,           0,           0,           0,           0,           0,           0,           0,           0,           0,           0,           0,           0,           0,           0,           0,           0,           0,           0,           0,\n",
            "                  0,           0,           0,           0,           0,           0,           0,           0,           0,           0,           0,           0,           0,           0,           0,           0,           0,           0,           0,           0,           0,           0,           0,\n",
            "                  0,           0,           0,           0,           0,           0,           0,           0,           0,           0,           0]]), 'Confidence', 'F1'], [array([          0,    0.001001,    0.002002,    0.003003,    0.004004,    0.005005,    0.006006,    0.007007,    0.008008,    0.009009,     0.01001,    0.011011,    0.012012,    0.013013,    0.014014,    0.015015,    0.016016,    0.017017,    0.018018,    0.019019,     0.02002,    0.021021,    0.022022,    0.023023,\n",
            "          0.024024,    0.025025,    0.026026,    0.027027,    0.028028,    0.029029,     0.03003,    0.031031,    0.032032,    0.033033,    0.034034,    0.035035,    0.036036,    0.037037,    0.038038,    0.039039,     0.04004,    0.041041,    0.042042,    0.043043,    0.044044,    0.045045,    0.046046,    0.047047,\n",
            "          0.048048,    0.049049,     0.05005,    0.051051,    0.052052,    0.053053,    0.054054,    0.055055,    0.056056,    0.057057,    0.058058,    0.059059,     0.06006,    0.061061,    0.062062,    0.063063,    0.064064,    0.065065,    0.066066,    0.067067,    0.068068,    0.069069,     0.07007,    0.071071,\n",
            "          0.072072,    0.073073,    0.074074,    0.075075,    0.076076,    0.077077,    0.078078,    0.079079,     0.08008,    0.081081,    0.082082,    0.083083,    0.084084,    0.085085,    0.086086,    0.087087,    0.088088,    0.089089,     0.09009,    0.091091,    0.092092,    0.093093,    0.094094,    0.095095,\n",
            "          0.096096,    0.097097,    0.098098,    0.099099,      0.1001,      0.1011,      0.1021,      0.1031,      0.1041,     0.10511,     0.10611,     0.10711,     0.10811,     0.10911,     0.11011,     0.11111,     0.11211,     0.11311,     0.11411,     0.11512,     0.11612,     0.11712,     0.11812,     0.11912,\n",
            "           0.12012,     0.12112,     0.12212,     0.12312,     0.12412,     0.12513,     0.12613,     0.12713,     0.12813,     0.12913,     0.13013,     0.13113,     0.13213,     0.13313,     0.13413,     0.13514,     0.13614,     0.13714,     0.13814,     0.13914,     0.14014,     0.14114,     0.14214,     0.14314,\n",
            "           0.14414,     0.14515,     0.14615,     0.14715,     0.14815,     0.14915,     0.15015,     0.15115,     0.15215,     0.15315,     0.15415,     0.15516,     0.15616,     0.15716,     0.15816,     0.15916,     0.16016,     0.16116,     0.16216,     0.16316,     0.16416,     0.16517,     0.16617,     0.16717,\n",
            "           0.16817,     0.16917,     0.17017,     0.17117,     0.17217,     0.17317,     0.17417,     0.17518,     0.17618,     0.17718,     0.17818,     0.17918,     0.18018,     0.18118,     0.18218,     0.18318,     0.18418,     0.18519,     0.18619,     0.18719,     0.18819,     0.18919,     0.19019,     0.19119,\n",
            "           0.19219,     0.19319,     0.19419,      0.1952,      0.1962,      0.1972,      0.1982,      0.1992,      0.2002,      0.2012,      0.2022,      0.2032,      0.2042,     0.20521,     0.20621,     0.20721,     0.20821,     0.20921,     0.21021,     0.21121,     0.21221,     0.21321,     0.21421,     0.21522,\n",
            "           0.21622,     0.21722,     0.21822,     0.21922,     0.22022,     0.22122,     0.22222,     0.22322,     0.22422,     0.22523,     0.22623,     0.22723,     0.22823,     0.22923,     0.23023,     0.23123,     0.23223,     0.23323,     0.23423,     0.23524,     0.23624,     0.23724,     0.23824,     0.23924,\n",
            "           0.24024,     0.24124,     0.24224,     0.24324,     0.24424,     0.24525,     0.24625,     0.24725,     0.24825,     0.24925,     0.25025,     0.25125,     0.25225,     0.25325,     0.25425,     0.25526,     0.25626,     0.25726,     0.25826,     0.25926,     0.26026,     0.26126,     0.26226,     0.26326,\n",
            "           0.26426,     0.26527,     0.26627,     0.26727,     0.26827,     0.26927,     0.27027,     0.27127,     0.27227,     0.27327,     0.27427,     0.27528,     0.27628,     0.27728,     0.27828,     0.27928,     0.28028,     0.28128,     0.28228,     0.28328,     0.28428,     0.28529,     0.28629,     0.28729,\n",
            "           0.28829,     0.28929,     0.29029,     0.29129,     0.29229,     0.29329,     0.29429,      0.2953,      0.2963,      0.2973,      0.2983,      0.2993,      0.3003,      0.3013,      0.3023,      0.3033,      0.3043,     0.30531,     0.30631,     0.30731,     0.30831,     0.30931,     0.31031,     0.31131,\n",
            "           0.31231,     0.31331,     0.31431,     0.31532,     0.31632,     0.31732,     0.31832,     0.31932,     0.32032,     0.32132,     0.32232,     0.32332,     0.32432,     0.32533,     0.32633,     0.32733,     0.32833,     0.32933,     0.33033,     0.33133,     0.33233,     0.33333,     0.33433,     0.33534,\n",
            "           0.33634,     0.33734,     0.33834,     0.33934,     0.34034,     0.34134,     0.34234,     0.34334,     0.34434,     0.34535,     0.34635,     0.34735,     0.34835,     0.34935,     0.35035,     0.35135,     0.35235,     0.35335,     0.35435,     0.35536,     0.35636,     0.35736,     0.35836,     0.35936,\n",
            "           0.36036,     0.36136,     0.36236,     0.36336,     0.36436,     0.36537,     0.36637,     0.36737,     0.36837,     0.36937,     0.37037,     0.37137,     0.37237,     0.37337,     0.37437,     0.37538,     0.37638,     0.37738,     0.37838,     0.37938,     0.38038,     0.38138,     0.38238,     0.38338,\n",
            "           0.38438,     0.38539,     0.38639,     0.38739,     0.38839,     0.38939,     0.39039,     0.39139,     0.39239,     0.39339,     0.39439,      0.3954,      0.3964,      0.3974,      0.3984,      0.3994,      0.4004,      0.4014,      0.4024,      0.4034,      0.4044,     0.40541,     0.40641,     0.40741,\n",
            "           0.40841,     0.40941,     0.41041,     0.41141,     0.41241,     0.41341,     0.41441,     0.41542,     0.41642,     0.41742,     0.41842,     0.41942,     0.42042,     0.42142,     0.42242,     0.42342,     0.42442,     0.42543,     0.42643,     0.42743,     0.42843,     0.42943,     0.43043,     0.43143,\n",
            "           0.43243,     0.43343,     0.43443,     0.43544,     0.43644,     0.43744,     0.43844,     0.43944,     0.44044,     0.44144,     0.44244,     0.44344,     0.44444,     0.44545,     0.44645,     0.44745,     0.44845,     0.44945,     0.45045,     0.45145,     0.45245,     0.45345,     0.45445,     0.45546,\n",
            "           0.45646,     0.45746,     0.45846,     0.45946,     0.46046,     0.46146,     0.46246,     0.46346,     0.46446,     0.46547,     0.46647,     0.46747,     0.46847,     0.46947,     0.47047,     0.47147,     0.47247,     0.47347,     0.47447,     0.47548,     0.47648,     0.47748,     0.47848,     0.47948,\n",
            "           0.48048,     0.48148,     0.48248,     0.48348,     0.48448,     0.48549,     0.48649,     0.48749,     0.48849,     0.48949,     0.49049,     0.49149,     0.49249,     0.49349,     0.49449,      0.4955,      0.4965,      0.4975,      0.4985,      0.4995,      0.5005,      0.5015,      0.5025,      0.5035,\n",
            "            0.5045,     0.50551,     0.50651,     0.50751,     0.50851,     0.50951,     0.51051,     0.51151,     0.51251,     0.51351,     0.51451,     0.51552,     0.51652,     0.51752,     0.51852,     0.51952,     0.52052,     0.52152,     0.52252,     0.52352,     0.52452,     0.52553,     0.52653,     0.52753,\n",
            "           0.52853,     0.52953,     0.53053,     0.53153,     0.53253,     0.53353,     0.53453,     0.53554,     0.53654,     0.53754,     0.53854,     0.53954,     0.54054,     0.54154,     0.54254,     0.54354,     0.54454,     0.54555,     0.54655,     0.54755,     0.54855,     0.54955,     0.55055,     0.55155,\n",
            "           0.55255,     0.55355,     0.55455,     0.55556,     0.55656,     0.55756,     0.55856,     0.55956,     0.56056,     0.56156,     0.56256,     0.56356,     0.56456,     0.56557,     0.56657,     0.56757,     0.56857,     0.56957,     0.57057,     0.57157,     0.57257,     0.57357,     0.57457,     0.57558,\n",
            "           0.57658,     0.57758,     0.57858,     0.57958,     0.58058,     0.58158,     0.58258,     0.58358,     0.58458,     0.58559,     0.58659,     0.58759,     0.58859,     0.58959,     0.59059,     0.59159,     0.59259,     0.59359,     0.59459,      0.5956,      0.5966,      0.5976,      0.5986,      0.5996,\n",
            "            0.6006,      0.6016,      0.6026,      0.6036,      0.6046,     0.60561,     0.60661,     0.60761,     0.60861,     0.60961,     0.61061,     0.61161,     0.61261,     0.61361,     0.61461,     0.61562,     0.61662,     0.61762,     0.61862,     0.61962,     0.62062,     0.62162,     0.62262,     0.62362,\n",
            "           0.62462,     0.62563,     0.62663,     0.62763,     0.62863,     0.62963,     0.63063,     0.63163,     0.63263,     0.63363,     0.63463,     0.63564,     0.63664,     0.63764,     0.63864,     0.63964,     0.64064,     0.64164,     0.64264,     0.64364,     0.64464,     0.64565,     0.64665,     0.64765,\n",
            "           0.64865,     0.64965,     0.65065,     0.65165,     0.65265,     0.65365,     0.65465,     0.65566,     0.65666,     0.65766,     0.65866,     0.65966,     0.66066,     0.66166,     0.66266,     0.66366,     0.66466,     0.66567,     0.66667,     0.66767,     0.66867,     0.66967,     0.67067,     0.67167,\n",
            "           0.67267,     0.67367,     0.67467,     0.67568,     0.67668,     0.67768,     0.67868,     0.67968,     0.68068,     0.68168,     0.68268,     0.68368,     0.68468,     0.68569,     0.68669,     0.68769,     0.68869,     0.68969,     0.69069,     0.69169,     0.69269,     0.69369,     0.69469,      0.6957,\n",
            "            0.6967,      0.6977,      0.6987,      0.6997,      0.7007,      0.7017,      0.7027,      0.7037,      0.7047,     0.70571,     0.70671,     0.70771,     0.70871,     0.70971,     0.71071,     0.71171,     0.71271,     0.71371,     0.71471,     0.71572,     0.71672,     0.71772,     0.71872,     0.71972,\n",
            "           0.72072,     0.72172,     0.72272,     0.72372,     0.72472,     0.72573,     0.72673,     0.72773,     0.72873,     0.72973,     0.73073,     0.73173,     0.73273,     0.73373,     0.73473,     0.73574,     0.73674,     0.73774,     0.73874,     0.73974,     0.74074,     0.74174,     0.74274,     0.74374,\n",
            "           0.74474,     0.74575,     0.74675,     0.74775,     0.74875,     0.74975,     0.75075,     0.75175,     0.75275,     0.75375,     0.75475,     0.75576,     0.75676,     0.75776,     0.75876,     0.75976,     0.76076,     0.76176,     0.76276,     0.76376,     0.76476,     0.76577,     0.76677,     0.76777,\n",
            "           0.76877,     0.76977,     0.77077,     0.77177,     0.77277,     0.77377,     0.77477,     0.77578,     0.77678,     0.77778,     0.77878,     0.77978,     0.78078,     0.78178,     0.78278,     0.78378,     0.78478,     0.78579,     0.78679,     0.78779,     0.78879,     0.78979,     0.79079,     0.79179,\n",
            "           0.79279,     0.79379,     0.79479,      0.7958,      0.7968,      0.7978,      0.7988,      0.7998,      0.8008,      0.8018,      0.8028,      0.8038,      0.8048,     0.80581,     0.80681,     0.80781,     0.80881,     0.80981,     0.81081,     0.81181,     0.81281,     0.81381,     0.81481,     0.81582,\n",
            "           0.81682,     0.81782,     0.81882,     0.81982,     0.82082,     0.82182,     0.82282,     0.82382,     0.82482,     0.82583,     0.82683,     0.82783,     0.82883,     0.82983,     0.83083,     0.83183,     0.83283,     0.83383,     0.83483,     0.83584,     0.83684,     0.83784,     0.83884,     0.83984,\n",
            "           0.84084,     0.84184,     0.84284,     0.84384,     0.84484,     0.84585,     0.84685,     0.84785,     0.84885,     0.84985,     0.85085,     0.85185,     0.85285,     0.85385,     0.85485,     0.85586,     0.85686,     0.85786,     0.85886,     0.85986,     0.86086,     0.86186,     0.86286,     0.86386,\n",
            "           0.86486,     0.86587,     0.86687,     0.86787,     0.86887,     0.86987,     0.87087,     0.87187,     0.87287,     0.87387,     0.87487,     0.87588,     0.87688,     0.87788,     0.87888,     0.87988,     0.88088,     0.88188,     0.88288,     0.88388,     0.88488,     0.88589,     0.88689,     0.88789,\n",
            "           0.88889,     0.88989,     0.89089,     0.89189,     0.89289,     0.89389,     0.89489,      0.8959,      0.8969,      0.8979,      0.8989,      0.8999,      0.9009,      0.9019,      0.9029,      0.9039,      0.9049,     0.90591,     0.90691,     0.90791,     0.90891,     0.90991,     0.91091,     0.91191,\n",
            "           0.91291,     0.91391,     0.91491,     0.91592,     0.91692,     0.91792,     0.91892,     0.91992,     0.92092,     0.92192,     0.92292,     0.92392,     0.92492,     0.92593,     0.92693,     0.92793,     0.92893,     0.92993,     0.93093,     0.93193,     0.93293,     0.93393,     0.93493,     0.93594,\n",
            "           0.93694,     0.93794,     0.93894,     0.93994,     0.94094,     0.94194,     0.94294,     0.94394,     0.94494,     0.94595,     0.94695,     0.94795,     0.94895,     0.94995,     0.95095,     0.95195,     0.95295,     0.95395,     0.95495,     0.95596,     0.95696,     0.95796,     0.95896,     0.95996,\n",
            "           0.96096,     0.96196,     0.96296,     0.96396,     0.96496,     0.96597,     0.96697,     0.96797,     0.96897,     0.96997,     0.97097,     0.97197,     0.97297,     0.97397,     0.97497,     0.97598,     0.97698,     0.97798,     0.97898,     0.97998,     0.98098,     0.98198,     0.98298,     0.98398,\n",
            "           0.98498,     0.98599,     0.98699,     0.98799,     0.98899,     0.98999,     0.99099,     0.99199,     0.99299,     0.99399,     0.99499,       0.996,       0.997,       0.998,       0.999,           1]), array([[   0.022516,    0.022516,    0.034796,     0.04406,    0.052289,    0.059588,    0.066055,    0.070206,      0.0754,    0.080757,    0.087315,    0.092688,    0.097028,     0.10112,     0.10617,     0.11065,     0.11477,     0.11997,     0.12257,     0.12691,     0.12811,      0.1294,     0.13323,\n",
            "            0.13639,      0.1426,     0.14571,     0.14784,     0.15185,     0.15629,     0.15969,     0.16278,      0.1611,     0.16436,     0.16651,      0.1716,     0.17421,     0.17561,     0.17748,     0.18044,     0.18598,     0.18782,     0.18658,     0.18879,     0.18895,     0.18962,     0.18398,\n",
            "            0.18619,     0.18815,     0.19381,      0.1986,      0.2031,     0.20772,     0.21125,     0.21156,     0.21188,     0.21299,     0.21622,     0.21793,     0.21869,     0.22087,     0.22173,     0.22305,     0.22574,     0.22737,     0.22804,     0.23046,     0.23159,     0.23267,      0.2304,\n",
            "            0.22979,     0.23208,     0.23566,     0.23667,     0.23773,     0.23969,     0.24179,      0.2459,     0.24666,     0.24926,     0.25189,     0.25266,     0.25377,     0.25556,     0.25707,     0.25566,     0.25505,       0.257,     0.25831,     0.25914,     0.26023,     0.26027,     0.25829,\n",
            "            0.25888,     0.25947,     0.26095,     0.26359,     0.26476,     0.26425,     0.26228,     0.26032,     0.26197,     0.26304,     0.26476,     0.26774,     0.26947,     0.27225,     0.27551,     0.27651,     0.27783,      0.2809,     0.28171,     0.28199,     0.28227,     0.28255,     0.28284,\n",
            "            0.28312,      0.2834,     0.28421,     0.28613,     0.28719,      0.2896,      0.2907,     0.29167,     0.29246,     0.29325,       0.296,     0.29685,      0.2977,      0.2997,     0.30338,     0.30385,     0.30432,     0.30478,     0.30525,     0.30572,     0.30645,     0.30722,       0.308,\n",
            "            0.30878,     0.30956,     0.31035,      0.3121,      0.3146,     0.31617,     0.31355,     0.31579,      0.3162,     0.31661,     0.31702,     0.31743,     0.31784,     0.31825,      0.3194,     0.32562,     0.33042,      0.3319,     0.33335,     0.33411,     0.33486,     0.33561,     0.33636,\n",
            "            0.33534,     0.33409,     0.33284,     0.33159,     0.33034,     0.33145,     0.33288,     0.33591,     0.33902,     0.34352,     0.34507,     0.34669,     0.34953,     0.35268,     0.35457,     0.35598,     0.35655,     0.35315,     0.35126,     0.35433,      0.3556,     0.35688,     0.35914,\n",
            "            0.36305,     0.36532,     0.36633,     0.36716,       0.368,     0.36884,     0.36971,     0.37082,     0.37193,     0.37304,     0.37469,     0.37696,     0.37901,     0.38095,     0.38838,     0.39255,      0.3963,     0.40002,     0.40071,     0.40139,     0.40208,     0.40276,     0.40345,\n",
            "            0.40413,     0.40486,     0.40611,     0.40736,     0.40861,     0.41084,     0.41849,     0.41566,     0.41283,      0.4135,     0.41462,     0.41575,     0.41688,     0.41872,     0.42271,     0.42348,     0.42292,      0.4262,     0.42537,     0.42385,     0.42234,     0.42083,     0.41932,\n",
            "            0.41726,     0.41501,     0.41276,     0.41151,     0.41426,     0.41769,     0.42137,     0.41843,     0.41549,     0.41671,     0.42067,     0.42365,     0.42695,     0.43321,     0.43435,     0.43549,     0.43664,     0.43778,     0.43893,     0.44486,     0.44874,     0.45175,     0.45579,\n",
            "            0.46038,     0.46114,      0.4619,     0.46266,     0.46342,     0.46418,     0.46494,     0.46571,     0.46647,     0.46723,      0.4767,     0.48404,     0.48524,     0.48644,     0.48764,     0.48884,     0.49004,     0.49124,     0.48848,     0.48449,     0.48769,     0.49833,     0.51075,\n",
            "            0.51808,     0.51699,     0.51589,      0.5148,      0.5137,     0.51261,     0.51151,     0.51042,     0.50934,     0.50839,     0.50745,     0.50651,     0.50556,     0.50462,     0.50367,     0.50273,     0.50179,     0.50084,     0.50014,     0.50148,     0.50282,     0.50416,      0.5055,\n",
            "            0.50684,     0.50818,     0.50952,      0.5131,     0.51728,     0.52058,     0.52226,     0.52393,      0.5256,     0.52728,     0.52895,     0.53046,     0.52556,      0.5331,     0.53705,       0.541,     0.54445,     0.54706,     0.54966,     0.55227,     0.55488,     0.55514,     0.55458,\n",
            "            0.55402,     0.55346,      0.5529,     0.55234,     0.55178,     0.55122,     0.55066,      0.5501,     0.54955,     0.54899,     0.54843,     0.54787,     0.54731,     0.54675,     0.54619,     0.54563,     0.55264,     0.55768,      0.5567,     0.55572,     0.55474,     0.55376,     0.55278,\n",
            "             0.5518,     0.55081,     0.54983,     0.54885,     0.54787,     0.54092,     0.53384,     0.52856,     0.52521,     0.52584,     0.52648,     0.52711,     0.52774,     0.52838,     0.52901,     0.52965,     0.53028,     0.53092,     0.53155,     0.53219,     0.53282,     0.53345,     0.53409,\n",
            "            0.53472,     0.53536,     0.53599,     0.53663,     0.53726,     0.53789,     0.53864,     0.54035,     0.54206,     0.54377,     0.54548,     0.54719,      0.5489,     0.55061,     0.55231,     0.55402,     0.55572,     0.55742,     0.55912,     0.56082,     0.56252,     0.56422,     0.56592,\n",
            "            0.56759,     0.56811,     0.56863,     0.56915,     0.56967,     0.57019,     0.57071,     0.57123,     0.57176,     0.57228,      0.5728,     0.57332,     0.57384,     0.57436,     0.57488,      0.5754,     0.57593,     0.57645,     0.57697,     0.57749,     0.57801,     0.57853,     0.57905,\n",
            "            0.57958,      0.5801,     0.58062,     0.58114,     0.58166,     0.58218,      0.5827,     0.58322,     0.58234,     0.58109,     0.57984,     0.57859,     0.57734,     0.57609,     0.57483,     0.57358,     0.57233,     0.57303,     0.57877,     0.58451,     0.59191,     0.60235,     0.60661,\n",
            "            0.60746,     0.60832,     0.60917,     0.61002,     0.61088,     0.61173,     0.61258,     0.61344,     0.61429,     0.61514,       0.616,     0.61685,      0.6177,     0.61856,     0.61941,     0.62026,     0.62112,     0.62197,     0.62282,     0.62368,     0.62453,     0.62633,     0.62928,\n",
            "            0.63223,     0.63519,     0.63814,     0.64109,     0.64404,     0.64409,     0.64235,     0.64062,     0.63889,     0.63716,     0.63543,     0.63369,     0.63414,     0.63516,     0.63617,     0.63719,     0.63821,     0.63923,     0.64024,     0.64126,     0.64228,      0.6433,     0.64431,\n",
            "            0.64533,     0.64635,     0.64737,     0.64838,      0.6494,     0.65042,     0.65144,     0.65245,     0.65347,     0.65449,     0.66307,     0.68009,     0.68438,     0.68868,     0.69297,     0.69726,     0.70156,     0.70344,     0.70291,     0.70238,     0.70185,     0.70131,     0.70078,\n",
            "            0.70025,     0.69972,     0.69919,     0.69866,     0.69813,      0.6976,     0.69707,     0.69654,       0.696,     0.69547,     0.69494,     0.69441,     0.69388,     0.69335,     0.69282,     0.69227,     0.69137,     0.69047,     0.68957,     0.68867,     0.68777,     0.68687,     0.68597,\n",
            "            0.68507,     0.68416,     0.68326,     0.68236,     0.68146,     0.68056,     0.67935,     0.67764,     0.67594,     0.67423,     0.67252,     0.67081,      0.6691,     0.66739,     0.66636,     0.66582,     0.66528,     0.66474,      0.6642,     0.66366,     0.66312,     0.66258,     0.66203,\n",
            "            0.66149,     0.66095,     0.66041,     0.65987,     0.65933,     0.65879,     0.65825,     0.65771,     0.65717,     0.65663,     0.65609,     0.65555,     0.65501,     0.65447,     0.65393,     0.65339,     0.65285,     0.65231,     0.64009,     0.64035,     0.64553,      0.6507,     0.65588,\n",
            "            0.66106,     0.66623,     0.66827,     0.67002,     0.67178,     0.67353,     0.67528,     0.67703,     0.67879,     0.68054,     0.68229,     0.68404,     0.68579,     0.68755,      0.6893,     0.69105,      0.6928,     0.69456,     0.69631,     0.69806,     0.69981,     0.70397,     0.70841,\n",
            "            0.71285,     0.71729,     0.72174,     0.72618,     0.73062,     0.73507,     0.72571,     0.73151,     0.73732,     0.74313,     0.74893,     0.75474,     0.76054,     0.76405,     0.76173,     0.75941,     0.75709,     0.75477,     0.75245,     0.75013,     0.75149,     0.75306,     0.75464,\n",
            "            0.75622,     0.75779,     0.75937,     0.76095,     0.76252,      0.7641,     0.76568,     0.76725,     0.76883,     0.77041,     0.77199,     0.77356,     0.77514,     0.77672,     0.77829,     0.77987,     0.78145,     0.78302,      0.7846,     0.78618,     0.78776,     0.78933,     0.79091,\n",
            "            0.79249,     0.79406,     0.79564,     0.79722,     0.79879,     0.79971,     0.79849,     0.79727,     0.79605,     0.79483,     0.79361,     0.79239,     0.79117,     0.78995,     0.78873,     0.78751,     0.78629,     0.78444,     0.78203,     0.77961,      0.7772,     0.77478,     0.77237,\n",
            "            0.76996,     0.76372,     0.75583,     0.74827,     0.74161,     0.73496,      0.7283,     0.72052,     0.71253,     0.70454,     0.70086,     0.70285,     0.70485,     0.70684,     0.70883,     0.71082,     0.71282,     0.71481,      0.7168,      0.7188,     0.72079,     0.72278,     0.72478,\n",
            "            0.72677,     0.72876,     0.73076,     0.73275,     0.73474,     0.73674,     0.73873,     0.74072,     0.74271,     0.74471,      0.7467,     0.74869,     0.75069,     0.75268,     0.75467,     0.75667,     0.75866,     0.76065,     0.76265,     0.76464,     0.76663,     0.76862,     0.77062,\n",
            "            0.77261,      0.7746,      0.7766,     0.77599,     0.77161,     0.76723,     0.76285,     0.75847,     0.75409,     0.74838,     0.72397,     0.71211,     0.70849,     0.70487,     0.70126,     0.69764,     0.69403,     0.69041,      0.6868,     0.68318,     0.67956,     0.67595,     0.67233,\n",
            "            0.66872,     0.66371,     0.65688,     0.65004,     0.64321,     0.63638,     0.62954,     0.62271,     0.61588,     0.60904,     0.60221,     0.74928,     0.74549,     0.74169,     0.73789,      0.7341,      0.7303,      0.7265,     0.72271,     0.71891,     0.71512,     0.71132,     0.70752,\n",
            "            0.70373,     0.69993,     0.69613,     0.69234,     0.68854,     0.68474,     0.68095,     0.67715,     0.67335,     0.66956,     0.67481,     0.70898,     0.74314,     0.77731,     0.81148,     0.84565,     0.87981,     0.91398,     0.94815,     0.98232,           1,           1,           1,\n",
            "                  1,           1,           1,           1,           1,           1,           1,           1,           1,           1,           1,           1,           1,           1,           1,           1,           1,           1,           1,           1,           1,           1,           1,\n",
            "                  1,           1,           1,           1,           1,           1,           1,           1,           1,           1,           1,           1,           1,           1,           1,           1,           1,           1,           1,           1,           1,           1,           1,\n",
            "                  1,           1,           1,           1,           1,           1,           1,           1,           1,           1,           1,           1,           1,           1,           1,           1,           1,           1,           1,           1,           1,           1,           1,\n",
            "                  1,           1,           1,           1,           1,           1,           1,           1,           1,           1,           1,           1,           1,           1,           1,           1,           1,           1,           1,           1,           1,           1,           1,\n",
            "                  1,           1,           1,           1,           1,           1,           1,           1,           1,           1,           1,           1,           1,           1,           1,           1,           1,           1,           1,           1,           1,           1,           1,\n",
            "                  1,           1,           1,           1,           1,           1,           1,           1,           1,           1,           1,           1,           1,           1,           1,           1,           1,           1,           1,           1,           1,           1,           1,\n",
            "                  1,           1,           1,           1,           1,           1,           1,           1,           1,           1,           1,           1,           1,           1,           1,           1,           1,           1,           1,           1,           1,           1,           1,\n",
            "                  1,           1,           1,           1,           1,           1,           1,           1,           1,           1,           1,           1,           1,           1,           1,           1,           1,           1,           1,           1,           1,           1,           1,\n",
            "                  1,           1,           1,           1,           1,           1,           1,           1,           1,           1,           1,           1,           1,           1,           1,           1,           1,           1,           1,           1,           1,           1,           1,\n",
            "                  1,           1,           1,           1,           1,           1,           1,           1,           1,           1,           1]]), 'Confidence', 'Precision'], [array([          0,    0.001001,    0.002002,    0.003003,    0.004004,    0.005005,    0.006006,    0.007007,    0.008008,    0.009009,     0.01001,    0.011011,    0.012012,    0.013013,    0.014014,    0.015015,    0.016016,    0.017017,    0.018018,    0.019019,     0.02002,    0.021021,    0.022022,    0.023023,\n",
            "          0.024024,    0.025025,    0.026026,    0.027027,    0.028028,    0.029029,     0.03003,    0.031031,    0.032032,    0.033033,    0.034034,    0.035035,    0.036036,    0.037037,    0.038038,    0.039039,     0.04004,    0.041041,    0.042042,    0.043043,    0.044044,    0.045045,    0.046046,    0.047047,\n",
            "          0.048048,    0.049049,     0.05005,    0.051051,    0.052052,    0.053053,    0.054054,    0.055055,    0.056056,    0.057057,    0.058058,    0.059059,     0.06006,    0.061061,    0.062062,    0.063063,    0.064064,    0.065065,    0.066066,    0.067067,    0.068068,    0.069069,     0.07007,    0.071071,\n",
            "          0.072072,    0.073073,    0.074074,    0.075075,    0.076076,    0.077077,    0.078078,    0.079079,     0.08008,    0.081081,    0.082082,    0.083083,    0.084084,    0.085085,    0.086086,    0.087087,    0.088088,    0.089089,     0.09009,    0.091091,    0.092092,    0.093093,    0.094094,    0.095095,\n",
            "          0.096096,    0.097097,    0.098098,    0.099099,      0.1001,      0.1011,      0.1021,      0.1031,      0.1041,     0.10511,     0.10611,     0.10711,     0.10811,     0.10911,     0.11011,     0.11111,     0.11211,     0.11311,     0.11411,     0.11512,     0.11612,     0.11712,     0.11812,     0.11912,\n",
            "           0.12012,     0.12112,     0.12212,     0.12312,     0.12412,     0.12513,     0.12613,     0.12713,     0.12813,     0.12913,     0.13013,     0.13113,     0.13213,     0.13313,     0.13413,     0.13514,     0.13614,     0.13714,     0.13814,     0.13914,     0.14014,     0.14114,     0.14214,     0.14314,\n",
            "           0.14414,     0.14515,     0.14615,     0.14715,     0.14815,     0.14915,     0.15015,     0.15115,     0.15215,     0.15315,     0.15415,     0.15516,     0.15616,     0.15716,     0.15816,     0.15916,     0.16016,     0.16116,     0.16216,     0.16316,     0.16416,     0.16517,     0.16617,     0.16717,\n",
            "           0.16817,     0.16917,     0.17017,     0.17117,     0.17217,     0.17317,     0.17417,     0.17518,     0.17618,     0.17718,     0.17818,     0.17918,     0.18018,     0.18118,     0.18218,     0.18318,     0.18418,     0.18519,     0.18619,     0.18719,     0.18819,     0.18919,     0.19019,     0.19119,\n",
            "           0.19219,     0.19319,     0.19419,      0.1952,      0.1962,      0.1972,      0.1982,      0.1992,      0.2002,      0.2012,      0.2022,      0.2032,      0.2042,     0.20521,     0.20621,     0.20721,     0.20821,     0.20921,     0.21021,     0.21121,     0.21221,     0.21321,     0.21421,     0.21522,\n",
            "           0.21622,     0.21722,     0.21822,     0.21922,     0.22022,     0.22122,     0.22222,     0.22322,     0.22422,     0.22523,     0.22623,     0.22723,     0.22823,     0.22923,     0.23023,     0.23123,     0.23223,     0.23323,     0.23423,     0.23524,     0.23624,     0.23724,     0.23824,     0.23924,\n",
            "           0.24024,     0.24124,     0.24224,     0.24324,     0.24424,     0.24525,     0.24625,     0.24725,     0.24825,     0.24925,     0.25025,     0.25125,     0.25225,     0.25325,     0.25425,     0.25526,     0.25626,     0.25726,     0.25826,     0.25926,     0.26026,     0.26126,     0.26226,     0.26326,\n",
            "           0.26426,     0.26527,     0.26627,     0.26727,     0.26827,     0.26927,     0.27027,     0.27127,     0.27227,     0.27327,     0.27427,     0.27528,     0.27628,     0.27728,     0.27828,     0.27928,     0.28028,     0.28128,     0.28228,     0.28328,     0.28428,     0.28529,     0.28629,     0.28729,\n",
            "           0.28829,     0.28929,     0.29029,     0.29129,     0.29229,     0.29329,     0.29429,      0.2953,      0.2963,      0.2973,      0.2983,      0.2993,      0.3003,      0.3013,      0.3023,      0.3033,      0.3043,     0.30531,     0.30631,     0.30731,     0.30831,     0.30931,     0.31031,     0.31131,\n",
            "           0.31231,     0.31331,     0.31431,     0.31532,     0.31632,     0.31732,     0.31832,     0.31932,     0.32032,     0.32132,     0.32232,     0.32332,     0.32432,     0.32533,     0.32633,     0.32733,     0.32833,     0.32933,     0.33033,     0.33133,     0.33233,     0.33333,     0.33433,     0.33534,\n",
            "           0.33634,     0.33734,     0.33834,     0.33934,     0.34034,     0.34134,     0.34234,     0.34334,     0.34434,     0.34535,     0.34635,     0.34735,     0.34835,     0.34935,     0.35035,     0.35135,     0.35235,     0.35335,     0.35435,     0.35536,     0.35636,     0.35736,     0.35836,     0.35936,\n",
            "           0.36036,     0.36136,     0.36236,     0.36336,     0.36436,     0.36537,     0.36637,     0.36737,     0.36837,     0.36937,     0.37037,     0.37137,     0.37237,     0.37337,     0.37437,     0.37538,     0.37638,     0.37738,     0.37838,     0.37938,     0.38038,     0.38138,     0.38238,     0.38338,\n",
            "           0.38438,     0.38539,     0.38639,     0.38739,     0.38839,     0.38939,     0.39039,     0.39139,     0.39239,     0.39339,     0.39439,      0.3954,      0.3964,      0.3974,      0.3984,      0.3994,      0.4004,      0.4014,      0.4024,      0.4034,      0.4044,     0.40541,     0.40641,     0.40741,\n",
            "           0.40841,     0.40941,     0.41041,     0.41141,     0.41241,     0.41341,     0.41441,     0.41542,     0.41642,     0.41742,     0.41842,     0.41942,     0.42042,     0.42142,     0.42242,     0.42342,     0.42442,     0.42543,     0.42643,     0.42743,     0.42843,     0.42943,     0.43043,     0.43143,\n",
            "           0.43243,     0.43343,     0.43443,     0.43544,     0.43644,     0.43744,     0.43844,     0.43944,     0.44044,     0.44144,     0.44244,     0.44344,     0.44444,     0.44545,     0.44645,     0.44745,     0.44845,     0.44945,     0.45045,     0.45145,     0.45245,     0.45345,     0.45445,     0.45546,\n",
            "           0.45646,     0.45746,     0.45846,     0.45946,     0.46046,     0.46146,     0.46246,     0.46346,     0.46446,     0.46547,     0.46647,     0.46747,     0.46847,     0.46947,     0.47047,     0.47147,     0.47247,     0.47347,     0.47447,     0.47548,     0.47648,     0.47748,     0.47848,     0.47948,\n",
            "           0.48048,     0.48148,     0.48248,     0.48348,     0.48448,     0.48549,     0.48649,     0.48749,     0.48849,     0.48949,     0.49049,     0.49149,     0.49249,     0.49349,     0.49449,      0.4955,      0.4965,      0.4975,      0.4985,      0.4995,      0.5005,      0.5015,      0.5025,      0.5035,\n",
            "            0.5045,     0.50551,     0.50651,     0.50751,     0.50851,     0.50951,     0.51051,     0.51151,     0.51251,     0.51351,     0.51451,     0.51552,     0.51652,     0.51752,     0.51852,     0.51952,     0.52052,     0.52152,     0.52252,     0.52352,     0.52452,     0.52553,     0.52653,     0.52753,\n",
            "           0.52853,     0.52953,     0.53053,     0.53153,     0.53253,     0.53353,     0.53453,     0.53554,     0.53654,     0.53754,     0.53854,     0.53954,     0.54054,     0.54154,     0.54254,     0.54354,     0.54454,     0.54555,     0.54655,     0.54755,     0.54855,     0.54955,     0.55055,     0.55155,\n",
            "           0.55255,     0.55355,     0.55455,     0.55556,     0.55656,     0.55756,     0.55856,     0.55956,     0.56056,     0.56156,     0.56256,     0.56356,     0.56456,     0.56557,     0.56657,     0.56757,     0.56857,     0.56957,     0.57057,     0.57157,     0.57257,     0.57357,     0.57457,     0.57558,\n",
            "           0.57658,     0.57758,     0.57858,     0.57958,     0.58058,     0.58158,     0.58258,     0.58358,     0.58458,     0.58559,     0.58659,     0.58759,     0.58859,     0.58959,     0.59059,     0.59159,     0.59259,     0.59359,     0.59459,      0.5956,      0.5966,      0.5976,      0.5986,      0.5996,\n",
            "            0.6006,      0.6016,      0.6026,      0.6036,      0.6046,     0.60561,     0.60661,     0.60761,     0.60861,     0.60961,     0.61061,     0.61161,     0.61261,     0.61361,     0.61461,     0.61562,     0.61662,     0.61762,     0.61862,     0.61962,     0.62062,     0.62162,     0.62262,     0.62362,\n",
            "           0.62462,     0.62563,     0.62663,     0.62763,     0.62863,     0.62963,     0.63063,     0.63163,     0.63263,     0.63363,     0.63463,     0.63564,     0.63664,     0.63764,     0.63864,     0.63964,     0.64064,     0.64164,     0.64264,     0.64364,     0.64464,     0.64565,     0.64665,     0.64765,\n",
            "           0.64865,     0.64965,     0.65065,     0.65165,     0.65265,     0.65365,     0.65465,     0.65566,     0.65666,     0.65766,     0.65866,     0.65966,     0.66066,     0.66166,     0.66266,     0.66366,     0.66466,     0.66567,     0.66667,     0.66767,     0.66867,     0.66967,     0.67067,     0.67167,\n",
            "           0.67267,     0.67367,     0.67467,     0.67568,     0.67668,     0.67768,     0.67868,     0.67968,     0.68068,     0.68168,     0.68268,     0.68368,     0.68468,     0.68569,     0.68669,     0.68769,     0.68869,     0.68969,     0.69069,     0.69169,     0.69269,     0.69369,     0.69469,      0.6957,\n",
            "            0.6967,      0.6977,      0.6987,      0.6997,      0.7007,      0.7017,      0.7027,      0.7037,      0.7047,     0.70571,     0.70671,     0.70771,     0.70871,     0.70971,     0.71071,     0.71171,     0.71271,     0.71371,     0.71471,     0.71572,     0.71672,     0.71772,     0.71872,     0.71972,\n",
            "           0.72072,     0.72172,     0.72272,     0.72372,     0.72472,     0.72573,     0.72673,     0.72773,     0.72873,     0.72973,     0.73073,     0.73173,     0.73273,     0.73373,     0.73473,     0.73574,     0.73674,     0.73774,     0.73874,     0.73974,     0.74074,     0.74174,     0.74274,     0.74374,\n",
            "           0.74474,     0.74575,     0.74675,     0.74775,     0.74875,     0.74975,     0.75075,     0.75175,     0.75275,     0.75375,     0.75475,     0.75576,     0.75676,     0.75776,     0.75876,     0.75976,     0.76076,     0.76176,     0.76276,     0.76376,     0.76476,     0.76577,     0.76677,     0.76777,\n",
            "           0.76877,     0.76977,     0.77077,     0.77177,     0.77277,     0.77377,     0.77477,     0.77578,     0.77678,     0.77778,     0.77878,     0.77978,     0.78078,     0.78178,     0.78278,     0.78378,     0.78478,     0.78579,     0.78679,     0.78779,     0.78879,     0.78979,     0.79079,     0.79179,\n",
            "           0.79279,     0.79379,     0.79479,      0.7958,      0.7968,      0.7978,      0.7988,      0.7998,      0.8008,      0.8018,      0.8028,      0.8038,      0.8048,     0.80581,     0.80681,     0.80781,     0.80881,     0.80981,     0.81081,     0.81181,     0.81281,     0.81381,     0.81481,     0.81582,\n",
            "           0.81682,     0.81782,     0.81882,     0.81982,     0.82082,     0.82182,     0.82282,     0.82382,     0.82482,     0.82583,     0.82683,     0.82783,     0.82883,     0.82983,     0.83083,     0.83183,     0.83283,     0.83383,     0.83483,     0.83584,     0.83684,     0.83784,     0.83884,     0.83984,\n",
            "           0.84084,     0.84184,     0.84284,     0.84384,     0.84484,     0.84585,     0.84685,     0.84785,     0.84885,     0.84985,     0.85085,     0.85185,     0.85285,     0.85385,     0.85485,     0.85586,     0.85686,     0.85786,     0.85886,     0.85986,     0.86086,     0.86186,     0.86286,     0.86386,\n",
            "           0.86486,     0.86587,     0.86687,     0.86787,     0.86887,     0.86987,     0.87087,     0.87187,     0.87287,     0.87387,     0.87487,     0.87588,     0.87688,     0.87788,     0.87888,     0.87988,     0.88088,     0.88188,     0.88288,     0.88388,     0.88488,     0.88589,     0.88689,     0.88789,\n",
            "           0.88889,     0.88989,     0.89089,     0.89189,     0.89289,     0.89389,     0.89489,      0.8959,      0.8969,      0.8979,      0.8989,      0.8999,      0.9009,      0.9019,      0.9029,      0.9039,      0.9049,     0.90591,     0.90691,     0.90791,     0.90891,     0.90991,     0.91091,     0.91191,\n",
            "           0.91291,     0.91391,     0.91491,     0.91592,     0.91692,     0.91792,     0.91892,     0.91992,     0.92092,     0.92192,     0.92292,     0.92392,     0.92492,     0.92593,     0.92693,     0.92793,     0.92893,     0.92993,     0.93093,     0.93193,     0.93293,     0.93393,     0.93493,     0.93594,\n",
            "           0.93694,     0.93794,     0.93894,     0.93994,     0.94094,     0.94194,     0.94294,     0.94394,     0.94494,     0.94595,     0.94695,     0.94795,     0.94895,     0.94995,     0.95095,     0.95195,     0.95295,     0.95395,     0.95495,     0.95596,     0.95696,     0.95796,     0.95896,     0.95996,\n",
            "           0.96096,     0.96196,     0.96296,     0.96396,     0.96496,     0.96597,     0.96697,     0.96797,     0.96897,     0.96997,     0.97097,     0.97197,     0.97297,     0.97397,     0.97497,     0.97598,     0.97698,     0.97798,     0.97898,     0.97998,     0.98098,     0.98198,     0.98298,     0.98398,\n",
            "           0.98498,     0.98599,     0.98699,     0.98799,     0.98899,     0.98999,     0.99099,     0.99199,     0.99299,     0.99399,     0.99499,       0.996,       0.997,       0.998,       0.999,           1]), array([[       0.75,        0.75,     0.72619,     0.70238,     0.67857,     0.66667,     0.65476,     0.64286,     0.63095,     0.63095,     0.63095,     0.63095,     0.63095,     0.63095,     0.63095,     0.63095,     0.61905,     0.61905,     0.60714,     0.60714,     0.59524,     0.58333,     0.58333,\n",
            "            0.58333,     0.58333,     0.58333,     0.58333,     0.58333,     0.58333,     0.58333,     0.58333,     0.57143,     0.57143,     0.55952,     0.55952,     0.55952,     0.54762,     0.54762,     0.54762,     0.54762,     0.54762,     0.53571,     0.53194,     0.52381,     0.52381,         0.5,\n",
            "                0.5,         0.5,         0.5,         0.5,         0.5,         0.5,         0.5,         0.5,         0.5,         0.5,         0.5,         0.5,         0.5,         0.5,         0.5,         0.5,         0.5,         0.5,         0.5,         0.5,         0.5,         0.5,     0.49184,\n",
            "             0.4881,      0.4881,      0.4881,      0.4881,      0.4881,      0.4881,      0.4881,      0.4881,      0.4881,      0.4881,      0.4881,      0.4881,      0.4881,      0.4881,      0.4881,     0.48251,     0.47619,     0.47619,     0.47619,     0.47619,     0.47619,     0.47334,     0.46429,\n",
            "            0.46429,     0.46429,     0.46429,     0.46429,     0.46429,     0.46178,     0.45713,     0.45248,     0.45238,     0.45238,     0.45238,     0.45238,     0.45238,     0.45238,     0.45238,     0.45238,     0.45238,     0.45238,     0.45238,     0.45238,     0.45238,     0.45238,     0.45238,\n",
            "            0.45238,     0.45238,     0.45238,     0.44856,     0.44048,     0.44048,     0.44048,     0.44048,     0.44048,     0.44048,     0.44048,     0.44048,     0.44048,     0.44048,     0.44048,     0.44048,     0.44048,     0.44048,     0.44048,     0.44048,     0.44048,     0.44048,     0.44048,\n",
            "            0.44048,     0.44048,     0.44048,     0.44048,     0.44048,     0.44048,     0.42857,     0.42857,     0.42857,     0.42857,     0.42857,     0.42857,     0.42857,     0.42857,     0.42857,     0.42857,     0.42857,     0.42857,     0.42857,     0.42857,     0.42857,     0.42857,     0.42857,\n",
            "            0.42647,     0.42409,     0.42171,     0.41933,     0.41695,     0.41667,     0.41667,     0.41667,     0.41667,     0.41667,     0.41667,     0.41667,     0.41667,     0.41667,     0.41667,     0.41667,      0.4156,      0.4095,     0.40476,     0.40476,     0.40476,     0.40476,     0.40476,\n",
            "            0.40476,     0.40476,     0.40476,     0.40476,     0.40476,     0.40476,     0.40476,     0.40476,     0.40476,     0.40476,     0.40476,     0.40476,     0.40476,     0.40476,     0.40476,     0.40476,     0.40476,     0.40476,     0.40476,     0.40476,     0.40476,     0.40476,     0.40476,\n",
            "            0.40476,     0.40476,     0.40476,     0.40476,     0.40476,     0.40476,      0.4027,     0.39805,      0.3934,     0.39286,     0.39286,     0.39286,     0.39286,     0.39286,     0.39286,      0.3848,     0.38095,     0.38095,     0.37896,     0.37663,     0.37431,     0.37198,     0.36966,\n",
            "            0.36657,      0.3632,     0.35983,     0.35714,     0.35714,     0.35714,     0.35546,     0.35122,     0.34697,     0.34524,     0.34524,     0.34524,     0.34524,     0.34524,     0.34524,     0.34524,     0.34524,     0.34524,     0.34524,     0.34524,     0.34524,     0.34524,     0.34524,\n",
            "            0.34524,     0.34524,     0.34524,     0.34524,     0.34524,     0.34524,     0.34524,     0.34524,     0.34524,     0.34524,     0.34524,     0.34524,     0.34524,     0.34524,     0.34524,     0.34524,     0.34524,     0.34524,      0.3411,     0.33568,     0.33333,     0.33333,     0.33333,\n",
            "            0.33276,     0.33133,     0.32989,     0.32846,     0.32702,     0.32559,     0.32415,     0.32271,      0.3213,     0.32011,     0.31892,     0.31773,     0.31654,     0.31535,     0.31416,     0.31297,     0.31178,     0.31059,     0.30952,     0.30952,     0.30952,     0.30952,     0.30952,\n",
            "            0.30952,     0.30952,     0.30952,     0.30952,     0.30952,     0.30952,     0.30952,     0.30952,     0.30952,     0.30952,     0.30952,     0.30934,     0.29762,     0.29762,     0.29762,     0.29762,     0.29762,     0.29762,     0.29762,     0.29762,     0.29762,     0.29713,     0.29647,\n",
            "            0.29581,     0.29515,     0.29449,     0.29383,     0.29317,     0.29251,     0.29185,     0.29119,     0.29054,     0.28988,     0.28922,     0.28856,      0.2879,     0.28724,     0.28658,     0.28592,     0.28571,     0.28519,     0.28408,     0.28297,     0.28186,     0.28075,     0.27964,\n",
            "            0.27854,     0.27743,     0.27632,     0.27521,      0.2741,     0.26658,     0.25908,     0.25366,        0.25,        0.25,        0.25,        0.25,        0.25,        0.25,        0.25,        0.25,        0.25,        0.25,        0.25,        0.25,        0.25,        0.25,        0.25,\n",
            "               0.25,        0.25,        0.25,        0.25,        0.25,        0.25,        0.25,        0.25,        0.25,        0.25,        0.25,        0.25,        0.25,        0.25,        0.25,        0.25,        0.25,        0.25,        0.25,        0.25,        0.25,        0.25,        0.25,\n",
            "               0.25,        0.25,        0.25,        0.25,        0.25,        0.25,        0.25,        0.25,        0.25,        0.25,        0.25,        0.25,        0.25,        0.25,        0.25,        0.25,        0.25,        0.25,        0.25,        0.25,        0.25,        0.25,        0.25,\n",
            "               0.25,        0.25,        0.25,        0.25,        0.25,        0.25,        0.25,        0.25,     0.24901,     0.24776,     0.24651,     0.24526,       0.244,     0.24275,      0.2415,     0.24025,       0.239,      0.2381,      0.2381,      0.2381,      0.2381,      0.2381,      0.2381,\n",
            "             0.2381,      0.2381,      0.2381,      0.2381,      0.2381,      0.2381,      0.2381,      0.2381,      0.2381,      0.2381,      0.2381,      0.2381,      0.2381,      0.2381,      0.2381,      0.2381,      0.2381,      0.2381,      0.2381,      0.2381,      0.2381,      0.2381,      0.2381,\n",
            "             0.2381,      0.2381,      0.2381,      0.2381,      0.2381,     0.23701,     0.23527,     0.23353,     0.23178,     0.23004,      0.2283,     0.22655,     0.22619,     0.22619,     0.22619,     0.22619,     0.22619,     0.22619,     0.22619,     0.22619,     0.22619,     0.22619,     0.22619,\n",
            "            0.22619,     0.22619,     0.22619,     0.22619,     0.22619,     0.22619,     0.22619,     0.22619,     0.22619,     0.22619,     0.22619,     0.22619,     0.22619,     0.22619,     0.22619,     0.22619,     0.22619,     0.22591,     0.22536,      0.2248,     0.22425,     0.22369,     0.22314,\n",
            "            0.22259,     0.22203,     0.22148,     0.22092,     0.22037,     0.21981,     0.21926,      0.2187,     0.21815,     0.21759,     0.21704,     0.21648,     0.21593,     0.21537,     0.21482,     0.21425,     0.21338,     0.21251,     0.21164,     0.21077,      0.2099,     0.20902,     0.20815,\n",
            "            0.20728,     0.20641,     0.20554,     0.20467,     0.20379,     0.20292,      0.2018,     0.20028,     0.19875,     0.19723,      0.1957,     0.19418,     0.19265,     0.19113,     0.19022,     0.18978,     0.18933,     0.18889,     0.18845,       0.188,     0.18756,     0.18712,     0.18667,\n",
            "            0.18623,     0.18578,     0.18534,      0.1849,     0.18445,     0.18401,     0.18357,     0.18312,     0.18268,     0.18223,     0.18179,     0.18135,      0.1809,     0.18046,     0.18002,     0.17957,     0.17913,     0.17868,     0.16947,     0.16667,     0.16667,     0.16667,     0.16667,\n",
            "            0.16667,     0.16667,     0.16667,     0.16667,     0.16667,     0.16667,     0.16667,     0.16667,     0.16667,     0.16667,     0.16667,     0.16667,     0.16667,     0.16667,     0.16667,     0.16667,     0.16667,     0.16667,     0.16667,     0.16667,     0.16667,     0.16667,     0.16667,\n",
            "            0.16667,     0.16667,     0.16667,     0.16667,     0.16667,     0.16667,     0.15476,     0.15476,     0.15476,     0.15476,     0.15476,     0.15476,     0.15476,     0.15423,     0.15235,     0.15048,      0.1486,     0.14672,     0.14484,     0.14297,     0.14286,     0.14286,     0.14286,\n",
            "            0.14286,     0.14286,     0.14286,     0.14286,     0.14286,     0.14286,     0.14286,     0.14286,     0.14286,     0.14286,     0.14286,     0.14286,     0.14286,     0.14286,     0.14286,     0.14286,     0.14286,     0.14286,     0.14286,     0.14286,     0.14286,     0.14286,     0.14286,\n",
            "            0.14286,     0.14286,     0.14286,     0.14286,     0.14286,     0.14262,      0.1416,     0.14058,     0.13957,     0.13855,     0.13753,     0.13652,      0.1355,     0.13448,     0.13347,     0.13245,     0.13143,     0.13003,     0.12829,     0.12654,      0.1248,     0.12306,     0.12132,\n",
            "            0.11957,     0.11563,     0.11075,     0.10624,     0.10275,    0.099263,    0.095776,     0.09229,    0.088803,    0.085317,    0.083333,    0.083333,    0.083333,    0.083333,    0.083333,    0.083333,    0.083333,    0.083333,    0.083333,    0.083333,    0.083333,    0.083333,    0.083333,\n",
            "           0.083333,    0.083333,    0.083333,    0.083333,    0.083333,    0.083333,    0.083333,    0.083333,    0.083333,    0.083333,    0.083333,    0.083333,    0.083333,    0.083333,    0.083333,    0.083333,    0.083333,    0.083333,    0.083333,    0.083333,    0.083333,    0.083333,    0.083333,\n",
            "           0.083333,    0.083333,    0.083333,    0.082568,    0.080691,    0.078813,    0.076936,    0.075059,    0.073181,    0.070888,    0.062753,    0.058979,    0.058075,    0.057171,    0.056267,    0.055363,    0.054459,    0.053555,    0.052651,    0.051748,    0.050844,     0.04994,    0.049036,\n",
            "           0.048132,    0.047091,    0.045871,    0.044651,     0.04343,     0.04221,     0.04099,     0.03977,    0.038549,    0.037329,    0.036109,    0.035612,    0.035069,    0.034527,    0.033985,    0.033442,      0.0329,    0.032358,    0.031815,    0.031273,    0.030731,    0.030188,    0.029646,\n",
            "           0.029104,    0.028561,    0.028019,    0.027477,    0.026934,    0.026392,     0.02585,    0.025307,    0.024765,    0.024223,     0.02381,     0.02381,     0.02381,     0.02381,     0.02381,     0.02381,     0.02381,     0.02381,     0.02381,     0.02381,    0.012036,           0,           0,\n",
            "                  0,           0,           0,           0,           0,           0,           0,           0,           0,           0,           0,           0,           0,           0,           0,           0,           0,           0,           0,           0,           0,           0,           0,\n",
            "                  0,           0,           0,           0,           0,           0,           0,           0,           0,           0,           0,           0,           0,           0,           0,           0,           0,           0,           0,           0,           0,           0,           0,\n",
            "                  0,           0,           0,           0,           0,           0,           0,           0,           0,           0,           0,           0,           0,           0,           0,           0,           0,           0,           0,           0,           0,           0,           0,\n",
            "                  0,           0,           0,           0,           0,           0,           0,           0,           0,           0,           0,           0,           0,           0,           0,           0,           0,           0,           0,           0,           0,           0,           0,\n",
            "                  0,           0,           0,           0,           0,           0,           0,           0,           0,           0,           0,           0,           0,           0,           0,           0,           0,           0,           0,           0,           0,           0,           0,\n",
            "                  0,           0,           0,           0,           0,           0,           0,           0,           0,           0,           0,           0,           0,           0,           0,           0,           0,           0,           0,           0,           0,           0,           0,\n",
            "                  0,           0,           0,           0,           0,           0,           0,           0,           0,           0,           0,           0,           0,           0,           0,           0,           0,           0,           0,           0,           0,           0,           0,\n",
            "                  0,           0,           0,           0,           0,           0,           0,           0,           0,           0,           0,           0,           0,           0,           0,           0,           0,           0,           0,           0,           0,           0,           0,\n",
            "                  0,           0,           0,           0,           0,           0,           0,           0,           0,           0,           0,           0,           0,           0,           0,           0,           0,           0,           0,           0,           0,           0,           0,\n",
            "                  0,           0,           0,           0,           0,           0,           0,           0,           0,           0,           0]]), 'Confidence', 'Recall']]\n",
            "fitness: 0.14620740645191263\n",
            "keys: ['metrics/precision(B)', 'metrics/recall(B)', 'metrics/mAP50(B)', 'metrics/mAP50-95(B)']\n",
            "maps: array([    0.12613])\n",
            "names: {0: 'weapon'}\n",
            "plot: True\n",
            "results_dict: {'metrics/precision(B)': 0.42067089656227613, 'metrics/recall(B)': 0.34523809523809523, 'metrics/mAP50(B)': 0.32686616453305156, 'metrics/mAP50-95(B)': 0.12613421110956385, 'fitness': 0.14620740645191263}\n",
            "save_dir: WindowsPath('runs/detect/train142')\n",
            "speed: {'preprocess': 0.8516419981606305, 'inference': 35.13951400062069, 'loss': 0.003908001817762852, 'postprocess': 3.4846920031122863}\n",
            "task: 'detect'\n"
          ]
        }
      ],
      "source": [
        "\n",
        "# Evaluate the trained model\n",
        "metrics = model.val()\n",
        "print(metrics)\n"
      ]
    },
    {
      "cell_type": "markdown",
      "id": "d2d14b73-c358-428d-a092-f513bec16ca8",
      "metadata": {
        "id": "d2d14b73-c358-428d-a092-f513bec16ca8"
      },
      "source": [
        "## Save Trained YOLOv5 Model\n",
        "\n",
        "Saves the trained model to disk for future use.\n",
        "\n",
        "- Format: `.pt` (PyTorch model checkpoint)\n",
        "- Can be reloaded later using `YOLO('path/to/model.pt')`"
      ]
    },
    {
      "cell_type": "code",
      "execution_count": null,
      "id": "cbe82e5a",
      "metadata": {
        "id": "cbe82e5a"
      },
      "outputs": [],
      "source": [
        "model.save(\"C:/Users/yalla/Documents/Anaconda/capstone/my_weapon_model.pt\")\n"
      ]
    },
    {
      "cell_type": "markdown",
      "id": "b7c94a02-e50c-4826-997f-a4f8b83dcb76",
      "metadata": {
        "id": "b7c94a02-e50c-4826-997f-a4f8b83dcb76"
      },
      "source": [
        "## Initialize YOLOv8 Model\n",
        "\n",
        "Loads a pretrained YOLOv8 model using the small architecture (`yolov8s.pt`).\n",
        "\n",
        "- YOLOv8 is the latest iteration in the YOLO family by Ultralytics.\n",
        "- You can fine-tune this model or use it for evaluation and inference."
      ]
    },
    {
      "cell_type": "code",
      "execution_count": null,
      "id": "2bd19d6d",
      "metadata": {
        "id": "2bd19d6d",
        "outputId": "669c5a3d-2780-4913-a4eb-a3feda04c1cc"
      },
      "outputs": [
        {
          "name": "stdout",
          "output_type": "stream",
          "text": [
            "Downloading https://github.com/ultralytics/assets/releases/download/v8.3.0/yolov8s.pt to 'yolov8s.pt'...\n"
          ]
        },
        {
          "name": "stderr",
          "output_type": "stream",
          "text": [
            "100%|██████████| 21.5M/21.5M [00:00<00:00, 22.7MB/s]\n"
          ]
        }
      ],
      "source": [
        "model1 = YOLO(\"yolov8s.pt\")"
      ]
    },
    {
      "cell_type": "markdown",
      "id": "ab0b2b51-bee7-4fbf-8c47-41f41a2d11f9",
      "metadata": {
        "id": "ab0b2b51-bee7-4fbf-8c47-41f41a2d11f9"
      },
      "source": [
        "## Train YOLOv8 Model\n",
        "\n",
        "Trains the YOLOv8 model using updated training features.\n",
        "\n",
        "- Important arguments include:\n",
        "  - `data`: Path to your dataset YAML file.\n",
        "  - `epochs`, `batch`, `imgsz`: typical training hyperparameters.\n",
        "  - `mosaic`, `augment`: augmentation options.\n",
        "  - `cache`: optionally speed up by caching images.\n",
        "  - `half`: enables mixed precision (saves memory).\n",
        "  - `patience`: early stopping criteria (number of epochs to wait)."
      ]
    },
    {
      "cell_type": "code",
      "execution_count": null,
      "id": "0cff6f31-d414-4dd0-b4d7-e5bf28b4d0aa",
      "metadata": {
        "id": "0cff6f31-d414-4dd0-b4d7-e5bf28b4d0aa",
        "outputId": "50d2edc3-463a-4a3e-fe69-1dc61a737e36"
      },
      "outputs": [
        {
          "name": "stdout",
          "output_type": "stream",
          "text": [
            "Ultralytics 8.3.153  Python-3.11.9 torch-2.5.1+cu121 CUDA:0 (NVIDIA GeForce RTX 3070 Ti Laptop GPU, 8192MiB)\n",
            "\u001b[34m\u001b[1mengine\\trainer: \u001b[0magnostic_nms=False, amp=True, augment=False, auto_augment=randaugment, batch=8, bgr=0.0, box=7.5, cache=False, cfg=None, classes=None, close_mosaic=10, cls=0.5, conf=None, copy_paste=0.0, copy_paste_mode=flip, cos_lr=False, cutmix=0.0, data=C:\\Users\\akram\\OneDrive\\Desktop\\saeed\\capstone\\weapon_detection\\data.yaml, degrees=0.0, deterministic=True, device=0, dfl=1.5, dnn=False, dropout=0.0, dynamic=False, embed=None, epochs=50, erasing=0.4, exist_ok=False, fliplr=0.5, flipud=0.0, format=torchscript, fraction=1.0, freeze=None, half=True, hsv_h=0.015, hsv_s=0.7, hsv_v=0.4, imgsz=640, int8=False, iou=0.7, keras=False, kobj=1.0, line_width=None, lr0=0.01, lrf=0.01, mask_ratio=4, max_det=300, mixup=0.0, mode=train, model=yolov8s.pt, momentum=0.937, mosaic=1.0, multi_scale=False, name=train16, nbs=64, nms=False, opset=None, optimize=False, optimizer=auto, overlap_mask=True, patience=20, perspective=0.0, plots=True, pose=12.0, pretrained=True, profile=False, project=None, rect=False, resume=False, retina_masks=False, save=True, save_conf=False, save_crop=False, save_dir=runs\\detect\\train16, save_frames=False, save_json=False, save_period=-1, save_txt=False, scale=0.5, seed=0, shear=0.0, show=False, show_boxes=True, show_conf=True, show_labels=True, simplify=True, single_cls=False, source=None, split=val, stream_buffer=False, task=detect, time=None, tracker=botsort.yaml, translate=0.1, val=True, verbose=True, vid_stride=1, visualize=False, warmup_bias_lr=0.1, warmup_epochs=3.0, warmup_momentum=0.8, weight_decay=0.0005, workers=4, workspace=None\n",
            "Downloading https://ultralytics.com/assets/Arial.ttf to 'C:\\Users\\akram\\AppData\\Roaming\\Ultralytics\\Arial.ttf'...\n"
          ]
        },
        {
          "name": "stderr",
          "output_type": "stream",
          "text": [
            "100%|██████████| 755k/755k [00:00<00:00, 8.35MB/s]"
          ]
        },
        {
          "name": "stdout",
          "output_type": "stream",
          "text": [
            "Overriding model.yaml nc=80 with nc=1\n",
            "\n",
            "                   from  n    params  module                                       arguments                     \n",
            "  0                  -1  1       928  ultralytics.nn.modules.conv.Conv             [3, 32, 3, 2]                 \n",
            "  1                  -1  1     18560  ultralytics.nn.modules.conv.Conv             [32, 64, 3, 2]                \n",
            "  2                  -1  1     29056  ultralytics.nn.modules.block.C2f             [64, 64, 1, True]             \n",
            "  3                  -1  1     73984  ultralytics.nn.modules.conv.Conv             [64, 128, 3, 2]               \n"
          ]
        },
        {
          "name": "stderr",
          "output_type": "stream",
          "text": [
            "\n"
          ]
        },
        {
          "name": "stdout",
          "output_type": "stream",
          "text": [
            "  4                  -1  2    197632  ultralytics.nn.modules.block.C2f             [128, 128, 2, True]           \n",
            "  5                  -1  1    295424  ultralytics.nn.modules.conv.Conv             [128, 256, 3, 2]              \n",
            "  6                  -1  2    788480  ultralytics.nn.modules.block.C2f             [256, 256, 2, True]           \n",
            "  7                  -1  1   1180672  ultralytics.nn.modules.conv.Conv             [256, 512, 3, 2]              \n",
            "  8                  -1  1   1838080  ultralytics.nn.modules.block.C2f             [512, 512, 1, True]           \n",
            "  9                  -1  1    656896  ultralytics.nn.modules.block.SPPF            [512, 512, 5]                 \n",
            " 10                  -1  1         0  torch.nn.modules.upsampling.Upsample         [None, 2, 'nearest']          \n",
            " 11             [-1, 6]  1         0  ultralytics.nn.modules.conv.Concat           [1]                           \n",
            " 12                  -1  1    591360  ultralytics.nn.modules.block.C2f             [768, 256, 1]                 \n",
            " 13                  -1  1         0  torch.nn.modules.upsampling.Upsample         [None, 2, 'nearest']          \n",
            " 14             [-1, 4]  1         0  ultralytics.nn.modules.conv.Concat           [1]                           \n",
            " 15                  -1  1    148224  ultralytics.nn.modules.block.C2f             [384, 128, 1]                 \n",
            " 16                  -1  1    147712  ultralytics.nn.modules.conv.Conv             [128, 128, 3, 2]              \n",
            " 17            [-1, 12]  1         0  ultralytics.nn.modules.conv.Concat           [1]                           \n",
            " 18                  -1  1    493056  ultralytics.nn.modules.block.C2f             [384, 256, 1]                 \n",
            " 19                  -1  1    590336  ultralytics.nn.modules.conv.Conv             [256, 256, 3, 2]              \n",
            " 20             [-1, 9]  1         0  ultralytics.nn.modules.conv.Concat           [1]                           \n",
            " 21                  -1  1   1969152  ultralytics.nn.modules.block.C2f             [768, 512, 1]                 \n",
            " 22        [15, 18, 21]  1   2116435  ultralytics.nn.modules.head.Detect           [1, [128, 256, 512]]          \n",
            "Model summary: 129 layers, 11,135,987 parameters, 11,135,971 gradients, 28.6 GFLOPs\n",
            "\n",
            "Transferred 349/355 items from pretrained weights\n",
            "Freezing layer 'model.22.dfl.conv.weight'\n",
            "\u001b[34m\u001b[1mAMP: \u001b[0mrunning Automatic Mixed Precision (AMP) checks...\n",
            "\u001b[34m\u001b[1mAMP: \u001b[0mchecks passed \n",
            "\u001b[34m\u001b[1mtrain: \u001b[0mFast image access  (ping: 0.20.0 ms, read: 249.4114.3 MB/s, size: 142.2 KB)\n"
          ]
        },
        {
          "name": "stderr",
          "output_type": "stream",
          "text": [
            "\u001b[34m\u001b[1mtrain: \u001b[0mScanning C:\\Users\\akram\\OneDrive\\Desktop\\saeed\\capstone\\weapon_detection\\labels\\train... 2000 images, 1 backgrounds, 0 corrupt: 100%|██████████| 2000/2000 [00:01<00:00, 1204.49it/s]\n"
          ]
        },
        {
          "name": "stdout",
          "output_type": "stream",
          "text": [
            "\u001b[34m\u001b[1mtrain: \u001b[0mNew cache created: C:\\Users\\akram\\OneDrive\\Desktop\\saeed\\capstone\\weapon_detection\\labels\\train.cache\n",
            "\u001b[34m\u001b[1mval: \u001b[0mFast image access  (ping: 0.80.0 ms, read: 167.265.4 MB/s, size: 161.2 KB)\n"
          ]
        },
        {
          "name": "stderr",
          "output_type": "stream",
          "text": [
            "\u001b[34m\u001b[1mval: \u001b[0mScanning C:\\Users\\akram\\OneDrive\\Desktop\\saeed\\capstone\\weapon_detection\\labels\\val... 500 images, 8 backgrounds, 0 corrupt: 100%|██████████| 500/500 [00:00<00:00, 910.70it/s]\n"
          ]
        },
        {
          "name": "stdout",
          "output_type": "stream",
          "text": [
            "\u001b[34m\u001b[1mval: \u001b[0mNew cache created: C:\\Users\\akram\\OneDrive\\Desktop\\saeed\\capstone\\weapon_detection\\labels\\val.cache\n",
            "Plotting labels to runs\\detect\\train16\\labels.jpg... \n",
            "\u001b[34m\u001b[1moptimizer:\u001b[0m 'optimizer=auto' found, ignoring 'lr0=0.01' and 'momentum=0.937' and determining best 'optimizer', 'lr0' and 'momentum' automatically... \n",
            "\u001b[34m\u001b[1moptimizer:\u001b[0m AdamW(lr=0.002, momentum=0.9) with parameter groups 57 weight(decay=0.0), 64 weight(decay=0.0005), 63 bias(decay=0.0)\n",
            "Image sizes 640 train, 640 val\n",
            "Using 4 dataloader workers\n",
            "Logging results to \u001b[1mruns\\detect\\train16\u001b[0m\n",
            "Starting training for 50 epochs...\n",
            "\n",
            "      Epoch    GPU_mem   box_loss   cls_loss   dfl_loss  Instances       Size\n"
          ]
        },
        {
          "name": "stderr",
          "output_type": "stream",
          "text": [
            "       1/50         2G      1.948       2.65      1.849         30        640: 100%|██████████| 250/250 [00:38<00:00,  6.51it/s]\n",
            "                 Class     Images  Instances      Box(P          R      mAP50  mAP50-95): 100%|██████████| 32/32 [00:04<00:00,  7.04it/s]\n"
          ]
        },
        {
          "name": "stdout",
          "output_type": "stream",
          "text": [
            "                   all        500       1077     0.0428     0.0501    0.00862    0.00309\n",
            "\n",
            "      Epoch    GPU_mem   box_loss   cls_loss   dfl_loss  Instances       Size\n"
          ]
        },
        {
          "name": "stderr",
          "output_type": "stream",
          "text": [
            "       2/50       2.1G      2.213      2.771      2.135         27        640: 100%|██████████| 250/250 [00:36<00:00,  6.92it/s]\n",
            "                 Class     Images  Instances      Box(P          R      mAP50  mAP50-95): 100%|██████████| 32/32 [00:06<00:00,  4.71it/s]\n"
          ]
        },
        {
          "name": "stdout",
          "output_type": "stream",
          "text": [
            "                   all        500       1077      0.131     0.0436     0.0178    0.00696\n",
            "\n",
            "      Epoch    GPU_mem   box_loss   cls_loss   dfl_loss  Instances       Size\n"
          ]
        },
        {
          "name": "stderr",
          "output_type": "stream",
          "text": [
            "       3/50      2.11G      2.288      2.858      2.216         27        640: 100%|██████████| 250/250 [00:35<00:00,  7.04it/s]\n",
            "                 Class     Images  Instances      Box(P          R      mAP50  mAP50-95): 100%|██████████| 32/32 [00:04<00:00,  6.82it/s]"
          ]
        },
        {
          "name": "stdout",
          "output_type": "stream",
          "text": [
            "                   all        500       1077     0.0359     0.0436    0.00882     0.0032\n"
          ]
        },
        {
          "name": "stderr",
          "output_type": "stream",
          "text": [
            "\n"
          ]
        },
        {
          "name": "stdout",
          "output_type": "stream",
          "text": [
            "\n",
            "      Epoch    GPU_mem   box_loss   cls_loss   dfl_loss  Instances       Size\n"
          ]
        },
        {
          "name": "stderr",
          "output_type": "stream",
          "text": [
            "       4/50      2.11G       2.29      2.822      2.218         35        640: 100%|██████████| 250/250 [00:36<00:00,  6.88it/s]\n",
            "                 Class     Images  Instances      Box(P          R      mAP50  mAP50-95): 100%|██████████| 32/32 [00:04<00:00,  6.50it/s]"
          ]
        },
        {
          "name": "stdout",
          "output_type": "stream",
          "text": [
            "                   all        500       1077     0.0842     0.0659     0.0231    0.00928\n"
          ]
        },
        {
          "name": "stderr",
          "output_type": "stream",
          "text": [
            "\n"
          ]
        },
        {
          "name": "stdout",
          "output_type": "stream",
          "text": [
            "\n",
            "      Epoch    GPU_mem   box_loss   cls_loss   dfl_loss  Instances       Size\n"
          ]
        },
        {
          "name": "stderr",
          "output_type": "stream",
          "text": [
            "       5/50      2.12G      2.187      2.776      2.136         27        640: 100%|██████████| 250/250 [00:45<00:00,  5.49it/s]\n",
            "                 Class     Images  Instances      Box(P          R      mAP50  mAP50-95): 100%|██████████| 32/32 [00:06<00:00,  4.69it/s]\n"
          ]
        },
        {
          "name": "stdout",
          "output_type": "stream",
          "text": [
            "                   all        500       1077      0.161     0.0622     0.0417     0.0156\n",
            "\n",
            "      Epoch    GPU_mem   box_loss   cls_loss   dfl_loss  Instances       Size\n"
          ]
        },
        {
          "name": "stderr",
          "output_type": "stream",
          "text": [
            "       6/50      2.12G      2.126       2.71      2.101         38        640: 100%|██████████| 250/250 [00:43<00:00,  5.75it/s]\n",
            "                 Class     Images  Instances      Box(P          R      mAP50  mAP50-95): 100%|██████████| 32/32 [00:06<00:00,  4.81it/s]\n"
          ]
        },
        {
          "name": "stdout",
          "output_type": "stream",
          "text": [
            "                   all        500       1077      0.141     0.0808     0.0398     0.0155\n",
            "\n",
            "      Epoch    GPU_mem   box_loss   cls_loss   dfl_loss  Instances       Size\n"
          ]
        },
        {
          "name": "stderr",
          "output_type": "stream",
          "text": [
            "       7/50      2.12G      2.056      2.607      2.028         33        640: 100%|██████████| 250/250 [00:37<00:00,  6.63it/s]\n",
            "                 Class     Images  Instances      Box(P          R      mAP50  mAP50-95): 100%|██████████| 32/32 [00:03<00:00,  8.31it/s]"
          ]
        },
        {
          "name": "stdout",
          "output_type": "stream",
          "text": [
            "                   all        500       1077      0.153     0.0947     0.0427     0.0169\n"
          ]
        },
        {
          "name": "stderr",
          "output_type": "stream",
          "text": [
            "\n"
          ]
        },
        {
          "name": "stdout",
          "output_type": "stream",
          "text": [
            "\n",
            "      Epoch    GPU_mem   box_loss   cls_loss   dfl_loss  Instances       Size\n"
          ]
        },
        {
          "name": "stderr",
          "output_type": "stream",
          "text": [
            "       8/50      2.12G      2.019      2.533      1.998         22        640: 100%|██████████| 250/250 [00:32<00:00,  7.77it/s]\n",
            "                 Class     Images  Instances      Box(P          R      mAP50  mAP50-95): 100%|██████████| 32/32 [00:03<00:00,  8.33it/s]"
          ]
        },
        {
          "name": "stdout",
          "output_type": "stream",
          "text": [
            "                   all        500       1077       0.21      0.101     0.0595     0.0244\n"
          ]
        },
        {
          "name": "stderr",
          "output_type": "stream",
          "text": [
            "\n"
          ]
        },
        {
          "name": "stdout",
          "output_type": "stream",
          "text": [
            "\n",
            "      Epoch    GPU_mem   box_loss   cls_loss   dfl_loss  Instances       Size\n"
          ]
        },
        {
          "name": "stderr",
          "output_type": "stream",
          "text": [
            "       9/50      2.12G      1.981      2.482      1.956         47        640: 100%|██████████| 250/250 [00:34<00:00,  7.17it/s]\n",
            "                 Class     Images  Instances      Box(P          R      mAP50  mAP50-95): 100%|██████████| 32/32 [00:04<00:00,  7.10it/s]"
          ]
        },
        {
          "name": "stdout",
          "output_type": "stream",
          "text": [
            "                   all        500       1077      0.288     0.0929     0.0636     0.0245\n"
          ]
        },
        {
          "name": "stderr",
          "output_type": "stream",
          "text": [
            "\n"
          ]
        },
        {
          "name": "stdout",
          "output_type": "stream",
          "text": [
            "\n",
            "      Epoch    GPU_mem   box_loss   cls_loss   dfl_loss  Instances       Size\n"
          ]
        },
        {
          "name": "stderr",
          "output_type": "stream",
          "text": [
            "      10/50      2.12G      1.963      2.396      1.935         22        640: 100%|██████████| 250/250 [00:35<00:00,  7.13it/s]\n",
            "                 Class     Images  Instances      Box(P          R      mAP50  mAP50-95): 100%|██████████| 32/32 [00:07<00:00,  4.55it/s]\n"
          ]
        },
        {
          "name": "stdout",
          "output_type": "stream",
          "text": [
            "                   all        500       1077      0.127     0.0984     0.0419     0.0178\n",
            "\n",
            "      Epoch    GPU_mem   box_loss   cls_loss   dfl_loss  Instances       Size\n"
          ]
        },
        {
          "name": "stderr",
          "output_type": "stream",
          "text": [
            "      11/50      2.12G      1.907      2.357       1.89         27        640: 100%|██████████| 250/250 [00:39<00:00,  6.32it/s]\n",
            "                 Class     Images  Instances      Box(P          R      mAP50  mAP50-95): 100%|██████████| 32/32 [00:03<00:00,  8.20it/s]"
          ]
        },
        {
          "name": "stdout",
          "output_type": "stream",
          "text": [
            "                   all        500       1077      0.199      0.124     0.0681     0.0285\n"
          ]
        },
        {
          "name": "stderr",
          "output_type": "stream",
          "text": [
            "\n"
          ]
        },
        {
          "name": "stdout",
          "output_type": "stream",
          "text": [
            "\n",
            "      Epoch    GPU_mem   box_loss   cls_loss   dfl_loss  Instances       Size\n"
          ]
        },
        {
          "name": "stderr",
          "output_type": "stream",
          "text": [
            "      12/50      2.12G      1.924      2.328      1.895         29        640: 100%|██████████| 250/250 [00:33<00:00,  7.52it/s]\n",
            "                 Class     Images  Instances      Box(P          R      mAP50  mAP50-95): 100%|██████████| 32/32 [00:03<00:00,  8.26it/s]"
          ]
        },
        {
          "name": "stdout",
          "output_type": "stream",
          "text": [
            "                   all        500       1077      0.214      0.103     0.0666     0.0254\n"
          ]
        },
        {
          "name": "stderr",
          "output_type": "stream",
          "text": [
            "\n"
          ]
        },
        {
          "name": "stdout",
          "output_type": "stream",
          "text": [
            "\n",
            "      Epoch    GPU_mem   box_loss   cls_loss   dfl_loss  Instances       Size\n"
          ]
        },
        {
          "name": "stderr",
          "output_type": "stream",
          "text": [
            "      13/50      2.12G      1.868      2.314      1.868         23        640: 100%|██████████| 250/250 [00:32<00:00,  7.76it/s]\n",
            "                 Class     Images  Instances      Box(P          R      mAP50  mAP50-95): 100%|██████████| 32/32 [00:03<00:00,  8.21it/s]\n"
          ]
        },
        {
          "name": "stdout",
          "output_type": "stream",
          "text": [
            "                   all        500       1077      0.242      0.123     0.0786      0.031\n",
            "\n",
            "      Epoch    GPU_mem   box_loss   cls_loss   dfl_loss  Instances       Size\n"
          ]
        },
        {
          "name": "stderr",
          "output_type": "stream",
          "text": [
            "      14/50      2.12G       1.85      2.267      1.838         27        640: 100%|██████████| 250/250 [00:34<00:00,  7.22it/s]\n",
            "                 Class     Images  Instances      Box(P          R      mAP50  mAP50-95): 100%|██████████| 32/32 [00:03<00:00,  8.06it/s]"
          ]
        },
        {
          "name": "stdout",
          "output_type": "stream",
          "text": [
            "                   all        500       1077      0.268      0.115     0.0871     0.0326\n"
          ]
        },
        {
          "name": "stderr",
          "output_type": "stream",
          "text": [
            "\n"
          ]
        },
        {
          "name": "stdout",
          "output_type": "stream",
          "text": [
            "\n",
            "      Epoch    GPU_mem   box_loss   cls_loss   dfl_loss  Instances       Size\n"
          ]
        },
        {
          "name": "stderr",
          "output_type": "stream",
          "text": [
            "      15/50      2.12G      1.848      2.199      1.834         30        640: 100%|██████████| 250/250 [00:33<00:00,  7.49it/s]\n",
            "                 Class     Images  Instances      Box(P          R      mAP50  mAP50-95): 100%|██████████| 32/32 [00:04<00:00,  7.32it/s]\n"
          ]
        },
        {
          "name": "stdout",
          "output_type": "stream",
          "text": [
            "                   all        500       1077      0.188      0.147     0.0815     0.0319\n",
            "\n",
            "      Epoch    GPU_mem   box_loss   cls_loss   dfl_loss  Instances       Size\n"
          ]
        },
        {
          "name": "stderr",
          "output_type": "stream",
          "text": [
            "      16/50      2.12G      1.819      2.168      1.808         25        640: 100%|██████████| 250/250 [00:34<00:00,  7.24it/s]\n",
            "                 Class     Images  Instances      Box(P          R      mAP50  mAP50-95): 100%|██████████| 32/32 [00:04<00:00,  6.86it/s]"
          ]
        },
        {
          "name": "stdout",
          "output_type": "stream",
          "text": [
            "                   all        500       1077      0.238      0.149      0.111     0.0442\n"
          ]
        },
        {
          "name": "stderr",
          "output_type": "stream",
          "text": [
            "\n"
          ]
        },
        {
          "name": "stdout",
          "output_type": "stream",
          "text": [
            "\n",
            "      Epoch    GPU_mem   box_loss   cls_loss   dfl_loss  Instances       Size\n"
          ]
        },
        {
          "name": "stderr",
          "output_type": "stream",
          "text": [
            "      17/50      2.12G        1.8      2.119      1.796         36        640: 100%|██████████| 250/250 [00:34<00:00,  7.18it/s]\n",
            "                 Class     Images  Instances      Box(P          R      mAP50  mAP50-95): 100%|██████████| 32/32 [00:04<00:00,  7.02it/s]"
          ]
        },
        {
          "name": "stdout",
          "output_type": "stream",
          "text": [
            "                   all        500       1077      0.237      0.131     0.0917     0.0365\n"
          ]
        },
        {
          "name": "stderr",
          "output_type": "stream",
          "text": [
            "\n"
          ]
        },
        {
          "name": "stdout",
          "output_type": "stream",
          "text": [
            "\n",
            "      Epoch    GPU_mem   box_loss   cls_loss   dfl_loss  Instances       Size\n"
          ]
        },
        {
          "name": "stderr",
          "output_type": "stream",
          "text": [
            "      18/50      2.12G      1.807      2.128       1.79         27        640: 100%|██████████| 250/250 [00:35<00:00,  7.04it/s]\n",
            "                 Class     Images  Instances      Box(P          R      mAP50  mAP50-95): 100%|██████████| 32/32 [00:04<00:00,  6.94it/s]"
          ]
        },
        {
          "name": "stdout",
          "output_type": "stream",
          "text": [
            "                   all        500       1077      0.253      0.161      0.114      0.046\n"
          ]
        },
        {
          "name": "stderr",
          "output_type": "stream",
          "text": [
            "\n"
          ]
        },
        {
          "name": "stdout",
          "output_type": "stream",
          "text": [
            "\n",
            "      Epoch    GPU_mem   box_loss   cls_loss   dfl_loss  Instances       Size\n"
          ]
        },
        {
          "name": "stderr",
          "output_type": "stream",
          "text": [
            "      19/50      2.12G       1.75      2.079      1.763         18        640: 100%|██████████| 250/250 [00:35<00:00,  7.11it/s]\n",
            "                 Class     Images  Instances      Box(P          R      mAP50  mAP50-95): 100%|██████████| 32/32 [00:04<00:00,  7.32it/s]"
          ]
        },
        {
          "name": "stdout",
          "output_type": "stream",
          "text": [
            "                   all        500       1077      0.213      0.168      0.104       0.04\n"
          ]
        },
        {
          "name": "stderr",
          "output_type": "stream",
          "text": [
            "\n"
          ]
        },
        {
          "name": "stdout",
          "output_type": "stream",
          "text": [
            "\n",
            "      Epoch    GPU_mem   box_loss   cls_loss   dfl_loss  Instances       Size\n"
          ]
        },
        {
          "name": "stderr",
          "output_type": "stream",
          "text": [
            "      20/50      2.12G       1.74      2.026      1.753         22        640: 100%|██████████| 250/250 [00:37<00:00,  6.75it/s]\n",
            "                 Class     Images  Instances      Box(P          R      mAP50  mAP50-95): 100%|██████████| 32/32 [00:05<00:00,  5.58it/s]"
          ]
        },
        {
          "name": "stdout",
          "output_type": "stream",
          "text": [
            "                   all        500       1077      0.241      0.136      0.101     0.0448\n"
          ]
        },
        {
          "name": "stderr",
          "output_type": "stream",
          "text": [
            "\n"
          ]
        },
        {
          "name": "stdout",
          "output_type": "stream",
          "text": [
            "\n",
            "      Epoch    GPU_mem   box_loss   cls_loss   dfl_loss  Instances       Size\n"
          ]
        },
        {
          "name": "stderr",
          "output_type": "stream",
          "text": [
            "      21/50      2.12G      1.741      1.973      1.738         15        640: 100%|██████████| 250/250 [00:35<00:00,  6.98it/s]\n",
            "                 Class     Images  Instances      Box(P          R      mAP50  mAP50-95): 100%|██████████| 32/32 [00:04<00:00,  7.23it/s]\n"
          ]
        },
        {
          "name": "stdout",
          "output_type": "stream",
          "text": [
            "                   all        500       1077      0.252      0.153       0.12     0.0465\n",
            "\n",
            "      Epoch    GPU_mem   box_loss   cls_loss   dfl_loss  Instances       Size\n"
          ]
        },
        {
          "name": "stderr",
          "output_type": "stream",
          "text": [
            "      22/50      2.12G      1.708       1.96      1.722         30        640: 100%|██████████| 250/250 [00:35<00:00,  7.09it/s]\n",
            "                 Class     Images  Instances      Box(P          R      mAP50  mAP50-95): 100%|██████████| 32/32 [00:04<00:00,  7.47it/s]"
          ]
        },
        {
          "name": "stdout",
          "output_type": "stream",
          "text": [
            "                   all        500       1077      0.265      0.154      0.123     0.0484\n"
          ]
        },
        {
          "name": "stderr",
          "output_type": "stream",
          "text": [
            "\n"
          ]
        },
        {
          "name": "stdout",
          "output_type": "stream",
          "text": [
            "\n",
            "      Epoch    GPU_mem   box_loss   cls_loss   dfl_loss  Instances       Size\n"
          ]
        },
        {
          "name": "stderr",
          "output_type": "stream",
          "text": [
            "      23/50      2.12G      1.697      1.954      1.713         29        640: 100%|██████████| 250/250 [00:33<00:00,  7.49it/s]\n",
            "                 Class     Images  Instances      Box(P          R      mAP50  mAP50-95): 100%|██████████| 32/32 [00:04<00:00,  7.46it/s]"
          ]
        },
        {
          "name": "stdout",
          "output_type": "stream",
          "text": [
            "                   all        500       1077      0.273      0.159      0.122     0.0493\n"
          ]
        },
        {
          "name": "stderr",
          "output_type": "stream",
          "text": [
            "\n"
          ]
        },
        {
          "name": "stdout",
          "output_type": "stream",
          "text": [
            "\n",
            "      Epoch    GPU_mem   box_loss   cls_loss   dfl_loss  Instances       Size\n"
          ]
        },
        {
          "name": "stderr",
          "output_type": "stream",
          "text": [
            "      24/50      2.12G       1.68        1.9      1.701         20        640: 100%|██████████| 250/250 [00:33<00:00,  7.38it/s]\n",
            "                 Class     Images  Instances      Box(P          R      mAP50  mAP50-95): 100%|██████████| 32/32 [00:04<00:00,  7.86it/s]"
          ]
        },
        {
          "name": "stdout",
          "output_type": "stream",
          "text": [
            "                   all        500       1077      0.246      0.168       0.12     0.0484\n"
          ]
        },
        {
          "name": "stderr",
          "output_type": "stream",
          "text": [
            "\n"
          ]
        },
        {
          "name": "stdout",
          "output_type": "stream",
          "text": [
            "\n",
            "      Epoch    GPU_mem   box_loss   cls_loss   dfl_loss  Instances       Size\n"
          ]
        },
        {
          "name": "stderr",
          "output_type": "stream",
          "text": [
            "      25/50      2.12G      1.652      1.874      1.685         33        640: 100%|██████████| 250/250 [00:34<00:00,  7.29it/s]\n",
            "                 Class     Images  Instances      Box(P          R      mAP50  mAP50-95): 100%|██████████| 32/32 [00:04<00:00,  7.33it/s]\n"
          ]
        },
        {
          "name": "stdout",
          "output_type": "stream",
          "text": [
            "                   all        500       1077      0.258      0.162      0.102     0.0412\n",
            "\n",
            "      Epoch    GPU_mem   box_loss   cls_loss   dfl_loss  Instances       Size\n"
          ]
        },
        {
          "name": "stderr",
          "output_type": "stream",
          "text": [
            "      26/50      2.12G      1.649      1.825      1.678         25        640: 100%|██████████| 250/250 [00:35<00:00,  7.10it/s]\n",
            "                 Class     Images  Instances      Box(P          R      mAP50  mAP50-95): 100%|██████████| 32/32 [00:04<00:00,  7.12it/s]\n"
          ]
        },
        {
          "name": "stdout",
          "output_type": "stream",
          "text": [
            "                   all        500       1077      0.257      0.201      0.141     0.0513\n",
            "\n",
            "      Epoch    GPU_mem   box_loss   cls_loss   dfl_loss  Instances       Size\n"
          ]
        },
        {
          "name": "stderr",
          "output_type": "stream",
          "text": [
            "      27/50      2.12G      1.662       1.83      1.682         22        640: 100%|██████████| 250/250 [00:33<00:00,  7.43it/s]\n",
            "                 Class     Images  Instances      Box(P          R      mAP50  mAP50-95): 100%|██████████| 32/32 [00:04<00:00,  7.89it/s]"
          ]
        },
        {
          "name": "stdout",
          "output_type": "stream",
          "text": [
            "                   all        500       1077      0.385      0.171      0.151     0.0588\n"
          ]
        },
        {
          "name": "stderr",
          "output_type": "stream",
          "text": [
            "\n"
          ]
        },
        {
          "name": "stdout",
          "output_type": "stream",
          "text": [
            "\n",
            "      Epoch    GPU_mem   box_loss   cls_loss   dfl_loss  Instances       Size\n"
          ]
        },
        {
          "name": "stderr",
          "output_type": "stream",
          "text": [
            "      28/50      2.12G      1.608      1.766      1.639         15        640: 100%|██████████| 250/250 [00:33<00:00,  7.44it/s]\n",
            "                 Class     Images  Instances      Box(P          R      mAP50  mAP50-95): 100%|██████████| 32/32 [00:07<00:00,  4.15it/s]"
          ]
        },
        {
          "name": "stdout",
          "output_type": "stream",
          "text": [
            "                   all        500       1077      0.267      0.188      0.143     0.0535\n"
          ]
        },
        {
          "name": "stderr",
          "output_type": "stream",
          "text": [
            "\n"
          ]
        },
        {
          "name": "stdout",
          "output_type": "stream",
          "text": [
            "\n",
            "      Epoch    GPU_mem   box_loss   cls_loss   dfl_loss  Instances       Size\n"
          ]
        },
        {
          "name": "stderr",
          "output_type": "stream",
          "text": [
            "      29/50      2.12G      1.613      1.755       1.64         19        640: 100%|██████████| 250/250 [00:33<00:00,  7.54it/s]\n",
            "                 Class     Images  Instances      Box(P          R      mAP50  mAP50-95): 100%|██████████| 32/32 [00:04<00:00,  7.87it/s]"
          ]
        },
        {
          "name": "stdout",
          "output_type": "stream",
          "text": [
            "                   all        500       1077      0.256      0.173      0.133     0.0471\n"
          ]
        },
        {
          "name": "stderr",
          "output_type": "stream",
          "text": [
            "\n"
          ]
        },
        {
          "name": "stdout",
          "output_type": "stream",
          "text": [
            "\n",
            "      Epoch    GPU_mem   box_loss   cls_loss   dfl_loss  Instances       Size\n"
          ]
        },
        {
          "name": "stderr",
          "output_type": "stream",
          "text": [
            "      30/50      2.12G      1.596      1.725      1.632         47        640: 100%|██████████| 250/250 [00:37<00:00,  6.76it/s]\n",
            "                 Class     Images  Instances      Box(P          R      mAP50  mAP50-95): 100%|██████████| 32/32 [00:06<00:00,  4.93it/s]\n"
          ]
        },
        {
          "name": "stdout",
          "output_type": "stream",
          "text": [
            "                   all        500       1077      0.396       0.15      0.145     0.0593\n",
            "\n",
            "      Epoch    GPU_mem   box_loss   cls_loss   dfl_loss  Instances       Size\n"
          ]
        },
        {
          "name": "stderr",
          "output_type": "stream",
          "text": [
            "      31/50      2.12G      1.562      1.673      1.613         16        640: 100%|██████████| 250/250 [00:45<00:00,  5.46it/s]\n",
            "                 Class     Images  Instances      Box(P          R      mAP50  mAP50-95): 100%|██████████| 32/32 [00:07<00:00,  4.49it/s]\n"
          ]
        },
        {
          "name": "stdout",
          "output_type": "stream",
          "text": [
            "                   all        500       1077       0.28      0.207      0.158      0.065\n",
            "\n",
            "      Epoch    GPU_mem   box_loss   cls_loss   dfl_loss  Instances       Size\n"
          ]
        },
        {
          "name": "stderr",
          "output_type": "stream",
          "text": [
            "      32/50      2.12G      1.558      1.672      1.607         24        640: 100%|██████████| 250/250 [00:49<00:00,  5.01it/s]\n",
            "                 Class     Images  Instances      Box(P          R      mAP50  mAP50-95): 100%|██████████| 32/32 [00:07<00:00,  4.34it/s]"
          ]
        },
        {
          "name": "stdout",
          "output_type": "stream",
          "text": [
            "                   all        500       1077      0.287      0.199       0.14     0.0531\n"
          ]
        },
        {
          "name": "stderr",
          "output_type": "stream",
          "text": [
            "\n"
          ]
        },
        {
          "name": "stdout",
          "output_type": "stream",
          "text": [
            "\n",
            "      Epoch    GPU_mem   box_loss   cls_loss   dfl_loss  Instances       Size\n"
          ]
        },
        {
          "name": "stderr",
          "output_type": "stream",
          "text": [
            "      33/50      2.12G      1.546      1.636       1.59         24        640: 100%|██████████| 250/250 [00:48<00:00,  5.18it/s]\n",
            "                 Class     Images  Instances      Box(P          R      mAP50  mAP50-95): 100%|██████████| 32/32 [00:06<00:00,  4.69it/s]"
          ]
        },
        {
          "name": "stdout",
          "output_type": "stream",
          "text": [
            "                   all        500       1077      0.263      0.186      0.131     0.0527\n"
          ]
        },
        {
          "name": "stderr",
          "output_type": "stream",
          "text": [
            "\n"
          ]
        },
        {
          "name": "stdout",
          "output_type": "stream",
          "text": [
            "\n",
            "      Epoch    GPU_mem   box_loss   cls_loss   dfl_loss  Instances       Size\n"
          ]
        },
        {
          "name": "stderr",
          "output_type": "stream",
          "text": [
            "      34/50      2.12G      1.541      1.635      1.587         31        640: 100%|██████████| 250/250 [00:36<00:00,  6.85it/s]\n",
            "                 Class     Images  Instances      Box(P          R      mAP50  mAP50-95): 100%|██████████| 32/32 [00:04<00:00,  6.70it/s]"
          ]
        },
        {
          "name": "stdout",
          "output_type": "stream",
          "text": [
            "                   all        500       1077      0.308      0.189      0.151     0.0595\n"
          ]
        },
        {
          "name": "stderr",
          "output_type": "stream",
          "text": [
            "\n"
          ]
        },
        {
          "name": "stdout",
          "output_type": "stream",
          "text": [
            "\n",
            "      Epoch    GPU_mem   box_loss   cls_loss   dfl_loss  Instances       Size\n"
          ]
        },
        {
          "name": "stderr",
          "output_type": "stream",
          "text": [
            "      35/50      2.12G      1.527      1.579      1.572         38        640: 100%|██████████| 250/250 [00:37<00:00,  6.71it/s]\n",
            "                 Class     Images  Instances      Box(P          R      mAP50  mAP50-95): 100%|██████████| 32/32 [00:05<00:00,  6.06it/s]"
          ]
        },
        {
          "name": "stdout",
          "output_type": "stream",
          "text": [
            "                   all        500       1077      0.328      0.198      0.157     0.0638\n"
          ]
        },
        {
          "name": "stderr",
          "output_type": "stream",
          "text": [
            "\n"
          ]
        },
        {
          "name": "stdout",
          "output_type": "stream",
          "text": [
            "\n",
            "      Epoch    GPU_mem   box_loss   cls_loss   dfl_loss  Instances       Size\n"
          ]
        },
        {
          "name": "stderr",
          "output_type": "stream",
          "text": [
            "      36/50      2.12G      1.512      1.569      1.575         34        640: 100%|██████████| 250/250 [00:38<00:00,  6.47it/s]\n",
            "                 Class     Images  Instances      Box(P          R      mAP50  mAP50-95): 100%|██████████| 32/32 [00:04<00:00,  6.87it/s]"
          ]
        },
        {
          "name": "stdout",
          "output_type": "stream",
          "text": [
            "                   all        500       1077      0.311      0.177      0.146     0.0575\n"
          ]
        },
        {
          "name": "stderr",
          "output_type": "stream",
          "text": [
            "\n"
          ]
        },
        {
          "name": "stdout",
          "output_type": "stream",
          "text": [
            "\n",
            "      Epoch    GPU_mem   box_loss   cls_loss   dfl_loss  Instances       Size\n"
          ]
        },
        {
          "name": "stderr",
          "output_type": "stream",
          "text": [
            "      37/50      2.12G      1.482      1.517      1.552         26        640: 100%|██████████| 250/250 [00:37<00:00,  6.65it/s]\n",
            "                 Class     Images  Instances      Box(P          R      mAP50  mAP50-95): 100%|██████████| 32/32 [00:04<00:00,  6.44it/s]"
          ]
        },
        {
          "name": "stdout",
          "output_type": "stream",
          "text": [
            "                   all        500       1077      0.333      0.174      0.154     0.0614\n"
          ]
        },
        {
          "name": "stderr",
          "output_type": "stream",
          "text": [
            "\n"
          ]
        },
        {
          "name": "stdout",
          "output_type": "stream",
          "text": [
            "\n",
            "      Epoch    GPU_mem   box_loss   cls_loss   dfl_loss  Instances       Size\n"
          ]
        },
        {
          "name": "stderr",
          "output_type": "stream",
          "text": [
            "      38/50      2.12G      1.483      1.522      1.542         20        640: 100%|██████████| 250/250 [00:38<00:00,  6.56it/s]\n",
            "                 Class     Images  Instances      Box(P          R      mAP50  mAP50-95): 100%|██████████| 32/32 [00:05<00:00,  5.92it/s]"
          ]
        },
        {
          "name": "stdout",
          "output_type": "stream",
          "text": [
            "                   all        500       1077      0.246      0.196      0.148     0.0556\n"
          ]
        },
        {
          "name": "stderr",
          "output_type": "stream",
          "text": [
            "\n"
          ]
        },
        {
          "name": "stdout",
          "output_type": "stream",
          "text": [
            "\n",
            "      Epoch    GPU_mem   box_loss   cls_loss   dfl_loss  Instances       Size\n"
          ]
        },
        {
          "name": "stderr",
          "output_type": "stream",
          "text": [
            "      39/50      2.12G       1.46      1.472      1.524         19        640: 100%|██████████| 250/250 [00:40<00:00,  6.20it/s]\n",
            "                 Class     Images  Instances      Box(P          R      mAP50  mAP50-95): 100%|██████████| 32/32 [00:07<00:00,  4.29it/s]"
          ]
        },
        {
          "name": "stdout",
          "output_type": "stream",
          "text": [
            "                   all        500       1077      0.305      0.164      0.134     0.0546\n"
          ]
        },
        {
          "name": "stderr",
          "output_type": "stream",
          "text": [
            "\n"
          ]
        },
        {
          "name": "stdout",
          "output_type": "stream",
          "text": [
            "\n",
            "      Epoch    GPU_mem   box_loss   cls_loss   dfl_loss  Instances       Size\n"
          ]
        },
        {
          "name": "stderr",
          "output_type": "stream",
          "text": [
            "      40/50      2.12G      1.446      1.458      1.511         35        640: 100%|██████████| 250/250 [00:46<00:00,  5.35it/s]\n",
            "                 Class     Images  Instances      Box(P          R      mAP50  mAP50-95): 100%|██████████| 32/32 [00:05<00:00,  6.02it/s]"
          ]
        },
        {
          "name": "stdout",
          "output_type": "stream",
          "text": [
            "                   all        500       1077      0.248      0.203      0.151     0.0574\n"
          ]
        },
        {
          "name": "stderr",
          "output_type": "stream",
          "text": [
            "\n"
          ]
        },
        {
          "name": "stdout",
          "output_type": "stream",
          "text": [
            "Closing dataloader mosaic\n",
            "\n",
            "      Epoch    GPU_mem   box_loss   cls_loss   dfl_loss  Instances       Size\n"
          ]
        },
        {
          "name": "stderr",
          "output_type": "stream",
          "text": [
            "      41/50      2.12G       1.44      1.353      1.518         12        640: 100%|██████████| 250/250 [00:39<00:00,  6.36it/s]\n",
            "                 Class     Images  Instances      Box(P          R      mAP50  mAP50-95): 100%|██████████| 32/32 [00:05<00:00,  5.83it/s]"
          ]
        },
        {
          "name": "stdout",
          "output_type": "stream",
          "text": [
            "                   all        500       1077      0.267      0.192      0.142     0.0556\n"
          ]
        },
        {
          "name": "stderr",
          "output_type": "stream",
          "text": [
            "\n"
          ]
        },
        {
          "name": "stdout",
          "output_type": "stream",
          "text": [
            "\n",
            "      Epoch    GPU_mem   box_loss   cls_loss   dfl_loss  Instances       Size\n"
          ]
        },
        {
          "name": "stderr",
          "output_type": "stream",
          "text": [
            "      42/50      2.12G      1.421      1.256      1.506          8        640: 100%|██████████| 250/250 [00:36<00:00,  6.81it/s]\n",
            "                 Class     Images  Instances      Box(P          R      mAP50  mAP50-95): 100%|██████████| 32/32 [00:04<00:00,  7.94it/s]"
          ]
        },
        {
          "name": "stdout",
          "output_type": "stream",
          "text": [
            "                   all        500       1077      0.317      0.178      0.158     0.0612\n"
          ]
        },
        {
          "name": "stderr",
          "output_type": "stream",
          "text": [
            "\n"
          ]
        },
        {
          "name": "stdout",
          "output_type": "stream",
          "text": [
            "\n",
            "      Epoch    GPU_mem   box_loss   cls_loss   dfl_loss  Instances       Size\n"
          ]
        },
        {
          "name": "stderr",
          "output_type": "stream",
          "text": [
            "      43/50      2.12G      1.374      1.241      1.475         13        640: 100%|██████████| 250/250 [00:34<00:00,  7.32it/s]\n",
            "                 Class     Images  Instances      Box(P          R      mAP50  mAP50-95): 100%|██████████| 32/32 [00:04<00:00,  7.90it/s]"
          ]
        },
        {
          "name": "stdout",
          "output_type": "stream",
          "text": [
            "                   all        500       1077      0.372      0.163       0.15     0.0599\n"
          ]
        },
        {
          "name": "stderr",
          "output_type": "stream",
          "text": [
            "\n"
          ]
        },
        {
          "name": "stdout",
          "output_type": "stream",
          "text": [
            "\n",
            "      Epoch    GPU_mem   box_loss   cls_loss   dfl_loss  Instances       Size\n"
          ]
        },
        {
          "name": "stderr",
          "output_type": "stream",
          "text": [
            "      44/50      2.12G      1.371      1.191      1.468         12        640: 100%|██████████| 250/250 [00:33<00:00,  7.48it/s]\n",
            "                 Class     Images  Instances      Box(P          R      mAP50  mAP50-95): 100%|██████████| 32/32 [00:04<00:00,  7.74it/s]"
          ]
        },
        {
          "name": "stdout",
          "output_type": "stream",
          "text": [
            "                   all        500       1077      0.341      0.195      0.166      0.065\n"
          ]
        },
        {
          "name": "stderr",
          "output_type": "stream",
          "text": [
            "\n"
          ]
        },
        {
          "name": "stdout",
          "output_type": "stream",
          "text": [
            "\n",
            "      Epoch    GPU_mem   box_loss   cls_loss   dfl_loss  Instances       Size\n"
          ]
        },
        {
          "name": "stderr",
          "output_type": "stream",
          "text": [
            "      45/50      2.12G      1.346      1.141      1.443         15        640: 100%|██████████| 250/250 [00:33<00:00,  7.37it/s]\n",
            "                 Class     Images  Instances      Box(P          R      mAP50  mAP50-95): 100%|██████████| 32/32 [00:03<00:00,  8.14it/s]"
          ]
        },
        {
          "name": "stdout",
          "output_type": "stream",
          "text": [
            "                   all        500       1077      0.244      0.192      0.147     0.0592\n"
          ]
        },
        {
          "name": "stderr",
          "output_type": "stream",
          "text": [
            "\n"
          ]
        },
        {
          "name": "stdout",
          "output_type": "stream",
          "text": [
            "\n",
            "      Epoch    GPU_mem   box_loss   cls_loss   dfl_loss  Instances       Size\n"
          ]
        },
        {
          "name": "stderr",
          "output_type": "stream",
          "text": [
            "      46/50      2.12G      1.332      1.122      1.437         12        640: 100%|██████████| 250/250 [00:34<00:00,  7.29it/s]\n",
            "                 Class     Images  Instances      Box(P          R      mAP50  mAP50-95): 100%|██████████| 32/32 [00:04<00:00,  7.87it/s]"
          ]
        },
        {
          "name": "stdout",
          "output_type": "stream",
          "text": [
            "                   all        500       1077      0.319      0.181      0.158     0.0632\n"
          ]
        },
        {
          "name": "stderr",
          "output_type": "stream",
          "text": [
            "\n"
          ]
        },
        {
          "name": "stdout",
          "output_type": "stream",
          "text": [
            "\n",
            "      Epoch    GPU_mem   box_loss   cls_loss   dfl_loss  Instances       Size\n"
          ]
        },
        {
          "name": "stderr",
          "output_type": "stream",
          "text": [
            "      47/50      2.12G      1.291      1.101      1.415         10        640: 100%|██████████| 250/250 [00:32<00:00,  7.59it/s]\n",
            "                 Class     Images  Instances      Box(P          R      mAP50  mAP50-95): 100%|██████████| 32/32 [00:04<00:00,  6.69it/s]"
          ]
        },
        {
          "name": "stdout",
          "output_type": "stream",
          "text": [
            "                   all        500       1077      0.331      0.182      0.156       0.06\n"
          ]
        },
        {
          "name": "stderr",
          "output_type": "stream",
          "text": [
            "\n"
          ]
        },
        {
          "name": "stdout",
          "output_type": "stream",
          "text": [
            "\n",
            "      Epoch    GPU_mem   box_loss   cls_loss   dfl_loss  Instances       Size\n"
          ]
        },
        {
          "name": "stderr",
          "output_type": "stream",
          "text": [
            "      48/50      2.12G      1.284      1.075      1.402         10        640: 100%|██████████| 250/250 [00:40<00:00,  6.12it/s]\n",
            "                 Class     Images  Instances      Box(P          R      mAP50  mAP50-95): 100%|██████████| 32/32 [00:03<00:00,  8.12it/s]"
          ]
        },
        {
          "name": "stdout",
          "output_type": "stream",
          "text": [
            "                   all        500       1077      0.316      0.192      0.158     0.0622\n"
          ]
        },
        {
          "name": "stderr",
          "output_type": "stream",
          "text": [
            "\n"
          ]
        },
        {
          "name": "stdout",
          "output_type": "stream",
          "text": [
            "\n",
            "      Epoch    GPU_mem   box_loss   cls_loss   dfl_loss  Instances       Size\n"
          ]
        },
        {
          "name": "stderr",
          "output_type": "stream",
          "text": [
            "      49/50      2.12G       1.28      1.069       1.39         11        640: 100%|██████████| 250/250 [00:32<00:00,  7.62it/s]\n",
            "                 Class     Images  Instances      Box(P          R      mAP50  mAP50-95): 100%|██████████| 32/32 [00:03<00:00,  8.01it/s]"
          ]
        },
        {
          "name": "stdout",
          "output_type": "stream",
          "text": [
            "                   all        500       1077      0.308      0.201      0.164     0.0619\n"
          ]
        },
        {
          "name": "stderr",
          "output_type": "stream",
          "text": [
            "\n"
          ]
        },
        {
          "name": "stdout",
          "output_type": "stream",
          "text": [
            "\n",
            "      Epoch    GPU_mem   box_loss   cls_loss   dfl_loss  Instances       Size\n"
          ]
        },
        {
          "name": "stderr",
          "output_type": "stream",
          "text": [
            "      50/50      2.12G      1.258      1.044      1.389         15        640: 100%|██████████| 250/250 [00:33<00:00,  7.46it/s]\n",
            "                 Class     Images  Instances      Box(P          R      mAP50  mAP50-95): 100%|██████████| 32/32 [00:03<00:00,  8.03it/s]"
          ]
        },
        {
          "name": "stdout",
          "output_type": "stream",
          "text": [
            "                   all        500       1077      0.337      0.179      0.162     0.0633\n"
          ]
        },
        {
          "name": "stderr",
          "output_type": "stream",
          "text": [
            "\n"
          ]
        },
        {
          "name": "stdout",
          "output_type": "stream",
          "text": [
            "\n",
            "50 epochs completed in 0.598 hours.\n",
            "Optimizer stripped from runs\\detect\\train16\\weights\\last.pt, 22.5MB\n",
            "Optimizer stripped from runs\\detect\\train16\\weights\\best.pt, 22.5MB\n",
            "\n",
            "Validating runs\\detect\\train16\\weights\\best.pt...\n",
            "Ultralytics 8.3.153  Python-3.11.9 torch-2.5.1+cu121 CUDA:0 (NVIDIA GeForce RTX 3070 Ti Laptop GPU, 8192MiB)\n",
            "Model summary (fused): 72 layers, 11,125,971 parameters, 0 gradients, 28.4 GFLOPs\n"
          ]
        },
        {
          "name": "stderr",
          "output_type": "stream",
          "text": [
            "                 Class     Images  Instances      Box(P          R      mAP50  mAP50-95): 100%|██████████| 32/32 [00:05<00:00,  6.38it/s]\n"
          ]
        },
        {
          "name": "stdout",
          "output_type": "stream",
          "text": [
            "                   all        500       1077       0.34      0.195      0.167      0.065\n",
            "Speed: 0.2ms preprocess, 2.1ms inference, 0.0ms loss, 2.5ms postprocess per image\n",
            "Results saved to \u001b[1mruns\\detect\\train16\u001b[0m\n"
          ]
        },
        {
          "data": {
            "text/plain": [
              "ultralytics.utils.metrics.DetMetrics object with attributes:\n",
              "\n",
              "ap_class_index: array([0])\n",
              "box: ultralytics.utils.metrics.Metric object\n",
              "confusion_matrix: <ultralytics.utils.metrics.ConfusionMatrix object at 0x000002820491EC50>\n",
              "curves: ['Precision-Recall(B)', 'F1-Confidence(B)', 'Precision-Confidence(B)', 'Recall-Confidence(B)']\n",
              "curves_results: [[array([          0,    0.001001,    0.002002,    0.003003,    0.004004,    0.005005,    0.006006,    0.007007,    0.008008,    0.009009,     0.01001,    0.011011,    0.012012,    0.013013,    0.014014,    0.015015,    0.016016,    0.017017,    0.018018,    0.019019,     0.02002,    0.021021,    0.022022,    0.023023,\n",
              "          0.024024,    0.025025,    0.026026,    0.027027,    0.028028,    0.029029,     0.03003,    0.031031,    0.032032,    0.033033,    0.034034,    0.035035,    0.036036,    0.037037,    0.038038,    0.039039,     0.04004,    0.041041,    0.042042,    0.043043,    0.044044,    0.045045,    0.046046,    0.047047,\n",
              "          0.048048,    0.049049,     0.05005,    0.051051,    0.052052,    0.053053,    0.054054,    0.055055,    0.056056,    0.057057,    0.058058,    0.059059,     0.06006,    0.061061,    0.062062,    0.063063,    0.064064,    0.065065,    0.066066,    0.067067,    0.068068,    0.069069,     0.07007,    0.071071,\n",
              "          0.072072,    0.073073,    0.074074,    0.075075,    0.076076,    0.077077,    0.078078,    0.079079,     0.08008,    0.081081,    0.082082,    0.083083,    0.084084,    0.085085,    0.086086,    0.087087,    0.088088,    0.089089,     0.09009,    0.091091,    0.092092,    0.093093,    0.094094,    0.095095,\n",
              "          0.096096,    0.097097,    0.098098,    0.099099,      0.1001,      0.1011,      0.1021,      0.1031,      0.1041,     0.10511,     0.10611,     0.10711,     0.10811,     0.10911,     0.11011,     0.11111,     0.11211,     0.11311,     0.11411,     0.11512,     0.11612,     0.11712,     0.11812,     0.11912,\n",
              "           0.12012,     0.12112,     0.12212,     0.12312,     0.12412,     0.12513,     0.12613,     0.12713,     0.12813,     0.12913,     0.13013,     0.13113,     0.13213,     0.13313,     0.13413,     0.13514,     0.13614,     0.13714,     0.13814,     0.13914,     0.14014,     0.14114,     0.14214,     0.14314,\n",
              "           0.14414,     0.14515,     0.14615,     0.14715,     0.14815,     0.14915,     0.15015,     0.15115,     0.15215,     0.15315,     0.15415,     0.15516,     0.15616,     0.15716,     0.15816,     0.15916,     0.16016,     0.16116,     0.16216,     0.16316,     0.16416,     0.16517,     0.16617,     0.16717,\n",
              "           0.16817,     0.16917,     0.17017,     0.17117,     0.17217,     0.17317,     0.17417,     0.17518,     0.17618,     0.17718,     0.17818,     0.17918,     0.18018,     0.18118,     0.18218,     0.18318,     0.18418,     0.18519,     0.18619,     0.18719,     0.18819,     0.18919,     0.19019,     0.19119,\n",
              "           0.19219,     0.19319,     0.19419,      0.1952,      0.1962,      0.1972,      0.1982,      0.1992,      0.2002,      0.2012,      0.2022,      0.2032,      0.2042,     0.20521,     0.20621,     0.20721,     0.20821,     0.20921,     0.21021,     0.21121,     0.21221,     0.21321,     0.21421,     0.21522,\n",
              "           0.21622,     0.21722,     0.21822,     0.21922,     0.22022,     0.22122,     0.22222,     0.22322,     0.22422,     0.22523,     0.22623,     0.22723,     0.22823,     0.22923,     0.23023,     0.23123,     0.23223,     0.23323,     0.23423,     0.23524,     0.23624,     0.23724,     0.23824,     0.23924,\n",
              "           0.24024,     0.24124,     0.24224,     0.24324,     0.24424,     0.24525,     0.24625,     0.24725,     0.24825,     0.24925,     0.25025,     0.25125,     0.25225,     0.25325,     0.25425,     0.25526,     0.25626,     0.25726,     0.25826,     0.25926,     0.26026,     0.26126,     0.26226,     0.26326,\n",
              "           0.26426,     0.26527,     0.26627,     0.26727,     0.26827,     0.26927,     0.27027,     0.27127,     0.27227,     0.27327,     0.27427,     0.27528,     0.27628,     0.27728,     0.27828,     0.27928,     0.28028,     0.28128,     0.28228,     0.28328,     0.28428,     0.28529,     0.28629,     0.28729,\n",
              "           0.28829,     0.28929,     0.29029,     0.29129,     0.29229,     0.29329,     0.29429,      0.2953,      0.2963,      0.2973,      0.2983,      0.2993,      0.3003,      0.3013,      0.3023,      0.3033,      0.3043,     0.30531,     0.30631,     0.30731,     0.30831,     0.30931,     0.31031,     0.31131,\n",
              "           0.31231,     0.31331,     0.31431,     0.31532,     0.31632,     0.31732,     0.31832,     0.31932,     0.32032,     0.32132,     0.32232,     0.32332,     0.32432,     0.32533,     0.32633,     0.32733,     0.32833,     0.32933,     0.33033,     0.33133,     0.33233,     0.33333,     0.33433,     0.33534,\n",
              "           0.33634,     0.33734,     0.33834,     0.33934,     0.34034,     0.34134,     0.34234,     0.34334,     0.34434,     0.34535,     0.34635,     0.34735,     0.34835,     0.34935,     0.35035,     0.35135,     0.35235,     0.35335,     0.35435,     0.35536,     0.35636,     0.35736,     0.35836,     0.35936,\n",
              "           0.36036,     0.36136,     0.36236,     0.36336,     0.36436,     0.36537,     0.36637,     0.36737,     0.36837,     0.36937,     0.37037,     0.37137,     0.37237,     0.37337,     0.37437,     0.37538,     0.37638,     0.37738,     0.37838,     0.37938,     0.38038,     0.38138,     0.38238,     0.38338,\n",
              "           0.38438,     0.38539,     0.38639,     0.38739,     0.38839,     0.38939,     0.39039,     0.39139,     0.39239,     0.39339,     0.39439,      0.3954,      0.3964,      0.3974,      0.3984,      0.3994,      0.4004,      0.4014,      0.4024,      0.4034,      0.4044,     0.40541,     0.40641,     0.40741,\n",
              "           0.40841,     0.40941,     0.41041,     0.41141,     0.41241,     0.41341,     0.41441,     0.41542,     0.41642,     0.41742,     0.41842,     0.41942,     0.42042,     0.42142,     0.42242,     0.42342,     0.42442,     0.42543,     0.42643,     0.42743,     0.42843,     0.42943,     0.43043,     0.43143,\n",
              "           0.43243,     0.43343,     0.43443,     0.43544,     0.43644,     0.43744,     0.43844,     0.43944,     0.44044,     0.44144,     0.44244,     0.44344,     0.44444,     0.44545,     0.44645,     0.44745,     0.44845,     0.44945,     0.45045,     0.45145,     0.45245,     0.45345,     0.45445,     0.45546,\n",
              "           0.45646,     0.45746,     0.45846,     0.45946,     0.46046,     0.46146,     0.46246,     0.46346,     0.46446,     0.46547,     0.46647,     0.46747,     0.46847,     0.46947,     0.47047,     0.47147,     0.47247,     0.47347,     0.47447,     0.47548,     0.47648,     0.47748,     0.47848,     0.47948,\n",
              "           0.48048,     0.48148,     0.48248,     0.48348,     0.48448,     0.48549,     0.48649,     0.48749,     0.48849,     0.48949,     0.49049,     0.49149,     0.49249,     0.49349,     0.49449,      0.4955,      0.4965,      0.4975,      0.4985,      0.4995,      0.5005,      0.5015,      0.5025,      0.5035,\n",
              "            0.5045,     0.50551,     0.50651,     0.50751,     0.50851,     0.50951,     0.51051,     0.51151,     0.51251,     0.51351,     0.51451,     0.51552,     0.51652,     0.51752,     0.51852,     0.51952,     0.52052,     0.52152,     0.52252,     0.52352,     0.52452,     0.52553,     0.52653,     0.52753,\n",
              "           0.52853,     0.52953,     0.53053,     0.53153,     0.53253,     0.53353,     0.53453,     0.53554,     0.53654,     0.53754,     0.53854,     0.53954,     0.54054,     0.54154,     0.54254,     0.54354,     0.54454,     0.54555,     0.54655,     0.54755,     0.54855,     0.54955,     0.55055,     0.55155,\n",
              "           0.55255,     0.55355,     0.55455,     0.55556,     0.55656,     0.55756,     0.55856,     0.55956,     0.56056,     0.56156,     0.56256,     0.56356,     0.56456,     0.56557,     0.56657,     0.56757,     0.56857,     0.56957,     0.57057,     0.57157,     0.57257,     0.57357,     0.57457,     0.57558,\n",
              "           0.57658,     0.57758,     0.57858,     0.57958,     0.58058,     0.58158,     0.58258,     0.58358,     0.58458,     0.58559,     0.58659,     0.58759,     0.58859,     0.58959,     0.59059,     0.59159,     0.59259,     0.59359,     0.59459,      0.5956,      0.5966,      0.5976,      0.5986,      0.5996,\n",
              "            0.6006,      0.6016,      0.6026,      0.6036,      0.6046,     0.60561,     0.60661,     0.60761,     0.60861,     0.60961,     0.61061,     0.61161,     0.61261,     0.61361,     0.61461,     0.61562,     0.61662,     0.61762,     0.61862,     0.61962,     0.62062,     0.62162,     0.62262,     0.62362,\n",
              "           0.62462,     0.62563,     0.62663,     0.62763,     0.62863,     0.62963,     0.63063,     0.63163,     0.63263,     0.63363,     0.63463,     0.63564,     0.63664,     0.63764,     0.63864,     0.63964,     0.64064,     0.64164,     0.64264,     0.64364,     0.64464,     0.64565,     0.64665,     0.64765,\n",
              "           0.64865,     0.64965,     0.65065,     0.65165,     0.65265,     0.65365,     0.65465,     0.65566,     0.65666,     0.65766,     0.65866,     0.65966,     0.66066,     0.66166,     0.66266,     0.66366,     0.66466,     0.66567,     0.66667,     0.66767,     0.66867,     0.66967,     0.67067,     0.67167,\n",
              "           0.67267,     0.67367,     0.67467,     0.67568,     0.67668,     0.67768,     0.67868,     0.67968,     0.68068,     0.68168,     0.68268,     0.68368,     0.68468,     0.68569,     0.68669,     0.68769,     0.68869,     0.68969,     0.69069,     0.69169,     0.69269,     0.69369,     0.69469,      0.6957,\n",
              "            0.6967,      0.6977,      0.6987,      0.6997,      0.7007,      0.7017,      0.7027,      0.7037,      0.7047,     0.70571,     0.70671,     0.70771,     0.70871,     0.70971,     0.71071,     0.71171,     0.71271,     0.71371,     0.71471,     0.71572,     0.71672,     0.71772,     0.71872,     0.71972,\n",
              "           0.72072,     0.72172,     0.72272,     0.72372,     0.72472,     0.72573,     0.72673,     0.72773,     0.72873,     0.72973,     0.73073,     0.73173,     0.73273,     0.73373,     0.73473,     0.73574,     0.73674,     0.73774,     0.73874,     0.73974,     0.74074,     0.74174,     0.74274,     0.74374,\n",
              "           0.74474,     0.74575,     0.74675,     0.74775,     0.74875,     0.74975,     0.75075,     0.75175,     0.75275,     0.75375,     0.75475,     0.75576,     0.75676,     0.75776,     0.75876,     0.75976,     0.76076,     0.76176,     0.76276,     0.76376,     0.76476,     0.76577,     0.76677,     0.76777,\n",
              "           0.76877,     0.76977,     0.77077,     0.77177,     0.77277,     0.77377,     0.77477,     0.77578,     0.77678,     0.77778,     0.77878,     0.77978,     0.78078,     0.78178,     0.78278,     0.78378,     0.78478,     0.78579,     0.78679,     0.78779,     0.78879,     0.78979,     0.79079,     0.79179,\n",
              "           0.79279,     0.79379,     0.79479,      0.7958,      0.7968,      0.7978,      0.7988,      0.7998,      0.8008,      0.8018,      0.8028,      0.8038,      0.8048,     0.80581,     0.80681,     0.80781,     0.80881,     0.80981,     0.81081,     0.81181,     0.81281,     0.81381,     0.81481,     0.81582,\n",
              "           0.81682,     0.81782,     0.81882,     0.81982,     0.82082,     0.82182,     0.82282,     0.82382,     0.82482,     0.82583,     0.82683,     0.82783,     0.82883,     0.82983,     0.83083,     0.83183,     0.83283,     0.83383,     0.83483,     0.83584,     0.83684,     0.83784,     0.83884,     0.83984,\n",
              "           0.84084,     0.84184,     0.84284,     0.84384,     0.84484,     0.84585,     0.84685,     0.84785,     0.84885,     0.84985,     0.85085,     0.85185,     0.85285,     0.85385,     0.85485,     0.85586,     0.85686,     0.85786,     0.85886,     0.85986,     0.86086,     0.86186,     0.86286,     0.86386,\n",
              "           0.86486,     0.86587,     0.86687,     0.86787,     0.86887,     0.86987,     0.87087,     0.87187,     0.87287,     0.87387,     0.87487,     0.87588,     0.87688,     0.87788,     0.87888,     0.87988,     0.88088,     0.88188,     0.88288,     0.88388,     0.88488,     0.88589,     0.88689,     0.88789,\n",
              "           0.88889,     0.88989,     0.89089,     0.89189,     0.89289,     0.89389,     0.89489,      0.8959,      0.8969,      0.8979,      0.8989,      0.8999,      0.9009,      0.9019,      0.9029,      0.9039,      0.9049,     0.90591,     0.90691,     0.90791,     0.90891,     0.90991,     0.91091,     0.91191,\n",
              "           0.91291,     0.91391,     0.91491,     0.91592,     0.91692,     0.91792,     0.91892,     0.91992,     0.92092,     0.92192,     0.92292,     0.92392,     0.92492,     0.92593,     0.92693,     0.92793,     0.92893,     0.92993,     0.93093,     0.93193,     0.93293,     0.93393,     0.93493,     0.93594,\n",
              "           0.93694,     0.93794,     0.93894,     0.93994,     0.94094,     0.94194,     0.94294,     0.94394,     0.94494,     0.94595,     0.94695,     0.94795,     0.94895,     0.94995,     0.95095,     0.95195,     0.95295,     0.95395,     0.95495,     0.95596,     0.95696,     0.95796,     0.95896,     0.95996,\n",
              "           0.96096,     0.96196,     0.96296,     0.96396,     0.96496,     0.96597,     0.96697,     0.96797,     0.96897,     0.96997,     0.97097,     0.97197,     0.97297,     0.97397,     0.97497,     0.97598,     0.97698,     0.97798,     0.97898,     0.97998,     0.98098,     0.98198,     0.98298,     0.98398,\n",
              "           0.98498,     0.98599,     0.98699,     0.98799,     0.98899,     0.98999,     0.99099,     0.99199,     0.99299,     0.99399,     0.99499,       0.996,       0.997,       0.998,       0.999,           1]), array([[          1,           1,           1,           1,           1,           1,           1,           1,           1,     0.94737,     0.94737,     0.94737,     0.94737,     0.94737,     0.94737,     0.94737,     0.94737,        0.92,        0.92,        0.92,        0.92,        0.92,     0.89286,\n",
              "            0.89286,     0.88372,     0.88372,     0.88372,     0.88372,     0.88372,     0.88372,     0.88372,     0.88372,     0.88372,     0.88372,     0.88372,     0.88372,     0.86957,     0.86957,     0.84906,     0.84906,     0.84906,     0.84906,     0.83636,     0.82456,     0.80328,     0.80328,\n",
              "                0.8,         0.8,         0.8,     0.77215,     0.77215,     0.77215,     0.77215,     0.77215,     0.77215,     0.77215,     0.77215,      0.7561,     0.75581,     0.75581,     0.75581,        0.75,     0.73626,     0.73118,     0.72917,        0.72,        0.72,     0.70968,     0.70968,\n",
              "            0.70968,     0.70968,     0.70968,     0.70968,     0.70968,     0.70968,     0.70968,     0.70968,     0.70968,     0.70968,     0.70968,     0.70968,     0.70968,     0.70635,     0.70543,     0.70543,     0.70229,     0.70149,     0.70149,     0.69853,     0.69595,     0.69595,     0.69595,\n",
              "            0.69595,     0.69595,     0.69595,     0.69595,     0.67308,     0.67308,     0.66867,     0.66867,     0.66867,     0.66867,     0.66867,     0.62842,     0.62842,     0.62842,     0.62842,     0.60204,     0.60204,     0.60204,     0.59799,      0.5942,      0.5942,      0.5942,      0.5942,\n",
              "            0.59155,     0.59155,      0.5907,     0.58904,     0.58904,     0.58824,     0.57576,     0.57576,     0.57576,     0.54618,     0.54618,     0.54618,     0.53957,     0.53957,     0.53957,     0.53957,     0.53957,     0.53957,     0.53957,     0.53957,     0.53957,     0.53957,     0.53957,\n",
              "            0.53957,     0.53957,     0.52982,     0.52759,     0.52333,     0.52333,     0.52333,     0.52333,     0.51634,      0.5129,     0.51282,     0.51274,     0.50938,     0.50938,     0.49697,     0.48673,     0.47578,     0.46797,     0.46685,     0.46467,     0.46467,     0.45867,      0.4517,\n",
              "             0.4375,      0.4375,     0.42615,     0.41745,     0.41589,     0.41339,         0.4,         0.4,     0.39744,     0.39744,     0.39744,     0.39744,     0.39535,     0.39413,     0.38809,     0.38735,     0.38735,     0.38735,     0.38735,     0.38735,     0.38735,     0.38178,     0.38004,\n",
              "            0.37833,     0.36832,     0.36746,      0.3638,      0.3638,     0.35233,     0.34667,     0.34667,     0.34667,     0.34432,     0.34426,      0.3376,     0.33597,     0.31982,     0.30659,     0.30423,     0.30423,     0.30417,     0.30417,     0.30417,     0.30178,     0.29205,     0.29205,\n",
              "            0.29205,     0.28846,      0.2879,     0.28304,     0.27995,     0.27995,     0.27711,     0.27113,     0.27071,      0.2703,      0.2695,     0.26667,     0.26392,     0.25758,     0.25026,     0.24365,     0.24008,     0.24008,     0.23894,     0.23552,     0.23501,     0.23501,     0.23501,\n",
              "            0.23265,     0.22242,     0.22173,     0.22105,     0.21991,     0.21991,     0.21285,     0.20915,     0.20659,     0.20411,     0.19893,     0.19893,     0.19893,     0.19864,     0.19457,     0.19457,     0.19178,     0.19061,     0.19061,     0.18342,     0.18342,     0.18176,     0.18061,\n",
              "            0.17961,     0.17932,     0.17662,     0.17565,     0.17427,     0.17427,     0.17424,     0.17389,     0.17386,     0.17298,     0.17191,     0.16834,     0.16754,     0.16754,     0.16715,     0.16686,     0.16469,     0.16469,     0.16332,     0.16039,     0.15998,     0.15923,     0.15714,\n",
              "             0.1499,      0.1495,     0.14797,     0.14797,     0.14797,     0.14532,     0.14279,     0.14114,     0.14103,     0.14103,     0.13957,     0.13778,     0.13682,     0.13472,     0.13102,     0.12919,     0.12919,     0.12919,     0.12839,     0.12801,     0.12779,     0.12779,     0.12632,\n",
              "            0.12612,     0.12606,     0.12606,     0.12606,     0.12438,     0.12434,     0.12429,     0.12336,     0.12309,     0.11752,     0.11752,     0.11614,     0.11614,     0.11601,     0.11536,     0.11536,     0.11536,     0.11536,     0.11473,     0.11388,      0.1122,     0.11068,     0.10538,\n",
              "            0.10514,     0.10471,      0.1034,      0.1034,      0.1034,      0.1034,      0.1034,      0.1034,      0.1034,     0.10309,     0.10243,    0.099972,    0.098258,    0.097155,    0.096159,    0.095238,     0.09483,    0.093313,    0.093313,    0.093165,    0.092551,    0.091698,    0.091492,\n",
              "           0.091445,    0.090953,    0.090953,    0.085982,    0.084472,    0.084281,    0.084183,    0.084183,     0.08357,     0.08357,    0.083497,     0.08337,    0.082974,    0.081521,    0.078554,    0.078554,    0.077813,    0.077456,    0.076013,    0.074452,    0.074452,    0.074178,    0.072316,\n",
              "           0.071236,     0.07063,    0.070408,    0.068788,    0.068367,    0.067189,    0.067188,    0.067186,    0.065856,    0.065371,    0.064978,    0.063342,    0.062301,    0.062273,     0.06217,    0.061817,    0.061644,    0.060917,    0.060752,    0.060483,    0.059891,    0.059872,    0.059104,\n",
              "           0.058603,    0.057232,    0.056859,    0.054925,    0.054925,    0.054913,    0.054844,    0.054821,    0.054821,    0.054561,    0.054561,    0.053839,    0.053366,    0.053366,    0.051913,    0.051902,    0.051029,    0.050855,    0.049831,    0.048247,    0.048172,    0.048009,    0.047726,\n",
              "           0.047716,    0.045395,    0.044909,    0.044843,    0.044772,    0.044772,    0.044772,    0.044492,    0.044321,    0.043607,    0.041804,    0.041258,    0.040486,    0.040439,    0.040434,    0.039955,    0.039761,    0.039761,    0.039761,     0.03892,    0.038851,    0.038751,     0.03819,\n",
              "           0.037991,    0.037876,    0.037637,    0.036637,    0.036437,    0.036437,    0.036138,    0.034725,    0.032812,    0.032432,    0.032327,    0.032219,    0.031693,    0.031693,    0.031693,    0.031154,    0.029905,    0.029904,    0.029904,    0.029904,    0.029904,      0.0299,    0.029699,\n",
              "           0.029647,     0.02962,    0.029462,    0.029417,    0.029417,    0.029379,    0.029323,    0.029046,    0.028775,    0.028411,    0.028084,    0.027735,    0.026704,    0.026692,    0.026373,    0.026278,    0.026278,    0.026135,    0.026003,    0.025996,    0.025623,    0.025613,    0.025613,\n",
              "           0.025522,     0.02547,     0.02547,    0.025254,    0.025206,     0.02495,    0.024855,    0.024828,     0.02463,     0.02463,    0.024096,    0.023831,    0.023461,    0.023443,    0.023431,     0.02312,    0.022837,     0.02267,    0.022396,    0.022351,    0.022156,    0.022084,    0.021996,\n",
              "           0.021996,    0.021834,     0.02147,    0.021159,    0.020954,    0.020912,    0.020869,    0.020826,    0.020783,     0.02074,    0.020697,    0.020654,    0.020612,    0.020569,    0.020526,    0.020483,     0.02044,    0.020397,    0.020355,    0.020312,    0.020269,    0.020226,    0.020183,\n",
              "            0.02014,    0.020097,    0.020055,    0.020012,    0.019969,    0.019926,    0.019883,     0.01984,    0.019797,    0.019755,    0.019712,    0.019669,    0.019626,    0.019583,     0.01954,    0.019497,    0.019455,    0.019412,    0.019369,    0.019326,    0.019283,     0.01924,    0.019198,\n",
              "           0.019155,    0.019112,    0.019069,    0.019026,    0.018983,     0.01894,    0.018898,    0.018855,    0.018812,    0.018769,    0.018726,    0.018683,     0.01864,    0.018598,    0.018555,    0.018512,    0.018469,    0.018426,    0.018383,    0.018341,    0.018298,    0.018255,    0.018212,\n",
              "           0.018169,    0.018126,    0.018083,    0.018041,    0.017998,    0.017955,    0.017912,    0.017869,    0.017826,    0.017783,    0.017741,    0.017698,    0.017655,    0.017612,    0.017569,    0.017526,    0.017483,    0.017441,    0.017398,    0.017355,    0.017312,    0.017269,    0.017226,\n",
              "           0.017184,    0.017141,    0.017098,    0.017055,    0.017012,    0.016969,    0.016926,    0.016884,    0.016841,    0.016798,    0.016755,    0.016712,    0.016669,    0.016626,    0.016584,    0.016541,    0.016498,    0.016455,    0.016412,    0.016369,    0.016326,    0.016284,    0.016241,\n",
              "           0.016198,    0.016155,    0.016112,    0.016069,    0.016027,    0.015984,    0.015941,    0.015898,    0.015855,    0.015812,    0.015769,    0.015727,    0.015684,    0.015641,    0.015598,    0.015555,    0.015512,    0.015469,    0.015427,    0.015384,    0.015341,    0.015298,    0.015255,\n",
              "           0.015212,    0.015169,    0.015127,    0.015084,    0.015041,    0.014998,    0.014955,    0.014912,     0.01487,    0.014827,    0.014784,    0.014741,    0.014698,    0.014655,    0.014612,     0.01457,    0.014527,    0.014484,    0.014441,    0.014398,    0.014355,    0.014312,     0.01427,\n",
              "           0.014227,    0.014184,    0.014141,    0.014098,    0.014055,    0.014012,     0.01397,    0.013927,    0.013884,    0.013841,    0.013798,    0.013755,    0.013713,     0.01367,    0.013627,    0.013584,    0.013541,    0.013498,    0.013455,    0.013413,     0.01337,    0.013327,    0.013284,\n",
              "           0.013241,    0.013198,    0.013155,    0.013113,     0.01307,    0.013027,    0.012984,    0.012941,    0.012898,    0.012855,    0.012813,     0.01277,    0.012727,    0.012684,    0.012641,    0.012598,    0.012556,    0.012513,     0.01247,    0.012427,    0.012384,    0.012341,    0.012298,\n",
              "           0.012256,    0.012213,     0.01217,    0.012127,    0.012084,    0.012041,    0.011998,    0.011956,    0.011913,     0.01187,    0.011827,    0.011784,    0.011741,    0.011698,    0.011656,    0.011613,     0.01157,    0.011527,    0.011484,    0.011441,    0.011399,    0.011356,    0.011313,\n",
              "            0.01127,    0.011227,    0.011184,    0.011141,    0.011099,    0.011056,    0.011013,     0.01097,    0.010927,    0.010884,    0.010841,    0.010799,    0.010756,    0.010713,     0.01067,    0.010627,    0.010584,    0.010542,    0.010499,    0.010456,    0.010413,     0.01037,    0.010327,\n",
              "           0.010284,    0.010242,    0.010199,    0.010156,    0.010113,     0.01007,    0.010027,   0.0099844,   0.0099416,   0.0098987,   0.0098559,    0.009813,   0.0097702,   0.0097273,   0.0096845,   0.0096416,   0.0095988,   0.0095559,   0.0095131,   0.0094702,   0.0094274,   0.0093845,   0.0093417,\n",
              "          0.0092988,    0.009256,   0.0092131,   0.0091703,   0.0091274,   0.0090845,   0.0090417,   0.0089988,    0.008956,   0.0089131,   0.0088703,   0.0088274,   0.0087846,   0.0087417,   0.0086989,    0.008656,   0.0086132,   0.0085703,   0.0085275,   0.0084846,   0.0084418,   0.0083989,   0.0083561,\n",
              "          0.0083132,   0.0082704,   0.0082275,   0.0081847,   0.0081418,    0.008099,   0.0080561,   0.0080133,   0.0079704,   0.0079276,   0.0078847,   0.0078419,    0.007799,   0.0077561,   0.0077133,   0.0076704,   0.0076276,   0.0075847,   0.0075419,    0.007499,   0.0074562,   0.0074133,   0.0073705,\n",
              "          0.0073276,   0.0072848,   0.0072419,   0.0071991,   0.0071562,   0.0071134,   0.0070705,   0.0070277,   0.0069848,    0.006942,   0.0068991,   0.0068563,   0.0068134,   0.0067706,   0.0067277,   0.0066849,    0.006642,   0.0065992,   0.0065563,   0.0065135,   0.0064706,   0.0064277,   0.0063849,\n",
              "           0.006342,   0.0062992,   0.0062563,   0.0062135,   0.0061706,   0.0061278,   0.0060849,   0.0060421,   0.0059992,   0.0059564,   0.0059135,   0.0058707,   0.0058278,    0.005785,   0.0057421,   0.0056993,   0.0056564,   0.0056136,   0.0055707,   0.0055279,    0.005485,   0.0054422,   0.0053993,\n",
              "          0.0053565,   0.0053136,   0.0052708,   0.0052279,    0.005185,   0.0051422,   0.0050993,   0.0050565,   0.0050136,   0.0049708,   0.0049279,   0.0048851,   0.0048422,   0.0047994,   0.0047565,   0.0047137,   0.0046708,    0.004628,   0.0045851,   0.0045423,   0.0044994,   0.0044566,   0.0044137,\n",
              "          0.0043709,    0.004328,   0.0042852,   0.0042423,   0.0041995,   0.0041566,   0.0041138,   0.0040709,   0.0040281,   0.0039852,   0.0039424,   0.0038995,   0.0038566,   0.0038138,   0.0037709,   0.0037281,   0.0036852,   0.0036424,   0.0035995,   0.0035567,   0.0035138,    0.003471,   0.0034281,\n",
              "          0.0033853,   0.0033424,   0.0032996,   0.0032567,   0.0032139,    0.003171,   0.0031282,   0.0030853,   0.0030425,   0.0029996,   0.0029568,   0.0029139,   0.0028711,   0.0028282,   0.0027854,   0.0027425,   0.0026997,   0.0026568,    0.002614,   0.0025711,   0.0025282,   0.0024854,   0.0024425,\n",
              "          0.0023997,   0.0023568,    0.002314,   0.0022711,   0.0022283,   0.0021854,   0.0021426,   0.0020997,   0.0020569,    0.002014,   0.0019712,   0.0019283,   0.0018855,   0.0018426,   0.0017998,   0.0017569,   0.0017141,   0.0016712,   0.0016284,   0.0015855,   0.0015427,   0.0014998,    0.001457,\n",
              "          0.0014141,   0.0013713,   0.0013284,   0.0012855,   0.0012427,   0.0011998,    0.001157,   0.0011141,   0.0010713,   0.0010284,  0.00098559,  0.00094274,  0.00089988,  0.00085703,  0.00081418,  0.00077133,  0.00072848,  0.00068563,  0.00064277,  0.00059992,  0.00055707,  0.00051422,  0.00047137,\n",
              "         0.00042852,  0.00038566,  0.00034281,  0.00029996,  0.00025711,  0.00021426,  0.00017141,  0.00012855,  8.5703e-05,  4.2852e-05,           0]]), 'Recall', 'Precision'], [array([          0,    0.001001,    0.002002,    0.003003,    0.004004,    0.005005,    0.006006,    0.007007,    0.008008,    0.009009,     0.01001,    0.011011,    0.012012,    0.013013,    0.014014,    0.015015,    0.016016,    0.017017,    0.018018,    0.019019,     0.02002,    0.021021,    0.022022,    0.023023,\n",
              "          0.024024,    0.025025,    0.026026,    0.027027,    0.028028,    0.029029,     0.03003,    0.031031,    0.032032,    0.033033,    0.034034,    0.035035,    0.036036,    0.037037,    0.038038,    0.039039,     0.04004,    0.041041,    0.042042,    0.043043,    0.044044,    0.045045,    0.046046,    0.047047,\n",
              "          0.048048,    0.049049,     0.05005,    0.051051,    0.052052,    0.053053,    0.054054,    0.055055,    0.056056,    0.057057,    0.058058,    0.059059,     0.06006,    0.061061,    0.062062,    0.063063,    0.064064,    0.065065,    0.066066,    0.067067,    0.068068,    0.069069,     0.07007,    0.071071,\n",
              "          0.072072,    0.073073,    0.074074,    0.075075,    0.076076,    0.077077,    0.078078,    0.079079,     0.08008,    0.081081,    0.082082,    0.083083,    0.084084,    0.085085,    0.086086,    0.087087,    0.088088,    0.089089,     0.09009,    0.091091,    0.092092,    0.093093,    0.094094,    0.095095,\n",
              "          0.096096,    0.097097,    0.098098,    0.099099,      0.1001,      0.1011,      0.1021,      0.1031,      0.1041,     0.10511,     0.10611,     0.10711,     0.10811,     0.10911,     0.11011,     0.11111,     0.11211,     0.11311,     0.11411,     0.11512,     0.11612,     0.11712,     0.11812,     0.11912,\n",
              "           0.12012,     0.12112,     0.12212,     0.12312,     0.12412,     0.12513,     0.12613,     0.12713,     0.12813,     0.12913,     0.13013,     0.13113,     0.13213,     0.13313,     0.13413,     0.13514,     0.13614,     0.13714,     0.13814,     0.13914,     0.14014,     0.14114,     0.14214,     0.14314,\n",
              "           0.14414,     0.14515,     0.14615,     0.14715,     0.14815,     0.14915,     0.15015,     0.15115,     0.15215,     0.15315,     0.15415,     0.15516,     0.15616,     0.15716,     0.15816,     0.15916,     0.16016,     0.16116,     0.16216,     0.16316,     0.16416,     0.16517,     0.16617,     0.16717,\n",
              "           0.16817,     0.16917,     0.17017,     0.17117,     0.17217,     0.17317,     0.17417,     0.17518,     0.17618,     0.17718,     0.17818,     0.17918,     0.18018,     0.18118,     0.18218,     0.18318,     0.18418,     0.18519,     0.18619,     0.18719,     0.18819,     0.18919,     0.19019,     0.19119,\n",
              "           0.19219,     0.19319,     0.19419,      0.1952,      0.1962,      0.1972,      0.1982,      0.1992,      0.2002,      0.2012,      0.2022,      0.2032,      0.2042,     0.20521,     0.20621,     0.20721,     0.20821,     0.20921,     0.21021,     0.21121,     0.21221,     0.21321,     0.21421,     0.21522,\n",
              "           0.21622,     0.21722,     0.21822,     0.21922,     0.22022,     0.22122,     0.22222,     0.22322,     0.22422,     0.22523,     0.22623,     0.22723,     0.22823,     0.22923,     0.23023,     0.23123,     0.23223,     0.23323,     0.23423,     0.23524,     0.23624,     0.23724,     0.23824,     0.23924,\n",
              "           0.24024,     0.24124,     0.24224,     0.24324,     0.24424,     0.24525,     0.24625,     0.24725,     0.24825,     0.24925,     0.25025,     0.25125,     0.25225,     0.25325,     0.25425,     0.25526,     0.25626,     0.25726,     0.25826,     0.25926,     0.26026,     0.26126,     0.26226,     0.26326,\n",
              "           0.26426,     0.26527,     0.26627,     0.26727,     0.26827,     0.26927,     0.27027,     0.27127,     0.27227,     0.27327,     0.27427,     0.27528,     0.27628,     0.27728,     0.27828,     0.27928,     0.28028,     0.28128,     0.28228,     0.28328,     0.28428,     0.28529,     0.28629,     0.28729,\n",
              "           0.28829,     0.28929,     0.29029,     0.29129,     0.29229,     0.29329,     0.29429,      0.2953,      0.2963,      0.2973,      0.2983,      0.2993,      0.3003,      0.3013,      0.3023,      0.3033,      0.3043,     0.30531,     0.30631,     0.30731,     0.30831,     0.30931,     0.31031,     0.31131,\n",
              "           0.31231,     0.31331,     0.31431,     0.31532,     0.31632,     0.31732,     0.31832,     0.31932,     0.32032,     0.32132,     0.32232,     0.32332,     0.32432,     0.32533,     0.32633,     0.32733,     0.32833,     0.32933,     0.33033,     0.33133,     0.33233,     0.33333,     0.33433,     0.33534,\n",
              "           0.33634,     0.33734,     0.33834,     0.33934,     0.34034,     0.34134,     0.34234,     0.34334,     0.34434,     0.34535,     0.34635,     0.34735,     0.34835,     0.34935,     0.35035,     0.35135,     0.35235,     0.35335,     0.35435,     0.35536,     0.35636,     0.35736,     0.35836,     0.35936,\n",
              "           0.36036,     0.36136,     0.36236,     0.36336,     0.36436,     0.36537,     0.36637,     0.36737,     0.36837,     0.36937,     0.37037,     0.37137,     0.37237,     0.37337,     0.37437,     0.37538,     0.37638,     0.37738,     0.37838,     0.37938,     0.38038,     0.38138,     0.38238,     0.38338,\n",
              "           0.38438,     0.38539,     0.38639,     0.38739,     0.38839,     0.38939,     0.39039,     0.39139,     0.39239,     0.39339,     0.39439,      0.3954,      0.3964,      0.3974,      0.3984,      0.3994,      0.4004,      0.4014,      0.4024,      0.4034,      0.4044,     0.40541,     0.40641,     0.40741,\n",
              "           0.40841,     0.40941,     0.41041,     0.41141,     0.41241,     0.41341,     0.41441,     0.41542,     0.41642,     0.41742,     0.41842,     0.41942,     0.42042,     0.42142,     0.42242,     0.42342,     0.42442,     0.42543,     0.42643,     0.42743,     0.42843,     0.42943,     0.43043,     0.43143,\n",
              "           0.43243,     0.43343,     0.43443,     0.43544,     0.43644,     0.43744,     0.43844,     0.43944,     0.44044,     0.44144,     0.44244,     0.44344,     0.44444,     0.44545,     0.44645,     0.44745,     0.44845,     0.44945,     0.45045,     0.45145,     0.45245,     0.45345,     0.45445,     0.45546,\n",
              "           0.45646,     0.45746,     0.45846,     0.45946,     0.46046,     0.46146,     0.46246,     0.46346,     0.46446,     0.46547,     0.46647,     0.46747,     0.46847,     0.46947,     0.47047,     0.47147,     0.47247,     0.47347,     0.47447,     0.47548,     0.47648,     0.47748,     0.47848,     0.47948,\n",
              "           0.48048,     0.48148,     0.48248,     0.48348,     0.48448,     0.48549,     0.48649,     0.48749,     0.48849,     0.48949,     0.49049,     0.49149,     0.49249,     0.49349,     0.49449,      0.4955,      0.4965,      0.4975,      0.4985,      0.4995,      0.5005,      0.5015,      0.5025,      0.5035,\n",
              "            0.5045,     0.50551,     0.50651,     0.50751,     0.50851,     0.50951,     0.51051,     0.51151,     0.51251,     0.51351,     0.51451,     0.51552,     0.51652,     0.51752,     0.51852,     0.51952,     0.52052,     0.52152,     0.52252,     0.52352,     0.52452,     0.52553,     0.52653,     0.52753,\n",
              "           0.52853,     0.52953,     0.53053,     0.53153,     0.53253,     0.53353,     0.53453,     0.53554,     0.53654,     0.53754,     0.53854,     0.53954,     0.54054,     0.54154,     0.54254,     0.54354,     0.54454,     0.54555,     0.54655,     0.54755,     0.54855,     0.54955,     0.55055,     0.55155,\n",
              "           0.55255,     0.55355,     0.55455,     0.55556,     0.55656,     0.55756,     0.55856,     0.55956,     0.56056,     0.56156,     0.56256,     0.56356,     0.56456,     0.56557,     0.56657,     0.56757,     0.56857,     0.56957,     0.57057,     0.57157,     0.57257,     0.57357,     0.57457,     0.57558,\n",
              "           0.57658,     0.57758,     0.57858,     0.57958,     0.58058,     0.58158,     0.58258,     0.58358,     0.58458,     0.58559,     0.58659,     0.58759,     0.58859,     0.58959,     0.59059,     0.59159,     0.59259,     0.59359,     0.59459,      0.5956,      0.5966,      0.5976,      0.5986,      0.5996,\n",
              "            0.6006,      0.6016,      0.6026,      0.6036,      0.6046,     0.60561,     0.60661,     0.60761,     0.60861,     0.60961,     0.61061,     0.61161,     0.61261,     0.61361,     0.61461,     0.61562,     0.61662,     0.61762,     0.61862,     0.61962,     0.62062,     0.62162,     0.62262,     0.62362,\n",
              "           0.62462,     0.62563,     0.62663,     0.62763,     0.62863,     0.62963,     0.63063,     0.63163,     0.63263,     0.63363,     0.63463,     0.63564,     0.63664,     0.63764,     0.63864,     0.63964,     0.64064,     0.64164,     0.64264,     0.64364,     0.64464,     0.64565,     0.64665,     0.64765,\n",
              "           0.64865,     0.64965,     0.65065,     0.65165,     0.65265,     0.65365,     0.65465,     0.65566,     0.65666,     0.65766,     0.65866,     0.65966,     0.66066,     0.66166,     0.66266,     0.66366,     0.66466,     0.66567,     0.66667,     0.66767,     0.66867,     0.66967,     0.67067,     0.67167,\n",
              "           0.67267,     0.67367,     0.67467,     0.67568,     0.67668,     0.67768,     0.67868,     0.67968,     0.68068,     0.68168,     0.68268,     0.68368,     0.68468,     0.68569,     0.68669,     0.68769,     0.68869,     0.68969,     0.69069,     0.69169,     0.69269,     0.69369,     0.69469,      0.6957,\n",
              "            0.6967,      0.6977,      0.6987,      0.6997,      0.7007,      0.7017,      0.7027,      0.7037,      0.7047,     0.70571,     0.70671,     0.70771,     0.70871,     0.70971,     0.71071,     0.71171,     0.71271,     0.71371,     0.71471,     0.71572,     0.71672,     0.71772,     0.71872,     0.71972,\n",
              "           0.72072,     0.72172,     0.72272,     0.72372,     0.72472,     0.72573,     0.72673,     0.72773,     0.72873,     0.72973,     0.73073,     0.73173,     0.73273,     0.73373,     0.73473,     0.73574,     0.73674,     0.73774,     0.73874,     0.73974,     0.74074,     0.74174,     0.74274,     0.74374,\n",
              "           0.74474,     0.74575,     0.74675,     0.74775,     0.74875,     0.74975,     0.75075,     0.75175,     0.75275,     0.75375,     0.75475,     0.75576,     0.75676,     0.75776,     0.75876,     0.75976,     0.76076,     0.76176,     0.76276,     0.76376,     0.76476,     0.76577,     0.76677,     0.76777,\n",
              "           0.76877,     0.76977,     0.77077,     0.77177,     0.77277,     0.77377,     0.77477,     0.77578,     0.77678,     0.77778,     0.77878,     0.77978,     0.78078,     0.78178,     0.78278,     0.78378,     0.78478,     0.78579,     0.78679,     0.78779,     0.78879,     0.78979,     0.79079,     0.79179,\n",
              "           0.79279,     0.79379,     0.79479,      0.7958,      0.7968,      0.7978,      0.7988,      0.7998,      0.8008,      0.8018,      0.8028,      0.8038,      0.8048,     0.80581,     0.80681,     0.80781,     0.80881,     0.80981,     0.81081,     0.81181,     0.81281,     0.81381,     0.81481,     0.81582,\n",
              "           0.81682,     0.81782,     0.81882,     0.81982,     0.82082,     0.82182,     0.82282,     0.82382,     0.82482,     0.82583,     0.82683,     0.82783,     0.82883,     0.82983,     0.83083,     0.83183,     0.83283,     0.83383,     0.83483,     0.83584,     0.83684,     0.83784,     0.83884,     0.83984,\n",
              "           0.84084,     0.84184,     0.84284,     0.84384,     0.84484,     0.84585,     0.84685,     0.84785,     0.84885,     0.84985,     0.85085,     0.85185,     0.85285,     0.85385,     0.85485,     0.85586,     0.85686,     0.85786,     0.85886,     0.85986,     0.86086,     0.86186,     0.86286,     0.86386,\n",
              "           0.86486,     0.86587,     0.86687,     0.86787,     0.86887,     0.86987,     0.87087,     0.87187,     0.87287,     0.87387,     0.87487,     0.87588,     0.87688,     0.87788,     0.87888,     0.87988,     0.88088,     0.88188,     0.88288,     0.88388,     0.88488,     0.88589,     0.88689,     0.88789,\n",
              "           0.88889,     0.88989,     0.89089,     0.89189,     0.89289,     0.89389,     0.89489,      0.8959,      0.8969,      0.8979,      0.8989,      0.8999,      0.9009,      0.9019,      0.9029,      0.9039,      0.9049,     0.90591,     0.90691,     0.90791,     0.90891,     0.90991,     0.91091,     0.91191,\n",
              "           0.91291,     0.91391,     0.91491,     0.91592,     0.91692,     0.91792,     0.91892,     0.91992,     0.92092,     0.92192,     0.92292,     0.92392,     0.92492,     0.92593,     0.92693,     0.92793,     0.92893,     0.92993,     0.93093,     0.93193,     0.93293,     0.93393,     0.93493,     0.93594,\n",
              "           0.93694,     0.93794,     0.93894,     0.93994,     0.94094,     0.94194,     0.94294,     0.94394,     0.94494,     0.94595,     0.94695,     0.94795,     0.94895,     0.94995,     0.95095,     0.95195,     0.95295,     0.95395,     0.95495,     0.95596,     0.95696,     0.95796,     0.95896,     0.95996,\n",
              "           0.96096,     0.96196,     0.96296,     0.96396,     0.96496,     0.96597,     0.96697,     0.96797,     0.96897,     0.96997,     0.97097,     0.97197,     0.97297,     0.97397,     0.97497,     0.97598,     0.97698,     0.97798,     0.97898,     0.97998,     0.98098,     0.98198,     0.98298,     0.98398,\n",
              "           0.98498,     0.98599,     0.98699,     0.98799,     0.98899,     0.98999,     0.99099,     0.99199,     0.99299,     0.99399,     0.99499,       0.996,       0.997,       0.998,       0.999,           1]), array([[   0.040314,    0.040314,    0.053826,    0.063246,     0.07203,    0.079784,    0.086574,    0.093111,    0.098309,     0.10376,      0.1078,     0.11285,      0.1172,     0.12137,     0.12546,     0.12874,     0.13242,     0.13498,     0.13779,      0.1421,     0.14447,     0.14605,     0.14832,\n",
              "            0.15082,     0.15383,     0.15633,      0.1564,     0.15816,     0.15973,     0.16258,     0.16502,     0.16736,     0.16897,     0.16885,      0.1704,     0.17142,     0.17336,     0.17545,     0.17641,     0.17678,     0.17739,     0.17832,     0.17829,     0.17932,     0.17924,     0.18006,\n",
              "            0.18151,     0.18345,     0.18485,     0.18603,     0.18763,     0.18794,     0.18874,     0.18942,     0.19087,     0.19136,     0.19249,     0.19325,     0.19336,     0.19392,     0.19423,     0.19549,     0.19681,     0.19908,     0.19995,     0.20059,     0.20149,     0.20178,     0.20292,\n",
              "            0.20365,     0.20435,      0.2044,     0.20532,      0.2053,     0.20525,     0.20515,     0.20622,     0.20744,     0.20809,     0.20831,     0.20861,      0.2083,     0.20795,     0.20815,      0.2085,      0.2098,      0.2098,     0.21016,     0.21085,     0.21125,     0.21102,     0.21221,\n",
              "            0.21288,     0.21401,     0.21479,     0.21572,     0.21549,     0.21581,     0.21642,      0.2173,     0.21643,     0.21723,     0.21802,      0.2181,     0.21869,     0.21647,     0.21693,     0.21747,     0.21834,     0.21878,      0.2193,     0.22017,     0.22015,     0.22059,     0.22123,\n",
              "            0.22096,     0.22178,     0.22248,     0.22249,     0.22354,     0.22395,     0.22415,     0.22493,     0.22527,     0.22644,     0.22727,     0.22685,     0.22679,     0.22706,      0.2265,     0.22663,     0.22715,     0.22803,     0.22842,     0.22864,     0.22979,      0.2307,      0.2314,\n",
              "            0.23067,     0.23138,     0.23198,     0.23089,     0.23059,     0.23027,     0.23076,     0.23158,     0.23211,     0.23056,     0.23139,     0.23191,      0.2327,     0.23196,     0.23222,     0.23296,     0.23376,     0.23457,     0.23449,     0.23507,     0.23552,     0.23599,     0.23702,\n",
              "             0.2376,     0.23767,     0.23824,     0.23935,     0.23913,     0.24009,     0.24043,     0.24001,     0.24023,     0.23988,     0.23973,     0.23943,     0.23904,     0.23932,     0.23876,     0.23909,     0.23969,     0.24042,     0.24076,     0.24103,     0.24053,     0.24138,     0.24058,\n",
              "            0.24072,     0.24133,     0.24074,     0.24146,     0.24191,     0.24209,     0.24167,     0.24214,     0.24266,     0.24146,     0.24044,     0.24053,     0.24088,     0.24109,     0.24181,     0.24203,     0.24141,      0.2419,     0.24219,     0.24258,      0.2432,     0.24324,     0.24305,\n",
              "            0.24353,     0.24293,     0.24213,     0.24059,        0.24,     0.24039,     0.24068,     0.24031,     0.24092,     0.24131,     0.24162,     0.24223,     0.24299,     0.24348,     0.24397,     0.24412,     0.24351,     0.24414,     0.24457,     0.24497,     0.24533,     0.24581,     0.24602,\n",
              "             0.2463,     0.24686,     0.24764,     0.24785,     0.24821,     0.24782,      0.2471,     0.24736,     0.24785,     0.24835,     0.24795,     0.24818,     0.24709,     0.24513,     0.24428,     0.24469,     0.24523,     0.24533,     0.24554,     0.24575,     0.24576,     0.24642,     0.24692,\n",
              "            0.24726,     0.24634,     0.24646,     0.24686,     0.24702,     0.24751,     0.24681,     0.24655,     0.24584,     0.24615,     0.24666,     0.24694,     0.24701,      0.2476,     0.24774,     0.24806,     0.24721,     0.24732,     0.24751,     0.24768,     0.24777,     0.24692,     0.24705,\n",
              "            0.24632,     0.24711,     0.24747,     0.24616,     0.24472,      0.2439,     0.24245,     0.24149,     0.24064,     0.24083,     0.24124,     0.24133,     0.24147,     0.24071,     0.24134,     0.24152,     0.24163,      0.2412,     0.24061,     0.23936,     0.23645,     0.23681,     0.23697,\n",
              "            0.23731,      0.2374,     0.23755,     0.23707,     0.23531,     0.23602,     0.23661,     0.23594,     0.23629,     0.23655,     0.23666,     0.23685,     0.23689,     0.23653,     0.23616,     0.23613,     0.23631,     0.23649,     0.23557,     0.23568,     0.23533,     0.23582,     0.23597,\n",
              "            0.23607,     0.23545,     0.23523,     0.23572,     0.23607,     0.23642,     0.23493,     0.23483,     0.23496,      0.2351,     0.23544,     0.23579,     0.23609,     0.23632,     0.23649,     0.23678,     0.23596,     0.23605,     0.23618,     0.23654,     0.23685,     0.23588,     0.23622,\n",
              "             0.2364,     0.23647,     0.23656,     0.23665,     0.23468,     0.23368,     0.23375,     0.23389,     0.23297,      0.2333,     0.23349,     0.23367,     0.23305,     0.23305,     0.23314,      0.2324,     0.23234,     0.23189,      0.2322,     0.23239,     0.23256,     0.23266,     0.23273,\n",
              "            0.23279,     0.23188,     0.23196,     0.23208,     0.23225,     0.23238,     0.23244,      0.2325,     0.23263,     0.23284,     0.23302,     0.23327,     0.23335,     0.23261,      0.2317,     0.23118,     0.23124,      0.2313,     0.23143,     0.23062,     0.22948,     0.22923,       0.228,\n",
              "            0.22833,     0.22841,     0.22739,     0.22755,     0.22764,     0.22777,     0.22794,     0.22744,     0.22612,     0.22421,     0.22431,     0.22439,     0.22448,      0.2235,     0.22367,     0.22383,     0.22258,     0.22262,     0.22217,     0.22173,     0.22162,     0.22061,      0.2207,\n",
              "            0.22083,     0.22118,     0.22135,     0.21986,     0.21953,     0.21919,     0.21885,     0.21758,     0.21591,     0.21541,     0.21499,     0.21511,     0.21243,     0.21134,     0.21148,     0.21152,     0.21156,      0.2116,     0.20988,     0.20898,     0.20906,     0.20748,     0.20669,\n",
              "            0.20654,     0.20528,     0.20533,     0.20539,     0.20552,     0.20568,     0.20464,     0.20489,     0.20496,     0.20504,     0.20512,     0.20383,     0.20244,     0.20114,     0.20137,     0.20144,     0.20153,     0.20168,     0.20177,     0.20188,     0.20201,     0.20209,     0.20236,\n",
              "            0.20267,     0.20279,     0.20286,     0.20314,     0.20308,     0.20261,     0.20214,     0.20072,     0.20028,     0.19957,     0.19943,     0.19948,     0.19953,      0.1996,     0.19968,     0.19983,     0.19989,     0.19995,         0.2,     0.20015,     0.20023,     0.19893,     0.19905,\n",
              "            0.19857,      0.1981,     0.19631,     0.19647,     0.19633,     0.19521,     0.19526,     0.19531,     0.19375,     0.19303,     0.19239,     0.19191,     0.19143,      0.1915,     0.19097,     0.18996,     0.18948,       0.189,     0.18801,     0.18744,     0.18667,     0.18613,      0.1862,\n",
              "            0.18647,     0.18554,     0.18512,     0.18516,      0.1852,     0.18524,      0.1853,     0.18538,     0.18477,     0.18404,      0.1837,     0.18341,     0.18312,     0.18282,     0.18252,     0.18179,     0.18111,     0.18115,      0.1812,     0.18126,      0.1814,     0.18147,     0.18169,\n",
              "            0.18176,     0.18183,     0.18186,      0.1819,     0.18194,     0.18201,     0.18216,     0.18245,     0.17902,     0.17677,      0.1768,     0.17684,     0.17688,     0.17711,     0.17734,     0.17739,     0.17744,     0.17765,     0.17772,     0.17779,     0.17787,     0.17794,     0.17801,\n",
              "            0.17814,     0.17829,     0.17835,      0.1784,     0.17845,     0.17502,     0.17204,     0.17128,     0.17135,     0.17059,     0.16998,     0.17006,     0.17009,     0.17011,     0.17014,     0.17017,     0.17028,     0.16922,     0.16826,      0.1675,     0.16745,     0.16773,     0.16778,\n",
              "            0.16782,     0.16785,     0.16789,     0.16816,     0.16668,     0.16214,     0.16066,     0.16071,     0.16077,     0.15894,     0.15817,     0.15689,     0.15559,     0.15263,     0.15222,     0.15227,     0.15231,     0.15107,     0.15084,      0.1509,     0.14955,     0.14792,     0.14645,\n",
              "            0.14651,     0.14579,     0.14492,     0.14477,     0.14462,     0.14447,     0.14432,     0.14417,     0.14402,     0.14387,     0.14372,     0.14356,     0.14325,     0.14245,     0.14141,     0.13862,     0.13809,     0.13756,     0.13709,     0.13674,     0.13638,     0.13603,     0.13565,\n",
              "            0.13255,      0.1311,     0.12959,     0.12913,     0.12867,      0.1282,     0.12789,     0.12748,     0.12708,     0.12667,     0.12667,     0.12583,     0.12457,     0.12294,     0.12207,     0.12218,     0.12219,     0.12183,     0.12146,      0.1211,     0.12072,      0.1199,     0.11917,\n",
              "            0.11928,     0.11933,     0.11882,       0.118,     0.11742,     0.11695,     0.11648,     0.11615,     0.11621,     0.11465,     0.11472,     0.11425,     0.11369,     0.11314,     0.11325,     0.11304,     0.11249,     0.11193,     0.11117,     0.11001,     0.10847,       0.108,     0.10752,\n",
              "            0.10704,     0.10696,     0.10675,     0.10641,     0.10608,     0.10574,     0.10541,     0.10538,     0.10541,     0.10544,     0.10317,    0.098187,    0.097324,    0.097358,    0.097357,    0.096508,    0.095634,      0.0945,    0.092467,    0.092337,    0.092093,    0.091849,    0.091605,\n",
              "           0.091361,    0.091117,    0.090873,    0.090875,    0.090921,    0.090954,    0.090986,    0.090438,    0.089752,    0.086893,    0.082747,    0.082768,     0.08279,    0.082811,    0.082865,    0.082458,    0.081764,    0.081204,    0.081222,    0.081241,    0.081259,    0.079596,    0.079511,\n",
              "           0.079075,    0.078639,    0.078203,    0.077471,    0.076306,    0.074589,    0.072402,    0.071524,    0.071183,      0.0712,    0.071216,    0.071232,    0.068781,    0.067804,    0.067845,    0.067361,    0.066653,    0.066046,    0.065724,    0.065402,    0.065079,    0.064757,    0.064434,\n",
              "           0.063605,    0.062717,    0.061547,    0.060074,    0.057429,    0.056237,    0.053459,    0.052561,    0.051663,    0.050763,    0.049667,    0.048701,    0.047966,    0.045661,     0.04513,    0.044676,    0.044223,    0.043769,    0.043151,    0.042242,     0.04171,    0.041723,    0.041736,\n",
              "           0.041617,    0.041357,    0.041096,    0.040836,    0.040575,    0.040315,    0.040054,    0.038772,    0.037356,    0.036367,    0.036226,    0.036085,    0.035944,    0.035803,    0.035662,    0.035521,     0.03538,    0.035239,    0.035098,    0.034957,    0.034816,    0.034675,     0.03433,\n",
              "           0.033805,    0.033281,    0.032817,     0.03282,    0.032823,    0.032825,    0.032828,    0.032831,    0.032833,    0.032836,    0.032839,    0.032841,    0.032844,    0.032846,    0.032546,    0.032212,    0.031877,    0.031542,    0.031207,     0.03056,    0.029638,    0.027413,    0.027043,\n",
              "           0.026673,    0.026302,    0.025932,    0.024844,    0.022931,    0.021037,    0.019961,     0.01965,    0.019339,    0.019029,    0.018718,    0.018407,     0.01656,    0.016562,    0.016564,    0.016566,    0.016568,     0.01657,    0.016571,    0.016573,    0.016042,    0.013519,    0.012862,\n",
              "           0.012784,    0.012705,    0.012627,    0.012549,     0.01247,    0.012392,    0.012314,    0.012235,    0.012157,    0.012079,       0.012,    0.011922,    0.011844,    0.011765,    0.011687,    0.011608,     0.01153,    0.011452,    0.011373,    0.011295,    0.011216,    0.011138,    0.010582,\n",
              "          0.0090604,   0.0084315,   0.0078021,   0.0072294,   0.0067569,   0.0062841,   0.0058111,   0.0049749,   0.0037115,   0.0036841,    0.003661,   0.0036378,   0.0036147,   0.0035916,   0.0035684,   0.0035453,   0.0035222,    0.003499,   0.0034759,   0.0034528,   0.0034297,   0.0034065,   0.0033834,\n",
              "          0.0033602,   0.0033371,    0.003314,   0.0032908,   0.0032677,   0.0032446,   0.0032214,   0.0031983,   0.0031751,    0.003152,   0.0031289,   0.0031057,   0.0030826,   0.0030594,   0.0030363,   0.0030132,     0.00299,   0.0029669,   0.0029437,   0.0029206,   0.0028974,   0.0028743,   0.0028511,\n",
              "           0.002828,   0.0028048,   0.0027817,   0.0027585,   0.0027354,   0.0027122,   0.0026891,   0.0026659,   0.0026428,   0.0026196,   0.0025965,   0.0025733,   0.0025502,    0.002527,   0.0025039,   0.0024807,   0.0024576,   0.0024344,   0.0024113,   0.0023881,   0.0023649,   0.0023418,   0.0023186,\n",
              "          0.0022955,   0.0022723,   0.0022491,    0.002226,   0.0022028,   0.0021797,   0.0021565,   0.0021333,   0.0021102,    0.002087,   0.0020638,   0.0020407,   0.0020175,   0.0019943,   0.0019712,    0.001948,   0.0019248,   0.0019017,   0.0018785,   0.0018553,           0,           0,           0,\n",
              "                  0,           0,           0,           0,           0,           0,           0,           0,           0,           0,           0,           0,           0,           0,           0,           0,           0,           0,           0,           0,           0,           0,           0,\n",
              "                  0,           0,           0,           0,           0,           0,           0,           0,           0,           0,           0,           0,           0,           0,           0,           0,           0,           0,           0,           0,           0,           0,           0,\n",
              "                  0,           0,           0,           0,           0,           0,           0,           0,           0,           0,           0]]), 'Confidence', 'F1'], [array([          0,    0.001001,    0.002002,    0.003003,    0.004004,    0.005005,    0.006006,    0.007007,    0.008008,    0.009009,     0.01001,    0.011011,    0.012012,    0.013013,    0.014014,    0.015015,    0.016016,    0.017017,    0.018018,    0.019019,     0.02002,    0.021021,    0.022022,    0.023023,\n",
              "          0.024024,    0.025025,    0.026026,    0.027027,    0.028028,    0.029029,     0.03003,    0.031031,    0.032032,    0.033033,    0.034034,    0.035035,    0.036036,    0.037037,    0.038038,    0.039039,     0.04004,    0.041041,    0.042042,    0.043043,    0.044044,    0.045045,    0.046046,    0.047047,\n",
              "          0.048048,    0.049049,     0.05005,    0.051051,    0.052052,    0.053053,    0.054054,    0.055055,    0.056056,    0.057057,    0.058058,    0.059059,     0.06006,    0.061061,    0.062062,    0.063063,    0.064064,    0.065065,    0.066066,    0.067067,    0.068068,    0.069069,     0.07007,    0.071071,\n",
              "          0.072072,    0.073073,    0.074074,    0.075075,    0.076076,    0.077077,    0.078078,    0.079079,     0.08008,    0.081081,    0.082082,    0.083083,    0.084084,    0.085085,    0.086086,    0.087087,    0.088088,    0.089089,     0.09009,    0.091091,    0.092092,    0.093093,    0.094094,    0.095095,\n",
              "          0.096096,    0.097097,    0.098098,    0.099099,      0.1001,      0.1011,      0.1021,      0.1031,      0.1041,     0.10511,     0.10611,     0.10711,     0.10811,     0.10911,     0.11011,     0.11111,     0.11211,     0.11311,     0.11411,     0.11512,     0.11612,     0.11712,     0.11812,     0.11912,\n",
              "           0.12012,     0.12112,     0.12212,     0.12312,     0.12412,     0.12513,     0.12613,     0.12713,     0.12813,     0.12913,     0.13013,     0.13113,     0.13213,     0.13313,     0.13413,     0.13514,     0.13614,     0.13714,     0.13814,     0.13914,     0.14014,     0.14114,     0.14214,     0.14314,\n",
              "           0.14414,     0.14515,     0.14615,     0.14715,     0.14815,     0.14915,     0.15015,     0.15115,     0.15215,     0.15315,     0.15415,     0.15516,     0.15616,     0.15716,     0.15816,     0.15916,     0.16016,     0.16116,     0.16216,     0.16316,     0.16416,     0.16517,     0.16617,     0.16717,\n",
              "           0.16817,     0.16917,     0.17017,     0.17117,     0.17217,     0.17317,     0.17417,     0.17518,     0.17618,     0.17718,     0.17818,     0.17918,     0.18018,     0.18118,     0.18218,     0.18318,     0.18418,     0.18519,     0.18619,     0.18719,     0.18819,     0.18919,     0.19019,     0.19119,\n",
              "           0.19219,     0.19319,     0.19419,      0.1952,      0.1962,      0.1972,      0.1982,      0.1992,      0.2002,      0.2012,      0.2022,      0.2032,      0.2042,     0.20521,     0.20621,     0.20721,     0.20821,     0.20921,     0.21021,     0.21121,     0.21221,     0.21321,     0.21421,     0.21522,\n",
              "           0.21622,     0.21722,     0.21822,     0.21922,     0.22022,     0.22122,     0.22222,     0.22322,     0.22422,     0.22523,     0.22623,     0.22723,     0.22823,     0.22923,     0.23023,     0.23123,     0.23223,     0.23323,     0.23423,     0.23524,     0.23624,     0.23724,     0.23824,     0.23924,\n",
              "           0.24024,     0.24124,     0.24224,     0.24324,     0.24424,     0.24525,     0.24625,     0.24725,     0.24825,     0.24925,     0.25025,     0.25125,     0.25225,     0.25325,     0.25425,     0.25526,     0.25626,     0.25726,     0.25826,     0.25926,     0.26026,     0.26126,     0.26226,     0.26326,\n",
              "           0.26426,     0.26527,     0.26627,     0.26727,     0.26827,     0.26927,     0.27027,     0.27127,     0.27227,     0.27327,     0.27427,     0.27528,     0.27628,     0.27728,     0.27828,     0.27928,     0.28028,     0.28128,     0.28228,     0.28328,     0.28428,     0.28529,     0.28629,     0.28729,\n",
              "           0.28829,     0.28929,     0.29029,     0.29129,     0.29229,     0.29329,     0.29429,      0.2953,      0.2963,      0.2973,      0.2983,      0.2993,      0.3003,      0.3013,      0.3023,      0.3033,      0.3043,     0.30531,     0.30631,     0.30731,     0.30831,     0.30931,     0.31031,     0.31131,\n",
              "           0.31231,     0.31331,     0.31431,     0.31532,     0.31632,     0.31732,     0.31832,     0.31932,     0.32032,     0.32132,     0.32232,     0.32332,     0.32432,     0.32533,     0.32633,     0.32733,     0.32833,     0.32933,     0.33033,     0.33133,     0.33233,     0.33333,     0.33433,     0.33534,\n",
              "           0.33634,     0.33734,     0.33834,     0.33934,     0.34034,     0.34134,     0.34234,     0.34334,     0.34434,     0.34535,     0.34635,     0.34735,     0.34835,     0.34935,     0.35035,     0.35135,     0.35235,     0.35335,     0.35435,     0.35536,     0.35636,     0.35736,     0.35836,     0.35936,\n",
              "           0.36036,     0.36136,     0.36236,     0.36336,     0.36436,     0.36537,     0.36637,     0.36737,     0.36837,     0.36937,     0.37037,     0.37137,     0.37237,     0.37337,     0.37437,     0.37538,     0.37638,     0.37738,     0.37838,     0.37938,     0.38038,     0.38138,     0.38238,     0.38338,\n",
              "           0.38438,     0.38539,     0.38639,     0.38739,     0.38839,     0.38939,     0.39039,     0.39139,     0.39239,     0.39339,     0.39439,      0.3954,      0.3964,      0.3974,      0.3984,      0.3994,      0.4004,      0.4014,      0.4024,      0.4034,      0.4044,     0.40541,     0.40641,     0.40741,\n",
              "           0.40841,     0.40941,     0.41041,     0.41141,     0.41241,     0.41341,     0.41441,     0.41542,     0.41642,     0.41742,     0.41842,     0.41942,     0.42042,     0.42142,     0.42242,     0.42342,     0.42442,     0.42543,     0.42643,     0.42743,     0.42843,     0.42943,     0.43043,     0.43143,\n",
              "           0.43243,     0.43343,     0.43443,     0.43544,     0.43644,     0.43744,     0.43844,     0.43944,     0.44044,     0.44144,     0.44244,     0.44344,     0.44444,     0.44545,     0.44645,     0.44745,     0.44845,     0.44945,     0.45045,     0.45145,     0.45245,     0.45345,     0.45445,     0.45546,\n",
              "           0.45646,     0.45746,     0.45846,     0.45946,     0.46046,     0.46146,     0.46246,     0.46346,     0.46446,     0.46547,     0.46647,     0.46747,     0.46847,     0.46947,     0.47047,     0.47147,     0.47247,     0.47347,     0.47447,     0.47548,     0.47648,     0.47748,     0.47848,     0.47948,\n",
              "           0.48048,     0.48148,     0.48248,     0.48348,     0.48448,     0.48549,     0.48649,     0.48749,     0.48849,     0.48949,     0.49049,     0.49149,     0.49249,     0.49349,     0.49449,      0.4955,      0.4965,      0.4975,      0.4985,      0.4995,      0.5005,      0.5015,      0.5025,      0.5035,\n",
              "            0.5045,     0.50551,     0.50651,     0.50751,     0.50851,     0.50951,     0.51051,     0.51151,     0.51251,     0.51351,     0.51451,     0.51552,     0.51652,     0.51752,     0.51852,     0.51952,     0.52052,     0.52152,     0.52252,     0.52352,     0.52452,     0.52553,     0.52653,     0.52753,\n",
              "           0.52853,     0.52953,     0.53053,     0.53153,     0.53253,     0.53353,     0.53453,     0.53554,     0.53654,     0.53754,     0.53854,     0.53954,     0.54054,     0.54154,     0.54254,     0.54354,     0.54454,     0.54555,     0.54655,     0.54755,     0.54855,     0.54955,     0.55055,     0.55155,\n",
              "           0.55255,     0.55355,     0.55455,     0.55556,     0.55656,     0.55756,     0.55856,     0.55956,     0.56056,     0.56156,     0.56256,     0.56356,     0.56456,     0.56557,     0.56657,     0.56757,     0.56857,     0.56957,     0.57057,     0.57157,     0.57257,     0.57357,     0.57457,     0.57558,\n",
              "           0.57658,     0.57758,     0.57858,     0.57958,     0.58058,     0.58158,     0.58258,     0.58358,     0.58458,     0.58559,     0.58659,     0.58759,     0.58859,     0.58959,     0.59059,     0.59159,     0.59259,     0.59359,     0.59459,      0.5956,      0.5966,      0.5976,      0.5986,      0.5996,\n",
              "            0.6006,      0.6016,      0.6026,      0.6036,      0.6046,     0.60561,     0.60661,     0.60761,     0.60861,     0.60961,     0.61061,     0.61161,     0.61261,     0.61361,     0.61461,     0.61562,     0.61662,     0.61762,     0.61862,     0.61962,     0.62062,     0.62162,     0.62262,     0.62362,\n",
              "           0.62462,     0.62563,     0.62663,     0.62763,     0.62863,     0.62963,     0.63063,     0.63163,     0.63263,     0.63363,     0.63463,     0.63564,     0.63664,     0.63764,     0.63864,     0.63964,     0.64064,     0.64164,     0.64264,     0.64364,     0.64464,     0.64565,     0.64665,     0.64765,\n",
              "           0.64865,     0.64965,     0.65065,     0.65165,     0.65265,     0.65365,     0.65465,     0.65566,     0.65666,     0.65766,     0.65866,     0.65966,     0.66066,     0.66166,     0.66266,     0.66366,     0.66466,     0.66567,     0.66667,     0.66767,     0.66867,     0.66967,     0.67067,     0.67167,\n",
              "           0.67267,     0.67367,     0.67467,     0.67568,     0.67668,     0.67768,     0.67868,     0.67968,     0.68068,     0.68168,     0.68268,     0.68368,     0.68468,     0.68569,     0.68669,     0.68769,     0.68869,     0.68969,     0.69069,     0.69169,     0.69269,     0.69369,     0.69469,      0.6957,\n",
              "            0.6967,      0.6977,      0.6987,      0.6997,      0.7007,      0.7017,      0.7027,      0.7037,      0.7047,     0.70571,     0.70671,     0.70771,     0.70871,     0.70971,     0.71071,     0.71171,     0.71271,     0.71371,     0.71471,     0.71572,     0.71672,     0.71772,     0.71872,     0.71972,\n",
              "           0.72072,     0.72172,     0.72272,     0.72372,     0.72472,     0.72573,     0.72673,     0.72773,     0.72873,     0.72973,     0.73073,     0.73173,     0.73273,     0.73373,     0.73473,     0.73574,     0.73674,     0.73774,     0.73874,     0.73974,     0.74074,     0.74174,     0.74274,     0.74374,\n",
              "           0.74474,     0.74575,     0.74675,     0.74775,     0.74875,     0.74975,     0.75075,     0.75175,     0.75275,     0.75375,     0.75475,     0.75576,     0.75676,     0.75776,     0.75876,     0.75976,     0.76076,     0.76176,     0.76276,     0.76376,     0.76476,     0.76577,     0.76677,     0.76777,\n",
              "           0.76877,     0.76977,     0.77077,     0.77177,     0.77277,     0.77377,     0.77477,     0.77578,     0.77678,     0.77778,     0.77878,     0.77978,     0.78078,     0.78178,     0.78278,     0.78378,     0.78478,     0.78579,     0.78679,     0.78779,     0.78879,     0.78979,     0.79079,     0.79179,\n",
              "           0.79279,     0.79379,     0.79479,      0.7958,      0.7968,      0.7978,      0.7988,      0.7998,      0.8008,      0.8018,      0.8028,      0.8038,      0.8048,     0.80581,     0.80681,     0.80781,     0.80881,     0.80981,     0.81081,     0.81181,     0.81281,     0.81381,     0.81481,     0.81582,\n",
              "           0.81682,     0.81782,     0.81882,     0.81982,     0.82082,     0.82182,     0.82282,     0.82382,     0.82482,     0.82583,     0.82683,     0.82783,     0.82883,     0.82983,     0.83083,     0.83183,     0.83283,     0.83383,     0.83483,     0.83584,     0.83684,     0.83784,     0.83884,     0.83984,\n",
              "           0.84084,     0.84184,     0.84284,     0.84384,     0.84484,     0.84585,     0.84685,     0.84785,     0.84885,     0.84985,     0.85085,     0.85185,     0.85285,     0.85385,     0.85485,     0.85586,     0.85686,     0.85786,     0.85886,     0.85986,     0.86086,     0.86186,     0.86286,     0.86386,\n",
              "           0.86486,     0.86587,     0.86687,     0.86787,     0.86887,     0.86987,     0.87087,     0.87187,     0.87287,     0.87387,     0.87487,     0.87588,     0.87688,     0.87788,     0.87888,     0.87988,     0.88088,     0.88188,     0.88288,     0.88388,     0.88488,     0.88589,     0.88689,     0.88789,\n",
              "           0.88889,     0.88989,     0.89089,     0.89189,     0.89289,     0.89389,     0.89489,      0.8959,      0.8969,      0.8979,      0.8989,      0.8999,      0.9009,      0.9019,      0.9029,      0.9039,      0.9049,     0.90591,     0.90691,     0.90791,     0.90891,     0.90991,     0.91091,     0.91191,\n",
              "           0.91291,     0.91391,     0.91491,     0.91592,     0.91692,     0.91792,     0.91892,     0.91992,     0.92092,     0.92192,     0.92292,     0.92392,     0.92492,     0.92593,     0.92693,     0.92793,     0.92893,     0.92993,     0.93093,     0.93193,     0.93293,     0.93393,     0.93493,     0.93594,\n",
              "           0.93694,     0.93794,     0.93894,     0.93994,     0.94094,     0.94194,     0.94294,     0.94394,     0.94494,     0.94595,     0.94695,     0.94795,     0.94895,     0.94995,     0.95095,     0.95195,     0.95295,     0.95395,     0.95495,     0.95596,     0.95696,     0.95796,     0.95896,     0.95996,\n",
              "           0.96096,     0.96196,     0.96296,     0.96396,     0.96496,     0.96597,     0.96697,     0.96797,     0.96897,     0.96997,     0.97097,     0.97197,     0.97297,     0.97397,     0.97497,     0.97598,     0.97698,     0.97798,     0.97898,     0.97998,     0.98098,     0.98198,     0.98298,     0.98398,\n",
              "           0.98498,     0.98599,     0.98699,     0.98799,     0.98899,     0.98999,     0.99099,     0.99199,     0.99299,     0.99399,     0.99499,       0.996,       0.997,       0.998,       0.999,           1]), array([[   0.020987,    0.020987,    0.028552,    0.034044,    0.039285,    0.044042,    0.048391,    0.052605,    0.056168,    0.059883,    0.062817,    0.066388,     0.06961,    0.072715,    0.075794,     0.07842,     0.08121,    0.083453,    0.085889,    0.089268,    0.091333,    0.092942,    0.095062,\n",
              "           0.097303,    0.099902,     0.10228,     0.10288,      0.1047,     0.10639,     0.10893,     0.11125,     0.11351,     0.11523,     0.11575,     0.11749,     0.11872,     0.12073,     0.12277,     0.12402,     0.12484,     0.12594,     0.12722,      0.1277,     0.12914,     0.12958,     0.13044,\n",
              "            0.13216,     0.13423,     0.13594,     0.13764,     0.13962,     0.14041,     0.14154,     0.14254,     0.14418,     0.14511,     0.14654,     0.14769,     0.14834,     0.14927,     0.14991,     0.15141,       0.153,     0.15576,     0.15713,     0.15793,     0.15936,     0.16004,      0.1618,\n",
              "            0.16307,     0.16431,     0.16506,     0.16627,     0.16684,     0.16727,     0.16788,     0.16932,     0.17097,     0.17225,     0.17296,     0.17378,     0.17417,     0.17453,     0.17568,     0.17663,      0.1785,     0.17896,     0.17995,     0.18144,     0.18253,     0.18319,     0.18497,\n",
              "              0.186,     0.18773,     0.18894,     0.19049,     0.19112,     0.19219,     0.19316,     0.19456,     0.19434,     0.19562,     0.19711,     0.19765,     0.19863,     0.19745,     0.19822,     0.19912,     0.20058,     0.20132,      0.2022,     0.20369,     0.20434,     0.20509,      0.2062,\n",
              "            0.20643,     0.20786,      0.2091,     0.20983,     0.21171,     0.21266,     0.21356,     0.21499,     0.21561,     0.21775,     0.21931,     0.21932,     0.22003,     0.22137,     0.22113,     0.22195,     0.22324,     0.22495,     0.22571,     0.22702,     0.22931,     0.23114,      0.2326,\n",
              "            0.23201,     0.23345,     0.23468,     0.23439,     0.23478,     0.23492,     0.23614,      0.2389,     0.24006,     0.23883,     0.24062,     0.24174,     0.24347,     0.24296,     0.24353,     0.24517,     0.24695,     0.24875,     0.24975,     0.25108,     0.25209,     0.25318,     0.25557,\n",
              "            0.25692,     0.25834,      0.2597,     0.26235,     0.26316,     0.26548,     0.26633,     0.26666,     0.26722,     0.26831,      0.2688,     0.26948,     0.26993,     0.27067,     0.27072,     0.27157,     0.27312,     0.27501,      0.2759,     0.27693,     0.27685,     0.27914,     0.27912,\n",
              "            0.28058,     0.28225,     0.28231,     0.28431,     0.28555,      0.2878,     0.28837,     0.28972,     0.29122,      0.2906,     0.28986,     0.29056,     0.29158,     0.29221,     0.29432,     0.29497,     0.29507,     0.29652,     0.29739,     0.29856,     0.30045,     0.30139,     0.30202,\n",
              "            0.30353,     0.30394,     0.30331,     0.30307,     0.30297,     0.30423,     0.30516,     0.30617,     0.30816,     0.30944,     0.31045,     0.31247,       0.315,     0.31665,     0.31831,     0.31952,     0.31917,     0.32136,     0.32285,     0.32426,      0.3255,     0.32721,     0.32795,\n",
              "            0.32894,     0.33097,     0.33376,     0.33453,     0.33585,     0.33715,     0.33724,      0.3382,     0.34005,     0.34191,      0.3433,     0.34415,     0.34607,     0.34421,      0.3439,     0.34552,     0.34769,      0.3481,     0.34891,      0.3498,     0.35305,     0.35575,     0.35786,\n",
              "            0.36273,     0.36222,     0.36275,     0.36448,     0.36517,     0.36734,     0.36786,     0.36793,     0.36718,     0.36857,     0.37088,     0.37215,     0.37247,     0.37515,     0.37579,     0.37808,     0.37725,     0.37775,     0.37862,     0.37944,     0.37986,     0.37907,     0.38044,\n",
              "            0.38098,     0.38483,     0.38654,     0.38634,     0.38575,     0.38504,     0.38344,     0.38264,     0.38276,      0.3837,     0.38579,     0.38625,     0.38699,     0.38761,     0.39086,     0.39182,     0.39238,     0.39328,     0.39725,      0.3965,     0.39355,     0.39557,     0.39648,\n",
              "            0.39837,     0.39888,     0.39975,     0.39939,     0.39745,     0.40153,     0.40496,      0.4065,     0.40859,     0.41013,     0.41084,     0.41198,     0.41317,     0.41274,     0.41232,     0.41334,     0.41445,     0.41556,     0.41578,     0.41644,     0.42028,     0.42343,     0.42441,\n",
              "            0.42501,     0.42522,      0.4259,     0.42911,     0.43147,     0.43379,     0.43509,     0.43641,     0.43732,     0.43829,     0.44067,     0.44312,     0.44523,     0.44689,     0.44808,     0.45022,     0.45159,     0.45228,     0.45324,     0.45589,      0.4582,     0.45855,     0.46119,\n",
              "            0.46251,     0.46309,     0.46373,     0.46446,     0.46522,     0.46552,     0.46611,     0.46785,     0.46823,      0.4709,     0.47244,     0.47397,     0.47476,     0.47757,     0.47837,     0.48107,     0.48586,     0.48598,     0.48874,     0.49045,     0.49195,     0.49285,      0.4934,\n",
              "            0.49395,     0.49546,     0.49631,     0.49738,     0.49894,     0.50019,     0.50076,     0.50133,     0.50256,     0.50451,     0.50615,     0.50857,     0.50937,     0.50847,     0.50736,     0.50969,     0.51029,      0.5109,     0.51218,     0.51167,     0.51171,     0.51247,     0.51134,\n",
              "            0.51472,     0.51625,     0.51659,     0.51826,     0.51926,     0.52058,     0.52235,      0.5226,     0.52096,     0.51903,     0.52006,     0.52098,     0.52189,     0.52372,     0.52557,     0.52742,     0.52629,     0.52766,      0.5271,     0.52654,      0.5285,     0.53033,     0.53129,\n",
              "            0.53282,     0.53693,     0.53891,     0.53762,     0.53719,     0.53676,     0.53633,     0.53608,     0.53429,     0.53366,     0.53331,      0.5368,      0.5333,     0.53221,     0.53394,     0.53446,     0.53497,     0.53549,     0.53354,     0.53266,      0.5337,     0.53217,     0.53112,\n",
              "            0.53217,      0.5315,      0.5322,     0.53291,     0.53471,     0.53686,     0.53933,     0.54277,     0.54388,       0.545,     0.54612,     0.54443,     0.54254,     0.54177,     0.54512,     0.54627,     0.54752,     0.54973,     0.55107,     0.55281,     0.55467,     0.55586,     0.55997,\n",
              "            0.56479,     0.56661,     0.56785,     0.57226,     0.57538,     0.57475,     0.57412,     0.57378,     0.57389,     0.57293,     0.57333,      0.5742,     0.57506,     0.57629,      0.5776,     0.58007,     0.58115,     0.58204,     0.58293,     0.58555,     0.58693,     0.58646,       0.589,\n",
              "            0.58836,     0.58771,     0.58563,     0.58841,     0.59034,     0.58898,     0.58993,     0.59087,     0.58934,     0.58835,     0.58746,     0.58679,     0.58612,     0.59252,     0.59334,     0.59193,     0.59125,     0.59057,     0.58916,     0.58987,     0.58994,     0.59001,     0.59151,\n",
              "            0.59698,     0.59659,      0.5965,     0.59727,     0.59805,     0.59882,     0.60023,     0.60179,     0.60116,     0.60011,     0.59962,      0.5992,     0.59878,     0.59836,     0.59792,     0.59686,     0.59592,     0.59698,     0.59804,     0.59939,     0.60235,     0.60398,     0.60881,\n",
              "            0.61047,     0.61192,     0.61276,     0.61359,     0.61443,     0.61617,     0.61958,     0.62641,     0.62339,     0.62052,     0.62141,      0.6223,     0.62319,     0.62913,       0.635,     0.63625,     0.63749,     0.64286,     0.64477,      0.6467,     0.64863,     0.65058,     0.65254,\n",
              "            0.65609,     0.66008,     0.66185,     0.66321,     0.66456,     0.66373,     0.65952,     0.65939,      0.6615,     0.66136,     0.66273,     0.66506,     0.66592,     0.66679,     0.66766,     0.66853,     0.67185,     0.67152,     0.67015,     0.66906,     0.67239,      0.6814,      0.6831,\n",
              "            0.68427,     0.68543,      0.6866,     0.69578,      0.6939,     0.68747,     0.68539,     0.68737,     0.68935,     0.69218,     0.69105,     0.68916,     0.69699,     0.69762,     0.69828,      0.7001,     0.70192,     0.70042,     0.70228,     0.70506,     0.70338,     0.70418,     0.70525,\n",
              "            0.70816,     0.70852,      0.7072,     0.70697,     0.70673,      0.7065,     0.70626,     0.70603,     0.70579,     0.70556,     0.70533,     0.70509,     0.70459,     0.70334,      0.7017,     0.69719,     0.69631,     0.69544,     0.69467,     0.69408,     0.69349,     0.69289,     0.69227,\n",
              "             0.6872,     0.69625,     0.69362,     0.69281,     0.69199,     0.69118,     0.69676,     0.69605,     0.69533,     0.69461,     0.69958,      0.6994,     0.69713,     0.69417,     0.70171,     0.70879,     0.71972,     0.71908,     0.71843,     0.71779,     0.71711,     0.71563,     0.71563,\n",
              "            0.72397,     0.72782,     0.72822,     0.72676,     0.72572,     0.72487,     0.72401,     0.72454,     0.72852,     0.73008,     0.73555,     0.73539,     0.73439,     0.73339,      0.7455,     0.74953,     0.74855,     0.74757,     0.75473,     0.75267,      0.7499,     0.74902,     0.74814,\n",
              "            0.74725,     0.75352,     0.75565,     0.75503,     0.75442,      0.7538,     0.75318,     0.75581,     0.75902,     0.76224,     0.76791,     0.75849,      0.7588,     0.76305,     0.76706,      0.7654,     0.76368,     0.76141,     0.76419,     0.76779,     0.76729,     0.76679,     0.76629,\n",
              "            0.76579,     0.76529,     0.76479,     0.77112,     0.77785,     0.78267,     0.78749,     0.79882,     0.79754,     0.79201,     0.79668,      0.8007,     0.80472,     0.80875,     0.81913,     0.82376,     0.82247,     0.82215,     0.82598,      0.8298,     0.83363,     0.83794,     0.84883,\n",
              "            0.84808,     0.84734,     0.84659,     0.84531,     0.84325,      0.8401,      0.8359,     0.83415,     0.85358,     0.85832,     0.86306,      0.8678,     0.86537,     0.86589,     0.87961,     0.88293,     0.88179,     0.88081,     0.88027,     0.87973,     0.87919,     0.87865,     0.87811,\n",
              "            0.87665,     0.87509,     0.87293,     0.87013,     0.86482,     0.86225,     0.85595,     0.85379,     0.85156,     0.84928,     0.84637,     0.84902,     0.86909,     0.86325,     0.89259,     0.89157,     0.89056,     0.88954,      0.8881,     0.88591,     0.88956,     0.90165,     0.91374,\n",
              "            0.91976,     0.91928,     0.91879,      0.9183,     0.91781,     0.91732,     0.91684,     0.91424,     0.91121,     0.90902,     0.90868,     0.90834,     0.90799,     0.90765,     0.90731,     0.90697,     0.90663,     0.90629,     0.90595,      0.9056,     0.90526,     0.90492,     0.90402,\n",
              "            0.90263,     0.90123,     0.90049,     0.90471,     0.90894,     0.91316,     0.91738,      0.9216,     0.92583,     0.93005,     0.93427,     0.93849,     0.94271,     0.94694,     0.94688,     0.94633,     0.94579,     0.94524,      0.9447,     0.94355,     0.94188,     0.93742,     0.93657,\n",
              "            0.93571,     0.93486,       0.934,     0.93124,     0.92584,     0.91961,     0.91566,     0.91437,     0.91307,     0.91178,     0.91049,     0.90919,     0.90524,      0.9173,     0.92936,     0.94142,     0.95348,     0.96554,      0.9776,     0.98965,           1,           1,           1,\n",
              "                  1,           1,           1,           1,           1,           1,           1,           1,           1,           1,           1,           1,           1,           1,           1,           1,           1,           1,           1,           1,           1,           1,           1,\n",
              "                  1,           1,           1,           1,           1,           1,           1,           1,           1,           1,           1,           1,           1,           1,           1,           1,           1,           1,           1,           1,           1,           1,           1,\n",
              "                  1,           1,           1,           1,           1,           1,           1,           1,           1,           1,           1,           1,           1,           1,           1,           1,           1,           1,           1,           1,           1,           1,           1,\n",
              "                  1,           1,           1,           1,           1,           1,           1,           1,           1,           1,           1,           1,           1,           1,           1,           1,           1,           1,           1,           1,           1,           1,           1,\n",
              "                  1,           1,           1,           1,           1,           1,           1,           1,           1,           1,           1,           1,           1,           1,           1,           1,           1,           1,           1,           1,           1,           1,           1,\n",
              "                  1,           1,           1,           1,           1,           1,           1,           1,           1,           1,           1,           1,           1,           1,           1,           1,           1,           1,           1,           1,           1,           1,           1,\n",
              "                  1,           1,           1,           1,           1,           1,           1,           1,           1,           1,           1,           1,           1,           1,           1,           1,           1,           1,           1,           1,           1,           1,           1,\n",
              "                  1,           1,           1,           1,           1,           1,           1,           1,           1,           1,           1]]), 'Confidence', 'Precision'], [array([          0,    0.001001,    0.002002,    0.003003,    0.004004,    0.005005,    0.006006,    0.007007,    0.008008,    0.009009,     0.01001,    0.011011,    0.012012,    0.013013,    0.014014,    0.015015,    0.016016,    0.017017,    0.018018,    0.019019,     0.02002,    0.021021,    0.022022,    0.023023,\n",
              "          0.024024,    0.025025,    0.026026,    0.027027,    0.028028,    0.029029,     0.03003,    0.031031,    0.032032,    0.033033,    0.034034,    0.035035,    0.036036,    0.037037,    0.038038,    0.039039,     0.04004,    0.041041,    0.042042,    0.043043,    0.044044,    0.045045,    0.046046,    0.047047,\n",
              "          0.048048,    0.049049,     0.05005,    0.051051,    0.052052,    0.053053,    0.054054,    0.055055,    0.056056,    0.057057,    0.058058,    0.059059,     0.06006,    0.061061,    0.062062,    0.063063,    0.064064,    0.065065,    0.066066,    0.067067,    0.068068,    0.069069,     0.07007,    0.071071,\n",
              "          0.072072,    0.073073,    0.074074,    0.075075,    0.076076,    0.077077,    0.078078,    0.079079,     0.08008,    0.081081,    0.082082,    0.083083,    0.084084,    0.085085,    0.086086,    0.087087,    0.088088,    0.089089,     0.09009,    0.091091,    0.092092,    0.093093,    0.094094,    0.095095,\n",
              "          0.096096,    0.097097,    0.098098,    0.099099,      0.1001,      0.1011,      0.1021,      0.1031,      0.1041,     0.10511,     0.10611,     0.10711,     0.10811,     0.10911,     0.11011,     0.11111,     0.11211,     0.11311,     0.11411,     0.11512,     0.11612,     0.11712,     0.11812,     0.11912,\n",
              "           0.12012,     0.12112,     0.12212,     0.12312,     0.12412,     0.12513,     0.12613,     0.12713,     0.12813,     0.12913,     0.13013,     0.13113,     0.13213,     0.13313,     0.13413,     0.13514,     0.13614,     0.13714,     0.13814,     0.13914,     0.14014,     0.14114,     0.14214,     0.14314,\n",
              "           0.14414,     0.14515,     0.14615,     0.14715,     0.14815,     0.14915,     0.15015,     0.15115,     0.15215,     0.15315,     0.15415,     0.15516,     0.15616,     0.15716,     0.15816,     0.15916,     0.16016,     0.16116,     0.16216,     0.16316,     0.16416,     0.16517,     0.16617,     0.16717,\n",
              "           0.16817,     0.16917,     0.17017,     0.17117,     0.17217,     0.17317,     0.17417,     0.17518,     0.17618,     0.17718,     0.17818,     0.17918,     0.18018,     0.18118,     0.18218,     0.18318,     0.18418,     0.18519,     0.18619,     0.18719,     0.18819,     0.18919,     0.19019,     0.19119,\n",
              "           0.19219,     0.19319,     0.19419,      0.1952,      0.1962,      0.1972,      0.1982,      0.1992,      0.2002,      0.2012,      0.2022,      0.2032,      0.2042,     0.20521,     0.20621,     0.20721,     0.20821,     0.20921,     0.21021,     0.21121,     0.21221,     0.21321,     0.21421,     0.21522,\n",
              "           0.21622,     0.21722,     0.21822,     0.21922,     0.22022,     0.22122,     0.22222,     0.22322,     0.22422,     0.22523,     0.22623,     0.22723,     0.22823,     0.22923,     0.23023,     0.23123,     0.23223,     0.23323,     0.23423,     0.23524,     0.23624,     0.23724,     0.23824,     0.23924,\n",
              "           0.24024,     0.24124,     0.24224,     0.24324,     0.24424,     0.24525,     0.24625,     0.24725,     0.24825,     0.24925,     0.25025,     0.25125,     0.25225,     0.25325,     0.25425,     0.25526,     0.25626,     0.25726,     0.25826,     0.25926,     0.26026,     0.26126,     0.26226,     0.26326,\n",
              "           0.26426,     0.26527,     0.26627,     0.26727,     0.26827,     0.26927,     0.27027,     0.27127,     0.27227,     0.27327,     0.27427,     0.27528,     0.27628,     0.27728,     0.27828,     0.27928,     0.28028,     0.28128,     0.28228,     0.28328,     0.28428,     0.28529,     0.28629,     0.28729,\n",
              "           0.28829,     0.28929,     0.29029,     0.29129,     0.29229,     0.29329,     0.29429,      0.2953,      0.2963,      0.2973,      0.2983,      0.2993,      0.3003,      0.3013,      0.3023,      0.3033,      0.3043,     0.30531,     0.30631,     0.30731,     0.30831,     0.30931,     0.31031,     0.31131,\n",
              "           0.31231,     0.31331,     0.31431,     0.31532,     0.31632,     0.31732,     0.31832,     0.31932,     0.32032,     0.32132,     0.32232,     0.32332,     0.32432,     0.32533,     0.32633,     0.32733,     0.32833,     0.32933,     0.33033,     0.33133,     0.33233,     0.33333,     0.33433,     0.33534,\n",
              "           0.33634,     0.33734,     0.33834,     0.33934,     0.34034,     0.34134,     0.34234,     0.34334,     0.34434,     0.34535,     0.34635,     0.34735,     0.34835,     0.34935,     0.35035,     0.35135,     0.35235,     0.35335,     0.35435,     0.35536,     0.35636,     0.35736,     0.35836,     0.35936,\n",
              "           0.36036,     0.36136,     0.36236,     0.36336,     0.36436,     0.36537,     0.36637,     0.36737,     0.36837,     0.36937,     0.37037,     0.37137,     0.37237,     0.37337,     0.37437,     0.37538,     0.37638,     0.37738,     0.37838,     0.37938,     0.38038,     0.38138,     0.38238,     0.38338,\n",
              "           0.38438,     0.38539,     0.38639,     0.38739,     0.38839,     0.38939,     0.39039,     0.39139,     0.39239,     0.39339,     0.39439,      0.3954,      0.3964,      0.3974,      0.3984,      0.3994,      0.4004,      0.4014,      0.4024,      0.4034,      0.4044,     0.40541,     0.40641,     0.40741,\n",
              "           0.40841,     0.40941,     0.41041,     0.41141,     0.41241,     0.41341,     0.41441,     0.41542,     0.41642,     0.41742,     0.41842,     0.41942,     0.42042,     0.42142,     0.42242,     0.42342,     0.42442,     0.42543,     0.42643,     0.42743,     0.42843,     0.42943,     0.43043,     0.43143,\n",
              "           0.43243,     0.43343,     0.43443,     0.43544,     0.43644,     0.43744,     0.43844,     0.43944,     0.44044,     0.44144,     0.44244,     0.44344,     0.44444,     0.44545,     0.44645,     0.44745,     0.44845,     0.44945,     0.45045,     0.45145,     0.45245,     0.45345,     0.45445,     0.45546,\n",
              "           0.45646,     0.45746,     0.45846,     0.45946,     0.46046,     0.46146,     0.46246,     0.46346,     0.46446,     0.46547,     0.46647,     0.46747,     0.46847,     0.46947,     0.47047,     0.47147,     0.47247,     0.47347,     0.47447,     0.47548,     0.47648,     0.47748,     0.47848,     0.47948,\n",
              "           0.48048,     0.48148,     0.48248,     0.48348,     0.48448,     0.48549,     0.48649,     0.48749,     0.48849,     0.48949,     0.49049,     0.49149,     0.49249,     0.49349,     0.49449,      0.4955,      0.4965,      0.4975,      0.4985,      0.4995,      0.5005,      0.5015,      0.5025,      0.5035,\n",
              "            0.5045,     0.50551,     0.50651,     0.50751,     0.50851,     0.50951,     0.51051,     0.51151,     0.51251,     0.51351,     0.51451,     0.51552,     0.51652,     0.51752,     0.51852,     0.51952,     0.52052,     0.52152,     0.52252,     0.52352,     0.52452,     0.52553,     0.52653,     0.52753,\n",
              "           0.52853,     0.52953,     0.53053,     0.53153,     0.53253,     0.53353,     0.53453,     0.53554,     0.53654,     0.53754,     0.53854,     0.53954,     0.54054,     0.54154,     0.54254,     0.54354,     0.54454,     0.54555,     0.54655,     0.54755,     0.54855,     0.54955,     0.55055,     0.55155,\n",
              "           0.55255,     0.55355,     0.55455,     0.55556,     0.55656,     0.55756,     0.55856,     0.55956,     0.56056,     0.56156,     0.56256,     0.56356,     0.56456,     0.56557,     0.56657,     0.56757,     0.56857,     0.56957,     0.57057,     0.57157,     0.57257,     0.57357,     0.57457,     0.57558,\n",
              "           0.57658,     0.57758,     0.57858,     0.57958,     0.58058,     0.58158,     0.58258,     0.58358,     0.58458,     0.58559,     0.58659,     0.58759,     0.58859,     0.58959,     0.59059,     0.59159,     0.59259,     0.59359,     0.59459,      0.5956,      0.5966,      0.5976,      0.5986,      0.5996,\n",
              "            0.6006,      0.6016,      0.6026,      0.6036,      0.6046,     0.60561,     0.60661,     0.60761,     0.60861,     0.60961,     0.61061,     0.61161,     0.61261,     0.61361,     0.61461,     0.61562,     0.61662,     0.61762,     0.61862,     0.61962,     0.62062,     0.62162,     0.62262,     0.62362,\n",
              "           0.62462,     0.62563,     0.62663,     0.62763,     0.62863,     0.62963,     0.63063,     0.63163,     0.63263,     0.63363,     0.63463,     0.63564,     0.63664,     0.63764,     0.63864,     0.63964,     0.64064,     0.64164,     0.64264,     0.64364,     0.64464,     0.64565,     0.64665,     0.64765,\n",
              "           0.64865,     0.64965,     0.65065,     0.65165,     0.65265,     0.65365,     0.65465,     0.65566,     0.65666,     0.65766,     0.65866,     0.65966,     0.66066,     0.66166,     0.66266,     0.66366,     0.66466,     0.66567,     0.66667,     0.66767,     0.66867,     0.66967,     0.67067,     0.67167,\n",
              "           0.67267,     0.67367,     0.67467,     0.67568,     0.67668,     0.67768,     0.67868,     0.67968,     0.68068,     0.68168,     0.68268,     0.68368,     0.68468,     0.68569,     0.68669,     0.68769,     0.68869,     0.68969,     0.69069,     0.69169,     0.69269,     0.69369,     0.69469,      0.6957,\n",
              "            0.6967,      0.6977,      0.6987,      0.6997,      0.7007,      0.7017,      0.7027,      0.7037,      0.7047,     0.70571,     0.70671,     0.70771,     0.70871,     0.70971,     0.71071,     0.71171,     0.71271,     0.71371,     0.71471,     0.71572,     0.71672,     0.71772,     0.71872,     0.71972,\n",
              "           0.72072,     0.72172,     0.72272,     0.72372,     0.72472,     0.72573,     0.72673,     0.72773,     0.72873,     0.72973,     0.73073,     0.73173,     0.73273,     0.73373,     0.73473,     0.73574,     0.73674,     0.73774,     0.73874,     0.73974,     0.74074,     0.74174,     0.74274,     0.74374,\n",
              "           0.74474,     0.74575,     0.74675,     0.74775,     0.74875,     0.74975,     0.75075,     0.75175,     0.75275,     0.75375,     0.75475,     0.75576,     0.75676,     0.75776,     0.75876,     0.75976,     0.76076,     0.76176,     0.76276,     0.76376,     0.76476,     0.76577,     0.76677,     0.76777,\n",
              "           0.76877,     0.76977,     0.77077,     0.77177,     0.77277,     0.77377,     0.77477,     0.77578,     0.77678,     0.77778,     0.77878,     0.77978,     0.78078,     0.78178,     0.78278,     0.78378,     0.78478,     0.78579,     0.78679,     0.78779,     0.78879,     0.78979,     0.79079,     0.79179,\n",
              "           0.79279,     0.79379,     0.79479,      0.7958,      0.7968,      0.7978,      0.7988,      0.7998,      0.8008,      0.8018,      0.8028,      0.8038,      0.8048,     0.80581,     0.80681,     0.80781,     0.80881,     0.80981,     0.81081,     0.81181,     0.81281,     0.81381,     0.81481,     0.81582,\n",
              "           0.81682,     0.81782,     0.81882,     0.81982,     0.82082,     0.82182,     0.82282,     0.82382,     0.82482,     0.82583,     0.82683,     0.82783,     0.82883,     0.82983,     0.83083,     0.83183,     0.83283,     0.83383,     0.83483,     0.83584,     0.83684,     0.83784,     0.83884,     0.83984,\n",
              "           0.84084,     0.84184,     0.84284,     0.84384,     0.84484,     0.84585,     0.84685,     0.84785,     0.84885,     0.84985,     0.85085,     0.85185,     0.85285,     0.85385,     0.85485,     0.85586,     0.85686,     0.85786,     0.85886,     0.85986,     0.86086,     0.86186,     0.86286,     0.86386,\n",
              "           0.86486,     0.86587,     0.86687,     0.86787,     0.86887,     0.86987,     0.87087,     0.87187,     0.87287,     0.87387,     0.87487,     0.87588,     0.87688,     0.87788,     0.87888,     0.87988,     0.88088,     0.88188,     0.88288,     0.88388,     0.88488,     0.88589,     0.88689,     0.88789,\n",
              "           0.88889,     0.88989,     0.89089,     0.89189,     0.89289,     0.89389,     0.89489,      0.8959,      0.8969,      0.8979,      0.8989,      0.8999,      0.9009,      0.9019,      0.9029,      0.9039,      0.9049,     0.90591,     0.90691,     0.90791,     0.90891,     0.90991,     0.91091,     0.91191,\n",
              "           0.91291,     0.91391,     0.91491,     0.91592,     0.91692,     0.91792,     0.91892,     0.91992,     0.92092,     0.92192,     0.92292,     0.92392,     0.92492,     0.92593,     0.92693,     0.92793,     0.92893,     0.92993,     0.93093,     0.93193,     0.93293,     0.93393,     0.93493,     0.93594,\n",
              "           0.93694,     0.93794,     0.93894,     0.93994,     0.94094,     0.94194,     0.94294,     0.94394,     0.94494,     0.94595,     0.94695,     0.94795,     0.94895,     0.94995,     0.95095,     0.95195,     0.95295,     0.95395,     0.95495,     0.95596,     0.95696,     0.95796,     0.95896,     0.95996,\n",
              "           0.96096,     0.96196,     0.96296,     0.96396,     0.96496,     0.96597,     0.96697,     0.96797,     0.96897,     0.96997,     0.97097,     0.97197,     0.97297,     0.97397,     0.97497,     0.97598,     0.97698,     0.97798,     0.97898,     0.97998,     0.98098,     0.98198,     0.98298,     0.98398,\n",
              "           0.98498,     0.98599,     0.98699,     0.98799,     0.98899,     0.98999,     0.99099,     0.99199,     0.99299,     0.99399,     0.99499,       0.996,       0.997,       0.998,       0.999,           1]), array([[    0.50975,     0.50975,      0.4689,     0.44475,     0.43268,      0.4234,      0.4104,     0.40483,     0.39369,     0.38812,     0.37976,     0.37604,     0.37047,     0.36676,     0.36397,     0.35933,      0.3584,     0.35283,     0.34819,     0.34819,      0.3454,     0.34076,     0.33728,\n",
              "            0.33519,     0.33426,     0.33148,     0.32591,     0.32312,     0.32033,     0.32033,     0.31941,     0.31848,     0.31662,     0.31198,     0.31002,     0.30826,     0.30734,     0.30734,     0.30548,     0.30269,     0.29991,     0.29805,     0.29526,     0.29327,     0.29062,     0.29062,\n",
              "            0.28969,     0.28969,     0.28877,     0.28691,     0.28598,     0.28412,     0.28319,     0.28227,     0.28227,     0.28086,     0.28041,     0.27948,     0.27762,     0.27669,     0.27577,     0.27577,     0.27577,     0.27577,     0.27484,     0.27484,     0.27391,     0.27298,     0.27205,\n",
              "            0.27112,     0.27019,     0.26834,     0.26834,     0.26681,     0.26555,      0.2637,      0.2637,      0.2637,     0.26277,     0.26184,     0.26091,     0.25905,      0.2572,     0.25534,     0.25441,     0.25441,     0.25348,     0.25255,     0.25162,      0.2507,     0.24884,     0.24884,\n",
              "            0.24884,     0.24884,     0.24884,     0.24865,     0.24698,     0.24605,     0.24605,     0.24605,      0.2442,      0.2442,      0.2439,     0.24327,     0.24327,     0.23955,     0.23955,     0.23955,     0.23955,     0.23955,     0.23955,     0.23955,     0.23863,     0.23863,     0.23863,\n",
              "             0.2377,      0.2377,      0.2377,     0.23677,     0.23677,      0.2365,     0.23584,     0.23584,     0.23584,     0.23584,     0.23584,     0.23491,     0.23398,     0.23305,     0.23213,      0.2315,      0.2312,      0.2312,      0.2312,     0.23027,     0.23027,     0.23027,     0.23021,\n",
              "            0.22934,     0.22934,     0.22934,     0.22748,     0.22656,      0.2258,     0.22563,      0.2247,     0.22467,     0.22284,     0.22284,     0.22284,     0.22284,     0.22191,     0.22191,     0.22191,     0.22191,     0.22191,     0.22098,     0.22098,     0.22098,     0.22098,     0.22098,\n",
              "            0.22098,     0.22006,     0.22006,     0.22006,     0.21913,     0.21913,     0.21913,      0.2182,      0.2182,     0.21689,     0.21634,     0.21541,     0.21448,     0.21448,     0.21356,     0.21356,     0.21356,     0.21356,     0.21356,     0.21336,     0.21263,     0.21263,      0.2114,\n",
              "            0.21077,     0.21077,     0.20984,     0.20984,     0.20984,     0.20891,     0.20799,     0.20799,     0.20799,     0.20653,     0.20542,      0.2052,      0.2052,      0.2052,      0.2052,      0.2052,     0.20427,     0.20427,     0.20427,     0.20427,     0.20427,     0.20389,     0.20334,\n",
              "            0.20334,     0.20231,     0.20149,     0.19947,      0.1987,      0.1987,      0.1987,     0.19777,     0.19777,     0.19777,     0.19777,     0.19777,     0.19777,     0.19777,     0.19777,      0.1975,     0.19684,     0.19684,     0.19684,     0.19684,     0.19684,     0.19684,     0.19684,\n",
              "            0.19684,     0.19684,     0.19684,     0.19684,     0.19684,     0.19591,     0.19499,     0.19499,     0.19499,     0.19499,     0.19406,     0.19406,     0.19213,     0.19034,     0.18942,     0.18942,     0.18942,     0.18942,     0.18942,     0.18942,     0.18849,     0.18849,     0.18849,\n",
              "            0.18756,     0.18663,     0.18663,     0.18663,     0.18663,     0.18663,      0.1857,     0.18539,     0.18477,     0.18477,     0.18477,     0.18477,     0.18477,     0.18477,     0.18477,     0.18458,     0.18384,     0.18384,     0.18384,     0.18384,     0.18384,     0.18309,     0.18292,\n",
              "            0.18199,     0.18199,     0.18199,     0.18063,      0.1792,     0.17848,     0.17727,     0.17642,     0.17549,     0.17549,     0.17549,     0.17549,     0.17549,     0.17456,     0.17456,     0.17456,     0.17456,     0.17394,     0.17257,     0.17142,     0.16899,     0.16899,     0.16899,\n",
              "            0.16899,     0.16899,     0.16899,     0.16856,     0.16713,     0.16713,     0.16713,      0.1662,      0.1662,      0.1662,      0.1662,      0.1662,     0.16605,     0.16576,     0.16546,     0.16527,     0.16527,     0.16527,     0.16435,     0.16435,     0.16342,     0.16342,     0.16342,\n",
              "            0.16342,      0.1628,     0.16249,     0.16249,     0.16249,     0.16249,      0.1609,     0.16063,     0.16063,     0.16063,     0.16063,     0.16063,     0.16063,     0.16063,     0.16063,     0.16063,      0.1597,      0.1597,      0.1597,      0.1597,      0.1597,     0.15877,     0.15877,\n",
              "            0.15877,     0.15877,     0.15877,     0.15877,     0.15692,     0.15599,     0.15599,     0.15592,     0.15506,     0.15506,     0.15506,     0.15506,     0.15443,     0.15413,     0.15413,      0.1532,     0.15268,     0.15227,     0.15227,     0.15227,     0.15227,     0.15227,     0.15227,\n",
              "            0.15227,     0.15136,     0.15135,     0.15135,     0.15135,     0.15135,     0.15135,     0.15135,     0.15135,     0.15135,     0.15135,     0.15135,     0.15134,      0.1508,     0.15013,     0.14949,     0.14949,     0.14949,     0.14949,     0.14885,      0.1479,     0.14763,      0.1467,\n",
              "             0.1467,     0.14665,     0.14578,     0.14578,     0.14578,     0.14578,     0.14578,     0.14535,      0.1444,     0.14299,     0.14299,     0.14299,     0.14299,     0.14206,     0.14206,     0.14206,     0.14113,     0.14107,     0.14075,     0.14043,      0.1402,     0.13928,     0.13928,\n",
              "            0.13928,     0.13928,     0.13928,     0.13819,     0.13795,     0.13771,     0.13747,     0.13649,     0.13529,     0.13494,     0.13463,     0.13451,     0.13263,     0.13185,     0.13185,     0.13185,     0.13185,     0.13185,     0.13063,     0.12999,     0.12999,     0.12886,     0.12831,\n",
              "            0.12813,     0.12721,     0.12721,     0.12721,     0.12721,     0.12721,     0.12628,     0.12628,     0.12628,     0.12628,     0.12628,     0.12538,     0.12443,     0.12349,     0.12349,     0.12349,     0.12349,     0.12349,     0.12349,     0.12349,     0.12349,     0.12349,     0.12349,\n",
              "            0.12349,     0.12349,     0.12349,     0.12349,      0.1233,     0.12298,     0.12267,     0.12163,      0.1213,     0.12083,     0.12071,     0.12071,     0.12071,     0.12071,     0.12071,     0.12071,     0.12071,     0.12071,     0.12071,     0.12071,     0.12071,     0.11978,     0.11976,\n",
              "            0.11944,     0.11912,     0.11792,     0.11792,     0.11775,     0.11699,     0.11699,     0.11699,     0.11593,     0.11545,     0.11503,     0.11471,      0.1144,     0.11421,      0.1138,     0.11313,     0.11282,      0.1125,     0.11185,     0.11142,     0.11088,     0.11049,     0.11049,\n",
              "            0.11049,     0.10985,     0.10956,     0.10956,     0.10956,     0.10956,     0.10956,     0.10956,     0.10916,     0.10869,     0.10847,     0.10828,     0.10808,     0.10789,      0.1077,     0.10722,     0.10678,     0.10678,     0.10678,     0.10678,     0.10678,     0.10678,     0.10678,\n",
              "            0.10678,     0.10678,     0.10678,     0.10678,     0.10678,     0.10678,     0.10678,     0.10678,     0.10451,     0.10306,     0.10306,     0.10306,     0.10306,     0.10306,     0.10306,     0.10306,     0.10306,     0.10306,     0.10306,     0.10306,     0.10306,     0.10306,     0.10306,\n",
              "            0.10306,     0.10306,     0.10306,     0.10306,     0.10306,      0.1008,    0.098919,    0.098422,    0.098422,    0.097921,    0.097493,    0.097493,    0.097493,    0.097493,    0.097493,    0.097493,    0.097493,    0.096807,     0.09621,    0.095734,    0.095636,    0.095636,    0.095636,\n",
              "           0.095636,    0.095636,    0.095636,    0.095636,    0.094717,    0.091909,    0.090994,    0.090994,    0.090994,     0.08978,    0.089304,    0.088519,    0.087568,    0.085687,    0.085422,    0.085422,    0.085422,    0.084666,    0.084494,    0.084494,    0.083668,    0.082637,    0.081708,\n",
              "           0.081708,    0.081253,    0.080734,    0.080644,    0.080553,    0.080462,    0.080372,    0.080281,    0.080191,      0.0801,    0.080009,    0.079919,    0.079728,    0.079252,     0.07863,    0.076961,    0.076643,    0.076326,    0.076052,     0.07584,    0.075629,    0.075417,    0.075195,\n",
              "           0.073352,    0.072363,    0.071471,    0.071199,    0.070927,    0.070655,    0.070406,    0.070168,     0.06993,    0.069692,    0.069638,    0.069133,    0.068393,    0.067441,    0.066852,    0.066852,    0.066761,     0.06655,    0.066338,    0.066127,    0.065905,    0.065429,    0.064995,\n",
              "           0.064995,    0.064995,    0.064686,     0.06421,    0.063877,    0.063605,    0.063333,    0.063138,    0.063138,     0.06221,     0.06221,    0.061934,    0.061617,    0.061299,    0.061281,    0.061129,    0.060812,    0.060495,    0.060002,    0.059339,    0.058465,    0.058193,    0.057921,\n",
              "           0.057649,    0.057567,     0.05743,    0.057239,    0.057049,    0.056859,    0.056668,    0.056639,    0.056639,    0.056639,      0.0553,    0.052491,    0.051996,    0.051996,    0.051977,    0.051501,    0.051011,    0.050376,    0.049211,    0.049122,    0.048986,     0.04885,    0.048714,\n",
              "           0.048578,    0.048442,    0.048306,    0.048282,    0.048282,    0.048282,    0.048282,    0.047932,    0.047552,    0.045968,     0.04364,     0.04364,     0.04364,     0.04364,     0.04364,    0.043401,     0.04302,    0.042711,    0.042711,    0.042711,    0.042711,    0.041783,    0.041709,\n",
              "           0.041471,    0.041233,    0.040995,    0.040596,    0.039961,    0.039027,     0.03784,    0.037364,     0.03714,     0.03714,     0.03714,     0.03714,    0.035814,    0.035283,    0.035283,    0.035016,    0.034636,    0.034309,    0.034136,    0.033963,     0.03379,    0.033617,    0.033444,\n",
              "              0.033,    0.032524,    0.031898,    0.031111,    0.029701,    0.029066,    0.027591,    0.027115,    0.026639,    0.026164,    0.025584,     0.02507,    0.024663,    0.023451,     0.02315,    0.022912,    0.022674,    0.022436,    0.022113,    0.021637,    0.021356,    0.021356,    0.021356,\n",
              "            0.02129,    0.021154,    0.021018,    0.020882,    0.020746,     0.02061,    0.020474,    0.019806,    0.019069,    0.018554,    0.018481,    0.018408,    0.018335,    0.018262,    0.018188,    0.018115,    0.018042,    0.017969,    0.017896,    0.017822,    0.017749,    0.017676,    0.017497,\n",
              "           0.017225,    0.016953,    0.016713,    0.016713,    0.016713,    0.016713,    0.016713,    0.016713,    0.016713,    0.016713,    0.016713,    0.016713,    0.016713,    0.016713,    0.016558,    0.016385,    0.016212,    0.016039,    0.015866,    0.015532,    0.015056,     0.01391,     0.01372,\n",
              "           0.013529,    0.013339,    0.013149,     0.01259,    0.011609,     0.01064,     0.01009,   0.0099319,   0.0097732,   0.0096146,    0.009456,   0.0092974,   0.0083565,   0.0083565,   0.0083565,   0.0083565,   0.0083565,   0.0083565,   0.0083565,   0.0083565,   0.0080861,   0.0068053,   0.0064726,\n",
              "           0.006433,   0.0063933,   0.0063537,    0.006314,   0.0062743,   0.0062347,    0.006195,   0.0061554,   0.0061157,   0.0060761,   0.0060364,   0.0059968,   0.0059571,   0.0059174,   0.0058778,   0.0058381,   0.0057985,   0.0057588,   0.0057192,   0.0056795,   0.0056398,   0.0056002,   0.0053192,\n",
              "          0.0045508,   0.0042336,   0.0039163,   0.0036278,   0.0033899,   0.0031519,    0.002914,   0.0024937,   0.0018592,   0.0018454,   0.0018338,   0.0018222,   0.0018106,    0.001799,   0.0017874,   0.0017758,   0.0017642,   0.0017526,    0.001741,   0.0017294,   0.0017178,   0.0017062,   0.0016946,\n",
              "           0.001683,   0.0016713,   0.0016597,   0.0016481,   0.0016365,   0.0016249,   0.0016133,   0.0016017,   0.0015901,   0.0015785,   0.0015669,   0.0015553,   0.0015437,   0.0015321,   0.0015205,   0.0015089,   0.0014972,   0.0014856,    0.001474,   0.0014624,   0.0014508,   0.0014392,   0.0014276,\n",
              "           0.001416,   0.0014044,   0.0013928,   0.0013812,   0.0013696,    0.001358,   0.0013464,   0.0013348,   0.0013231,   0.0013115,   0.0012999,   0.0012883,   0.0012767,   0.0012651,   0.0012535,   0.0012419,   0.0012303,   0.0012187,   0.0012071,   0.0011955,   0.0011839,   0.0011723,   0.0011607,\n",
              "           0.001149,   0.0011374,   0.0011258,   0.0011142,   0.0011026,    0.001091,   0.0010794,   0.0010678,   0.0010562,   0.0010446,    0.001033,   0.0010214,   0.0010098,  0.00099816,  0.00098656,  0.00097495,  0.00096334,  0.00095174,  0.00094013,  0.00092852,           0,           0,           0,\n",
              "                  0,           0,           0,           0,           0,           0,           0,           0,           0,           0,           0,           0,           0,           0,           0,           0,           0,           0,           0,           0,           0,           0,           0,\n",
              "                  0,           0,           0,           0,           0,           0,           0,           0,           0,           0,           0,           0,           0,           0,           0,           0,           0,           0,           0,           0,           0,           0,           0,\n",
              "                  0,           0,           0,           0,           0,           0,           0,           0,           0,           0,           0]]), 'Confidence', 'Recall']]\n",
              "fitness: np.float64(0.07516415909793489)\n",
              "keys: ['metrics/precision(B)', 'metrics/recall(B)', 'metrics/mAP50(B)', 'metrics/mAP50-95(B)']\n",
              "maps: array([   0.065001])\n",
              "names: {0: 'weapon'}\n",
              "plot: True\n",
              "results_dict: {'metrics/precision(B)': np.float64(0.34004885228049825), 'metrics/recall(B)': np.float64(0.19498607242339833), 'metrics/mAP50(B)': np.float64(0.16663628603111433), 'metrics/mAP50-95(B)': np.float64(0.06500058943869273), 'fitness': np.float64(0.07516415909793489)}\n",
              "save_dir: WindowsPath('runs/detect/train16')\n",
              "speed: {'preprocess': 0.15654339967295527, 'inference': 2.0545713992323726, 'loss': 0.0008649991359561682, 'postprocess': 2.497203399427235}\n",
              "task: 'detect'"
            ]
          },
          "execution_count": 15,
          "metadata": {},
          "output_type": "execute_result"
        }
      ],
      "source": [
        "\n",
        "os.environ[\"KMP_DUPLICATE_LIB_OK\"] = \"TRUE\"\n",
        "# Step 2: Train the model\n",
        "model1.train(\n",
        "    data=r\"C:\\Users\\akram\\OneDrive\\Desktop\\saeed\\capstone\\weapon_detection\\data.yaml\",\n",
        "    epochs=50,\n",
        "    imgsz=640,\n",
        "    batch=8,\n",
        "    device=0,         # GPU index\n",
        "    cache=False,\n",
        "    close_mosaic=10,  # better generalization at the end\n",
        "    half=True,        # mixed precision\n",
        "    workers=4,\n",
        "    patience=20,\n",
        ")"
      ]
    },
    {
      "cell_type": "markdown",
      "id": "799d4113-55ce-4686-9947-3c6ce9e110f1",
      "metadata": {
        "id": "799d4113-55ce-4686-9947-3c6ce9e110f1"
      },
      "source": [
        "## Save Trained YOLOv8 Model"
      ]
    },
    {
      "cell_type": "code",
      "execution_count": null,
      "id": "935ccdaa",
      "metadata": {
        "id": "935ccdaa"
      },
      "outputs": [],
      "source": [
        "model1.save(r\"C:\\Users\\akram\\OneDrive\\Desktop\\saeed\\capstone\\weapon_detection_yolov8s_model.pt\")\n"
      ]
    },
    {
      "cell_type": "code",
      "execution_count": null,
      "id": "ae23f8e4",
      "metadata": {
        "id": "ae23f8e4"
      },
      "outputs": [],
      "source": [
        "model2 = YOLO(\"yolov5su.pt\")"
      ]
    },
    {
      "cell_type": "code",
      "execution_count": null,
      "id": "43a14d99",
      "metadata": {
        "id": "43a14d99"
      },
      "outputs": [],
      "source": [
        "model2.train(\n",
        "    data=r\"C:\\Users\\akram\\OneDrive\\Desktop\\saeed\\capstone\\weapon_detection\\data.yaml\",\n",
        "    epochs=100,\n",
        "    imgsz=640,\n",
        "    batch=8,\n",
        "    conf=0.001,\n",
        "    close_mosaic=10,\n",
        "    hsv_h=0.015, hsv_s=0.7, hsv_v=0.4,  # color aug\n",
        "    flipud=0.0, fliplr=0.5,\n",
        "    degrees=0.0, translate=0.1, scale=0.5,\n",
        "    device=0,\n",
        "    patience=20\n",
        ")\n"
      ]
    },
    {
      "cell_type": "code",
      "execution_count": null,
      "id": "602c356e",
      "metadata": {
        "id": "602c356e"
      },
      "outputs": [],
      "source": [
        "model.save(\"C:/Users/yalla/Documents/Anaconda/capstone/weapon_detection_yolov5su_newmodel.pt\")"
      ]
    },
    {
      "cell_type": "code",
      "execution_count": null,
      "id": "0a19a9f6",
      "metadata": {
        "id": "0a19a9f6",
        "outputId": "6516b039-9b92-4d2b-df64-450f8d658eed"
      },
      "outputs": [
        {
          "name": "stdout",
          "output_type": "stream",
          "text": [
            "Ultralytics 8.3.153  Python-3.11.9 torch-2.5.1+cu121 CUDA:0 (NVIDIA GeForce RTX 3070 Ti Laptop GPU, 8192MiB)\n",
            "YOLOv5s summary (fused): 84 layers, 9,111,923 parameters, 0 gradients, 23.8 GFLOPs\n",
            "\u001b[34m\u001b[1mval: \u001b[0mFast image access  (ping: 0.60.2 ms, read: 311.173.3 MB/s, size: 206.5 KB)\n"
          ]
        },
        {
          "name": "stderr",
          "output_type": "stream",
          "text": [
            "\u001b[34m\u001b[1mval: \u001b[0mScanning C:\\Users\\akram\\OneDrive\\Desktop\\saeed\\capstone\\weapon_detection\\labels\\val.cache... 500 images, 8 backgrounds, 0 corrupt: 100%|██████████| 500/500 [00:00<?, ?it/s]\n",
            "                 Class     Images  Instances      Box(P          R      mAP50  mAP50-95): 100%|██████████| 32/32 [00:04<00:00,  6.63it/s]\n"
          ]
        },
        {
          "name": "stdout",
          "output_type": "stream",
          "text": [
            "                   all        500       1077      0.549      0.399      0.385       0.18\n",
            "Speed: 0.3ms preprocess, 3.2ms inference, 0.0ms loss, 2.0ms postprocess per image\n",
            "Results saved to \u001b[1mruns\\detect\\val2\u001b[0m\n",
            "Ultralytics 8.3.153  Python-3.11.9 torch-2.5.1+cu121 CUDA:0 (NVIDIA GeForce RTX 3070 Ti Laptop GPU, 8192MiB)\n",
            "Model summary (fused): 72 layers, 11,125,971 parameters, 0 gradients, 28.4 GFLOPs\n",
            "\u001b[34m\u001b[1mval: \u001b[0mFast image access  (ping: 0.20.0 ms, read: 544.9257.3 MB/s, size: 159.5 KB)\n"
          ]
        },
        {
          "name": "stderr",
          "output_type": "stream",
          "text": [
            "\u001b[34m\u001b[1mval: \u001b[0mScanning C:\\Users\\akram\\OneDrive\\Desktop\\saeed\\capstone\\weapon_detection\\labels\\val.cache... 500 images, 8 backgrounds, 0 corrupt: 100%|██████████| 500/500 [00:00<?, ?it/s]\n",
            "                 Class     Images  Instances      Box(P          R      mAP50  mAP50-95): 100%|██████████| 32/32 [00:04<00:00,  6.64it/s]\n"
          ]
        },
        {
          "name": "stdout",
          "output_type": "stream",
          "text": [
            "                   all        500       1077      0.336      0.196      0.167     0.0651\n",
            "Speed: 0.2ms preprocess, 3.2ms inference, 0.0ms loss, 1.9ms postprocess per image\n",
            "Results saved to \u001b[1mruns\\detect\\val3\u001b[0m\n",
            "Model 1 mAP50: 0.3846311373482039\n",
            "Model 2 mAP50: 0.1668211450874083\n"
          ]
        },
        {
          "ename": "AttributeError",
          "evalue": "'Metric' object has no attribute 'recall'. See valid attributes below.\n\n    Class for computing evaluation metrics for Ultralytics YOLO models.\n\n    Attributes:\n        p (list): Precision for each class. Shape: (nc,).\n        r (list): Recall for each class. Shape: (nc,).\n        f1 (list): F1 score for each class. Shape: (nc,).\n        all_ap (list): AP scores for all classes and all IoU thresholds. Shape: (nc, 10).\n        ap_class_index (list): Index of class for each AP score. Shape: (nc,).\n        nc (int): Number of classes.\n\n    Methods:\n        ap50(): AP at IoU threshold of 0.5 for all classes. Returns: List of AP scores. Shape: (nc,) or [].\n        ap(): AP at IoU thresholds from 0.5 to 0.95 for all classes. Returns: List of AP scores. Shape: (nc,) or [].\n        mp(): Mean precision of all classes. Returns: Float.\n        mr(): Mean recall of all classes. Returns: Float.\n        map50(): Mean AP at IoU threshold of 0.5 for all classes. Returns: Float.\n        map75(): Mean AP at IoU threshold of 0.75 for all classes. Returns: Float.\n        map(): Mean AP at IoU thresholds from 0.5 to 0.95 for all classes. Returns: Float.\n        mean_results(): Mean of results, returns mp, mr, map50, map.\n        class_result(i): Class-aware result, returns p[i], r[i], ap50[i], ap[i].\n        maps(): mAP of each class. Returns: Array of mAP scores, shape: (nc,).\n        fitness(): Model fitness as a weighted combination of metrics. Returns: Float.\n        update(results): Update metric attributes with new evaluation results.\n    ",
          "output_type": "error",
          "traceback": [
            "\u001b[31m---------------------------------------------------------------------------\u001b[39m",
            "\u001b[31mAttributeError\u001b[39m                            Traceback (most recent call last)",
            "\u001b[36mCell\u001b[39m\u001b[36m \u001b[39m\u001b[32mIn[19]\u001b[39m\u001b[32m, line 15\u001b[39m\n\u001b[32m     12\u001b[39m \u001b[38;5;28mprint\u001b[39m(\u001b[33m\"\u001b[39m\u001b[33mModel 1 mAP50:\u001b[39m\u001b[33m\"\u001b[39m, metrics1.box.map50)\n\u001b[32m     13\u001b[39m \u001b[38;5;28mprint\u001b[39m(\u001b[33m\"\u001b[39m\u001b[33mModel 2 mAP50:\u001b[39m\u001b[33m\"\u001b[39m, metrics2.box.map50)\n\u001b[32m---> \u001b[39m\u001b[32m15\u001b[39m \u001b[38;5;28mprint\u001b[39m(\u001b[33m\"\u001b[39m\u001b[33mModel 1 Recall:\u001b[39m\u001b[33m\"\u001b[39m, \u001b[43mmetrics1\u001b[49m\u001b[43m.\u001b[49m\u001b[43mbox\u001b[49m\u001b[43m.\u001b[49m\u001b[43mrecall\u001b[49m)\n\u001b[32m     16\u001b[39m \u001b[38;5;28mprint\u001b[39m(\u001b[33m\"\u001b[39m\u001b[33mModel 2 Recall:\u001b[39m\u001b[33m\"\u001b[39m, metrics2.box.recall)\n",
            "\u001b[36mFile \u001b[39m\u001b[32mc:\\Users\\akram\\OneDrive\\Desktop\\saeed\\gpu_env\\Lib\\site-packages\\ultralytics\\utils\\__init__.py:394\u001b[39m, in \u001b[36mSimpleClass.__getattr__\u001b[39m\u001b[34m(self, attr)\u001b[39m\n\u001b[32m    392\u001b[39m \u001b[38;5;250m\u001b[39m\u001b[33;03m\"\"\"Provide a custom attribute access error message with helpful information.\"\"\"\u001b[39;00m\n\u001b[32m    393\u001b[39m name = \u001b[38;5;28mself\u001b[39m.\u001b[34m__class__\u001b[39m.\u001b[34m__name__\u001b[39m\n\u001b[32m--> \u001b[39m\u001b[32m394\u001b[39m \u001b[38;5;28;01mraise\u001b[39;00m \u001b[38;5;167;01mAttributeError\u001b[39;00m(\u001b[33mf\u001b[39m\u001b[33m\"\u001b[39m\u001b[33m'\u001b[39m\u001b[38;5;132;01m{\u001b[39;00mname\u001b[38;5;132;01m}\u001b[39;00m\u001b[33m'\u001b[39m\u001b[33m object has no attribute \u001b[39m\u001b[33m'\u001b[39m\u001b[38;5;132;01m{\u001b[39;00mattr\u001b[38;5;132;01m}\u001b[39;00m\u001b[33m'\u001b[39m\u001b[33m. See valid attributes below.\u001b[39m\u001b[38;5;130;01m\\n\u001b[39;00m\u001b[38;5;132;01m{\u001b[39;00m\u001b[38;5;28mself\u001b[39m.\u001b[34m__doc__\u001b[39m\u001b[38;5;132;01m}\u001b[39;00m\u001b[33m\"\u001b[39m)\n",
            "\u001b[31mAttributeError\u001b[39m: 'Metric' object has no attribute 'recall'. See valid attributes below.\n\n    Class for computing evaluation metrics for Ultralytics YOLO models.\n\n    Attributes:\n        p (list): Precision for each class. Shape: (nc,).\n        r (list): Recall for each class. Shape: (nc,).\n        f1 (list): F1 score for each class. Shape: (nc,).\n        all_ap (list): AP scores for all classes and all IoU thresholds. Shape: (nc, 10).\n        ap_class_index (list): Index of class for each AP score. Shape: (nc,).\n        nc (int): Number of classes.\n\n    Methods:\n        ap50(): AP at IoU threshold of 0.5 for all classes. Returns: List of AP scores. Shape: (nc,) or [].\n        ap(): AP at IoU thresholds from 0.5 to 0.95 for all classes. Returns: List of AP scores. Shape: (nc,) or [].\n        mp(): Mean precision of all classes. Returns: Float.\n        mr(): Mean recall of all classes. Returns: Float.\n        map50(): Mean AP at IoU threshold of 0.5 for all classes. Returns: Float.\n        map75(): Mean AP at IoU threshold of 0.75 for all classes. Returns: Float.\n        map(): Mean AP at IoU thresholds from 0.5 to 0.95 for all classes. Returns: Float.\n        mean_results(): Mean of results, returns mp, mr, map50, map.\n        class_result(i): Class-aware result, returns p[i], r[i], ap50[i], ap[i].\n        maps(): mAP of each class. Returns: Array of mAP scores, shape: (nc,).\n        fitness(): Model fitness as a weighted combination of metrics. Returns: Float.\n        update(results): Update metric attributes with new evaluation results.\n    "
          ]
        }
      ],
      "source": [
        "from ultralytics import YOLO\n",
        "\n",
        "# Load models\n",
        "model = YOLO(r\"C:\\Users\\akram\\OneDrive\\Desktop\\saeed\\capstone\\code\\runs\\detect\\train14\\weights\\best.pt\")\n",
        "model1 = YOLO(r\"C:\\Users\\akram\\OneDrive\\Desktop\\saeed\\capstone\\code\\runs\\detect\\train16\\weights\\best.pt\")\n",
        "model2 = YOLO(r\"C:\\Users\\akram\\OneDrive\\Desktop\\saeed\\capstone\\code\\runs\\detect\\train16\\weights\\best.pt\")\n",
        "\n",
        "# Evaluate on the same validation set\n",
        "metrics = model.val(data=r\"C:\\Users\\akram\\OneDrive\\Desktop\\saeed\\capstone\\weapon_detection\\data.yaml\", split=\"val\")\n",
        "metrics1 = model1.val(data=r\"C:\\Users\\akram\\OneDrive\\Desktop\\saeed\\capstone\\weapon_detection\\data.yaml\", split=\"val\")\n",
        "metrics2= model2.val(data=r\"C:\\Users\\akram\\OneDrive\\Desktop\\saeed\\capstone\\weapon_detection\\data.yaml\", split=\"val\")\n",
        "\n",
        "\n",
        "# Compare key metrics\n",
        "print(\"Model mAP50:\", metrics1.box.map50)\n",
        "print(\"Model 1 mAP50:\", metrics2.box.map50)\n",
        "print(\"Model 2 mAP50:\", metrics2.box.map50)\n",
        "\n"
      ]
    },
    {
      "cell_type": "markdown",
      "id": "1ad4e516-9d34-4b2b-9f34-64d8e2a4b891",
      "metadata": {
        "id": "1ad4e516-9d34-4b2b-9f34-64d8e2a4b891"
      },
      "source": [
        "## Load Model for Inference\n",
        "\n",
        "Loads the final YOLOv8 model for real-time or offline prediction.\n",
        "\n",
        "- This will be used to process input video frames and detect weapons.\n"
      ]
    },
    {
      "cell_type": "code",
      "execution_count": null,
      "id": "bb777a85",
      "metadata": {
        "id": "bb777a85"
      },
      "outputs": [],
      "source": [
        "model_predict=YOLO(r\"C:\\Users\\akram\\OneDrive\\Desktop\\saeed\\capstone\\weapon_detection_yolov8s_model.pt\")"
      ]
    },
    {
      "cell_type": "markdown",
      "id": "04c3b93b-1876-4fea-bb9f-12f9983b0d35",
      "metadata": {
        "id": "04c3b93b-1876-4fea-bb9f-12f9983b0d35"
      },
      "source": [
        "## Real-Time Weapon Detection from Video\n",
        "\n",
        "Uses the loaded YOLO model to process video frame-by-frame.\n",
        "\n",
        "- Opens the webcam or video file using `cv2.VideoCapture`.\n",
        "- For each frame:\n",
        "  - Runs YOLO inference.\n",
        "  - Draws bounding boxes on detected objects.\n",
        "  - Plays an alert sound for detected weapons with confidence > 0.5."
      ]
    },
    {
      "cell_type": "code",
      "execution_count": null,
      "id": "de3ec549",
      "metadata": {
        "id": "de3ec549"
      },
      "outputs": [],
      "source": [
        "\n",
        "\n",
        "# Play alert sound in a separate thread\n",
        "def play_alert():\n",
        "    playsound(\"alert.mp3\")\n",
        "\n",
        "# Open video source\n",
        "cap = cv2.VideoCapture(r\"C:\\Users\\akram\\OneDrive\\Desktop\\saeed\\capstone\\code\\WhatsApp Video 2025-06-03 at 12.37.29_f6ce3043.mp4\")\n",
        "\n",
        "# Flag to avoid multiple alerts in one frame\n",
        "alert_triggered = False\n",
        "\n",
        "while cap.isOpened():\n",
        "    ret, frame = cap.read()\n",
        "    if not ret:\n",
        "        break\n",
        "\n",
        "    # Run detection\n",
        "    results = model_predict.predict(\n",
        "    frame,\n",
        "    conf=0.25,        # lower for fewer FNs\n",
        "    iou=0.5,          # adjust NMS\n",
        "    max_det=10        # limit detections per image\n",
        ")\n",
        "\n",
        "    # Check detections for class 'weapon' (adjust name or index based on your model)\n",
        "    for box in results[0].boxes:\n",
        "        cls_id = int(box.cls[0])\n",
        "        conf = float(box.conf[0])\n",
        "        label = results[0].names[cls_id]\n",
        "\n",
        "        if label.lower() == \"weapon\" and conf > 0.5:\n",
        "            # Draw bounding box and label\n",
        "            xyxy = box.xyxy[0].cpu().numpy().astype(int)\n",
        "            cv2.rectangle(frame, tuple(xyxy[:2]), tuple(xyxy[2:]), (0, 0, 255), 3)\n",
        "            cv2.putText(frame, f\"{label} ({conf:.2f})\", tuple(xyxy[:2] - 10),\n",
        "                        cv2.FONT_HERSHEY_SIMPLEX, 0.8, (0, 0, 255), 2)\n",
        "\n",
        "            if not alert_triggered:\n",
        "                alert_triggered = True\n",
        "                threading.Thread(target=play_alert).start()\n",
        "\n",
        "    # Show frame\n",
        "    cv2.imshow(\"Weapon Detection Alert\", frame)\n",
        "\n",
        "    if cv2.waitKey(30) & 0xFF == ord('q'):\n",
        "        break\n",
        "\n",
        "cap.release()\n",
        "cv2.destroyAllWindows()\n"
      ]
    }
  ],
  "metadata": {
    "kernelspec": {
      "display_name": "Python (GPU)",
      "language": "python",
      "name": "gpu_env"
    },
    "language_info": {
      "codemirror_mode": {
        "name": "ipython",
        "version": 3
      },
      "file_extension": ".py",
      "mimetype": "text/x-python",
      "name": "python",
      "nbconvert_exporter": "python",
      "pygments_lexer": "ipython3",
      "version": "3.10.16"
    },
    "colab": {
      "provenance": [],
      "include_colab_link": true
    }
  },
  "nbformat": 4,
  "nbformat_minor": 5
}