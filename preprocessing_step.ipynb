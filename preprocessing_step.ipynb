{
  "cells": [
    {
      "cell_type": "markdown",
      "metadata": {
        "id": "view-in-github",
        "colab_type": "text"
      },
      "source": [
        "<a href=\"https://colab.research.google.com/github/tsaravindh/Python_ML_NN_Projects/blob/main/preprocessing_step.ipynb\" target=\"_parent\"><img src=\"https://colab.research.google.com/assets/colab-badge.svg\" alt=\"Open In Colab\"/></a>"
      ]
    },
    {
      "cell_type": "markdown",
      "id": "4b495a1b-66c4-4b7c-884a-03830aacbdac",
      "metadata": {
        "id": "4b495a1b-66c4-4b7c-884a-03830aacbdac"
      },
      "source": [
        "# Dataset Preprocessing for YOLO Training"
      ]
    },
    {
      "cell_type": "markdown",
      "id": "bf2b1fc8-b2a4-4d83-b48d-b1936a297f89",
      "metadata": {
        "id": "bf2b1fc8-b2a4-4d83-b48d-b1936a297f89"
      },
      "source": [
        "## Convert JSON Annotations to YOLO Format\n",
        "\n",
        "This block reads bounding box annotations from JSON files and converts them into the YOLO format.\n",
        "\n",
        "- It parses label data for each object (specifically `weapon` class).\n",
        "- Extracts bounding box coordinates and image size.\n",
        "- Transforms boxes to YOLO format: `[class_id, x_center, y_center, width, height]` with values normalized to image dimensions.\n",
        "- Saves each annotation as a `.txt` file corresponding to each image."
      ]
    },
    {
      "cell_type": "code",
      "execution_count": null,
      "id": "c216c4f4",
      "metadata": {
        "id": "c216c4f4",
        "outputId": "65091a10-d1ea-478a-fef8-5a9709fa0faa"
      },
      "outputs": [
        {
          "name": "stdout",
          "output_type": "stream",
          "text": [
            "Conversion complete. YOLO .txt files saved to: C:\\Users\\akram\\OneDrive\\Desktop\\saeed\\capstone\\weapon_detection\\labels\\val\n"
          ]
        }
      ],
      "source": [
        "\n",
        "import os\n",
        "import json\n",
        "\n",
        "\n",
        "json_folder=r\"C:\\Users\\akram\\OneDrive\\Desktop\\saeed\\capstone\\dataset\\val_ann\"\n",
        "output_txt_folder=r\"C:\\Users\\akram\\OneDrive\\Desktop\\saeed\\capstone\\weapon_detection\\labels\\val\"\n",
        "\n",
        "\n",
        "# Create output directory if not exists\n",
        "os.makedirs(output_txt_folder, exist_ok=True)\n",
        "\n",
        "def convert_box_to_yolo(x_min, y_min, x_max, y_max, img_width, img_height):\n",
        "    x_center = ((x_min + x_max) / 2) / img_width\n",
        "    y_center = ((y_min + y_max) / 2) / img_height\n",
        "    width = (x_max - x_min) / img_width\n",
        "    height = (y_max - y_min) / img_height\n",
        "    return x_center, y_center, width, height\n",
        "\n",
        "for filename in os.listdir(json_folder):\n",
        "    if filename.endswith(\".json\"):\n",
        "        json_path = os.path.join(json_folder, filename)\n",
        "        with open(json_path, 'r') as f:\n",
        "            data = json.load(f)\n",
        "\n",
        "        img_width = data['size']['width']\n",
        "        img_height = data['size']['height']\n",
        "        yolo_lines = []\n",
        "\n",
        "        for obj in data['objects']:\n",
        "            if obj['classTitle'].lower() == 'weapon':\n",
        "                x_min = obj['points']['exterior'][0][0]\n",
        "                y_min = obj['points']['exterior'][0][1]\n",
        "                x_max = obj['points']['exterior'][1][0]\n",
        "                y_max = obj['points']['exterior'][1][1]\n",
        "\n",
        "                x_center, y_center, w, h = convert_box_to_yolo(x_min, y_min, x_max, y_max, img_width, img_height)\n",
        "                yolo_lines.append(f\"0 {x_center:.6f} {y_center:.6f} {w:.6f} {h:.6f}\")\n",
        "\n",
        "        # Write to .txt with same name as image\n",
        "        txt_filename = filename.replace('.json', '.txt')\n",
        "        with open(os.path.join(output_txt_folder, txt_filename), 'w') as f:\n",
        "            f.write(\"\\n\".join(yolo_lines))\n",
        "\n",
        "print(\"Conversion complete. YOLO .txt files saved to:\", output_txt_folder)\n"
      ]
    },
    {
      "cell_type": "markdown",
      "id": "51bbe568-2827-4492-988c-b24fb82dd640",
      "metadata": {
        "id": "51bbe568-2827-4492-988c-b24fb82dd640"
      },
      "source": [
        "## Rename Label Files\n",
        "\n",
        "Renames label files that were mistakenly named with `.jpg.txt` extensions to just `.txt`.\n",
        "\n",
        "- Ensures compatibility with YOLO training which expects `.txt` labels.\n",
        "- Uses basic string replacement to clean filenames in the label directory."
      ]
    },
    {
      "cell_type": "code",
      "execution_count": null,
      "id": "ac50003c",
      "metadata": {
        "id": "ac50003c"
      },
      "outputs": [],
      "source": [
        "\n",
        "folder_path = r\"C:\\Users\\akram\\OneDrive\\Desktop\\saeed\\capstone\\weapon_detection\\labels\\train\"\n",
        "# Loop through all files in the folder\n",
        "for filename in os.listdir(folder_path):\n",
        "    if filename.endswith('.jpg.txt'):\n",
        "        # New filename without the '.jpg' part\n",
        "        new_filename = filename.replace('.jpg.txt', '.txt')\n",
        "\n",
        "        # Full paths for renaming\n",
        "        old_path = os.path.join(folder_path, filename)\n",
        "        new_path = os.path.join(folder_path, new_filename)\n",
        "\n",
        "        os.rename(old_path, new_path)\n",
        "\n",
        "\n"
      ]
    }
  ],
  "metadata": {
    "kernelspec": {
      "display_name": "Python (GPU)",
      "language": "python",
      "name": "gpu_env"
    },
    "language_info": {
      "codemirror_mode": {
        "name": "ipython",
        "version": 3
      },
      "file_extension": ".py",
      "mimetype": "text/x-python",
      "name": "python",
      "nbconvert_exporter": "python",
      "pygments_lexer": "ipython3",
      "version": "3.10.16"
    },
    "colab": {
      "provenance": [],
      "include_colab_link": true
    }
  },
  "nbformat": 4,
  "nbformat_minor": 5
}